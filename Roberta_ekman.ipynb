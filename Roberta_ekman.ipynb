{
 "cells": [
  {
   "cell_type": "code",
   "execution_count": 89,
   "id": "6415efb7",
   "metadata": {
    "execution": {
     "iopub.execute_input": "2021-09-30T11:43:09.132299Z",
     "iopub.status.busy": "2021-09-30T11:43:09.131998Z",
     "iopub.status.idle": "2021-09-30T11:43:12.589332Z",
     "shell.execute_reply": "2021-09-30T11:43:12.588182Z",
     "shell.execute_reply.started": "2021-09-30T11:43:09.132271Z"
    }
   },
   "outputs": [],
   "source": [
    "import os\n",
    "import matplotlib.pyplot as plt\n",
    "import re\n",
    "import string\n",
    "import json\n",
    "import emoji\n",
    "import numpy as np\n",
    "import pandas as pd\n",
    "from sklearn import metrics\n",
    "from bs4 import BeautifulSoup\n",
    "import tqdm\n",
    "import ktrain\n",
    "from ktrain import text\n",
    "import tensorflow as tf\n",
    "import timeit\n",
    "import transformers\n",
    "import contractions\n",
    "import torch\n",
    "from torch.utils.data import Dataset, DataLoader, RandomSampler, SequentialSampler\n",
    "from transformers import BertTokenizer, AutoTokenizer, BertModel, BertConfig, AutoModel, AdamW, TFAutoModelForSequenceClassification\n",
    "import gc\n",
    "from sklearn.metrics import accuracy_score, confusion_matrix, precision_recall_fscore_support\n",
    "import warnings\n",
    "warnings.filterwarnings('ignore')\n",
    "\n",
    "pd.set_option(\"display.max_columns\", None)"
   ]
  },
  {
   "cell_type": "code",
   "execution_count": 90,
   "id": "dc27e749",
   "metadata": {
    "execution": {
     "iopub.execute_input": "2021-09-30T11:43:12.591499Z",
     "iopub.status.busy": "2021-09-30T11:43:12.591009Z",
     "iopub.status.idle": "2021-09-30T11:43:12.770702Z",
     "shell.execute_reply": "2021-09-30T11:43:12.769768Z",
     "shell.execute_reply.started": "2021-09-30T11:43:12.591436Z"
    }
   },
   "outputs": [],
   "source": [
    "df_train = pd.read_csv('https://github.com/google-research/google-research/raw/master/goemotions/data/train.tsv', sep='\\t', header=None, names=['Text', 'Class', 'ID']).drop('ID', axis=1)\n",
    "df_val = pd.read_csv('https://github.com/google-research/google-research/raw/master/goemotions/data/dev.tsv', sep='\\t', header=None, names=['Text', 'Class', 'ID']).drop('ID', axis=1)\n",
    "df_test = pd.read_csv('https://github.com/google-research/google-research/raw/master/goemotions/data/test.tsv', sep='\\t', header=None, names=['Text', 'Class', 'ID']).drop('ID', axis=1)\n"
   ]
  },
  {
   "cell_type": "code",
   "execution_count": 91,
   "id": "2514f708",
   "metadata": {
    "execution": {
     "iopub.execute_input": "2021-09-30T11:43:12.772628Z",
     "iopub.status.busy": "2021-09-30T11:43:12.772081Z",
     "iopub.status.idle": "2021-09-30T11:43:12.805446Z",
     "shell.execute_reply": "2021-09-30T11:43:12.804271Z",
     "shell.execute_reply.started": "2021-09-30T11:43:12.772581Z"
    }
   },
   "outputs": [
    {
     "data": {
      "text/html": [
       "<div>\n",
       "<style scoped>\n",
       "    .dataframe tbody tr th:only-of-type {\n",
       "        vertical-align: middle;\n",
       "    }\n",
       "\n",
       "    .dataframe tbody tr th {\n",
       "        vertical-align: top;\n",
       "    }\n",
       "\n",
       "    .dataframe thead th {\n",
       "        text-align: right;\n",
       "    }\n",
       "</style>\n",
       "<table border=\"1\" class=\"dataframe\">\n",
       "  <thead>\n",
       "    <tr style=\"text-align: right;\">\n",
       "      <th></th>\n",
       "      <th>Text</th>\n",
       "      <th>Class</th>\n",
       "    </tr>\n",
       "  </thead>\n",
       "  <tbody>\n",
       "    <tr>\n",
       "      <th>0</th>\n",
       "      <td>My favourite food is anything I didn't have to...</td>\n",
       "      <td>27</td>\n",
       "    </tr>\n",
       "    <tr>\n",
       "      <th>1</th>\n",
       "      <td>Now if he does off himself, everyone will thin...</td>\n",
       "      <td>27</td>\n",
       "    </tr>\n",
       "    <tr>\n",
       "      <th>2</th>\n",
       "      <td>WHY THE FUCK IS BAYLESS ISOING</td>\n",
       "      <td>2</td>\n",
       "    </tr>\n",
       "    <tr>\n",
       "      <th>3</th>\n",
       "      <td>To make her feel threatened</td>\n",
       "      <td>14</td>\n",
       "    </tr>\n",
       "    <tr>\n",
       "      <th>4</th>\n",
       "      <td>Dirty Southern Wankers</td>\n",
       "      <td>3</td>\n",
       "    </tr>\n",
       "    <tr>\n",
       "      <th>...</th>\n",
       "      <td>...</td>\n",
       "      <td>...</td>\n",
       "    </tr>\n",
       "    <tr>\n",
       "      <th>43405</th>\n",
       "      <td>Added you mate well I’ve just got the bow and ...</td>\n",
       "      <td>18</td>\n",
       "    </tr>\n",
       "    <tr>\n",
       "      <th>43406</th>\n",
       "      <td>Always thought that was funny but is it a refe...</td>\n",
       "      <td>6</td>\n",
       "    </tr>\n",
       "    <tr>\n",
       "      <th>43407</th>\n",
       "      <td>What are you talking about? Anything bad that ...</td>\n",
       "      <td>3</td>\n",
       "    </tr>\n",
       "    <tr>\n",
       "      <th>43408</th>\n",
       "      <td>More like a baptism, with sexy results!</td>\n",
       "      <td>13</td>\n",
       "    </tr>\n",
       "    <tr>\n",
       "      <th>43409</th>\n",
       "      <td>Enjoy the ride!</td>\n",
       "      <td>17</td>\n",
       "    </tr>\n",
       "  </tbody>\n",
       "</table>\n",
       "<p>43410 rows × 2 columns</p>\n",
       "</div>"
      ],
      "text/plain": [
       "                                                    Text Class\n",
       "0      My favourite food is anything I didn't have to...    27\n",
       "1      Now if he does off himself, everyone will thin...    27\n",
       "2                         WHY THE FUCK IS BAYLESS ISOING     2\n",
       "3                            To make her feel threatened    14\n",
       "4                                 Dirty Southern Wankers     3\n",
       "...                                                  ...   ...\n",
       "43405  Added you mate well I’ve just got the bow and ...    18\n",
       "43406  Always thought that was funny but is it a refe...     6\n",
       "43407  What are you talking about? Anything bad that ...     3\n",
       "43408            More like a baptism, with sexy results!    13\n",
       "43409                                    Enjoy the ride!    17\n",
       "\n",
       "[43410 rows x 2 columns]"
      ]
     },
     "execution_count": 91,
     "metadata": {},
     "output_type": "execute_result"
    }
   ],
   "source": [
    "df_train"
   ]
  },
  {
   "cell_type": "code",
   "execution_count": 92,
   "id": "c99af35f",
   "metadata": {
    "execution": {
     "iopub.execute_input": "2021-09-30T11:43:12.810392Z",
     "iopub.status.busy": "2021-09-30T11:43:12.810072Z",
     "iopub.status.idle": "2021-09-30T11:43:12.958231Z",
     "shell.execute_reply": "2021-09-30T11:43:12.957293Z",
     "shell.execute_reply.started": "2021-09-30T11:43:12.810351Z"
    }
   },
   "outputs": [],
   "source": [
    "df_train['List of classes'] = df_train['Class'].apply(lambda x: x.split(','))\n",
    "df_train['Len of classes'] = df_train['List of classes'].apply(lambda x: len(x))\n",
    "df_val['List of classes'] = df_val['Class'].apply(lambda x: x.split(','))\n",
    "df_val['Len of classes'] = df_val['List of classes'].apply(lambda x: len(x))\n",
    "df_test['List of classes'] = df_test['Class'].apply(lambda x: x.split(','))\n",
    "df_test['Len of classes'] = df_test['List of classes'].apply(lambda x: len(x))"
   ]
  },
  {
   "cell_type": "code",
   "execution_count": 93,
   "id": "b29220a3",
   "metadata": {
    "execution": {
     "iopub.execute_input": "2021-09-30T11:43:12.962437Z",
     "iopub.status.busy": "2021-09-30T11:43:12.961998Z",
     "iopub.status.idle": "2021-09-30T11:43:12.984765Z",
     "shell.execute_reply": "2021-09-30T11:43:12.983273Z",
     "shell.execute_reply.started": "2021-09-30T11:43:12.962384Z"
    }
   },
   "outputs": [
    {
     "data": {
      "text/html": [
       "<div>\n",
       "<style scoped>\n",
       "    .dataframe tbody tr th:only-of-type {\n",
       "        vertical-align: middle;\n",
       "    }\n",
       "\n",
       "    .dataframe tbody tr th {\n",
       "        vertical-align: top;\n",
       "    }\n",
       "\n",
       "    .dataframe thead th {\n",
       "        text-align: right;\n",
       "    }\n",
       "</style>\n",
       "<table border=\"1\" class=\"dataframe\">\n",
       "  <thead>\n",
       "    <tr style=\"text-align: right;\">\n",
       "      <th></th>\n",
       "      <th>Text</th>\n",
       "      <th>Class</th>\n",
       "      <th>List of classes</th>\n",
       "      <th>Len of classes</th>\n",
       "    </tr>\n",
       "  </thead>\n",
       "  <tbody>\n",
       "    <tr>\n",
       "      <th>0</th>\n",
       "      <td>My favourite food is anything I didn't have to...</td>\n",
       "      <td>27</td>\n",
       "      <td>[27]</td>\n",
       "      <td>1</td>\n",
       "    </tr>\n",
       "    <tr>\n",
       "      <th>1</th>\n",
       "      <td>Now if he does off himself, everyone will thin...</td>\n",
       "      <td>27</td>\n",
       "      <td>[27]</td>\n",
       "      <td>1</td>\n",
       "    </tr>\n",
       "    <tr>\n",
       "      <th>2</th>\n",
       "      <td>WHY THE FUCK IS BAYLESS ISOING</td>\n",
       "      <td>2</td>\n",
       "      <td>[2]</td>\n",
       "      <td>1</td>\n",
       "    </tr>\n",
       "    <tr>\n",
       "      <th>3</th>\n",
       "      <td>To make her feel threatened</td>\n",
       "      <td>14</td>\n",
       "      <td>[14]</td>\n",
       "      <td>1</td>\n",
       "    </tr>\n",
       "    <tr>\n",
       "      <th>4</th>\n",
       "      <td>Dirty Southern Wankers</td>\n",
       "      <td>3</td>\n",
       "      <td>[3]</td>\n",
       "      <td>1</td>\n",
       "    </tr>\n",
       "    <tr>\n",
       "      <th>...</th>\n",
       "      <td>...</td>\n",
       "      <td>...</td>\n",
       "      <td>...</td>\n",
       "      <td>...</td>\n",
       "    </tr>\n",
       "    <tr>\n",
       "      <th>43405</th>\n",
       "      <td>Added you mate well I’ve just got the bow and ...</td>\n",
       "      <td>18</td>\n",
       "      <td>[18]</td>\n",
       "      <td>1</td>\n",
       "    </tr>\n",
       "    <tr>\n",
       "      <th>43406</th>\n",
       "      <td>Always thought that was funny but is it a refe...</td>\n",
       "      <td>6</td>\n",
       "      <td>[6]</td>\n",
       "      <td>1</td>\n",
       "    </tr>\n",
       "    <tr>\n",
       "      <th>43407</th>\n",
       "      <td>What are you talking about? Anything bad that ...</td>\n",
       "      <td>3</td>\n",
       "      <td>[3]</td>\n",
       "      <td>1</td>\n",
       "    </tr>\n",
       "    <tr>\n",
       "      <th>43408</th>\n",
       "      <td>More like a baptism, with sexy results!</td>\n",
       "      <td>13</td>\n",
       "      <td>[13]</td>\n",
       "      <td>1</td>\n",
       "    </tr>\n",
       "    <tr>\n",
       "      <th>43409</th>\n",
       "      <td>Enjoy the ride!</td>\n",
       "      <td>17</td>\n",
       "      <td>[17]</td>\n",
       "      <td>1</td>\n",
       "    </tr>\n",
       "  </tbody>\n",
       "</table>\n",
       "<p>43410 rows × 4 columns</p>\n",
       "</div>"
      ],
      "text/plain": [
       "                                                    Text Class  \\\n",
       "0      My favourite food is anything I didn't have to...    27   \n",
       "1      Now if he does off himself, everyone will thin...    27   \n",
       "2                         WHY THE FUCK IS BAYLESS ISOING     2   \n",
       "3                            To make her feel threatened    14   \n",
       "4                                 Dirty Southern Wankers     3   \n",
       "...                                                  ...   ...   \n",
       "43405  Added you mate well I’ve just got the bow and ...    18   \n",
       "43406  Always thought that was funny but is it a refe...     6   \n",
       "43407  What are you talking about? Anything bad that ...     3   \n",
       "43408            More like a baptism, with sexy results!    13   \n",
       "43409                                    Enjoy the ride!    17   \n",
       "\n",
       "      List of classes  Len of classes  \n",
       "0                [27]               1  \n",
       "1                [27]               1  \n",
       "2                 [2]               1  \n",
       "3                [14]               1  \n",
       "4                 [3]               1  \n",
       "...               ...             ...  \n",
       "43405            [18]               1  \n",
       "43406             [6]               1  \n",
       "43407             [3]               1  \n",
       "43408            [13]               1  \n",
       "43409            [17]               1  \n",
       "\n",
       "[43410 rows x 4 columns]"
      ]
     },
     "execution_count": 93,
     "metadata": {},
     "output_type": "execute_result"
    }
   ],
   "source": [
    "df_train"
   ]
  },
  {
   "cell_type": "code",
   "execution_count": 94,
   "id": "c6870663",
   "metadata": {
    "execution": {
     "iopub.execute_input": "2021-09-30T11:43:12.987603Z",
     "iopub.status.busy": "2021-09-30T11:43:12.986738Z",
     "iopub.status.idle": "2021-09-30T11:43:25.555925Z",
     "shell.execute_reply": "2021-09-30T11:43:25.554532Z",
     "shell.execute_reply.started": "2021-09-30T11:43:12.987542Z"
    }
   },
   "outputs": [
    {
     "data": {
      "image/png": "[encoded data removed]",
      "text/plain": [
       "<Figure size 432x288 with 1 Axes>"
      ]
     },
     "metadata": {
      "needs_background": "light"
     },
     "output_type": "display_data"
    }
   ],
   "source": [
    "import seaborn as sns\n",
    "sns.countplot(y=df_train['Class'],data=df_train)\n",
    "plt.show()"
   ]
  },
  {
   "cell_type": "code",
   "execution_count": 95,
   "id": "bce7fae4",
   "metadata": {
    "execution": {
     "iopub.execute_input": "2021-09-30T11:43:25.557981Z",
     "iopub.status.busy": "2021-09-30T11:43:25.557565Z",
     "iopub.status.idle": "2021-09-30T11:43:25.592715Z",
     "shell.execute_reply": "2021-09-30T11:43:25.591269Z",
     "shell.execute_reply.started": "2021-09-30T11:43:25.557947Z"
    }
   },
   "outputs": [
    {
     "data": {
      "text/plain": [
       "Text               0\n",
       "Class              0\n",
       "List of classes    0\n",
       "Len of classes     0\n",
       "dtype: int64"
      ]
     },
     "execution_count": 95,
     "metadata": {},
     "output_type": "execute_result"
    }
   ],
   "source": [
    "df_train.isnull().sum()"
   ]
  },
  {
   "cell_type": "code",
   "execution_count": 96,
   "id": "085a5c0c",
   "metadata": {
    "execution": {
     "iopub.execute_input": "2021-09-30T11:43:25.594925Z",
     "iopub.status.busy": "2021-09-30T11:43:25.594407Z",
     "iopub.status.idle": "2021-09-30T11:43:25.614345Z",
     "shell.execute_reply": "2021-09-30T11:43:25.612535Z",
     "shell.execute_reply.started": "2021-09-30T11:43:25.594853Z"
    }
   },
   "outputs": [
    {
     "data": {
      "text/plain": [
       "27           12823\n",
       "0             2710\n",
       "4             1873\n",
       "15            1857\n",
       "1             1652\n",
       "             ...  \n",
       "6,15,22          1\n",
       "9,10,19          1\n",
       "7,10,25          1\n",
       "7,9,24,25        1\n",
       "0,1,18           1\n",
       "Name: Class, Length: 711, dtype: int64"
      ]
     },
     "execution_count": 96,
     "metadata": {},
     "output_type": "execute_result"
    }
   ],
   "source": [
    "df_train[\"Class\"].value_counts()"
   ]
  },
  {
   "cell_type": "code",
   "execution_count": 97,
   "id": "bb30de8f",
   "metadata": {
    "execution": {
     "iopub.execute_input": "2021-09-30T11:43:25.617663Z",
     "iopub.status.busy": "2021-09-30T11:43:25.616910Z",
     "iopub.status.idle": "2021-09-30T11:43:25.636109Z",
     "shell.execute_reply": "2021-09-30T11:43:25.635144Z",
     "shell.execute_reply.started": "2021-09-30T11:43:25.617597Z"
    }
   },
   "outputs": [],
   "source": [
    "with open('ekman_mapping.json') as file:\n",
    "    ekman_mapping = json.load(file)"
   ]
  },
  {
   "cell_type": "code",
   "execution_count": 98,
   "id": "fe678ba1",
   "metadata": {
    "execution": {
     "iopub.execute_input": "2021-09-30T11:43:25.638327Z",
     "iopub.status.busy": "2021-09-30T11:43:25.637738Z",
     "iopub.status.idle": "2021-09-30T11:43:25.653797Z",
     "shell.execute_reply": "2021-09-30T11:43:25.652629Z",
     "shell.execute_reply.started": "2021-09-30T11:43:25.638280Z"
    }
   },
   "outputs": [
    {
     "name": "stdout",
     "output_type": "stream",
     "text": [
      "['admiration', 'amusement', 'anger', 'annoyance', 'approval', 'caring', 'confusion', 'curiosity', 'desire', 'disappointment', 'disapproval', 'disgust', 'embarrassment', 'excitement', 'fear', 'gratitude', 'grief', 'joy', 'love', 'nervousness', 'optimism', 'pride', 'realization', 'relief', 'remorse', 'sadness', 'surprise', 'neutral']\n"
     ]
    }
   ],
   "source": [
    "emotion_file = open(\"emotions.txt\", \"r\")\n",
    "emotion_list = emotion_file.read()\n",
    "emotion_list = emotion_list.split(\"\\n\")\n",
    "print(emotion_list)"
   ]
  },
  {
   "cell_type": "code",
   "execution_count": 99,
   "id": "eba1709f",
   "metadata": {
    "execution": {
     "iopub.execute_input": "2021-09-30T11:43:25.655486Z",
     "iopub.status.busy": "2021-09-30T11:43:25.655183Z",
     "iopub.status.idle": "2021-09-30T11:43:25.663303Z",
     "shell.execute_reply": "2021-09-30T11:43:25.661570Z",
     "shell.execute_reply.started": "2021-09-30T11:43:25.655457Z"
    }
   },
   "outputs": [],
   "source": [
    "def idx2class(idx_list):\n",
    "    arr = []\n",
    "    for i in idx_list:\n",
    "        arr.append(emotion_list[int(i)])\n",
    "    return arr"
   ]
  },
  {
   "cell_type": "code",
   "execution_count": 100,
   "id": "13227e0a",
   "metadata": {
    "execution": {
     "iopub.execute_input": "2021-09-30T11:43:25.666408Z",
     "iopub.status.busy": "2021-09-30T11:43:25.665675Z",
     "iopub.status.idle": "2021-09-30T11:43:25.723430Z",
     "shell.execute_reply": "2021-09-30T11:43:25.722364Z",
     "shell.execute_reply.started": "2021-09-30T11:43:25.666350Z"
    }
   },
   "outputs": [],
   "source": [
    "df_train['Emotions'] = df_train['List of classes'].apply(idx2class)\n",
    "df_val['Emotions'] = df_val['List of classes'].apply(idx2class)\n",
    "df_test['Emotions'] = df_test['List of classes'].apply(idx2class)"
   ]
  },
  {
   "cell_type": "code",
   "execution_count": 101,
   "id": "5babbbc4",
   "metadata": {
    "execution": {
     "iopub.execute_input": "2021-09-30T11:43:25.725645Z",
     "iopub.status.busy": "2021-09-30T11:43:25.725170Z",
     "iopub.status.idle": "2021-09-30T11:43:25.734976Z",
     "shell.execute_reply": "2021-09-30T11:43:25.733515Z",
     "shell.execute_reply.started": "2021-09-30T11:43:25.725598Z"
    }
   },
   "outputs": [],
   "source": [
    "ekman_mapping.update({'neutral':['neutral']})"
   ]
  },
  {
   "cell_type": "code",
   "execution_count": 102,
   "id": "787899f6",
   "metadata": {},
   "outputs": [
    {
     "data": {
      "text/plain": [
       "{'anger': ['anger', 'annoyance', 'disapproval'],\n",
       " 'disgust': ['disgust'],\n",
       " 'fear': ['fear', 'nervousness'],\n",
       " 'joy': ['joy',\n",
       "  'amusement',\n",
       "  'approval',\n",
       "  'excitement',\n",
       "  'gratitude',\n",
       "  'love',\n",
       "  'optimism',\n",
       "  'relief',\n",
       "  'pride',\n",
       "  'admiration',\n",
       "  'desire',\n",
       "  'caring'],\n",
       " 'sadness': ['sadness', 'disappointment', 'embarrassment', 'grief', 'remorse'],\n",
       " 'surprise': ['surprise', 'realization', 'confusion', 'curiosity'],\n",
       " 'neutral': ['neutral']}"
      ]
     },
     "execution_count": 102,
     "metadata": {},
     "output_type": "execute_result"
    }
   ],
   "source": [
    "ekman_mapping"
   ]
  },
  {
   "cell_type": "code",
   "execution_count": 103,
   "id": "97f917ba",
   "metadata": {
    "execution": {
     "iopub.execute_input": "2021-09-30T11:43:25.738298Z",
     "iopub.status.busy": "2021-09-30T11:43:25.737612Z",
     "iopub.status.idle": "2021-09-30T11:43:25.749536Z",
     "shell.execute_reply": "2021-09-30T11:43:25.748140Z",
     "shell.execute_reply.started": "2021-09-30T11:43:25.738254Z"
    }
   },
   "outputs": [],
   "source": [
    "def EmotionMapping(emotion_list):\n",
    "    map_list = []\n",
    "    \n",
    "    for i in emotion_list:\n",
    "        if i in ekman_mapping['anger']:\n",
    "            map_list.append('anger')\n",
    "        if i in ekman_mapping['disgust']:\n",
    "            map_list.append('disgust')\n",
    "        if i in ekman_mapping['fear']:\n",
    "            map_list.append('fear')\n",
    "        if i in ekman_mapping['joy']:\n",
    "            map_list.append('joy')\n",
    "        if i in ekman_mapping['sadness']:\n",
    "            map_list.append('sadness')\n",
    "        if i in ekman_mapping['surprise']:\n",
    "            map_list.append('surprise')\n",
    "        if i in ekman_mapping['neutral']:\n",
    "            map_list.append('neutral')\n",
    "        \n",
    "            \n",
    "    return map_list"
   ]
  },
  {
   "cell_type": "code",
   "execution_count": 104,
   "id": "1a6be6e8",
   "metadata": {
    "execution": {
     "iopub.execute_input": "2021-09-30T11:43:25.752948Z",
     "iopub.status.busy": "2021-09-30T11:43:25.752043Z",
     "iopub.status.idle": "2021-09-30T11:43:25.987257Z",
     "shell.execute_reply": "2021-09-30T11:43:25.986063Z",
     "shell.execute_reply.started": "2021-09-30T11:43:25.752898Z"
    }
   },
   "outputs": [],
   "source": [
    "df_train['Mapped Emotions'] = df_train['Emotions'].apply(EmotionMapping)\n",
    "df_val['Mapped Emotions'] = df_val['Emotions'].apply(EmotionMapping)\n",
    "df_test['Mapped Emotions'] = df_test['Emotions'].apply(EmotionMapping)"
   ]
  },
  {
   "cell_type": "code",
   "execution_count": 105,
   "id": "6b56e228",
   "metadata": {},
   "outputs": [
    {
     "data": {
      "text/html": [
       "<div>\n",
       "<style scoped>\n",
       "    .dataframe tbody tr th:only-of-type {\n",
       "        vertical-align: middle;\n",
       "    }\n",
       "\n",
       "    .dataframe tbody tr th {\n",
       "        vertical-align: top;\n",
       "    }\n",
       "\n",
       "    .dataframe thead th {\n",
       "        text-align: right;\n",
       "    }\n",
       "</style>\n",
       "<table border=\"1\" class=\"dataframe\">\n",
       "  <thead>\n",
       "    <tr style=\"text-align: right;\">\n",
       "      <th></th>\n",
       "      <th>Text</th>\n",
       "      <th>Class</th>\n",
       "      <th>List of classes</th>\n",
       "      <th>Len of classes</th>\n",
       "      <th>Emotions</th>\n",
       "      <th>Mapped Emotions</th>\n",
       "    </tr>\n",
       "  </thead>\n",
       "  <tbody>\n",
       "    <tr>\n",
       "      <th>0</th>\n",
       "      <td>My favourite food is anything I didn't have to...</td>\n",
       "      <td>27</td>\n",
       "      <td>[27]</td>\n",
       "      <td>1</td>\n",
       "      <td>[neutral]</td>\n",
       "      <td>[neutral]</td>\n",
       "    </tr>\n",
       "    <tr>\n",
       "      <th>1</th>\n",
       "      <td>Now if he does off himself, everyone will thin...</td>\n",
       "      <td>27</td>\n",
       "      <td>[27]</td>\n",
       "      <td>1</td>\n",
       "      <td>[neutral]</td>\n",
       "      <td>[neutral]</td>\n",
       "    </tr>\n",
       "    <tr>\n",
       "      <th>2</th>\n",
       "      <td>WHY THE FUCK IS BAYLESS ISOING</td>\n",
       "      <td>2</td>\n",
       "      <td>[2]</td>\n",
       "      <td>1</td>\n",
       "      <td>[anger]</td>\n",
       "      <td>[anger]</td>\n",
       "    </tr>\n",
       "    <tr>\n",
       "      <th>3</th>\n",
       "      <td>To make her feel threatened</td>\n",
       "      <td>14</td>\n",
       "      <td>[14]</td>\n",
       "      <td>1</td>\n",
       "      <td>[fear]</td>\n",
       "      <td>[fear]</td>\n",
       "    </tr>\n",
       "    <tr>\n",
       "      <th>4</th>\n",
       "      <td>Dirty Southern Wankers</td>\n",
       "      <td>3</td>\n",
       "      <td>[3]</td>\n",
       "      <td>1</td>\n",
       "      <td>[annoyance]</td>\n",
       "      <td>[anger]</td>\n",
       "    </tr>\n",
       "    <tr>\n",
       "      <th>...</th>\n",
       "      <td>...</td>\n",
       "      <td>...</td>\n",
       "      <td>...</td>\n",
       "      <td>...</td>\n",
       "      <td>...</td>\n",
       "      <td>...</td>\n",
       "    </tr>\n",
       "    <tr>\n",
       "      <th>43405</th>\n",
       "      <td>Added you mate well I’ve just got the bow and ...</td>\n",
       "      <td>18</td>\n",
       "      <td>[18]</td>\n",
       "      <td>1</td>\n",
       "      <td>[love]</td>\n",
       "      <td>[joy]</td>\n",
       "    </tr>\n",
       "    <tr>\n",
       "      <th>43406</th>\n",
       "      <td>Always thought that was funny but is it a refe...</td>\n",
       "      <td>6</td>\n",
       "      <td>[6]</td>\n",
       "      <td>1</td>\n",
       "      <td>[confusion]</td>\n",
       "      <td>[surprise]</td>\n",
       "    </tr>\n",
       "    <tr>\n",
       "      <th>43407</th>\n",
       "      <td>What are you talking about? Anything bad that ...</td>\n",
       "      <td>3</td>\n",
       "      <td>[3]</td>\n",
       "      <td>1</td>\n",
       "      <td>[annoyance]</td>\n",
       "      <td>[anger]</td>\n",
       "    </tr>\n",
       "    <tr>\n",
       "      <th>43408</th>\n",
       "      <td>More like a baptism, with sexy results!</td>\n",
       "      <td>13</td>\n",
       "      <td>[13]</td>\n",
       "      <td>1</td>\n",
       "      <td>[excitement]</td>\n",
       "      <td>[joy]</td>\n",
       "    </tr>\n",
       "    <tr>\n",
       "      <th>43409</th>\n",
       "      <td>Enjoy the ride!</td>\n",
       "      <td>17</td>\n",
       "      <td>[17]</td>\n",
       "      <td>1</td>\n",
       "      <td>[joy]</td>\n",
       "      <td>[joy]</td>\n",
       "    </tr>\n",
       "  </tbody>\n",
       "</table>\n",
       "<p>43410 rows × 6 columns</p>\n",
       "</div>"
      ],
      "text/plain": [
       "                                                    Text Class  \\\n",
       "0      My favourite food is anything I didn't have to...    27   \n",
       "1      Now if he does off himself, everyone will thin...    27   \n",
       "2                         WHY THE FUCK IS BAYLESS ISOING     2   \n",
       "3                            To make her feel threatened    14   \n",
       "4                                 Dirty Southern Wankers     3   \n",
       "...                                                  ...   ...   \n",
       "43405  Added you mate well I’ve just got the bow and ...    18   \n",
       "43406  Always thought that was funny but is it a refe...     6   \n",
       "43407  What are you talking about? Anything bad that ...     3   \n",
       "43408            More like a baptism, with sexy results!    13   \n",
       "43409                                    Enjoy the ride!    17   \n",
       "\n",
       "      List of classes  Len of classes      Emotions Mapped Emotions  \n",
       "0                [27]               1     [neutral]       [neutral]  \n",
       "1                [27]               1     [neutral]       [neutral]  \n",
       "2                 [2]               1       [anger]         [anger]  \n",
       "3                [14]               1        [fear]          [fear]  \n",
       "4                 [3]               1   [annoyance]         [anger]  \n",
       "...               ...             ...           ...             ...  \n",
       "43405            [18]               1        [love]           [joy]  \n",
       "43406             [6]               1   [confusion]      [surprise]  \n",
       "43407             [3]               1   [annoyance]         [anger]  \n",
       "43408            [13]               1  [excitement]           [joy]  \n",
       "43409            [17]               1         [joy]           [joy]  \n",
       "\n",
       "[43410 rows x 6 columns]"
      ]
     },
     "execution_count": 105,
     "metadata": {},
     "output_type": "execute_result"
    }
   ],
   "source": [
    "df_train"
   ]
  },
  {
   "cell_type": "markdown",
   "id": "e1a97211",
   "metadata": {},
   "source": [
    "df_train_1 = df_train.copy()\n",
    "df_dev_1 = df_dev.copy()\n",
    "df_val_1 = df_val.copy()\n",
    "df_test_1 = df_test.copy()\n"
   ]
  },
  {
   "cell_type": "code",
   "execution_count": 106,
   "id": "b7319961",
   "metadata": {},
   "outputs": [],
   "source": [
    "# OneHot encoding for multi-label classification\n",
    "for emo in ekman_mapping:\n",
    "    df_train[emo] = np.zeros((len(df_train),1))\n",
    "    df_train[emo] = df_train['Mapped Emotions'].apply(lambda x: 1 if emo in x else 0)\n",
    "\n",
    "for emo in ekman_mapping:\n",
    "    df_val[emo] = np.zeros((len(df_val),1))\n",
    "    df_val[emo] = df_val['Mapped Emotions'].apply(lambda x: 1 if emo in x else 0)    \n",
    "\n",
    "for emo in ekman_mapping:\n",
    "    df_test[emo] = np.zeros((len(df_test),1))\n",
    "    df_test[emo] = df_test['Mapped Emotions'].apply(lambda x: 1 if emo in x else 0)\n",
    "\n",
    "# Preview of data   \n",
    "#display(df_train_1.head())"
   ]
  },
  {
   "cell_type": "code",
   "execution_count": 107,
   "id": "dfac2b97",
   "metadata": {},
   "outputs": [
    {
     "data": {
      "text/html": [
       "<div>\n",
       "<style scoped>\n",
       "    .dataframe tbody tr th:only-of-type {\n",
       "        vertical-align: middle;\n",
       "    }\n",
       "\n",
       "    .dataframe tbody tr th {\n",
       "        vertical-align: top;\n",
       "    }\n",
       "\n",
       "    .dataframe thead th {\n",
       "        text-align: right;\n",
       "    }\n",
       "</style>\n",
       "<table border=\"1\" class=\"dataframe\">\n",
       "  <thead>\n",
       "    <tr style=\"text-align: right;\">\n",
       "      <th></th>\n",
       "      <th>Text</th>\n",
       "      <th>Class</th>\n",
       "      <th>List of classes</th>\n",
       "      <th>Len of classes</th>\n",
       "      <th>Emotions</th>\n",
       "      <th>Mapped Emotions</th>\n",
       "      <th>anger</th>\n",
       "      <th>disgust</th>\n",
       "      <th>fear</th>\n",
       "      <th>joy</th>\n",
       "      <th>sadness</th>\n",
       "      <th>surprise</th>\n",
       "      <th>neutral</th>\n",
       "    </tr>\n",
       "  </thead>\n",
       "  <tbody>\n",
       "    <tr>\n",
       "      <th>0</th>\n",
       "      <td>My favourite food is anything I didn't have to...</td>\n",
       "      <td>27</td>\n",
       "      <td>[27]</td>\n",
       "      <td>1</td>\n",
       "      <td>[neutral]</td>\n",
       "      <td>[neutral]</td>\n",
       "      <td>0</td>\n",
       "      <td>0</td>\n",
       "      <td>0</td>\n",
       "      <td>0</td>\n",
       "      <td>0</td>\n",
       "      <td>0</td>\n",
       "      <td>1</td>\n",
       "    </tr>\n",
       "    <tr>\n",
       "      <th>1</th>\n",
       "      <td>Now if he does off himself, everyone will thin...</td>\n",
       "      <td>27</td>\n",
       "      <td>[27]</td>\n",
       "      <td>1</td>\n",
       "      <td>[neutral]</td>\n",
       "      <td>[neutral]</td>\n",
       "      <td>0</td>\n",
       "      <td>0</td>\n",
       "      <td>0</td>\n",
       "      <td>0</td>\n",
       "      <td>0</td>\n",
       "      <td>0</td>\n",
       "      <td>1</td>\n",
       "    </tr>\n",
       "    <tr>\n",
       "      <th>2</th>\n",
       "      <td>WHY THE FUCK IS BAYLESS ISOING</td>\n",
       "      <td>2</td>\n",
       "      <td>[2]</td>\n",
       "      <td>1</td>\n",
       "      <td>[anger]</td>\n",
       "      <td>[anger]</td>\n",
       "      <td>1</td>\n",
       "      <td>0</td>\n",
       "      <td>0</td>\n",
       "      <td>0</td>\n",
       "      <td>0</td>\n",
       "      <td>0</td>\n",
       "      <td>0</td>\n",
       "    </tr>\n",
       "  </tbody>\n",
       "</table>\n",
       "</div>"
      ],
      "text/plain": [
       "                                                Text Class List of classes  \\\n",
       "0  My favourite food is anything I didn't have to...    27            [27]   \n",
       "1  Now if he does off himself, everyone will thin...    27            [27]   \n",
       "2                     WHY THE FUCK IS BAYLESS ISOING     2             [2]   \n",
       "\n",
       "   Len of classes   Emotions Mapped Emotions  anger  disgust  fear  joy  \\\n",
       "0               1  [neutral]       [neutral]      0        0     0    0   \n",
       "1               1  [neutral]       [neutral]      0        0     0    0   \n",
       "2               1    [anger]         [anger]      1        0     0    0   \n",
       "\n",
       "   sadness  surprise  neutral  \n",
       "0        0         0        1  \n",
       "1        0         0        1  \n",
       "2        0         0        0  "
      ]
     },
     "execution_count": 107,
     "metadata": {},
     "output_type": "execute_result"
    }
   ],
   "source": [
    "df_train.head(3)"
   ]
  },
  {
   "cell_type": "code",
   "execution_count": 108,
   "id": "811eb1d5",
   "metadata": {},
   "outputs": [],
   "source": [
    "df_train.drop(['Class','List of classes','Len of classes','Emotions','Mapped Emotions'], axis=1, inplace=True)\n",
    "df_val.drop(['Class','List of classes','Len of classes','Emotions','Mapped Emotions'], axis=1, inplace=True)\n",
    "df_test.drop(['Class','List of classes','Len of classes','Emotions','Mapped Emotions'], axis=1, inplace=True)"
   ]
  },
  {
   "cell_type": "code",
   "execution_count": 109,
   "id": "f8b8686d",
   "metadata": {},
   "outputs": [],
   "source": [
    "df_train_no_neu = df_train.copy()\n",
    "df_val_no_neu = df_val.copy()\n",
    "df_test_no_neu = df_test.copy()"
   ]
  },
  {
   "cell_type": "code",
   "execution_count": 110,
   "id": "9bccf628",
   "metadata": {
    "id": "-ueyGMWoQAdN"
   },
   "outputs": [],
   "source": [
    "df_train_no_neu = df_train_no_neu.drop(columns=['neutral'])\n",
    "df_val_no_neu = df_val_no_neu.drop(columns=['neutral'])\n",
    "df_test_no_neu = df_test_no_neu.drop(columns=['neutral'])"
   ]
  },
  {
   "cell_type": "markdown",
   "id": "2f564c01",
   "metadata": {
    "id": "nD-C7i2EQXqL"
   },
   "source": [
    "Then, we need remove all the samples that have been left without a label."
   ]
  },
  {
   "cell_type": "code",
   "execution_count": 111,
   "id": "f077c23b",
   "metadata": {
    "colab": {
     "base_uri": "https://localhost:8080/"
    },
    "executionInfo": {
     "elapsed": 11326,
     "status": "ok",
     "timestamp": 1617284741350,
     "user": {
      "displayName": "Ibrahim Benjelloun",
      "photoUrl": "",
      "userId": "05131578507394582340"
     },
     "user_tz": -120
    },
    "id": "LX2MtKYhRWbu",
    "outputId": "8c88929f-657d-4c3c-967a-9027f78eb346"
   },
   "outputs": [
    {
     "name": "stdout",
     "output_type": "stream",
     "text": [
      "(30587, 7)\n",
      "(30587, 7)\n",
      "(30587, 7)\n"
     ]
    }
   ],
   "source": [
    "# Removing samples with only 0 in their labels\n",
    "df_train_no_neu = df_train_no_neu.loc[ df_train_no_neu.apply(lambda x: sum(x[1:]), axis=1)>0 ]\n",
    "df_val_no_neu = df_val_no_neu.loc[ df_val_no_neu.apply(lambda x: sum(x[1:]), axis=1)>0 ]\n",
    "df_test_no_neu = df_test_no_neu.loc[ df_test_no_neu.apply(lambda x: sum(x[1:]), axis=1)>0 ]\n",
    "\n",
    "# Shape validation\n",
    "print(df_train_no_neu.shape)\n",
    "print(df_train_no_neu.shape)\n",
    "print(df_train_no_neu.shape)"
   ]
  },
  {
   "cell_type": "code",
   "execution_count": 112,
   "id": "fd748fec",
   "metadata": {},
   "outputs": [
    {
     "data": {
      "text/html": [
       "<div>\n",
       "<style scoped>\n",
       "    .dataframe tbody tr th:only-of-type {\n",
       "        vertical-align: middle;\n",
       "    }\n",
       "\n",
       "    .dataframe tbody tr th {\n",
       "        vertical-align: top;\n",
       "    }\n",
       "\n",
       "    .dataframe thead th {\n",
       "        text-align: right;\n",
       "    }\n",
       "</style>\n",
       "<table border=\"1\" class=\"dataframe\">\n",
       "  <thead>\n",
       "    <tr style=\"text-align: right;\">\n",
       "      <th></th>\n",
       "      <th>Text</th>\n",
       "      <th>anger</th>\n",
       "      <th>disgust</th>\n",
       "      <th>fear</th>\n",
       "      <th>joy</th>\n",
       "      <th>sadness</th>\n",
       "      <th>surprise</th>\n",
       "    </tr>\n",
       "  </thead>\n",
       "  <tbody>\n",
       "    <tr>\n",
       "      <th>2</th>\n",
       "      <td>WHY THE FUCK IS BAYLESS ISOING</td>\n",
       "      <td>1</td>\n",
       "      <td>0</td>\n",
       "      <td>0</td>\n",
       "      <td>0</td>\n",
       "      <td>0</td>\n",
       "      <td>0</td>\n",
       "    </tr>\n",
       "    <tr>\n",
       "      <th>3</th>\n",
       "      <td>To make her feel threatened</td>\n",
       "      <td>0</td>\n",
       "      <td>0</td>\n",
       "      <td>1</td>\n",
       "      <td>0</td>\n",
       "      <td>0</td>\n",
       "      <td>0</td>\n",
       "    </tr>\n",
       "    <tr>\n",
       "      <th>4</th>\n",
       "      <td>Dirty Southern Wankers</td>\n",
       "      <td>1</td>\n",
       "      <td>0</td>\n",
       "      <td>0</td>\n",
       "      <td>0</td>\n",
       "      <td>0</td>\n",
       "      <td>0</td>\n",
       "    </tr>\n",
       "  </tbody>\n",
       "</table>\n",
       "</div>"
      ],
      "text/plain": [
       "                             Text  anger  disgust  fear  joy  sadness  \\\n",
       "2  WHY THE FUCK IS BAYLESS ISOING      1        0     0    0        0   \n",
       "3     To make her feel threatened      0        0     1    0        0   \n",
       "4          Dirty Southern Wankers      1        0     0    0        0   \n",
       "\n",
       "   surprise  \n",
       "2         0  \n",
       "3         0  \n",
       "4         0  "
      ]
     },
     "execution_count": 112,
     "metadata": {},
     "output_type": "execute_result"
    }
   ],
   "source": [
    "df_train_no_neu.head(3)"
   ]
  },
  {
   "cell_type": "code",
   "execution_count": 113,
   "id": "9d054b0a",
   "metadata": {},
   "outputs": [],
   "source": [
    "# Building a preprocessing function to clean text\n",
    "def preprocess_corpus(x):\n",
    "\n",
    "  # Adding a space between words and punctation\n",
    "  x = re.sub( r'([a-zA-Z\\[\\]])([,;.!?])', r'\\1 \\2', x)\n",
    "  x = re.sub( r'([,;.!?])([a-zA-Z\\[\\]])', r'\\1 \\2', x)\n",
    "  \n",
    "  # Demojize\n",
    "  x = emoji.demojize(x)\n",
    "  \n",
    "  # Expand contraction\n",
    "  x = contractions.fix(x)\n",
    "  \n",
    "  # Lower\n",
    "  x = x.lower()\n",
    "\n",
    "  #correct some acronyms/typos/abbreviations  \n",
    "  x = re.sub(r\"lmao\", \"laughing my ass off\", x)  \n",
    "  x = re.sub(r\"amirite\", \"am i right\", x)\n",
    "  x = re.sub(r\"\\b(tho)\\b\", \"though\", x)\n",
    "  x = re.sub(r\"\\b(ikr)\\b\", \"i know right\", x)\n",
    "  x = re.sub(r\"\\b(ya|u)\\b\", \"you\", x)\n",
    "  x = re.sub(r\"\\b(eu)\\b\", \"europe\", x)\n",
    "  x = re.sub(r\"\\b(da)\\b\", \"the\", x)\n",
    "  x = re.sub(r\"\\b(dat)\\b\", \"that\", x)\n",
    "  x = re.sub(r\"\\b(dats)\\b\", \"that is\", x)\n",
    "  x = re.sub(r\"\\b(cuz)\\b\", \"because\", x)\n",
    "  x = re.sub(r\"\\b(fkn)\\b\", \"fucking\", x)\n",
    "  x = re.sub(r\"\\b(tbh)\\b\", \"to be honest\", x)\n",
    "  x = re.sub(r\"\\b(tbf)\\b\", \"to be fair\", x)\n",
    "  x = re.sub(r\"faux pas\", \"mistake\", x)\n",
    "  x = re.sub(r\"\\b(btw)\\b\", \"by the way\", x)\n",
    "  x = re.sub(r\"\\b(bs)\\b\", \"bullshit\", x)\n",
    "  x = re.sub(r\"\\b(kinda)\\b\", \"kind of\", x)\n",
    "  x = re.sub(r\"\\b(bruh)\\b\", \"bro\", x)\n",
    "  x = re.sub(r\"\\b(w/e)\\b\", \"whatever\", x)\n",
    "  x = re.sub(r\"\\b(w/)\\b\", \"with\", x)\n",
    "  x = re.sub(r\"\\b(w/o)\\b\", \"without\", x)\n",
    "  x = re.sub(r\"\\b(doj)\\b\", \"department of justice\", x)\n",
    "  \n",
    "  #replace some words with multiple occurences of a letter, example \"coooool\" turns into --> cool\n",
    "  x = re.sub(r\"\\b(j+e{2,}z+e*)\\b\", \"jeez\", x)\n",
    "  x = re.sub(r\"\\b(co+l+)\\b\", \"cool\", x)\n",
    "  x = re.sub(r\"\\b(g+o+a+l+)\\b\", \"goal\", x)\n",
    "  x = re.sub(r\"\\b(s+h+i+t+)\\b\", \"shit\", x)\n",
    "  x = re.sub(r\"\\b(o+m+g+)\\b\", \"omg\", x)\n",
    "  x = re.sub(r\"\\b(w+t+f+)\\b\", \"wtf\", x)\n",
    "  x = re.sub(r\"\\b(w+h+a+t+)\\b\", \"what\", x)\n",
    "  x = re.sub(r\"\\b(y+e+y+|y+a+y+|y+e+a+h+)\\b\", \"yeah\", x)\n",
    "  x = re.sub(r\"\\b(w+o+w+)\\b\", \"wow\", x)\n",
    "  x = re.sub(r\"\\b(w+h+y+)\\b\", \"why\", x)\n",
    "  x = re.sub(r\"\\b(s+o+)\\b\", \"so\", x)\n",
    "  x = re.sub(r\"\\b(f)\\b\", \"fuck\", x)\n",
    "  x = re.sub(r\"\\b(w+h+o+p+s+)\\b\", \"whoops\", x)\n",
    "  x = re.sub(r\"\\b(ofc)\\b\", \"of course\", x)\n",
    "  x = re.sub(r\"\\b(the us)\\b\", \"usa\", x)\n",
    "  x = re.sub(r\"\\b(gf)\\b\", \"girlfriend\", x)\n",
    "  x = re.sub(r\"\\b(hr)\\b\", \"human ressources\", x)\n",
    "  x = re.sub(r\"\\b(mh)\\b\", \"mental health\", x)\n",
    "  x = re.sub(r\"\\b(idk)\\b\", \"i do not know\", x)\n",
    "  x = re.sub(r\"\\b(gotcha)\\b\", \"i got you\", x)\n",
    "  x = re.sub(r\"\\b(y+e+p+)\\b\", \"yes\", x)\n",
    "  x = re.sub(r\"\\b(a*ha+h[ha]*|a*ha +h[ha]*)\\b\", \"haha\", x)\n",
    "  x = re.sub(r\"\\b(o?l+o+l+[ol]*)\\b\", \"lol\", x)\n",
    "  x = re.sub(r\"\\b(o*ho+h[ho]*|o*ho +h[ho]*)\\b\", \"ohoh\", x)\n",
    "  x = re.sub(r\"\\b(o+h+)\\b\", \"oh\", x)\n",
    "  x = re.sub(r\"\\b(a+h+)\\b\", \"ah\", x)\n",
    "  x = re.sub(r\"\\b(u+h+)\\b\", \"uh\", x)\n",
    "\n",
    "  # Handling emojis\n",
    "  x = re.sub(r\"<3\", \" love \", x)\n",
    "  x = re.sub(r\"xd\", \" smiling_face_with_open_mouth_and_tightly_closed_eyes \", x)\n",
    "  x = re.sub(r\":\\)\", \" smiling_face \", x)\n",
    "  x = re.sub(r\"^_^\", \" smiling_face \", x)\n",
    "  x = re.sub(r\"\\*_\\*\", \" star_struck \", x)\n",
    "  x = re.sub(r\":\\(\", \" frowning_face \", x)\n",
    "  x = re.sub(r\":\\^\\(\", \" frowning_face \", x)\n",
    "  x = re.sub(r\";\\(\", \" frowning_face \", x)\n",
    "  x = re.sub(r\":\\/\",  \" confused_face\", x)\n",
    "  x = re.sub(r\";\\)\",  \" wink\", x)\n",
    "  x = re.sub(r\">__<\",  \" unamused \", x)\n",
    "  x = re.sub(r\"\\b([xo]+x*)\\b\", \" xoxo \", x)\n",
    "  x = re.sub(r\"\\b(n+a+h+)\\b\", \"no\", x)\n",
    "\n",
    "  # Handling special cases of text\n",
    "  x = re.sub(r\"h a m b e r d e r s\", \"hamberders\", x)\n",
    "  x = re.sub(r\"b e n\", \"ben\", x)\n",
    "  x = re.sub(r\"s a t i r e\", \"satire\", x)\n",
    "  x = re.sub(r\"y i k e s\", \"yikes\", x)\n",
    "  x = re.sub(r\"s p o i l e r\", \"spoiler\", x)\n",
    "  x = re.sub(r\"thankyou\", \"thank you\", x)\n",
    "  x = re.sub(r\"a^r^o^o^o^o^o^o^o^n^d\", \"around\", x)\n",
    "\n",
    "  # Remove special characters and numbers replace by space + remove double space\n",
    "  x = re.sub(r\"\\b([.]{3,})\",\" dots \", x)\n",
    "  x = re.sub(r\"[^A-Za-z!?_]+\",\" \", x)\n",
    "  x = re.sub(r\"\\b([s])\\b *\",\"\", x)\n",
    "  x = re.sub(r\" +\",\" \", x)\n",
    "  x = x.strip()\n",
    "\n",
    "  return x"
   ]
  },
  {
   "cell_type": "code",
   "execution_count": 114,
   "id": "b2d7391b",
   "metadata": {},
   "outputs": [],
   "source": [
    "# Defining the number of samples in train, validation and test dataset\n",
    "size_train = df_train.shape[0]\n",
    "size_val = df_val.shape[0]\n",
    "size_test = df_test.shape[0]\n",
    "\n",
    "size_train_no_neu = df_train_no_neu.shape[0]\n",
    "size_val_no_neu = df_val_no_neu.shape[0]\n",
    "size_test_no_neu = df_test_no_neu.shape[0]\n",
    "\n",
    "# Defining the total number of samples\n",
    "size_all = size_train + size_val + size_test\n",
    "size_all_no_neu = size_train_no_neu + size_val_no_neu + size_test_no_neu"
   ]
  },
  {
   "cell_type": "code",
   "execution_count": 115,
   "id": "92216918",
   "metadata": {},
   "outputs": [
    {
     "data": {
      "text/plain": [
       "(43410,)"
      ]
     },
     "execution_count": 115,
     "metadata": {},
     "output_type": "execute_result"
    }
   ],
   "source": [
    "size_train, "
   ]
  },
  {
   "cell_type": "code",
   "execution_count": 116,
   "id": "3b754c83",
   "metadata": {},
   "outputs": [
    {
     "data": {
      "text/plain": [
       "(30587, 3834, 3821)"
      ]
     },
     "execution_count": 116,
     "metadata": {},
     "output_type": "execute_result"
    }
   ],
   "source": [
    "size_train_no_neu, size_val_no_neu, size_test_no_neu"
   ]
  },
  {
   "cell_type": "code",
   "execution_count": 117,
   "id": "6a5aaf3b",
   "metadata": {},
   "outputs": [
    {
     "name": "stdout",
     "output_type": "stream",
     "text": [
      "Train dataset has 43410 samples and represents 80.00% of overall data\n",
      "Validation dataset has 5426 samples and represents 10.00% of overall data\n",
      "Test dataset has 5427 samples and represents 10.00% of overall data\n",
      "\n",
      "The total number of samples is : 54263\n"
     ]
    }
   ],
   "source": [
    "# Shape of train, validation and test datasets\n",
    "print(\"Train dataset has {} samples and represents {:.2f}% of overall data\".format(size_train, size_train/size_all*100))\n",
    "print(\"Validation dataset has {} samples and represents {:.2f}% of overall data\".format(size_val, size_val/size_all*100))\n",
    "print(\"Test dataset has {} samples and represents {:.2f}% of overall data\".format(size_test, size_test/size_all*100))\n",
    "print()\n",
    "print(\"The total number of samples is : {}\".format(size_all))"
   ]
  },
  {
   "cell_type": "code",
   "execution_count": 118,
   "id": "1adfb8fb",
   "metadata": {},
   "outputs": [
    {
     "data": {
      "text/html": [
       "<div>\n",
       "<style scoped>\n",
       "    .dataframe tbody tr th:only-of-type {\n",
       "        vertical-align: middle;\n",
       "    }\n",
       "\n",
       "    .dataframe tbody tr th {\n",
       "        vertical-align: top;\n",
       "    }\n",
       "\n",
       "    .dataframe thead th {\n",
       "        text-align: right;\n",
       "    }\n",
       "</style>\n",
       "<table border=\"1\" class=\"dataframe\">\n",
       "  <thead>\n",
       "    <tr style=\"text-align: right;\">\n",
       "      <th></th>\n",
       "      <th>Text</th>\n",
       "      <th>anger</th>\n",
       "      <th>disgust</th>\n",
       "      <th>fear</th>\n",
       "      <th>joy</th>\n",
       "      <th>sadness</th>\n",
       "      <th>surprise</th>\n",
       "      <th>neutral</th>\n",
       "    </tr>\n",
       "  </thead>\n",
       "  <tbody>\n",
       "    <tr>\n",
       "      <th>0</th>\n",
       "      <td>My favourite food is anything I didn't have to...</td>\n",
       "      <td>0</td>\n",
       "      <td>0</td>\n",
       "      <td>0</td>\n",
       "      <td>0</td>\n",
       "      <td>0</td>\n",
       "      <td>0</td>\n",
       "      <td>1</td>\n",
       "    </tr>\n",
       "    <tr>\n",
       "      <th>1</th>\n",
       "      <td>Now if he does off himself, everyone will thin...</td>\n",
       "      <td>0</td>\n",
       "      <td>0</td>\n",
       "      <td>0</td>\n",
       "      <td>0</td>\n",
       "      <td>0</td>\n",
       "      <td>0</td>\n",
       "      <td>1</td>\n",
       "    </tr>\n",
       "    <tr>\n",
       "      <th>2</th>\n",
       "      <td>WHY THE FUCK IS BAYLESS ISOING</td>\n",
       "      <td>1</td>\n",
       "      <td>0</td>\n",
       "      <td>0</td>\n",
       "      <td>0</td>\n",
       "      <td>0</td>\n",
       "      <td>0</td>\n",
       "      <td>0</td>\n",
       "    </tr>\n",
       "    <tr>\n",
       "      <th>3</th>\n",
       "      <td>To make her feel threatened</td>\n",
       "      <td>0</td>\n",
       "      <td>0</td>\n",
       "      <td>1</td>\n",
       "      <td>0</td>\n",
       "      <td>0</td>\n",
       "      <td>0</td>\n",
       "      <td>0</td>\n",
       "    </tr>\n",
       "    <tr>\n",
       "      <th>4</th>\n",
       "      <td>Dirty Southern Wankers</td>\n",
       "      <td>1</td>\n",
       "      <td>0</td>\n",
       "      <td>0</td>\n",
       "      <td>0</td>\n",
       "      <td>0</td>\n",
       "      <td>0</td>\n",
       "      <td>0</td>\n",
       "    </tr>\n",
       "  </tbody>\n",
       "</table>\n",
       "</div>"
      ],
      "text/plain": [
       "                                                Text  anger  disgust  fear  \\\n",
       "0  My favourite food is anything I didn't have to...      0        0     0   \n",
       "1  Now if he does off himself, everyone will thin...      0        0     0   \n",
       "2                     WHY THE FUCK IS BAYLESS ISOING      1        0     0   \n",
       "3                        To make her feel threatened      0        0     1   \n",
       "4                             Dirty Southern Wankers      1        0     0   \n",
       "\n",
       "   joy  sadness  surprise  neutral  \n",
       "0    0        0         0        1  \n",
       "1    0        0         0        1  \n",
       "2    0        0         0        0  \n",
       "3    0        0         0        0  \n",
       "4    0        0         0        0  "
      ]
     },
     "metadata": {},
     "output_type": "display_data"
    },
    {
     "data": {
      "text/html": [
       "<div>\n",
       "<style scoped>\n",
       "    .dataframe tbody tr th:only-of-type {\n",
       "        vertical-align: middle;\n",
       "    }\n",
       "\n",
       "    .dataframe tbody tr th {\n",
       "        vertical-align: top;\n",
       "    }\n",
       "\n",
       "    .dataframe thead th {\n",
       "        text-align: right;\n",
       "    }\n",
       "</style>\n",
       "<table border=\"1\" class=\"dataframe\">\n",
       "  <thead>\n",
       "    <tr style=\"text-align: right;\">\n",
       "      <th></th>\n",
       "      <th>Text</th>\n",
       "      <th>anger</th>\n",
       "      <th>disgust</th>\n",
       "      <th>fear</th>\n",
       "      <th>joy</th>\n",
       "      <th>sadness</th>\n",
       "      <th>surprise</th>\n",
       "    </tr>\n",
       "  </thead>\n",
       "  <tbody>\n",
       "    <tr>\n",
       "      <th>0</th>\n",
       "      <td>WHY THE FUCK IS BAYLESS ISOING</td>\n",
       "      <td>1</td>\n",
       "      <td>0</td>\n",
       "      <td>0</td>\n",
       "      <td>0</td>\n",
       "      <td>0</td>\n",
       "      <td>0</td>\n",
       "    </tr>\n",
       "    <tr>\n",
       "      <th>1</th>\n",
       "      <td>To make her feel threatened</td>\n",
       "      <td>0</td>\n",
       "      <td>0</td>\n",
       "      <td>1</td>\n",
       "      <td>0</td>\n",
       "      <td>0</td>\n",
       "      <td>0</td>\n",
       "    </tr>\n",
       "    <tr>\n",
       "      <th>2</th>\n",
       "      <td>Dirty Southern Wankers</td>\n",
       "      <td>1</td>\n",
       "      <td>0</td>\n",
       "      <td>0</td>\n",
       "      <td>0</td>\n",
       "      <td>0</td>\n",
       "      <td>0</td>\n",
       "    </tr>\n",
       "    <tr>\n",
       "      <th>3</th>\n",
       "      <td>OmG pEyToN iSn'T gOoD eNoUgH tO hElP uS iN tHe...</td>\n",
       "      <td>0</td>\n",
       "      <td>0</td>\n",
       "      <td>0</td>\n",
       "      <td>0</td>\n",
       "      <td>0</td>\n",
       "      <td>1</td>\n",
       "    </tr>\n",
       "    <tr>\n",
       "      <th>4</th>\n",
       "      <td>Yes I heard abt the f bombs! That has to be wh...</td>\n",
       "      <td>0</td>\n",
       "      <td>0</td>\n",
       "      <td>0</td>\n",
       "      <td>1</td>\n",
       "      <td>0</td>\n",
       "      <td>0</td>\n",
       "    </tr>\n",
       "  </tbody>\n",
       "</table>\n",
       "</div>"
      ],
      "text/plain": [
       "                                                Text  anger  disgust  fear  \\\n",
       "0                     WHY THE FUCK IS BAYLESS ISOING      1        0     0   \n",
       "1                        To make her feel threatened      0        0     1   \n",
       "2                             Dirty Southern Wankers      1        0     0   \n",
       "3  OmG pEyToN iSn'T gOoD eNoUgH tO hElP uS iN tHe...      0        0     0   \n",
       "4  Yes I heard abt the f bombs! That has to be wh...      0        0     0   \n",
       "\n",
       "   joy  sadness  surprise  \n",
       "0    0        0         0  \n",
       "1    0        0         0  \n",
       "2    0        0         0  \n",
       "3    0        0         1  \n",
       "4    1        0         0  "
      ]
     },
     "metadata": {},
     "output_type": "display_data"
    },
    {
     "name": "stdout",
     "output_type": "stream",
     "text": [
      "(54263, 8)\n",
      "(38242, 7)\n"
     ]
    }
   ],
   "source": [
    "# Concatenating the 3 datasets for labels preprocessing\n",
    "df_all = pd.concat([df_train, df_val, df_test], axis=0).reset_index(drop=True)\n",
    "df_all_no_neu = pd.concat([df_train_no_neu, df_val_no_neu, df_test_no_neu], axis=0).reset_index(drop=True)\n",
    "\n",
    "# Preview of data\n",
    "display(df_all.head(5))\n",
    "display(df_all_no_neu.head(5))\n",
    "print(df_all.shape)\n",
    "print(df_all_no_neu.shape)"
   ]
  },
  {
   "cell_type": "code",
   "execution_count": 119,
   "id": "ef3270a5",
   "metadata": {},
   "outputs": [
    {
     "data": {
      "text/html": [
       "<div>\n",
       "<style scoped>\n",
       "    .dataframe tbody tr th:only-of-type {\n",
       "        vertical-align: middle;\n",
       "    }\n",
       "\n",
       "    .dataframe tbody tr th {\n",
       "        vertical-align: top;\n",
       "    }\n",
       "\n",
       "    .dataframe thead th {\n",
       "        text-align: right;\n",
       "    }\n",
       "</style>\n",
       "<table border=\"1\" class=\"dataframe\">\n",
       "  <thead>\n",
       "    <tr style=\"text-align: right;\">\n",
       "      <th></th>\n",
       "      <th>Text</th>\n",
       "      <th>Clean_text</th>\n",
       "    </tr>\n",
       "  </thead>\n",
       "  <tbody>\n",
       "    <tr>\n",
       "      <th>51661</th>\n",
       "      <td>I didn’t know [NAME] disliked Pittsburgh so much</td>\n",
       "      <td>i did not know name disliked pittsburgh so much</td>\n",
       "    </tr>\n",
       "    <tr>\n",
       "      <th>43386</th>\n",
       "      <td>Wait and do what ever it takes to get [NAME]</td>\n",
       "      <td>wait and do what ever it takes to get name</td>\n",
       "    </tr>\n",
       "    <tr>\n",
       "      <th>34022</th>\n",
       "      <td>Come to Nashville. Love to help with that prob...</td>\n",
       "      <td>come to nashville love to help with that problem</td>\n",
       "    </tr>\n",
       "    <tr>\n",
       "      <th>29022</th>\n",
       "      <td>Thanks for that. It seemed fishy, but it is wh...</td>\n",
       "      <td>thanks for that it seemed fishy but it is what...</td>\n",
       "    </tr>\n",
       "    <tr>\n",
       "      <th>8874</th>\n",
       "      <td>I'd rather just let them fester over there and...</td>\n",
       "      <td>i would rather just let them fester over there...</td>\n",
       "    </tr>\n",
       "  </tbody>\n",
       "</table>\n",
       "</div>"
      ],
      "text/plain": [
       "                                                    Text  \\\n",
       "51661   I didn’t know [NAME] disliked Pittsburgh so much   \n",
       "43386       Wait and do what ever it takes to get [NAME]   \n",
       "34022  Come to Nashville. Love to help with that prob...   \n",
       "29022  Thanks for that. It seemed fishy, but it is wh...   \n",
       "8874   I'd rather just let them fester over there and...   \n",
       "\n",
       "                                              Clean_text  \n",
       "51661    i did not know name disliked pittsburgh so much  \n",
       "43386         wait and do what ever it takes to get name  \n",
       "34022   come to nashville love to help with that problem  \n",
       "29022  thanks for that it seemed fishy but it is what...  \n",
       "8874   i would rather just let them fester over there...  "
      ]
     },
     "metadata": {},
     "output_type": "display_data"
    },
    {
     "data": {
      "text/html": [
       "<div>\n",
       "<style scoped>\n",
       "    .dataframe tbody tr th:only-of-type {\n",
       "        vertical-align: middle;\n",
       "    }\n",
       "\n",
       "    .dataframe tbody tr th {\n",
       "        vertical-align: top;\n",
       "    }\n",
       "\n",
       "    .dataframe thead th {\n",
       "        text-align: right;\n",
       "    }\n",
       "</style>\n",
       "<table border=\"1\" class=\"dataframe\">\n",
       "  <thead>\n",
       "    <tr style=\"text-align: right;\">\n",
       "      <th></th>\n",
       "      <th>Text</th>\n",
       "      <th>Clean_text</th>\n",
       "    </tr>\n",
       "  </thead>\n",
       "  <tbody>\n",
       "    <tr>\n",
       "      <th>35874</th>\n",
       "      <td>Dude you really like The Strokes.</td>\n",
       "      <td>dude you really like the strokes</td>\n",
       "    </tr>\n",
       "    <tr>\n",
       "      <th>27555</th>\n",
       "      <td>Ignorance is bliss</td>\n",
       "      <td>ignorance is bliss</td>\n",
       "    </tr>\n",
       "    <tr>\n",
       "      <th>12373</th>\n",
       "      <td>Fucking hell! I've been out there protesting o...</td>\n",
       "      <td>fucking hell ! i have been out there protestin...</td>\n",
       "    </tr>\n",
       "    <tr>\n",
       "      <th>28110</th>\n",
       "      <td>Thank you for that :) I'm not OP but I am real...</td>\n",
       "      <td>thank you for that smiling_face i am not op bu...</td>\n",
       "    </tr>\n",
       "    <tr>\n",
       "      <th>11169</th>\n",
       "      <td>I'm sure the two young sons of [NAME] are comf...</td>\n",
       "      <td>i am sure the two young sons of name are comfo...</td>\n",
       "    </tr>\n",
       "  </tbody>\n",
       "</table>\n",
       "</div>"
      ],
      "text/plain": [
       "                                                    Text  \\\n",
       "35874                  Dude you really like The Strokes.   \n",
       "27555                                 Ignorance is bliss   \n",
       "12373  Fucking hell! I've been out there protesting o...   \n",
       "28110  Thank you for that :) I'm not OP but I am real...   \n",
       "11169  I'm sure the two young sons of [NAME] are comf...   \n",
       "\n",
       "                                              Clean_text  \n",
       "35874                   dude you really like the strokes  \n",
       "27555                                 ignorance is bliss  \n",
       "12373  fucking hell ! i have been out there protestin...  \n",
       "28110  thank you for that smiling_face i am not op bu...  \n",
       "11169  i am sure the two young sons of name are comfo...  "
      ]
     },
     "metadata": {},
     "output_type": "display_data"
    }
   ],
   "source": [
    "# Applying the preprocessing function on the dataset\n",
    "df_all[\"Clean_text\"] = df_all[\"Text\"].apply(preprocess_corpus)\n",
    "df_all_no_neu[\"Clean_text\"] = df_all_no_neu[\"Text\"].apply(preprocess_corpus)\n",
    "\n",
    "# Preview of data\n",
    "display(df_all[['Text', 'Clean_text']].sample(5))\n",
    "display(df_all_no_neu[['Text', 'Clean_text']].sample(5))"
   ]
  },
  {
   "cell_type": "code",
   "execution_count": 120,
   "id": "520c4fcd",
   "metadata": {},
   "outputs": [
    {
     "data": {
      "text/html": [
       "<div>\n",
       "<style scoped>\n",
       "    .dataframe tbody tr th:only-of-type {\n",
       "        vertical-align: middle;\n",
       "    }\n",
       "\n",
       "    .dataframe tbody tr th {\n",
       "        vertical-align: top;\n",
       "    }\n",
       "\n",
       "    .dataframe thead th {\n",
       "        text-align: right;\n",
       "    }\n",
       "</style>\n",
       "<table border=\"1\" class=\"dataframe\">\n",
       "  <thead>\n",
       "    <tr style=\"text-align: right;\">\n",
       "      <th></th>\n",
       "      <th>Text</th>\n",
       "      <th>anger</th>\n",
       "      <th>disgust</th>\n",
       "      <th>fear</th>\n",
       "      <th>joy</th>\n",
       "      <th>sadness</th>\n",
       "      <th>surprise</th>\n",
       "      <th>neutral</th>\n",
       "      <th>Clean_text</th>\n",
       "    </tr>\n",
       "  </thead>\n",
       "  <tbody>\n",
       "    <tr>\n",
       "      <th>0</th>\n",
       "      <td>My favourite food is anything I didn't have to...</td>\n",
       "      <td>0</td>\n",
       "      <td>0</td>\n",
       "      <td>0</td>\n",
       "      <td>0</td>\n",
       "      <td>0</td>\n",
       "      <td>0</td>\n",
       "      <td>1</td>\n",
       "      <td>my favourite food is anything i did not have t...</td>\n",
       "    </tr>\n",
       "    <tr>\n",
       "      <th>1</th>\n",
       "      <td>Now if he does off himself, everyone will thin...</td>\n",
       "      <td>0</td>\n",
       "      <td>0</td>\n",
       "      <td>0</td>\n",
       "      <td>0</td>\n",
       "      <td>0</td>\n",
       "      <td>0</td>\n",
       "      <td>1</td>\n",
       "      <td>now if he does off himself everyone will think...</td>\n",
       "    </tr>\n",
       "    <tr>\n",
       "      <th>2</th>\n",
       "      <td>WHY THE FUCK IS BAYLESS ISOING</td>\n",
       "      <td>1</td>\n",
       "      <td>0</td>\n",
       "      <td>0</td>\n",
       "      <td>0</td>\n",
       "      <td>0</td>\n",
       "      <td>0</td>\n",
       "      <td>0</td>\n",
       "      <td>why the fuck is bayless isoing</td>\n",
       "    </tr>\n",
       "  </tbody>\n",
       "</table>\n",
       "</div>"
      ],
      "text/plain": [
       "                                                Text  anger  disgust  fear  \\\n",
       "0  My favourite food is anything I didn't have to...      0        0     0   \n",
       "1  Now if he does off himself, everyone will thin...      0        0     0   \n",
       "2                     WHY THE FUCK IS BAYLESS ISOING      1        0     0   \n",
       "\n",
       "   joy  sadness  surprise  neutral  \\\n",
       "0    0        0         0        1   \n",
       "1    0        0         0        1   \n",
       "2    0        0         0        0   \n",
       "\n",
       "                                          Clean_text  \n",
       "0  my favourite food is anything i did not have t...  \n",
       "1  now if he does off himself everyone will think...  \n",
       "2                     why the fuck is bayless isoing  "
      ]
     },
     "metadata": {},
     "output_type": "display_data"
    },
    {
     "data": {
      "text/html": [
       "<div>\n",
       "<style scoped>\n",
       "    .dataframe tbody tr th:only-of-type {\n",
       "        vertical-align: middle;\n",
       "    }\n",
       "\n",
       "    .dataframe tbody tr th {\n",
       "        vertical-align: top;\n",
       "    }\n",
       "\n",
       "    .dataframe thead th {\n",
       "        text-align: right;\n",
       "    }\n",
       "</style>\n",
       "<table border=\"1\" class=\"dataframe\">\n",
       "  <thead>\n",
       "    <tr style=\"text-align: right;\">\n",
       "      <th></th>\n",
       "      <th>Text</th>\n",
       "      <th>anger</th>\n",
       "      <th>disgust</th>\n",
       "      <th>fear</th>\n",
       "      <th>joy</th>\n",
       "      <th>sadness</th>\n",
       "      <th>surprise</th>\n",
       "      <th>Clean_text</th>\n",
       "    </tr>\n",
       "  </thead>\n",
       "  <tbody>\n",
       "    <tr>\n",
       "      <th>0</th>\n",
       "      <td>WHY THE FUCK IS BAYLESS ISOING</td>\n",
       "      <td>1</td>\n",
       "      <td>0</td>\n",
       "      <td>0</td>\n",
       "      <td>0</td>\n",
       "      <td>0</td>\n",
       "      <td>0</td>\n",
       "      <td>why the fuck is bayless isoing</td>\n",
       "    </tr>\n",
       "    <tr>\n",
       "      <th>1</th>\n",
       "      <td>To make her feel threatened</td>\n",
       "      <td>0</td>\n",
       "      <td>0</td>\n",
       "      <td>1</td>\n",
       "      <td>0</td>\n",
       "      <td>0</td>\n",
       "      <td>0</td>\n",
       "      <td>to make her feel threatened</td>\n",
       "    </tr>\n",
       "    <tr>\n",
       "      <th>2</th>\n",
       "      <td>Dirty Southern Wankers</td>\n",
       "      <td>1</td>\n",
       "      <td>0</td>\n",
       "      <td>0</td>\n",
       "      <td>0</td>\n",
       "      <td>0</td>\n",
       "      <td>0</td>\n",
       "      <td>dirty southern wankers</td>\n",
       "    </tr>\n",
       "  </tbody>\n",
       "</table>\n",
       "</div>"
      ],
      "text/plain": [
       "                             Text  anger  disgust  fear  joy  sadness  \\\n",
       "0  WHY THE FUCK IS BAYLESS ISOING      1        0     0    0        0   \n",
       "1     To make her feel threatened      0        0     1    0        0   \n",
       "2          Dirty Southern Wankers      1        0     0    0        0   \n",
       "\n",
       "   surprise                      Clean_text  \n",
       "0         0  why the fuck is bayless isoing  \n",
       "1         0     to make her feel threatened  \n",
       "2         0          dirty southern wankers  "
      ]
     },
     "metadata": {},
     "output_type": "display_data"
    }
   ],
   "source": [
    "display(df_all.head(3))\n",
    "display(df_all_no_neu.head(3))"
   ]
  },
  {
   "cell_type": "code",
   "execution_count": 121,
   "id": "d79933d0",
   "metadata": {},
   "outputs": [
    {
     "data": {
      "text/html": [
       "<div>\n",
       "<style scoped>\n",
       "    .dataframe tbody tr th:only-of-type {\n",
       "        vertical-align: middle;\n",
       "    }\n",
       "\n",
       "    .dataframe tbody tr th {\n",
       "        vertical-align: top;\n",
       "    }\n",
       "\n",
       "    .dataframe thead th {\n",
       "        text-align: right;\n",
       "    }\n",
       "</style>\n",
       "<table border=\"1\" class=\"dataframe\">\n",
       "  <thead>\n",
       "    <tr style=\"text-align: right;\">\n",
       "      <th></th>\n",
       "      <th>Text</th>\n",
       "      <th>anger</th>\n",
       "      <th>disgust</th>\n",
       "      <th>fear</th>\n",
       "      <th>joy</th>\n",
       "      <th>sadness</th>\n",
       "      <th>surprise</th>\n",
       "      <th>neutral</th>\n",
       "      <th>Clean_text</th>\n",
       "    </tr>\n",
       "  </thead>\n",
       "  <tbody>\n",
       "    <tr>\n",
       "      <th>0</th>\n",
       "      <td>My favourite food is anything I didn't have to...</td>\n",
       "      <td>0</td>\n",
       "      <td>0</td>\n",
       "      <td>0</td>\n",
       "      <td>0</td>\n",
       "      <td>0</td>\n",
       "      <td>0</td>\n",
       "      <td>1</td>\n",
       "      <td>my favourite food is anything i did not have t...</td>\n",
       "    </tr>\n",
       "    <tr>\n",
       "      <th>1</th>\n",
       "      <td>Now if he does off himself, everyone will thin...</td>\n",
       "      <td>0</td>\n",
       "      <td>0</td>\n",
       "      <td>0</td>\n",
       "      <td>0</td>\n",
       "      <td>0</td>\n",
       "      <td>0</td>\n",
       "      <td>1</td>\n",
       "      <td>now if he does off himself everyone will think...</td>\n",
       "    </tr>\n",
       "    <tr>\n",
       "      <th>2</th>\n",
       "      <td>WHY THE FUCK IS BAYLESS ISOING</td>\n",
       "      <td>1</td>\n",
       "      <td>0</td>\n",
       "      <td>0</td>\n",
       "      <td>0</td>\n",
       "      <td>0</td>\n",
       "      <td>0</td>\n",
       "      <td>0</td>\n",
       "      <td>why the fuck is bayless isoing</td>\n",
       "    </tr>\n",
       "  </tbody>\n",
       "</table>\n",
       "</div>"
      ],
      "text/plain": [
       "                                                Text  anger  disgust  fear  \\\n",
       "0  My favourite food is anything I didn't have to...      0        0     0   \n",
       "1  Now if he does off himself, everyone will thin...      0        0     0   \n",
       "2                     WHY THE FUCK IS BAYLESS ISOING      1        0     0   \n",
       "\n",
       "   joy  sadness  surprise  neutral  \\\n",
       "0    0        0         0        1   \n",
       "1    0        0         0        1   \n",
       "2    0        0         0        0   \n",
       "\n",
       "                                          Clean_text  \n",
       "0  my favourite food is anything i did not have t...  \n",
       "1  now if he does off himself everyone will think...  \n",
       "2                     why the fuck is bayless isoing  "
      ]
     },
     "execution_count": 121,
     "metadata": {},
     "output_type": "execute_result"
    }
   ],
   "source": [
    "# Keeping only necessary columns\n",
    "#df_all = df_all.drop(['Class','List of classes','Len of classes','Emotions'], axis=1)\n",
    "df_all.head(3)"
   ]
  },
  {
   "cell_type": "code",
   "execution_count": 122,
   "id": "eb7ba4ad",
   "metadata": {},
   "outputs": [
    {
     "data": {
      "text/html": [
       "<div>\n",
       "<style scoped>\n",
       "    .dataframe tbody tr th:only-of-type {\n",
       "        vertical-align: middle;\n",
       "    }\n",
       "\n",
       "    .dataframe tbody tr th {\n",
       "        vertical-align: top;\n",
       "    }\n",
       "\n",
       "    .dataframe thead th {\n",
       "        text-align: right;\n",
       "    }\n",
       "</style>\n",
       "<table border=\"1\" class=\"dataframe\">\n",
       "  <thead>\n",
       "    <tr style=\"text-align: right;\">\n",
       "      <th></th>\n",
       "      <th>Clean_text</th>\n",
       "      <th>anger</th>\n",
       "      <th>disgust</th>\n",
       "      <th>fear</th>\n",
       "      <th>joy</th>\n",
       "      <th>sadness</th>\n",
       "      <th>surprise</th>\n",
       "      <th>neutral</th>\n",
       "    </tr>\n",
       "  </thead>\n",
       "  <tbody>\n",
       "    <tr>\n",
       "      <th>0</th>\n",
       "      <td>my favourite food is anything i did not have t...</td>\n",
       "      <td>0</td>\n",
       "      <td>0</td>\n",
       "      <td>0</td>\n",
       "      <td>0</td>\n",
       "      <td>0</td>\n",
       "      <td>0</td>\n",
       "      <td>1</td>\n",
       "    </tr>\n",
       "    <tr>\n",
       "      <th>1</th>\n",
       "      <td>now if he does off himself everyone will think...</td>\n",
       "      <td>0</td>\n",
       "      <td>0</td>\n",
       "      <td>0</td>\n",
       "      <td>0</td>\n",
       "      <td>0</td>\n",
       "      <td>0</td>\n",
       "      <td>1</td>\n",
       "    </tr>\n",
       "    <tr>\n",
       "      <th>2</th>\n",
       "      <td>why the fuck is bayless isoing</td>\n",
       "      <td>1</td>\n",
       "      <td>0</td>\n",
       "      <td>0</td>\n",
       "      <td>0</td>\n",
       "      <td>0</td>\n",
       "      <td>0</td>\n",
       "      <td>0</td>\n",
       "    </tr>\n",
       "  </tbody>\n",
       "</table>\n",
       "</div>"
      ],
      "text/plain": [
       "                                          Clean_text  anger  disgust  fear  \\\n",
       "0  my favourite food is anything i did not have t...      0        0     0   \n",
       "1  now if he does off himself everyone will think...      0        0     0   \n",
       "2                     why the fuck is bayless isoing      1        0     0   \n",
       "\n",
       "   joy  sadness  surprise  neutral  \n",
       "0    0        0         0        1  \n",
       "1    0        0         0        1  \n",
       "2    0        0         0        0  "
      ]
     },
     "metadata": {},
     "output_type": "display_data"
    },
    {
     "data": {
      "text/html": [
       "<div>\n",
       "<style scoped>\n",
       "    .dataframe tbody tr th:only-of-type {\n",
       "        vertical-align: middle;\n",
       "    }\n",
       "\n",
       "    .dataframe tbody tr th {\n",
       "        vertical-align: top;\n",
       "    }\n",
       "\n",
       "    .dataframe thead th {\n",
       "        text-align: right;\n",
       "    }\n",
       "</style>\n",
       "<table border=\"1\" class=\"dataframe\">\n",
       "  <thead>\n",
       "    <tr style=\"text-align: right;\">\n",
       "      <th></th>\n",
       "      <th>Clean_text</th>\n",
       "      <th>anger</th>\n",
       "      <th>disgust</th>\n",
       "      <th>fear</th>\n",
       "      <th>joy</th>\n",
       "      <th>sadness</th>\n",
       "      <th>surprise</th>\n",
       "    </tr>\n",
       "  </thead>\n",
       "  <tbody>\n",
       "    <tr>\n",
       "      <th>0</th>\n",
       "      <td>why the fuck is bayless isoing</td>\n",
       "      <td>1</td>\n",
       "      <td>0</td>\n",
       "      <td>0</td>\n",
       "      <td>0</td>\n",
       "      <td>0</td>\n",
       "      <td>0</td>\n",
       "    </tr>\n",
       "    <tr>\n",
       "      <th>1</th>\n",
       "      <td>to make her feel threatened</td>\n",
       "      <td>0</td>\n",
       "      <td>0</td>\n",
       "      <td>1</td>\n",
       "      <td>0</td>\n",
       "      <td>0</td>\n",
       "      <td>0</td>\n",
       "    </tr>\n",
       "    <tr>\n",
       "      <th>2</th>\n",
       "      <td>dirty southern wankers</td>\n",
       "      <td>1</td>\n",
       "      <td>0</td>\n",
       "      <td>0</td>\n",
       "      <td>0</td>\n",
       "      <td>0</td>\n",
       "      <td>0</td>\n",
       "    </tr>\n",
       "  </tbody>\n",
       "</table>\n",
       "</div>"
      ],
      "text/plain": [
       "                       Clean_text  anger  disgust  fear  joy  sadness  \\\n",
       "0  why the fuck is bayless isoing      1        0     0    0        0   \n",
       "1     to make her feel threatened      0        0     1    0        0   \n",
       "2          dirty southern wankers      1        0     0    0        0   \n",
       "\n",
       "   surprise  \n",
       "0         0  \n",
       "1         0  \n",
       "2         0  "
      ]
     },
     "metadata": {},
     "output_type": "display_data"
    }
   ],
   "source": [
    "# Dropping raw text column\n",
    "df_all = df_all[ ['Clean_text','anger','disgust','fear','joy','sadness','surprise','neutral'] ]\n",
    "df_all_no_neu = df_all_no_neu[ ['Clean_text','anger','disgust','fear','joy','sadness','surprise'] ]\n",
    "\n",
    "display(df_all.head(3))\n",
    "display(df_all_no_neu.head(3))"
   ]
  },
  {
   "cell_type": "code",
   "execution_count": 123,
   "id": "db9b2bd3",
   "metadata": {},
   "outputs": [],
   "source": [
    "emotion_dict={\n",
    "\"anger\": 0,\n",
    "\"disgust\": 1,\n",
    "\"fear\": 2,\n",
    "\"joy\": 3,\n",
    "\"sadness\": 4,\n",
    "\"surprise\": 5,\n",
    "\"neutral\":6\n",
    "}"
   ]
  },
  {
   "cell_type": "markdown",
   "id": "980f0aec",
   "metadata": {},
   "source": [
    "#Defining a function that maps each emotion lables to index\n",
    "def class2idx(emotion_lst):\n",
    "    for e in emotion_lst:\n",
    "        ind = emotion_dict[e]\n",
    "    return ind\n",
    "\n",
    "#Applying the function\n",
    "df_all['Mapped_id'] = df_all['Mapped Emotions'].apply(class2idx)\n",
    "\n",
    "#Preview of data\n",
    "display(df_all.head(3))"
   ]
  },
  {
   "cell_type": "markdown",
   "id": "078610c3",
   "metadata": {},
   "source": [
    "# Dropping Mapped Emotions column\n",
    "df_all = df_all.drop(['Mapped Emotions'], axis=1)\n",
    "df_all.head(3)"
   ]
  },
  {
   "cell_type": "code",
   "execution_count": 124,
   "id": "70a084ad",
   "metadata": {},
   "outputs": [],
   "source": [
    "# Building a function that will divide in train, validation and test sets\n",
    "def get_train_val_test(df):\n",
    "    train = df.iloc[:size_train, :]\n",
    "    val = df.iloc[size_train:size_train+size_val, :]\n",
    "    test = df.iloc[size_train+size_val:size_train+size_val+size_test, :]\n",
    "    return train, val, test\n",
    "\n",
    "\n",
    "def get_train_val_test_no_neu(df):\n",
    "    train = df.iloc[:size_train_no_neu, :]\n",
    "    val = df.iloc[size_train_no_neu:size_train_no_neu+size_val_no_neu, :]\n",
    "    test = df.iloc[size_train_no_neu+size_val_no_neu:size_train_no_neu+size_val_no_neu+size_test_no_neu, :]\n",
    "    return train, val, test"
   ]
  },
  {
   "cell_type": "code",
   "execution_count": 127,
   "id": "5be29cc7",
   "metadata": {},
   "outputs": [
    {
     "name": "stdout",
     "output_type": "stream",
     "text": [
      "(43410, 8)\n",
      "(5427, 8)\n",
      "(5427, 8)\n",
      "(30587, 7)\n",
      "(3834, 7)\n",
      "(3821, 7)\n"
     ]
    }
   ],
   "source": [
    "# Dividing back in train, validation and test datasets (GoEmotions)\n",
    "train_ekman, val_ekman, test_ekman = get_train_val_test(df_all)\n",
    "train_ekman_no_neu, val_ekman_no_neu, test_ekman_no_neu = get_train_val_test_no_neu(df_all_no_neu)\n",
    "print(train_ekman.shape)\n",
    "print(test_ekman.shape)\n",
    "print(test_GE.shape)\n",
    "print(train_ekman_no_neu.shape)\n",
    "print(val_ekman_no_neu.shape)\n",
    "print(test_ekman_no_neu.shape)"
   ]
  },
  {
   "cell_type": "code",
   "execution_count": 129,
   "id": "b80ee9a6",
   "metadata": {},
   "outputs": [
    {
     "data": {
      "text/html": [
       "<div>\n",
       "<style scoped>\n",
       "    .dataframe tbody tr th:only-of-type {\n",
       "        vertical-align: middle;\n",
       "    }\n",
       "\n",
       "    .dataframe tbody tr th {\n",
       "        vertical-align: top;\n",
       "    }\n",
       "\n",
       "    .dataframe thead th {\n",
       "        text-align: right;\n",
       "    }\n",
       "</style>\n",
       "<table border=\"1\" class=\"dataframe\">\n",
       "  <thead>\n",
       "    <tr style=\"text-align: right;\">\n",
       "      <th></th>\n",
       "      <th>Clean_text</th>\n",
       "      <th>anger</th>\n",
       "      <th>disgust</th>\n",
       "      <th>fear</th>\n",
       "      <th>joy</th>\n",
       "      <th>sadness</th>\n",
       "      <th>surprise</th>\n",
       "      <th>neutral</th>\n",
       "    </tr>\n",
       "  </thead>\n",
       "  <tbody>\n",
       "    <tr>\n",
       "      <th>0</th>\n",
       "      <td>my favourite food is anything i did not have t...</td>\n",
       "      <td>0</td>\n",
       "      <td>0</td>\n",
       "      <td>0</td>\n",
       "      <td>0</td>\n",
       "      <td>0</td>\n",
       "      <td>0</td>\n",
       "      <td>1</td>\n",
       "    </tr>\n",
       "    <tr>\n",
       "      <th>1</th>\n",
       "      <td>now if he does off himself everyone will think...</td>\n",
       "      <td>0</td>\n",
       "      <td>0</td>\n",
       "      <td>0</td>\n",
       "      <td>0</td>\n",
       "      <td>0</td>\n",
       "      <td>0</td>\n",
       "      <td>1</td>\n",
       "    </tr>\n",
       "    <tr>\n",
       "      <th>2</th>\n",
       "      <td>why the fuck is bayless isoing</td>\n",
       "      <td>1</td>\n",
       "      <td>0</td>\n",
       "      <td>0</td>\n",
       "      <td>0</td>\n",
       "      <td>0</td>\n",
       "      <td>0</td>\n",
       "      <td>0</td>\n",
       "    </tr>\n",
       "  </tbody>\n",
       "</table>\n",
       "</div>"
      ],
      "text/plain": [
       "                                          Clean_text  anger  disgust  fear  \\\n",
       "0  my favourite food is anything i did not have t...      0        0     0   \n",
       "1  now if he does off himself everyone will think...      0        0     0   \n",
       "2                     why the fuck is bayless isoing      1        0     0   \n",
       "\n",
       "   joy  sadness  surprise  neutral  \n",
       "0    0        0         0        1  \n",
       "1    0        0         0        1  \n",
       "2    0        0         0        0  "
      ]
     },
     "execution_count": 129,
     "metadata": {},
     "output_type": "execute_result"
    }
   ],
   "source": [
    "train_ekman.head(3)"
   ]
  },
  {
   "cell_type": "code",
   "execution_count": 130,
   "id": "7968182b",
   "metadata": {},
   "outputs": [],
   "source": [
    "emotion_label_dict={\n",
    "0:\"anger\",\n",
    "1:\"disgust\",\n",
    "2:\"fear\",\n",
    "3:\"joy\",\n",
    "4:\"sadness\",\n",
    "5:\"surprise\",\n",
    "6:\"neutral\"\n",
    "}\n",
    "\n",
    "# Loading emotion labels for GoEmotions taxonomy\n",
    "with open(\"emotions.txt\", \"r\") as file:\n",
    "    GE_taxonomy = file.read().split(\"\\n\")\n",
    "\n",
    "\n",
    "EKMAN_taxonomy = ['anger',\n",
    " 'disgust',\n",
    " 'fear',\n",
    " 'joy',\n",
    " 'sadness',\n",
    " 'surprise',\n",
    " 'neutral']\n",
    "\n",
    "\n",
    "EKMAN_taxonomy_no_neu = ['anger',\n",
    " 'disgust',\n",
    " 'fear',\n",
    " 'joy',\n",
    " 'sadness',\n",
    " 'surprise']"
   ]
  },
  {
   "cell_type": "code",
   "execution_count": 131,
   "id": "503e4175",
   "metadata": {},
   "outputs": [
    {
     "name": "stdout",
     "output_type": "stream",
     "text": [
      "(43410,) (43410, 7) (30587, 6) (5426,) (5426, 7) (3834, 6) (5427,) (5427, 7) (3821, 6)\n"
     ]
    }
   ],
   "source": [
    "X_train = train_ekman[:][\"Clean_text\"]\n",
    "y_train = train_ekman.loc[:, EKMAN_taxonomy].values.astype(float)\n",
    "X_train_no_neu = train_ekman_no_neu[:][\"Clean_text\"]\n",
    "y_train_no_neu = train_ekman_no_neu.loc[:, EKMAN_taxonomy_no_neu].values.astype(float)\n",
    "X_val = val_ekman[:][\"Clean_text\"]\n",
    "y_val = val_ekman.loc[:, EKMAN_taxonomy].values.astype(float)\n",
    "X_val_no_neu = val_ekman_no_neu[:][\"Clean_text\"]\n",
    "y_val_no_neu = val_ekman_no_neu.loc[:, EKMAN_taxonomy_no_neu].values.astype(float)\n",
    "X_test = test_ekman[:][\"Clean_text\"]\n",
    "y_test = test_ekman.loc[:, EKMAN_taxonomy].values.astype(float)\n",
    "X_test_no_neu = test_ekman_no_neu[:][\"Clean_text\"]\n",
    "y_test_no_neu = test_ekman_no_neu.loc[:, EKMAN_taxonomy_no_neu].values.astype(float)\n",
    "print(X_train.shape, y_train.shape,y_train_no_neu.shape, X_val.shape, y_val.shape,y_val_no_neu.shape, X_test.shape, y_test.shape, y_test_no_neu.shape)"
   ]
  },
  {
   "cell_type": "code",
   "execution_count": 132,
   "id": "d00c4f45",
   "metadata": {},
   "outputs": [],
   "source": [
    "# from probabilities to labels using a given threshold\n",
    "def proba_to_labels(y_pred_proba, threshold=0.8):\n",
    "    \n",
    "    y_pred_labels = np.zeros_like(y_pred_proba)\n",
    "    \n",
    "    for i in range(y_pred_proba.shape[0]):\n",
    "        for j in range(y_pred_proba.shape[1]):\n",
    "            if y_pred_proba[i][j] > threshold:\n",
    "                y_pred_labels[i][j] = 1\n",
    "            else:\n",
    "                y_pred_labels[i][j] = 0\n",
    "                \n",
    "    return y_pred_labels"
   ]
  },
  {
   "cell_type": "code",
   "execution_count": 133,
   "id": "3014b539",
   "metadata": {},
   "outputs": [],
   "source": [
    "def get_proba(predictions):\n",
    "    arr =[]\n",
    "    for item in predictions:\n",
    "        prob = []\n",
    "        for tup in item:\n",
    "            prob.append(tup[1])\n",
    "        arr.append(prob)\n",
    "    return arr\n"
   ]
  },
  {
   "cell_type": "code",
   "execution_count": 134,
   "id": "c685d4c3",
   "metadata": {},
   "outputs": [],
   "source": [
    "# Model evaluation function \n",
    "def model_eval(y_true, y_pred_labels, emotions):\n",
    "    \n",
    "    # Defining variables\n",
    "    precision = []\n",
    "    recall = []\n",
    "    f1 = []\n",
    "    \n",
    "    # Per emotion evaluation      \n",
    "    idx2emotion = {i: e for i, e in enumerate(emotions)}\n",
    "    \n",
    "    for i in range(len(emotions)):\n",
    "   \n",
    "        # Computing precision, recall and f1-score\n",
    "        p, r, f1_score, _ = precision_recall_fscore_support(y_true[:, i], y_pred_labels[:, i], average=\"binary\")\n",
    "        \n",
    "        # Append results in lists\n",
    "        precision.append(round(p, 2))\n",
    "        recall.append(round(r, 2))\n",
    "        f1.append(round(f1_score, 2))\n",
    "    \n",
    "    # Macro evaluation\n",
    "    macro_p, macro_r, macro_f1_score, _ = precision_recall_fscore_support(y_true, y_pred_labels, average=\"macro\")\n",
    "    \n",
    "    # Append results in lists\n",
    "    precision.append(round(macro_p, 2))\n",
    "    recall.append(round(macro_r, 2))\n",
    "    f1.append(round(macro_f1_score, 2))\n",
    "    \n",
    "    # Converting results to a dataframe\n",
    "    df_results = pd.DataFrame({\"Precision\":precision, \"Recall\":recall, 'F1':f1})\n",
    "    df_results.index = emotions+['MACRO-AVERAGE']\n",
    "    \n",
    "    return df_results"
   ]
  },
  {
   "cell_type": "markdown",
   "id": "48223f50",
   "metadata": {
    "id": "J72fuWOHCvOv"
   },
   "source": [
    "### Instantiating a RoBERTa Instance:\n",
    "\n",
    "Create a RoBERTa instance with the model name, max token length, the labels to be used for each category and the batch size."
   ]
  },
  {
   "cell_type": "code",
   "execution_count": 90,
   "id": "b2c6e702",
   "metadata": {
    "colab": {
     "base_uri": "https://localhost:8080/",
     "height": 49,
     "referenced_widgets": [
      "afdd0fe6b4444d3d8fb110e39c5b545a",
      "11d89264c87849668c3389f3abcec402",
      "4f82815745c74cf49a3fd0fefa07a936",
      "a52b6fd89f7745208e45a35b8d5cbb25",
      "b7ad46c64b4f45d9ad42847de6875121",
      "6aa2595042604c72a9ec19542d19dfcc",
      "25a9f06ade054211a66ec39705b0033d",
      "de2873a70866483a8fa25b402d80dfec",
      "78c0e7db41a847f998916481e9e65235",
      "f8dd2a89479d4046a277bbfe6089218c",
      "059aeb8799a6469ca780ddf625b95e8c"
     ]
    },
    "id": "fhnT_kSwCohg",
    "outputId": "a5d0a279-ab39-42e3-acf6-934b4fafd572"
   },
   "outputs": [],
   "source": [
    "roberta_transformer = text.Transformer('roberta-base', maxlen=128, classes=EKMAN_taxonomy, batch_size=6)"
   ]
  },
  {
   "cell_type": "markdown",
   "id": "766f9271",
   "metadata": {},
   "source": [
    "### Perform Data Preprocessing:"
   ]
  },
  {
   "cell_type": "code",
   "execution_count": 91,
   "id": "e380072f",
   "metadata": {
    "scrolled": true
   },
   "outputs": [
    {
     "name": "stdout",
     "output_type": "stream",
     "text": [
      "preprocessing train...\n",
      "language: en\n",
      "train sequence lengths:\n",
      "\tmean : 14\n",
      "\t95percentile : 25\n",
      "\t99percentile : 28\n"
     ]
    },
    {
     "data": {
      "text/html": [
       "\n",
       "<style>\n",
       "    /* Turns off some styling */\n",
       "    progress {\n",
       "        /* gets rid of default border in Firefox and Opera. */\n",
       "        border: none;\n",
       "        /* Needs to be in here for Safari polyfill so background images work as expected. */\n",
       "        background-size: auto;\n",
       "    }\n",
       "    progress:not([value]), progress:not([value])::-webkit-progress-bar {\n",
       "        background: repeating-linear-gradient(45deg, #7e7e7e, #7e7e7e 10px, #5c5c5c 10px, #5c5c5c 20px);\n",
       "    }\n",
       "    .progress-bar-interrupted, .progress-bar-interrupted::-webkit-progress-bar {\n",
       "        background: #F44336;\n",
       "    }\n",
       "</style>\n"
      ],
      "text/plain": [
       "<IPython.core.display.HTML object>"
      ]
     },
     "metadata": {},
     "output_type": "display_data"
    },
    {
     "data": {
      "text/html": [],
      "text/plain": [
       "<IPython.core.display.HTML object>"
      ]
     },
     "metadata": {},
     "output_type": "display_data"
    },
    {
     "name": "stdout",
     "output_type": "stream",
     "text": [
      "Is Multi-Label? True\n",
      "preprocessing test...\n",
      "language: en\n",
      "test sequence lengths:\n",
      "\tmean : 14\n",
      "\t95percentile : 26\n",
      "\t99percentile : 28\n"
     ]
    },
    {
     "data": {
      "text/html": [
       "\n",
       "<style>\n",
       "    /* Turns off some styling */\n",
       "    progress {\n",
       "        /* gets rid of default border in Firefox and Opera. */\n",
       "        border: none;\n",
       "        /* Needs to be in here for Safari polyfill so background images work as expected. */\n",
       "        background-size: auto;\n",
       "    }\n",
       "    progress:not([value]), progress:not([value])::-webkit-progress-bar {\n",
       "        background: repeating-linear-gradient(45deg, #7e7e7e, #7e7e7e 10px, #5c5c5c 10px, #5c5c5c 20px);\n",
       "    }\n",
       "    .progress-bar-interrupted, .progress-bar-interrupted::-webkit-progress-bar {\n",
       "        background: #F44336;\n",
       "    }\n",
       "</style>\n"
      ],
      "text/plain": [
       "<IPython.core.display.HTML object>"
      ]
     },
     "metadata": {},
     "output_type": "display_data"
    },
    {
     "data": {
      "text/html": [],
      "text/plain": [
       "<IPython.core.display.HTML object>"
      ]
     },
     "metadata": {},
     "output_type": "display_data"
    },
    {
     "name": "stdout",
     "output_type": "stream",
     "text": [
      "preprocessing test...\n",
      "language: en\n",
      "test sequence lengths:\n",
      "\tmean : 13\n",
      "\t95percentile : 25\n",
      "\t99percentile : 28\n"
     ]
    },
    {
     "data": {
      "text/html": [
       "\n",
       "<style>\n",
       "    /* Turns off some styling */\n",
       "    progress {\n",
       "        /* gets rid of default border in Firefox and Opera. */\n",
       "        border: none;\n",
       "        /* Needs to be in here for Safari polyfill so background images work as expected. */\n",
       "        background-size: auto;\n",
       "    }\n",
       "    progress:not([value]), progress:not([value])::-webkit-progress-bar {\n",
       "        background: repeating-linear-gradient(45deg, #7e7e7e, #7e7e7e 10px, #5c5c5c 10px, #5c5c5c 20px);\n",
       "    }\n",
       "    .progress-bar-interrupted, .progress-bar-interrupted::-webkit-progress-bar {\n",
       "        background: #F44336;\n",
       "    }\n",
       "</style>\n"
      ],
      "text/plain": [
       "<IPython.core.display.HTML object>"
      ]
     },
     "metadata": {},
     "output_type": "display_data"
    },
    {
     "data": {
      "text/html": [],
      "text/plain": [
       "<IPython.core.display.HTML object>"
      ]
     },
     "metadata": {},
     "output_type": "display_data"
    }
   ],
   "source": [
    "roberta_train = roberta_transformer.preprocess_train(X_train.to_list(), y_train)\n",
    "roberta_val = roberta_transformer.preprocess_test(X_val.to_list(), y_val)\n",
    "roberta_test = roberta_transformer.preprocess_test(X_test.to_list(), y_test)"
   ]
  },
  {
   "cell_type": "markdown",
   "id": "31bbd7e3",
   "metadata": {
    "id": "vahQyHQOFBmH"
   },
   "source": [
    "### Compile RoBERTa in a K-Train Learner Object:\n",
    "\n",
    "Since we are using k-train as a high level abstration package, we need to wrap our model in a k-train Learner Object for further compuation"
   ]
  },
  {
   "cell_type": "code",
   "execution_count": 92,
   "id": "ceb855a3",
   "metadata": {
    "colab": {
     "base_uri": "https://localhost:8080/",
     "height": 49,
     "referenced_widgets": [
      "d53b674ff45d40aba6475adb74dcb3e0",
      "bda1822cb6f04a34b695b5672d702cf1",
      "78c16388124e4534b689fc7404142e06",
      "5a3d8183fee546e9868c577af6cecbf6",
      "e5cbf541c19844399ff2901ea0f0dbeb",
      "e5fc3c01e5894dc6834c6d0c64deb4aa",
      "e5285948234d43838879edc56a67aff6",
      "5a68ecf5f15040a9b9207e449f90d346",
      "dd65b07b18c04856a012cc4535f8726f",
      "29ec025304354a09b6197600ffb1639d",
      "8f7dc806f3fd48378ce616afc63a29ca"
     ]
    },
    "id": "pz8SyfHnD4jI",
    "outputId": "7945f831-eb31-473f-914a-883d148ddfd7"
   },
   "outputs": [],
   "source": [
    "roberta_model = roberta_transformer.get_classifier()"
   ]
  },
  {
   "cell_type": "code",
   "execution_count": 93,
   "id": "a64f3370",
   "metadata": {
    "id": "LhXSMlXvFJIg"
   },
   "outputs": [],
   "source": [
    "roberta_learner_ins = ktrain.get_learner(model=roberta_model,\n",
    "                            train_data=roberta_train,\n",
    "                            val_data=roberta_val,\n",
    "                            batch_size=10)"
   ]
  },
  {
   "cell_type": "markdown",
   "id": "3fdc3f86",
   "metadata": {
    "id": "LwXeiW4ZFRW-"
   },
   "source": [
    "### RoBERTa Model Details:"
   ]
  },
  {
   "cell_type": "code",
   "execution_count": 94,
   "id": "c28eaee4",
   "metadata": {
    "colab": {
     "base_uri": "https://localhost:8080/"
    },
    "id": "h8x9clsAD-CQ",
    "outputId": "adf57072-5d80-4a55-aabb-6a243d719aa9"
   },
   "outputs": [
    {
     "name": "stdout",
     "output_type": "stream",
     "text": [
      "Model: \"tf_roberta_for_sequence_classification_1\"\n",
      "_________________________________________________________________\n",
      "Layer (type)                 Output Shape              Param #   \n",
      "=================================================================\n",
      "roberta (TFRobertaMainLayer) multiple                  124055040 \n",
      "_________________________________________________________________\n",
      "classifier (TFRobertaClassif multiple                  595206    \n",
      "=================================================================\n",
      "Total params: 124,650,246\n",
      "Trainable params: 124,650,246\n",
      "Non-trainable params: 0\n",
      "_________________________________________________________________\n"
     ]
    }
   ],
   "source": [
    "roberta_learner_ins.model.summary()"
   ]
  },
  {
   "cell_type": "markdown",
   "id": "6e757882",
   "metadata": {
    "id": "qLnpkZLcFbGo"
   },
   "source": [
    "### Find Optimal Learning Rate for RoBERTa:\n",
    "\n",
    "This is an optional step used just to show how the learning rate can be found for any transformer model.\n",
    "For Transformer models as per the research papers, the optimal learning rates have already been estimated and established."
   ]
  },
  {
   "cell_type": "code",
   "execution_count": 1,
   "id": "ae52e2d6",
   "metadata": {
    "colab": {
     "base_uri": "https://localhost:8080/",
     "height": 523
    },
    "id": "muU7v4cjFV0x",
    "outputId": "717af625-75dc-4bb1-d2e4-64c73021ac10"
   },
   "outputs": [
    {
     "ename": "NameError",
     "evalue": "name 'timeit' is not defined",
     "output_type": "error",
     "traceback": [
      "\u001b[1;31m---------------------------------------------------------------------------\u001b[0m",
      "\u001b[1;31mNameError\u001b[0m                                 Traceback (most recent call last)",
      "\u001b[1;32m<ipython-input-1-e382a38aeeef>\u001b[0m in \u001b[0;36m<module>\u001b[1;34m\u001b[0m\n\u001b[1;32m----> 1\u001b[1;33m \u001b[0mrate_finder_start_time\u001b[0m \u001b[1;33m=\u001b[0m \u001b[0mtimeit\u001b[0m\u001b[1;33m.\u001b[0m\u001b[0mdefault_timer\u001b[0m\u001b[1;33m(\u001b[0m\u001b[1;33m)\u001b[0m\u001b[1;33m\u001b[0m\u001b[1;33m\u001b[0m\u001b[0m\n\u001b[0m\u001b[0;32m      2\u001b[0m \u001b[0mroberta_learner_ins\u001b[0m\u001b[1;33m.\u001b[0m\u001b[0mlr_find\u001b[0m\u001b[1;33m(\u001b[0m\u001b[0mshow_plot\u001b[0m\u001b[1;33m=\u001b[0m\u001b[1;32mTrue\u001b[0m\u001b[1;33m,\u001b[0m \u001b[0mmax_epochs\u001b[0m\u001b[1;33m=\u001b[0m\u001b[1;36m3\u001b[0m\u001b[1;33m)\u001b[0m\u001b[1;33m\u001b[0m\u001b[1;33m\u001b[0m\u001b[0m\n\u001b[0;32m      3\u001b[0m \u001b[0mrate_finder_stop_time\u001b[0m \u001b[1;33m=\u001b[0m \u001b[0mtimeit\u001b[0m\u001b[1;33m.\u001b[0m\u001b[0mdefault_timer\u001b[0m\u001b[1;33m(\u001b[0m\u001b[1;33m)\u001b[0m\u001b[1;33m\u001b[0m\u001b[1;33m\u001b[0m\u001b[0m\n\u001b[0;32m      4\u001b[0m \u001b[1;33m\u001b[0m\u001b[0m\n\u001b[0;32m      5\u001b[0m \u001b[0mprint\u001b[0m\u001b[1;33m(\u001b[0m\u001b[1;34m\"\\nTotal time in minutes on estimating optimal learning rate: \\n\"\u001b[0m\u001b[1;33m,\u001b[0m \u001b[1;33m(\u001b[0m\u001b[0mrate_finder_stop_time\u001b[0m \u001b[1;33m-\u001b[0m \u001b[0mrate_finder_start_time\u001b[0m\u001b[1;33m)\u001b[0m\u001b[1;33m/\u001b[0m\u001b[1;36m60\u001b[0m\u001b[1;33m)\u001b[0m\u001b[1;33m\u001b[0m\u001b[1;33m\u001b[0m\u001b[0m\n",
      "\u001b[1;31mNameError\u001b[0m: name 'timeit' is not defined"
     ]
    }
   ],
   "source": [
    "rate_finder_start_time = timeit.default_timer()\n",
    "roberta_learner_ins.lr_find(show_plot=True, max_epochs=3)\n",
    "rate_finder_stop_time = timeit.default_timer()\n",
    "\n",
    "print(\"\\nTotal time in minutes on estimating optimal learning rate: \\n\", (rate_finder_stop_time - rate_finder_start_time)/60)"
   ]
  },
  {
   "cell_type": "markdown",
   "id": "867731a9",
   "metadata": {},
   "source": [
    "import torch\n",
    "from GPUtil import showUtilization as gpu_usage\n",
    "from numba import cuda\n",
    "\n",
    "def free_gpu_cache():\n",
    "    print(\"Initial GPU Usage\")\n",
    "    gpu_usage()                             \n",
    "\n",
    "    torch.cuda.empty_cache()\n",
    "\n",
    "    cuda.select_device(0)\n",
    "    cuda.close()\n",
    "    cuda.select_device(0)\n",
    "\n",
    "    print(\"GPU Usage after emptying the cache\")\n",
    "    gpu_usage()\n",
    "free_gpu_cache()\n"
   ]
  },
  {
   "cell_type": "markdown",
   "id": "d1d7b0a5",
   "metadata": {
    "id": "TcigfbJlRy4_"
   },
   "source": [
    "### RoBERTa Optimal Learning Rates:\n",
    "\n",
    "As per the evaluations made in the research paper \"**RoBERTa: A Robustly Optimized BERT Pretraining Approach**\", below are the best choices in terms of fine-tuning the model:\n",
    "\n",
    "* Batch Sizes => {16, 32}\n",
    "* Learning Rates => {1e−5, 2e−5, 3e−5}\n",
    "\n",
    "We will choose the maximum among these for our fine-tuning and evaluation purposes."
   ]
  },
  {
   "cell_type": "markdown",
   "id": "279bc5e9",
   "metadata": {
    "id": "LuxErKnFVznL"
   },
   "source": [
    "### Fine Tuning RoBERTa on Emotion Dataset:\n",
    "\n",
    "We take our emotion dataset along with the RoBERTa model, define the learning-rate & epochs to be used and start fine-tuning."
   ]
  },
  {
   "cell_type": "code",
   "execution_count": 95,
   "id": "934b0282",
   "metadata": {
    "colab": {
     "base_uri": "https://localhost:8080/"
    },
    "id": "02TtNt3xGgyz",
    "outputId": "f62e7b4b-7b07-4f1e-a46f-4ec001aae699"
   },
   "outputs": [
    {
     "name": "stdout",
     "output_type": "stream",
     "text": [
      "\n",
      "\n",
      "begin training using onecycle policy with max lr of 3e-05...\n",
      "Epoch 1/4\n",
      "4341/4341 [==============================] - 884s 201ms/step - loss: 0.2224 - accuracy: 0.5938 - val_loss: 0.1842 - val_accuracy: 0.6592\n",
      "Epoch 2/4\n",
      "4341/4341 [==============================] - 884s 203ms/step - loss: 0.1787 - accuracy: 0.6413 - val_loss: 0.1804 - val_accuracy: 0.6544\n",
      "Epoch 3/4\n",
      "4341/4341 [==============================] - 877s 201ms/step - loss: 0.1602 - accuracy: 0.6607 - val_loss: 0.1723 - val_accuracy: 0.6434\n",
      "Epoch 4/4\n",
      "4341/4341 [==============================] - 848s 195ms/step - loss: 0.1252 - accuracy: 0.6976 - val_loss: 0.1813 - val_accuracy: 0.6519\n",
      "\n",
      "Total time in minutes for Fine-Tuning RoBERTa on Emotion Dataset: \n",
      " 58.217662351666675\n"
     ]
    }
   ],
   "source": [
    "roberta_fine_tune_start_time = timeit.default_timer()\n",
    "roberta_learner_ins.fit_onecycle(lr=3e-5, epochs=4)\n",
    "roberta_fine_tune_stop_time = timeit.default_timer()\n",
    "\n",
    "print(\"\\nTotal time in minutes for Fine-Tuning RoBERTa on Emotion Dataset: \\n\", (roberta_fine_tune_stop_time - roberta_fine_tune_start_time)/60)"
   ]
  },
  {
   "cell_type": "markdown",
   "id": "cfaef8ae",
   "metadata": {
    "id": "uHV1FvhGdmui"
   },
   "source": [
    "### Checking RoBERTa performance metrics:"
   ]
  },
  {
   "cell_type": "code",
   "execution_count": 97,
   "id": "a7748f3c",
   "metadata": {
    "colab": {
     "base_uri": "https://localhost:8080/"
    },
    "id": "LW72lIpMXVHU",
    "outputId": "f8e73bcc-bfda-42e9-d13e-674283114c75"
   },
   "outputs": [],
   "source": [
    "roberta_learner_ins.validate()"
   ]
  },
  {
   "cell_type": "code",
   "execution_count": 101,
   "id": "ef7804d1",
   "metadata": {
    "colab": {
     "base_uri": "https://localhost:8080/"
    },
    "id": "vf-vIGezd7gK",
    "outputId": "14ff373f-079b-4729-dbca-0d7208d1bfc9"
   },
   "outputs": [],
   "source": [
    "roberta_learner_ins.validate(class_names=EKMAN_taxonomy)"
   ]
  },
  {
   "cell_type": "code",
   "execution_count": 102,
   "id": "96e1d611",
   "metadata": {
    "colab": {
     "base_uri": "https://localhost:8080/"
    },
    "id": "US2cRxhb1DfT",
    "outputId": "7609ecdc-5266-4433-8bab-dc7d46ec4810"
   },
   "outputs": [
    {
     "name": "stdout",
     "output_type": "stream",
     "text": [
      "----------\n",
      "id:367 | loss:2.08 | true:[1. 0. 0. 0. 1. 0.] | pred:[0.   0.   0.   0.05 0.   0.03])\n",
      "\n",
      "----------\n",
      "id:1565 | loss:1.96 | true:[1. 1. 0. 0. 0. 0.] | pred:[0.02 0.02 0.01 0.04 0.01 0.98])\n",
      "\n",
      "----------\n",
      "id:4934 | loss:1.84 | true:[1. 0. 0. 0. 0. 0.] | pred:[0.   0.   0.   0.99 0.   0.04])\n",
      "\n",
      "----------\n",
      "id:3795 | loss:1.83 | true:[0. 1. 0. 0. 0. 0.] | pred:[0.   0.   0.   0.97 0.   0.09])\n",
      "\n"
     ]
    }
   ],
   "source": [
    "roberta_learner_ins.view_top_losses(preproc=roberta_transformer)"
   ]
  },
  {
   "cell_type": "markdown",
   "id": "6b2aceca",
   "metadata": {
    "id": "vSccv20spzkY"
   },
   "source": [
    "### Saving RoBERTa Model:"
   ]
  },
  {
   "cell_type": "code",
   "execution_count": 103,
   "id": "52836e1f",
   "metadata": {
    "colab": {
     "base_uri": "https://localhost:8080/"
    },
    "id": "F6v0gN8tpzRa",
    "outputId": "07314709-5fb9-4d6e-b8af-3facf107b87c"
   },
   "outputs": [
    {
     "data": {
      "text/plain": [
       "['anger', 'disgust', 'fear', 'joy', 'sadness', 'surprise']"
      ]
     },
     "execution_count": 103,
     "metadata": {},
     "output_type": "execute_result"
    }
   ],
   "source": [
    "roberta_predictor = ktrain.get_predictor(roberta_learner_ins.model, preproc=roberta_transformer)\n",
    "roberta_predictor.get_classes()"
   ]
  },
  {
   "cell_type": "markdown",
   "id": "3b5a94b6",
   "metadata": {},
   "source": [
    "### LR - 3e-5, batch size = 10, epochs = 4, maxlen=128"
   ]
  },
  {
   "cell_type": "code",
   "execution_count": 104,
   "id": "e005ed18",
   "metadata": {},
   "outputs": [],
   "source": [
    "roberta_predictor.save('roberta-emotion-predictor-ekman-ohe-1')"
   ]
  },
  {
   "cell_type": "code",
   "execution_count": 111,
   "id": "a0ebda11",
   "metadata": {},
   "outputs": [
    {
     "data": {
      "text/plain": [
       "['anger', 'disgust', 'fear', 'joy', 'sadness', 'surprise']"
      ]
     },
     "execution_count": 111,
     "metadata": {},
     "output_type": "execute_result"
    }
   ],
   "source": [
    "roberta_predictor_2 = ktrain.load_predictor('roberta-emotion-predictor-ekman-ohe-1')\n",
    "roberta_predictor_2.get_classes()"
   ]
  },
  {
   "cell_type": "code",
   "execution_count": 112,
   "id": "0fa75585",
   "metadata": {},
   "outputs": [],
   "source": [
    "test_predictions_2 = roberta_predictor_2.predict(X_test.to_list())"
   ]
  },
  {
   "cell_type": "code",
   "execution_count": 115,
   "id": "492500d2",
   "metadata": {},
   "outputs": [
    {
     "data": {
      "text/plain": [
       "array([[8.7056374e-03, 1.7478308e-03, 2.6837499e-03, 7.1604329e-01,\n",
       "        7.4912262e-01, 1.3889259e-02],\n",
       "       [1.3644785e-01, 3.9765790e-01, 2.6715178e-02, 7.9065549e-01,\n",
       "        6.9633804e-02, 1.4588809e-02],\n",
       "       [4.1519813e-03, 1.2378437e-03, 7.5534551e-04, 9.9056584e-01,\n",
       "        2.9759451e-03, 5.8324384e-03],\n",
       "       ...,\n",
       "       [5.0879784e-02, 1.4493377e-03, 1.3640922e-03, 4.2432904e-02,\n",
       "        1.6365170e-02, 1.3737118e-02],\n",
       "       [2.9365879e-03, 7.6670176e-04, 5.4152391e-04, 9.8994082e-01,\n",
       "        2.3569772e-03, 1.5295621e-02],\n",
       "       [4.4144213e-02, 7.3321752e-04, 1.7522916e-03, 1.4860174e-01,\n",
       "        8.2763530e-02, 8.4465265e-02]], dtype=float32)"
      ]
     },
     "execution_count": 115,
     "metadata": {},
     "output_type": "execute_result"
    }
   ],
   "source": [
    "test_proba_2 = get_proba(test_predictions)\n",
    "test_proba_2 = np.array(test_proba_2)\n",
    "test_proba_2"
   ]
  },
  {
   "cell_type": "code",
   "execution_count": 116,
   "id": "e0c93d3d",
   "metadata": {},
   "outputs": [
    {
     "data": {
      "text/plain": [
       "array([0., 0., 0., 0., 0., 0.], dtype=float32)"
      ]
     },
     "execution_count": 116,
     "metadata": {},
     "output_type": "execute_result"
    }
   ],
   "source": [
    "# Generate labels\n",
    "y_pred_labels_2 = proba_to_labels(test_proba_2)\n",
    "y_pred_labels_2[0]"
   ]
  },
  {
   "cell_type": "code",
   "execution_count": 117,
   "id": "8e0cf13e",
   "metadata": {},
   "outputs": [
    {
     "data": {
      "text/html": [
       "<div>\n",
       "<style scoped>\n",
       "    .dataframe tbody tr th:only-of-type {\n",
       "        vertical-align: middle;\n",
       "    }\n",
       "\n",
       "    .dataframe tbody tr th {\n",
       "        vertical-align: top;\n",
       "    }\n",
       "\n",
       "    .dataframe thead th {\n",
       "        text-align: right;\n",
       "    }\n",
       "</style>\n",
       "<table border=\"1\" class=\"dataframe\">\n",
       "  <thead>\n",
       "    <tr style=\"text-align: right;\">\n",
       "      <th></th>\n",
       "      <th>Precision</th>\n",
       "      <th>Recall</th>\n",
       "      <th>F1</th>\n",
       "    </tr>\n",
       "  </thead>\n",
       "  <tbody>\n",
       "    <tr>\n",
       "      <th>anger</th>\n",
       "      <td>0.78</td>\n",
       "      <td>0.20</td>\n",
       "      <td>0.32</td>\n",
       "    </tr>\n",
       "    <tr>\n",
       "      <th>disgust</th>\n",
       "      <td>0.77</td>\n",
       "      <td>0.16</td>\n",
       "      <td>0.27</td>\n",
       "    </tr>\n",
       "    <tr>\n",
       "      <th>fear</th>\n",
       "      <td>0.84</td>\n",
       "      <td>0.55</td>\n",
       "      <td>0.67</td>\n",
       "    </tr>\n",
       "    <tr>\n",
       "      <th>joy</th>\n",
       "      <td>0.90</td>\n",
       "      <td>0.71</td>\n",
       "      <td>0.79</td>\n",
       "    </tr>\n",
       "    <tr>\n",
       "      <th>sadness</th>\n",
       "      <td>0.84</td>\n",
       "      <td>0.34</td>\n",
       "      <td>0.48</td>\n",
       "    </tr>\n",
       "    <tr>\n",
       "      <th>surprise</th>\n",
       "      <td>0.76</td>\n",
       "      <td>0.18</td>\n",
       "      <td>0.29</td>\n",
       "    </tr>\n",
       "    <tr>\n",
       "      <th>MACRO-AVERAGE</th>\n",
       "      <td>0.82</td>\n",
       "      <td>0.36</td>\n",
       "      <td>0.47</td>\n",
       "    </tr>\n",
       "  </tbody>\n",
       "</table>\n",
       "</div>"
      ],
      "text/plain": [
       "               Precision  Recall    F1\n",
       "anger               0.78    0.20  0.32\n",
       "disgust             0.77    0.16  0.27\n",
       "fear                0.84    0.55  0.67\n",
       "joy                 0.90    0.71  0.79\n",
       "sadness             0.84    0.34  0.48\n",
       "surprise            0.76    0.18  0.29\n",
       "MACRO-AVERAGE       0.82    0.36  0.47"
      ]
     },
     "execution_count": 117,
     "metadata": {},
     "output_type": "execute_result"
    }
   ],
   "source": [
    "# Model evaluation\n",
    "model_eval(y_test, y_pred_labels_2, EKMAN_taxonomy_no_neu)"
   ]
  },
  {
   "cell_type": "markdown",
   "id": "b626700e",
   "metadata": {},
   "source": [
    "### LR - 5e-5, batch size = 6, epochs = 3, maxlen=128"
   ]
  },
  {
   "cell_type": "code",
   "execution_count": 51,
   "id": "38d8f169",
   "metadata": {},
   "outputs": [],
   "source": [
    "roberta_predictor.save('roberta-emotion-predictor-ekman-ohe')"
   ]
  },
  {
   "cell_type": "code",
   "execution_count": 3,
   "id": "0b3e2bad",
   "metadata": {},
   "outputs": [
    {
     "data": {
      "text/plain": [
       "['anger', 'disgust', 'fear', 'joy', 'sadness', 'surprise']"
      ]
     },
     "execution_count": 3,
     "metadata": {},
     "output_type": "execute_result"
    }
   ],
   "source": [
    "roberta_predictor_1 = ktrain.load_predictor('roberta-emotion-predictor-ekman-ohe')\n",
    "roberta_predictor_1.get_classes()"
   ]
  },
  {
   "cell_type": "markdown",
   "id": "b6567261",
   "metadata": {},
   "source": [
    "### View Performance Metrics on test data:¶"
   ]
  },
  {
   "cell_type": "code",
   "execution_count": 43,
   "id": "368eb9d8",
   "metadata": {},
   "outputs": [],
   "source": [
    "test_predictions_1 = roberta_predictor_1.predict(X_test.to_list())"
   ]
  },
  {
   "cell_type": "code",
   "execution_count": null,
   "id": "8f0188f9",
   "metadata": {},
   "outputs": [],
   "source": [
    "test_proba_1 = get_proba(test_predictions)\n",
    "test_proba_1 = np.array(test_proba_1)\n",
    "test_proba"
   ]
  },
  {
   "cell_type": "code",
   "execution_count": null,
   "id": "942b7ec3",
   "metadata": {},
   "outputs": [],
   "source": [
    "# Generate labels\n",
    "y_pred_labels = proba_to_labels(test_proba)\n",
    "y_pred_labels[0]"
   ]
  },
  {
   "cell_type": "code",
   "execution_count": null,
   "id": "3d0d8fa6",
   "metadata": {},
   "outputs": [],
   "source": [
    "# Model evaluation\n",
    "model_eval(y_test, y_pred_labels, EKMAN_taxonomy_no_neu)"
   ]
  },
  {
   "cell_type": "code",
   "execution_count": null,
   "id": "eed04bf3",
   "metadata": {},
   "outputs": [],
   "source": []
  },
  {
   "cell_type": "markdown",
   "id": "64a33768",
   "metadata": {},
   "source": [
    "### View Performance Metrics on test data:¶"
   ]
  },
  {
   "cell_type": "code",
   "execution_count": 43,
   "id": "871dc5b6",
   "metadata": {},
   "outputs": [],
   "source": [
    "test_predictions = roberta_predictor_1.predict(X_test.to_list())"
   ]
  },
  {
   "cell_type": "code",
   "execution_count": 65,
   "id": "46e13137",
   "metadata": {},
   "outputs": [
    {
     "data": {
      "text/plain": [
       "{0: 'anger',\n",
       " 1: 'disgust',\n",
       " 2: 'fear',\n",
       " 3: 'joy',\n",
       " 4: 'sadness',\n",
       " 5: 'surprise',\n",
       " 6: 'neutral'}"
      ]
     },
     "execution_count": 65,
     "metadata": {},
     "output_type": "execute_result"
    }
   ],
   "source": [
    "idx2emotion = {i: e for i, e in enumerate(GE_taxonomy)}\n",
    "idx2emotion"
   ]
  },
  {
   "cell_type": "markdown",
   "id": "06712503",
   "metadata": {
    "scrolled": true
   },
   "source": [
    "precision_recall_fscore_support(y_test, test_predictions, average=\"macro\")"
   ]
  },
  {
   "cell_type": "code",
   "execution_count": 70,
   "id": "d5969370",
   "metadata": {},
   "outputs": [],
   "source": [
    "# from probabilities to labels using a given threshold\n",
    "def proba_to_labels(y_pred_proba, threshold=0.8):\n",
    "    \n",
    "    y_pred_labels = np.zeros_like(y_pred_proba)\n",
    "    \n",
    "    for i in range(y_pred_proba.shape[0]):\n",
    "        for j in range(y_pred_proba.shape[1]):\n",
    "            if y_pred_proba[i][j] > threshold:\n",
    "                y_pred_labels[i][j] = 1\n",
    "            else:\n",
    "                y_pred_labels[i][j] = 0\n",
    "                \n",
    "    return y_pred_labels"
   ]
  },
  {
   "cell_type": "code",
   "execution_count": 75,
   "id": "63aaa1b7",
   "metadata": {},
   "outputs": [],
   "source": [
    "def get_proba(predictions):\n",
    "    arr =[]\n",
    "    for item in predictions:\n",
    "        prob = []\n",
    "        for tup in item:\n",
    "            prob.append(tup[1])\n",
    "        arr.append(prob)\n",
    "    return arr\n",
    "\n"
   ]
  },
  {
   "cell_type": "code",
   "execution_count": 79,
   "id": "4ab26f56",
   "metadata": {
    "scrolled": true
   },
   "outputs": [
    {
     "data": {
      "text/plain": [
       "array([[8.7056374e-03, 1.7478308e-03, 2.6837499e-03, 7.1604329e-01,\n",
       "        7.4912262e-01, 1.3889259e-02],\n",
       "       [1.3644785e-01, 3.9765790e-01, 2.6715178e-02, 7.9065549e-01,\n",
       "        6.9633804e-02, 1.4588809e-02],\n",
       "       [4.1519813e-03, 1.2378437e-03, 7.5534551e-04, 9.9056584e-01,\n",
       "        2.9759451e-03, 5.8324384e-03],\n",
       "       ...,\n",
       "       [5.0879784e-02, 1.4493377e-03, 1.3640922e-03, 4.2432904e-02,\n",
       "        1.6365170e-02, 1.3737118e-02],\n",
       "       [2.9365879e-03, 7.6670176e-04, 5.4152391e-04, 9.8994082e-01,\n",
       "        2.3569772e-03, 1.5295621e-02],\n",
       "       [4.4144213e-02, 7.3321752e-04, 1.7522916e-03, 1.4860174e-01,\n",
       "        8.2763530e-02, 8.4465265e-02]], dtype=float32)"
      ]
     },
     "execution_count": 79,
     "metadata": {},
     "output_type": "execute_result"
    }
   ],
   "source": [
    "test_proba = get_proba(test_predictions)\n",
    "test_proba = np.array(test_proba)\n",
    "test_proba"
   ]
  },
  {
   "cell_type": "code",
   "execution_count": 80,
   "id": "4d3d1d45",
   "metadata": {},
   "outputs": [
    {
     "data": {
      "text/plain": [
       "array([0., 0., 0., 0., 0., 0.], dtype=float32)"
      ]
     },
     "execution_count": 80,
     "metadata": {},
     "output_type": "execute_result"
    }
   ],
   "source": [
    "# Generate labels\n",
    "y_pred_labels = proba_to_labels(test_proba)\n",
    "y_pred_labels[0]"
   ]
  },
  {
   "cell_type": "code",
   "execution_count": null,
   "id": "dded3429",
   "metadata": {},
   "outputs": [],
   "source": []
  },
  {
   "cell_type": "code",
   "execution_count": 88,
   "id": "36d61b85",
   "metadata": {},
   "outputs": [
    {
     "data": {
      "text/html": [
       "<div>\n",
       "<style scoped>\n",
       "    .dataframe tbody tr th:only-of-type {\n",
       "        vertical-align: middle;\n",
       "    }\n",
       "\n",
       "    .dataframe tbody tr th {\n",
       "        vertical-align: top;\n",
       "    }\n",
       "\n",
       "    .dataframe thead th {\n",
       "        text-align: right;\n",
       "    }\n",
       "</style>\n",
       "<table border=\"1\" class=\"dataframe\">\n",
       "  <thead>\n",
       "    <tr style=\"text-align: right;\">\n",
       "      <th></th>\n",
       "      <th>Precision</th>\n",
       "      <th>Recall</th>\n",
       "      <th>F1</th>\n",
       "    </tr>\n",
       "  </thead>\n",
       "  <tbody>\n",
       "    <tr>\n",
       "      <th>anger</th>\n",
       "      <td>0.78</td>\n",
       "      <td>0.20</td>\n",
       "      <td>0.32</td>\n",
       "    </tr>\n",
       "    <tr>\n",
       "      <th>disgust</th>\n",
       "      <td>0.77</td>\n",
       "      <td>0.16</td>\n",
       "      <td>0.27</td>\n",
       "    </tr>\n",
       "    <tr>\n",
       "      <th>fear</th>\n",
       "      <td>0.84</td>\n",
       "      <td>0.55</td>\n",
       "      <td>0.67</td>\n",
       "    </tr>\n",
       "    <tr>\n",
       "      <th>joy</th>\n",
       "      <td>0.90</td>\n",
       "      <td>0.71</td>\n",
       "      <td>0.79</td>\n",
       "    </tr>\n",
       "    <tr>\n",
       "      <th>sadness</th>\n",
       "      <td>0.84</td>\n",
       "      <td>0.34</td>\n",
       "      <td>0.48</td>\n",
       "    </tr>\n",
       "    <tr>\n",
       "      <th>surprise</th>\n",
       "      <td>0.76</td>\n",
       "      <td>0.18</td>\n",
       "      <td>0.29</td>\n",
       "    </tr>\n",
       "    <tr>\n",
       "      <th>MACRO-AVERAGE</th>\n",
       "      <td>0.82</td>\n",
       "      <td>0.36</td>\n",
       "      <td>0.47</td>\n",
       "    </tr>\n",
       "  </tbody>\n",
       "</table>\n",
       "</div>"
      ],
      "text/plain": [
       "               Precision  Recall    F1\n",
       "anger               0.78    0.20  0.32\n",
       "disgust             0.77    0.16  0.27\n",
       "fear                0.84    0.55  0.67\n",
       "joy                 0.90    0.71  0.79\n",
       "sadness             0.84    0.34  0.48\n",
       "surprise            0.76    0.18  0.29\n",
       "MACRO-AVERAGE       0.82    0.36  0.47"
      ]
     },
     "execution_count": 88,
     "metadata": {},
     "output_type": "execute_result"
    }
   ],
   "source": [
    "# Model evaluation\n",
    "model_eval(y_test, y_pred_labels, GE_taxonomy_no_neu)"
   ]
  },
  {
   "cell_type": "code",
   "execution_count": 89,
   "id": "7e5e1d40",
   "metadata": {},
   "outputs": [
    {
     "name": "stdout",
     "output_type": "stream",
     "text": [
      "              precision    recall  f1-score   support\n",
      "\n",
      "           0       0.78      0.20      0.32       726\n",
      "           1       0.77      0.16      0.27       123\n",
      "           2       0.84      0.55      0.67        98\n",
      "           3       0.90      0.71      0.79      2104\n",
      "           4       0.84      0.34      0.48       379\n",
      "           5       0.76      0.18      0.29       677\n",
      "\n",
      "   micro avg       0.87      0.48      0.62      4107\n",
      "   macro avg       0.82      0.36      0.47      4107\n",
      "weighted avg       0.84      0.48      0.58      4107\n",
      " samples avg       0.36      0.35      0.35      4107\n",
      "\n"
     ]
    }
   ],
   "source": [
    "from sklearn.metrics import classification_report\n",
    "print(classification_report(y_test, y_pred_labels))"
   ]
  },
  {
   "cell_type": "code",
   "execution_count": null,
   "id": "9fea1691",
   "metadata": {},
   "outputs": [],
   "source": []
  },
  {
   "cell_type": "markdown",
   "id": "889422e4",
   "metadata": {
    "id": "WaMCA3xFqaQJ"
   },
   "source": [
    "### Loading Saved Model for New Predictions:"
   ]
  },
  {
   "cell_type": "code",
   "execution_count": 23,
   "id": "d4ffd0ef",
   "metadata": {
    "colab": {
     "base_uri": "https://localhost:8080/"
    },
    "id": "I0xhFPYeqZ8Y",
    "outputId": "5de4c6d3-b256-4232-ca38-71e2d5c5aa24"
   },
   "outputs": [
    {
     "data": {
      "text/plain": [
       "['sadness', 'joy', 'love', 'anger', 'fear', 'surprise']"
      ]
     },
     "execution_count": 23,
     "metadata": {},
     "output_type": "execute_result"
    }
   ],
   "source": [
    "roberta_predictor_new = ktrain.load_predictor('roberta-emotion-predictor')\n",
    "roberta_predictor_new.get_classes()"
   ]
  },
  {
   "cell_type": "markdown",
   "id": "aebb42c9",
   "metadata": {},
   "source": [
    "### View Performance Metrics on test data:¶"
   ]
  },
  {
   "cell_type": "code",
   "execution_count": 46,
   "id": "a09ab3e1",
   "metadata": {},
   "outputs": [],
   "source": [
    "test_predictions = roberta_predictor.predict(X_test.to_list())"
   ]
  },
  {
   "cell_type": "code",
   "execution_count": 43,
   "id": "86d022ff",
   "metadata": {},
   "outputs": [],
   "source": [
    "emotion_label_dict={\n",
    "0:\"anger\",\n",
    "1:\"disgust\",\n",
    "2:\"fear\",\n",
    "3:\"joy\",\n",
    "4:\"sadness\",\n",
    "5:\"surprise\",\n",
    "6:\"neutral\"\n",
    "}"
   ]
  },
  {
   "cell_type": "code",
   "execution_count": 44,
   "id": "87d5a44a",
   "metadata": {},
   "outputs": [],
   "source": [
    "y_test_new = y_test.map(emotion_label_dict)"
   ]
  },
  {
   "cell_type": "code",
   "execution_count": 54,
   "id": "e1ef93ae",
   "metadata": {},
   "outputs": [
    {
     "name": "stdout",
     "output_type": "stream",
     "text": [
      "              precision    recall  f1-score   support\n",
      "\n",
      "       anger       0.53      0.50      0.52       595\n",
      "     disgust       0.56      0.47      0.51       112\n",
      "        fear       0.65      0.71      0.68        87\n",
      "         joy       0.79      0.82      0.80      1915\n",
      "     neutral       0.66      0.64      0.65      1787\n",
      "     sadness       0.60      0.60      0.60       341\n",
      "    surprise       0.55      0.58      0.57       590\n",
      "\n",
      "    accuracy                           0.68      5427\n",
      "   macro avg       0.62      0.62      0.62      5427\n",
      "weighted avg       0.68      0.68      0.68      5427\n",
      "\n"
     ]
    }
   ],
   "source": [
    "from sklearn.metrics import classification_report\n",
    "print(classification_report(y_test_new, test_predictions))"
   ]
  },
  {
   "cell_type": "markdown",
   "id": "31a011d7",
   "metadata": {},
   "source": [
    "### Model 2 - ekaman with neutral - Final"
   ]
  },
  {
   "cell_type": "code",
   "execution_count": 135,
   "id": "ec29a24b",
   "metadata": {
    "colab": {
     "base_uri": "https://localhost:8080/",
     "height": 49,
     "referenced_widgets": [
      "afdd0fe6b4444d3d8fb110e39c5b545a",
      "11d89264c87849668c3389f3abcec402",
      "4f82815745c74cf49a3fd0fefa07a936",
      "a52b6fd89f7745208e45a35b8d5cbb25",
      "b7ad46c64b4f45d9ad42847de6875121",
      "6aa2595042604c72a9ec19542d19dfcc",
      "25a9f06ade054211a66ec39705b0033d",
      "de2873a70866483a8fa25b402d80dfec",
      "78c0e7db41a847f998916481e9e65235",
      "f8dd2a89479d4046a277bbfe6089218c",
      "059aeb8799a6469ca780ddf625b95e8c"
     ]
    },
    "id": "fhnT_kSwCohg",
    "outputId": "a5d0a279-ab39-42e3-acf6-934b4fafd572"
   },
   "outputs": [],
   "source": [
    "roberta_transformer = text.Transformer('roberta-base', maxlen=56, classes=EKMAN_taxonomy, batch_size=16)"
   ]
  },
  {
   "cell_type": "markdown",
   "id": "e8d366e1",
   "metadata": {},
   "source": [
    "### Perform Data Preprocessing:"
   ]
  },
  {
   "cell_type": "code",
   "execution_count": 136,
   "id": "f1332117",
   "metadata": {
    "scrolled": true
   },
   "outputs": [
    {
     "name": "stdout",
     "output_type": "stream",
     "text": [
      "preprocessing train...\n",
      "language: en\n",
      "train sequence lengths:\n",
      "\tmean : 14\n",
      "\t95percentile : 25\n",
      "\t99percentile : 28\n"
     ]
    },
    {
     "data": {
      "text/html": [
       "\n",
       "<style>\n",
       "    /* Turns off some styling */\n",
       "    progress {\n",
       "        /* gets rid of default border in Firefox and Opera. */\n",
       "        border: none;\n",
       "        /* Needs to be in here for Safari polyfill so background images work as expected. */\n",
       "        background-size: auto;\n",
       "    }\n",
       "    progress:not([value]), progress:not([value])::-webkit-progress-bar {\n",
       "        background: repeating-linear-gradient(45deg, #7e7e7e, #7e7e7e 10px, #5c5c5c 10px, #5c5c5c 20px);\n",
       "    }\n",
       "    .progress-bar-interrupted, .progress-bar-interrupted::-webkit-progress-bar {\n",
       "        background: #F44336;\n",
       "    }\n",
       "</style>\n"
      ],
      "text/plain": [
       "<IPython.core.display.HTML object>"
      ]
     },
     "metadata": {},
     "output_type": "display_data"
    },
    {
     "data": {
      "text/html": [],
      "text/plain": [
       "<IPython.core.display.HTML object>"
      ]
     },
     "metadata": {},
     "output_type": "display_data"
    },
    {
     "name": "stdout",
     "output_type": "stream",
     "text": [
      "Is Multi-Label? True\n",
      "preprocessing test...\n",
      "language: en\n",
      "test sequence lengths:\n",
      "\tmean : 14\n",
      "\t95percentile : 26\n",
      "\t99percentile : 28\n"
     ]
    },
    {
     "data": {
      "text/html": [
       "\n",
       "<style>\n",
       "    /* Turns off some styling */\n",
       "    progress {\n",
       "        /* gets rid of default border in Firefox and Opera. */\n",
       "        border: none;\n",
       "        /* Needs to be in here for Safari polyfill so background images work as expected. */\n",
       "        background-size: auto;\n",
       "    }\n",
       "    progress:not([value]), progress:not([value])::-webkit-progress-bar {\n",
       "        background: repeating-linear-gradient(45deg, #7e7e7e, #7e7e7e 10px, #5c5c5c 10px, #5c5c5c 20px);\n",
       "    }\n",
       "    .progress-bar-interrupted, .progress-bar-interrupted::-webkit-progress-bar {\n",
       "        background: #F44336;\n",
       "    }\n",
       "</style>\n"
      ],
      "text/plain": [
       "<IPython.core.display.HTML object>"
      ]
     },
     "metadata": {},
     "output_type": "display_data"
    },
    {
     "data": {
      "text/html": [],
      "text/plain": [
       "<IPython.core.display.HTML object>"
      ]
     },
     "metadata": {},
     "output_type": "display_data"
    },
    {
     "name": "stdout",
     "output_type": "stream",
     "text": [
      "preprocessing test...\n",
      "language: en\n",
      "test sequence lengths:\n",
      "\tmean : 13\n",
      "\t95percentile : 25\n",
      "\t99percentile : 28\n"
     ]
    },
    {
     "data": {
      "text/html": [
       "\n",
       "<style>\n",
       "    /* Turns off some styling */\n",
       "    progress {\n",
       "        /* gets rid of default border in Firefox and Opera. */\n",
       "        border: none;\n",
       "        /* Needs to be in here for Safari polyfill so background images work as expected. */\n",
       "        background-size: auto;\n",
       "    }\n",
       "    progress:not([value]), progress:not([value])::-webkit-progress-bar {\n",
       "        background: repeating-linear-gradient(45deg, #7e7e7e, #7e7e7e 10px, #5c5c5c 10px, #5c5c5c 20px);\n",
       "    }\n",
       "    .progress-bar-interrupted, .progress-bar-interrupted::-webkit-progress-bar {\n",
       "        background: #F44336;\n",
       "    }\n",
       "</style>\n"
      ],
      "text/plain": [
       "<IPython.core.display.HTML object>"
      ]
     },
     "metadata": {},
     "output_type": "display_data"
    },
    {
     "data": {
      "text/html": [],
      "text/plain": [
       "<IPython.core.display.HTML object>"
      ]
     },
     "metadata": {},
     "output_type": "display_data"
    }
   ],
   "source": [
    "roberta_train = roberta_transformer.preprocess_train(X_train.to_list(), y_train)\n",
    "roberta_val = roberta_transformer.preprocess_test(X_val.to_list(), y_val)\n",
    "roberta_test = roberta_transformer.preprocess_test(X_test.to_list(), y_test)"
   ]
  },
  {
   "cell_type": "markdown",
   "id": "cc49b1d3",
   "metadata": {
    "id": "vahQyHQOFBmH"
   },
   "source": [
    "### Compile RoBERTa in a K-Train Learner Object:\n",
    "\n",
    "Since we are using k-train as a high level abstration package, we need to wrap our model in a k-train Learner Object for further compuation"
   ]
  },
  {
   "cell_type": "code",
   "execution_count": 137,
   "id": "b2cfeff3",
   "metadata": {
    "colab": {
     "base_uri": "https://localhost:8080/",
     "height": 49,
     "referenced_widgets": [
      "d53b674ff45d40aba6475adb74dcb3e0",
      "bda1822cb6f04a34b695b5672d702cf1",
      "78c16388124e4534b689fc7404142e06",
      "5a3d8183fee546e9868c577af6cecbf6",
      "e5cbf541c19844399ff2901ea0f0dbeb",
      "e5fc3c01e5894dc6834c6d0c64deb4aa",
      "e5285948234d43838879edc56a67aff6",
      "5a68ecf5f15040a9b9207e449f90d346",
      "dd65b07b18c04856a012cc4535f8726f",
      "29ec025304354a09b6197600ffb1639d",
      "8f7dc806f3fd48378ce616afc63a29ca"
     ]
    },
    "id": "pz8SyfHnD4jI",
    "outputId": "7945f831-eb31-473f-914a-883d148ddfd7"
   },
   "outputs": [],
   "source": [
    "roberta_model = roberta_transformer.get_classifier()"
   ]
  },
  {
   "cell_type": "code",
   "execution_count": 138,
   "id": "9d70f67e",
   "metadata": {
    "id": "LhXSMlXvFJIg"
   },
   "outputs": [],
   "source": [
    "roberta_learner_ins = ktrain.get_learner(model=roberta_model,\n",
    "                            train_data=roberta_train,\n",
    "                            val_data=roberta_val,\n",
    "                            batch_size=10)"
   ]
  },
  {
   "cell_type": "markdown",
   "id": "12a8bbaa",
   "metadata": {
    "id": "LwXeiW4ZFRW-"
   },
   "source": [
    "### RoBERTa Model Details:"
   ]
  },
  {
   "cell_type": "code",
   "execution_count": 139,
   "id": "b05f279c",
   "metadata": {
    "colab": {
     "base_uri": "https://localhost:8080/"
    },
    "id": "h8x9clsAD-CQ",
    "outputId": "adf57072-5d80-4a55-aabb-6a243d719aa9"
   },
   "outputs": [
    {
     "name": "stdout",
     "output_type": "stream",
     "text": [
      "Model: \"tf_roberta_for_sequence_classification\"\n",
      "_________________________________________________________________\n",
      "Layer (type)                 Output Shape              Param #   \n",
      "=================================================================\n",
      "roberta (TFRobertaMainLayer) multiple                  124055040 \n",
      "_________________________________________________________________\n",
      "classifier (TFRobertaClassif multiple                  595975    \n",
      "=================================================================\n",
      "Total params: 124,651,015\n",
      "Trainable params: 124,651,015\n",
      "Non-trainable params: 0\n",
      "_________________________________________________________________\n"
     ]
    }
   ],
   "source": [
    "roberta_learner_ins.model.summary()"
   ]
  },
  {
   "cell_type": "markdown",
   "id": "000b42fe",
   "metadata": {
    "id": "qLnpkZLcFbGo"
   },
   "source": [
    "### Find Optimal Learning Rate for RoBERTa:\n",
    "\n",
    "This is an optional step used just to show how the learning rate can be found for any transformer model.\n",
    "For Transformer models as per the research papers, the optimal learning rates have already been estimated and established."
   ]
  },
  {
   "cell_type": "markdown",
   "id": "4fe55c4c",
   "metadata": {
    "colab": {
     "base_uri": "https://localhost:8080/",
     "height": 523
    },
    "id": "muU7v4cjFV0x",
    "outputId": "717af625-75dc-4bb1-d2e4-64c73021ac10"
   },
   "source": [
    "rate_finder_start_time = timeit.default_timer()\n",
    "roberta_learner_ins.lr_find(show_plot=True, max_epochs=3)\n",
    "rate_finder_stop_time = timeit.default_timer()\n",
    "\n",
    "print(\"\\nTotal time in minutes on estimating optimal learning rate: \\n\", (rate_finder_stop_time - rate_finder_start_time)/60)"
   ]
  },
  {
   "cell_type": "markdown",
   "id": "ff8db342",
   "metadata": {},
   "source": [
    "import torch\n",
    "from GPUtil import showUtilization as gpu_usage\n",
    "from numba import cuda\n",
    "\n",
    "def free_gpu_cache():\n",
    "    print(\"Initial GPU Usage\")\n",
    "    gpu_usage()                             \n",
    "\n",
    "    torch.cuda.empty_cache()\n",
    "\n",
    "    cuda.select_device(0)\n",
    "    cuda.close()\n",
    "    cuda.select_device(0)\n",
    "\n",
    "    print(\"GPU Usage after emptying the cache\")\n",
    "    gpu_usage()\n",
    "free_gpu_cache()\n"
   ]
  },
  {
   "cell_type": "markdown",
   "id": "1bf39f2f",
   "metadata": {
    "id": "TcigfbJlRy4_"
   },
   "source": [
    "### RoBERTa Optimal Learning Rates:\n",
    "\n",
    "As per the evaluations made in the research paper \"**RoBERTa: A Robustly Optimized BERT Pretraining Approach**\", below are the best choices in terms of fine-tuning the model:\n",
    "\n",
    "* Batch Sizes => {16, 32}\n",
    "* Learning Rates => {1e−5, 2e−5, 3e−5}\n",
    "\n",
    "We will choose the maximum among these for our fine-tuning and evaluation purposes."
   ]
  },
  {
   "cell_type": "markdown",
   "id": "de656132",
   "metadata": {
    "id": "LuxErKnFVznL"
   },
   "source": [
    "### Fine Tuning RoBERTa on Emotion Dataset:\n",
    "\n",
    "We take our emotion dataset along with the RoBERTa model, define the learning-rate & epochs to be used and start fine-tuning."
   ]
  },
  {
   "cell_type": "code",
   "execution_count": 140,
   "id": "6a3d93ea",
   "metadata": {
    "colab": {
     "base_uri": "https://localhost:8080/"
    },
    "id": "02TtNt3xGgyz",
    "outputId": "f62e7b4b-7b07-4f1e-a46f-4ec001aae699"
   },
   "outputs": [
    {
     "name": "stdout",
     "output_type": "stream",
     "text": [
      "\n",
      "\n",
      "begin training using onecycle policy with max lr of 3e-05...\n",
      "Epoch 1/10\n",
      "4341/4341 [==============================] - 467s 104ms/step - loss: 0.2648 - accuracy: 0.6212 - val_loss: 0.2177 - val_accuracy: 0.6856\n",
      "Epoch 2/10\n",
      "4341/4341 [==============================] - 455s 104ms/step - loss: 0.2144 - accuracy: 0.6915 - val_loss: 0.2121 - val_accuracy: 0.6896\n",
      "Epoch 3/10\n",
      "4341/4341 [==============================] - 452s 103ms/step - loss: 0.1995 - accuracy: 0.7131 - val_loss: 0.2103 - val_accuracy: 0.6874\n",
      "Epoch 4/10\n",
      "4341/4341 [==============================] - 450s 103ms/step - loss: 0.1849 - accuracy: 0.7384 - val_loss: 0.2232 - val_accuracy: 0.6815\n",
      "Epoch 5/10\n",
      "4341/4341 [==============================] - 450s 103ms/step - loss: 0.1689 - accuracy: 0.7669 - val_loss: 0.2304 - val_accuracy: 0.6760\n",
      "Epoch 6/10\n",
      "4341/4341 [==============================] - 450s 103ms/step - loss: 0.1474 - accuracy: 0.8054 - val_loss: 0.2438 - val_accuracy: 0.6701\n",
      "Epoch 7/10\n",
      "4341/4341 [==============================] - 450s 103ms/step - loss: 0.1135 - accuracy: 0.8552 - val_loss: 0.2739 - val_accuracy: 0.6627\n",
      "Epoch 8/10\n",
      "4341/4341 [==============================] - 450s 103ms/step - loss: 0.0850 - accuracy: 0.8953 - val_loss: 0.2981 - val_accuracy: 0.6614\n",
      "Epoch 9/10\n",
      "4341/4341 [==============================] - 451s 103ms/step - loss: 0.0606 - accuracy: 0.9229 - val_loss: 0.3402 - val_accuracy: 0.6679\n",
      "Epoch 10/10\n",
      "4341/4341 [==============================] - 451s 103ms/step - loss: 0.0443 - accuracy: 0.9405 - val_loss: 0.3652 - val_accuracy: 0.6651\n",
      "\n",
      "Total time in minutes for Fine-Tuning RoBERTa on Emotion Dataset: \n",
      " 75.42177707166665\n"
     ]
    }
   ],
   "source": [
    "roberta_fine_tune_start_time = timeit.default_timer()\n",
    "roberta_learner_ins.fit_onecycle(lr=3e-5, epochs=10)\n",
    "roberta_fine_tune_stop_time = timeit.default_timer()\n",
    "\n",
    "print(\"\\nTotal time in minutes for Fine-Tuning RoBERTa on Emotion Dataset: \\n\", (roberta_fine_tune_stop_time - roberta_fine_tune_start_time)/60)"
   ]
  },
  {
   "cell_type": "markdown",
   "id": "79000b93",
   "metadata": {
    "id": "uHV1FvhGdmui"
   },
   "source": [
    "### Checking RoBERTa performance metrics:"
   ]
  },
  {
   "cell_type": "code",
   "execution_count": 141,
   "id": "4e042411",
   "metadata": {
    "colab": {
     "base_uri": "https://localhost:8080/"
    },
    "id": "LW72lIpMXVHU",
    "outputId": "f8e73bcc-bfda-42e9-d13e-674283114c75"
   },
   "outputs": [],
   "source": [
    "roberta_learner_ins.validate()"
   ]
  },
  {
   "cell_type": "code",
   "execution_count": 142,
   "id": "497bd63b",
   "metadata": {
    "colab": {
     "base_uri": "https://localhost:8080/"
    },
    "id": "vf-vIGezd7gK",
    "outputId": "14ff373f-079b-4729-dbca-0d7208d1bfc9"
   },
   "outputs": [],
   "source": [
    "roberta_learner_ins.validate(class_names=EKMAN_taxonomy)"
   ]
  },
  {
   "cell_type": "code",
   "execution_count": 143,
   "id": "c2c4c4e3",
   "metadata": {
    "colab": {
     "base_uri": "https://localhost:8080/"
    },
    "id": "US2cRxhb1DfT",
    "outputId": "7609ecdc-5266-4433-8bab-dc7d46ec4810"
   },
   "outputs": [
    {
     "name": "stdout",
     "output_type": "stream",
     "text": [
      "----------\n",
      "id:1433 | loss:3.4 | true:[1. 0. 0. 0. 1. 1. 0.] | pred:[0.   0.   0.   0.03 0.01 0.   0.99])\n",
      "\n",
      "----------\n",
      "id:367 | loss:2.84 | true:[1. 0. 0. 0. 1. 0. 0.] | pred:[0.   0.   0.   0.01 0.   0.   1.  ])\n",
      "\n",
      "----------\n",
      "id:1399 | loss:2.76 | true:[0. 1. 1. 0. 0. 0. 0.] | pred:[0.   0.   0.   0.03 0.   0.   0.99])\n",
      "\n",
      "----------\n",
      "id:2321 | loss:2.7 | true:[0. 0. 0. 0. 1. 1. 0.] | pred:[0. 0. 0. 1. 0. 0. 0.])\n",
      "\n"
     ]
    }
   ],
   "source": [
    "roberta_learner_ins.view_top_losses(preproc=roberta_transformer)"
   ]
  },
  {
   "cell_type": "markdown",
   "id": "7263e6bc",
   "metadata": {
    "id": "vSccv20spzkY"
   },
   "source": [
    "### Saving RoBERTa Model:"
   ]
  },
  {
   "cell_type": "code",
   "execution_count": 144,
   "id": "890795a0",
   "metadata": {
    "colab": {
     "base_uri": "https://localhost:8080/"
    },
    "id": "F6v0gN8tpzRa",
    "outputId": "07314709-5fb9-4d6e-b8af-3facf107b87c"
   },
   "outputs": [
    {
     "data": {
      "text/plain": [
       "['anger', 'disgust', 'fear', 'joy', 'sadness', 'surprise', 'neutral']"
      ]
     },
     "execution_count": 144,
     "metadata": {},
     "output_type": "execute_result"
    }
   ],
   "source": [
    "roberta_predictor = ktrain.get_predictor(roberta_learner_ins.model, preproc=roberta_transformer)\n",
    "roberta_predictor.get_classes()"
   ]
  },
  {
   "cell_type": "markdown",
   "id": "48aaffed",
   "metadata": {},
   "source": [
    "### LR - 3e-5, batch size = 16, epochs = 10, maxlen=56"
   ]
  },
  {
   "cell_type": "code",
   "execution_count": 145,
   "id": "be7310e4",
   "metadata": {},
   "outputs": [],
   "source": [
    "roberta_predictor.save('roberta-emotion-predictor-ekman-ohe-1.1')"
   ]
  },
  {
   "cell_type": "code",
   "execution_count": 146,
   "id": "306424e2",
   "metadata": {},
   "outputs": [
    {
     "data": {
      "text/plain": [
       "['anger', 'disgust', 'fear', 'joy', 'sadness', 'surprise', 'neutral']"
      ]
     },
     "execution_count": 146,
     "metadata": {},
     "output_type": "execute_result"
    }
   ],
   "source": [
    "roberta_predictor_2 = ktrain.load_predictor('roberta-emotion-predictor-ekman-ohe-1.1')\n",
    "roberta_predictor_2.get_classes()"
   ]
  },
  {
   "cell_type": "code",
   "execution_count": 147,
   "id": "9669815c",
   "metadata": {},
   "outputs": [],
   "source": [
    "test_predictions_1 = roberta_predictor_2.predict(X_test.to_list())\n",
    "val_predictions_1 = roberta_predictor_2.predict(X_val.to_list())"
   ]
  },
  {
   "cell_type": "code",
   "execution_count": 148,
   "id": "21992e36",
   "metadata": {
    "scrolled": true
   },
   "outputs": [],
   "source": [
    "test_proba_3 = get_proba(test_predictions_1)\n",
    "test_proba_3 = np.array(test_proba_3)\n",
    "\n",
    "val_proba_3 = get_proba(val_predictions_1)\n",
    "val_proba_3 = np.array(val_proba_3)\n"
   ]
  },
  {
   "cell_type": "code",
   "execution_count": 149,
   "id": "924d332c",
   "metadata": {},
   "outputs": [],
   "source": [
    "# Generate labels\n",
    "y_pred_labels_test_3 = proba_to_labels(test_proba_3)\n",
    "y_pred_labels_val_3 = proba_to_labels(val_proba_3)\n"
   ]
  },
  {
   "cell_type": "code",
   "execution_count": 151,
   "id": "9e3edfd2",
   "metadata": {
    "scrolled": true
   },
   "outputs": [
    {
     "data": {
      "text/html": [
       "<div>\n",
       "<style scoped>\n",
       "    .dataframe tbody tr th:only-of-type {\n",
       "        vertical-align: middle;\n",
       "    }\n",
       "\n",
       "    .dataframe tbody tr th {\n",
       "        vertical-align: top;\n",
       "    }\n",
       "\n",
       "    .dataframe thead th {\n",
       "        text-align: right;\n",
       "    }\n",
       "</style>\n",
       "<table border=\"1\" class=\"dataframe\">\n",
       "  <thead>\n",
       "    <tr style=\"text-align: right;\">\n",
       "      <th></th>\n",
       "      <th>Precision</th>\n",
       "      <th>Recall</th>\n",
       "      <th>F1</th>\n",
       "    </tr>\n",
       "  </thead>\n",
       "  <tbody>\n",
       "    <tr>\n",
       "      <th>anger</th>\n",
       "      <td>0.60</td>\n",
       "      <td>0.45</td>\n",
       "      <td>0.51</td>\n",
       "    </tr>\n",
       "    <tr>\n",
       "      <th>disgust</th>\n",
       "      <td>0.51</td>\n",
       "      <td>0.34</td>\n",
       "      <td>0.41</td>\n",
       "    </tr>\n",
       "    <tr>\n",
       "      <th>fear</th>\n",
       "      <td>0.63</td>\n",
       "      <td>0.61</td>\n",
       "      <td>0.62</td>\n",
       "    </tr>\n",
       "    <tr>\n",
       "      <th>joy</th>\n",
       "      <td>0.80</td>\n",
       "      <td>0.82</td>\n",
       "      <td>0.81</td>\n",
       "    </tr>\n",
       "    <tr>\n",
       "      <th>sadness</th>\n",
       "      <td>0.60</td>\n",
       "      <td>0.55</td>\n",
       "      <td>0.58</td>\n",
       "    </tr>\n",
       "    <tr>\n",
       "      <th>surprise</th>\n",
       "      <td>0.57</td>\n",
       "      <td>0.48</td>\n",
       "      <td>0.52</td>\n",
       "    </tr>\n",
       "    <tr>\n",
       "      <th>neutral</th>\n",
       "      <td>0.68</td>\n",
       "      <td>0.51</td>\n",
       "      <td>0.58</td>\n",
       "    </tr>\n",
       "    <tr>\n",
       "      <th>MACRO-AVERAGE</th>\n",
       "      <td>0.63</td>\n",
       "      <td>0.54</td>\n",
       "      <td>0.58</td>\n",
       "    </tr>\n",
       "  </tbody>\n",
       "</table>\n",
       "</div>"
      ],
      "text/plain": [
       "               Precision  Recall    F1\n",
       "anger               0.60    0.45  0.51\n",
       "disgust             0.51    0.34  0.41\n",
       "fear                0.63    0.61  0.62\n",
       "joy                 0.80    0.82  0.81\n",
       "sadness             0.60    0.55  0.58\n",
       "surprise            0.57    0.48  0.52\n",
       "neutral             0.68    0.51  0.58\n",
       "MACRO-AVERAGE       0.63    0.54  0.58"
      ]
     },
     "execution_count": 151,
     "metadata": {},
     "output_type": "execute_result"
    }
   ],
   "source": [
    "# Model evaluation\n",
    "model_eval(y_test, y_pred_labels_test_3,EKMAN_taxonomy )"
   ]
  },
  {
   "cell_type": "code",
   "execution_count": 152,
   "id": "7cf1ca0a",
   "metadata": {
    "scrolled": true
   },
   "outputs": [
    {
     "data": {
      "text/html": [
       "<div>\n",
       "<style scoped>\n",
       "    .dataframe tbody tr th:only-of-type {\n",
       "        vertical-align: middle;\n",
       "    }\n",
       "\n",
       "    .dataframe tbody tr th {\n",
       "        vertical-align: top;\n",
       "    }\n",
       "\n",
       "    .dataframe thead th {\n",
       "        text-align: right;\n",
       "    }\n",
       "</style>\n",
       "<table border=\"1\" class=\"dataframe\">\n",
       "  <thead>\n",
       "    <tr style=\"text-align: right;\">\n",
       "      <th></th>\n",
       "      <th>Precision</th>\n",
       "      <th>Recall</th>\n",
       "      <th>F1</th>\n",
       "    </tr>\n",
       "  </thead>\n",
       "  <tbody>\n",
       "    <tr>\n",
       "      <th>anger</th>\n",
       "      <td>0.58</td>\n",
       "      <td>0.49</td>\n",
       "      <td>0.53</td>\n",
       "    </tr>\n",
       "    <tr>\n",
       "      <th>disgust</th>\n",
       "      <td>0.51</td>\n",
       "      <td>0.33</td>\n",
       "      <td>0.40</td>\n",
       "    </tr>\n",
       "    <tr>\n",
       "      <th>fear</th>\n",
       "      <td>0.75</td>\n",
       "      <td>0.51</td>\n",
       "      <td>0.61</td>\n",
       "    </tr>\n",
       "    <tr>\n",
       "      <th>joy</th>\n",
       "      <td>0.81</td>\n",
       "      <td>0.82</td>\n",
       "      <td>0.82</td>\n",
       "    </tr>\n",
       "    <tr>\n",
       "      <th>sadness</th>\n",
       "      <td>0.68</td>\n",
       "      <td>0.55</td>\n",
       "      <td>0.61</td>\n",
       "    </tr>\n",
       "    <tr>\n",
       "      <th>surprise</th>\n",
       "      <td>0.56</td>\n",
       "      <td>0.50</td>\n",
       "      <td>0.53</td>\n",
       "    </tr>\n",
       "    <tr>\n",
       "      <th>neutral</th>\n",
       "      <td>0.69</td>\n",
       "      <td>0.50</td>\n",
       "      <td>0.58</td>\n",
       "    </tr>\n",
       "    <tr>\n",
       "      <th>MACRO-AVERAGE</th>\n",
       "      <td>0.65</td>\n",
       "      <td>0.53</td>\n",
       "      <td>0.58</td>\n",
       "    </tr>\n",
       "  </tbody>\n",
       "</table>\n",
       "</div>"
      ],
      "text/plain": [
       "               Precision  Recall    F1\n",
       "anger               0.58    0.49  0.53\n",
       "disgust             0.51    0.33  0.40\n",
       "fear                0.75    0.51  0.61\n",
       "joy                 0.81    0.82  0.82\n",
       "sadness             0.68    0.55  0.61\n",
       "surprise            0.56    0.50  0.53\n",
       "neutral             0.69    0.50  0.58\n",
       "MACRO-AVERAGE       0.65    0.53  0.58"
      ]
     },
     "execution_count": 152,
     "metadata": {},
     "output_type": "execute_result"
    }
   ],
   "source": [
    "# Model evaluation\n",
    "model_eval(y_val, y_pred_labels_val_3, EKMAN_taxonomy)"
   ]
  },
  {
   "cell_type": "markdown",
   "id": "3359939f",
   "metadata": {},
   "source": [
    "### Model 1 - ekaman without neutral - Final"
   ]
  },
  {
   "cell_type": "code",
   "execution_count": 153,
   "id": "d8188fea",
   "metadata": {
    "colab": {
     "base_uri": "https://localhost:8080/",
     "height": 49,
     "referenced_widgets": [
      "afdd0fe6b4444d3d8fb110e39c5b545a",
      "11d89264c87849668c3389f3abcec402",
      "4f82815745c74cf49a3fd0fefa07a936",
      "a52b6fd89f7745208e45a35b8d5cbb25",
      "b7ad46c64b4f45d9ad42847de6875121",
      "6aa2595042604c72a9ec19542d19dfcc",
      "25a9f06ade054211a66ec39705b0033d",
      "de2873a70866483a8fa25b402d80dfec",
      "78c0e7db41a847f998916481e9e65235",
      "f8dd2a89479d4046a277bbfe6089218c",
      "059aeb8799a6469ca780ddf625b95e8c"
     ]
    },
    "id": "fhnT_kSwCohg",
    "outputId": "a5d0a279-ab39-42e3-acf6-934b4fafd572"
   },
   "outputs": [],
   "source": [
    "roberta_transformer = text.Transformer('roberta-base', maxlen=56, classes=EKMAN_taxonomy_no_neu, batch_size=16)"
   ]
  },
  {
   "cell_type": "markdown",
   "id": "944c744b",
   "metadata": {},
   "source": [
    "### Perform Data Preprocessing:"
   ]
  },
  {
   "cell_type": "code",
   "execution_count": 154,
   "id": "02cd56ca",
   "metadata": {
    "scrolled": true
   },
   "outputs": [
    {
     "name": "stdout",
     "output_type": "stream",
     "text": [
      "preprocessing train...\n",
      "language: en\n",
      "train sequence lengths:\n",
      "\tmean : 14\n",
      "\t95percentile : 26\n",
      "\t99percentile : 28\n"
     ]
    },
    {
     "data": {
      "text/html": [
       "\n",
       "<style>\n",
       "    /* Turns off some styling */\n",
       "    progress {\n",
       "        /* gets rid of default border in Firefox and Opera. */\n",
       "        border: none;\n",
       "        /* Needs to be in here for Safari polyfill so background images work as expected. */\n",
       "        background-size: auto;\n",
       "    }\n",
       "    progress:not([value]), progress:not([value])::-webkit-progress-bar {\n",
       "        background: repeating-linear-gradient(45deg, #7e7e7e, #7e7e7e 10px, #5c5c5c 10px, #5c5c5c 20px);\n",
       "    }\n",
       "    .progress-bar-interrupted, .progress-bar-interrupted::-webkit-progress-bar {\n",
       "        background: #F44336;\n",
       "    }\n",
       "</style>\n"
      ],
      "text/plain": [
       "<IPython.core.display.HTML object>"
      ]
     },
     "metadata": {},
     "output_type": "display_data"
    },
    {
     "data": {
      "text/html": [],
      "text/plain": [
       "<IPython.core.display.HTML object>"
      ]
     },
     "metadata": {},
     "output_type": "display_data"
    },
    {
     "name": "stdout",
     "output_type": "stream",
     "text": [
      "Is Multi-Label? True\n",
      "preprocessing test...\n",
      "language: en\n",
      "test sequence lengths:\n",
      "\tmean : 14\n",
      "\t95percentile : 26\n",
      "\t99percentile : 28\n"
     ]
    },
    {
     "data": {
      "text/html": [
       "\n",
       "<style>\n",
       "    /* Turns off some styling */\n",
       "    progress {\n",
       "        /* gets rid of default border in Firefox and Opera. */\n",
       "        border: none;\n",
       "        /* Needs to be in here for Safari polyfill so background images work as expected. */\n",
       "        background-size: auto;\n",
       "    }\n",
       "    progress:not([value]), progress:not([value])::-webkit-progress-bar {\n",
       "        background: repeating-linear-gradient(45deg, #7e7e7e, #7e7e7e 10px, #5c5c5c 10px, #5c5c5c 20px);\n",
       "    }\n",
       "    .progress-bar-interrupted, .progress-bar-interrupted::-webkit-progress-bar {\n",
       "        background: #F44336;\n",
       "    }\n",
       "</style>\n"
      ],
      "text/plain": [
       "<IPython.core.display.HTML object>"
      ]
     },
     "metadata": {},
     "output_type": "display_data"
    },
    {
     "data": {
      "text/html": [],
      "text/plain": [
       "<IPython.core.display.HTML object>"
      ]
     },
     "metadata": {},
     "output_type": "display_data"
    },
    {
     "name": "stdout",
     "output_type": "stream",
     "text": [
      "preprocessing test...\n",
      "language: en\n",
      "test sequence lengths:\n",
      "\tmean : 14\n",
      "\t95percentile : 25\n",
      "\t99percentile : 28\n"
     ]
    },
    {
     "data": {
      "text/html": [
       "\n",
       "<style>\n",
       "    /* Turns off some styling */\n",
       "    progress {\n",
       "        /* gets rid of default border in Firefox and Opera. */\n",
       "        border: none;\n",
       "        /* Needs to be in here for Safari polyfill so background images work as expected. */\n",
       "        background-size: auto;\n",
       "    }\n",
       "    progress:not([value]), progress:not([value])::-webkit-progress-bar {\n",
       "        background: repeating-linear-gradient(45deg, #7e7e7e, #7e7e7e 10px, #5c5c5c 10px, #5c5c5c 20px);\n",
       "    }\n",
       "    .progress-bar-interrupted, .progress-bar-interrupted::-webkit-progress-bar {\n",
       "        background: #F44336;\n",
       "    }\n",
       "</style>\n"
      ],
      "text/plain": [
       "<IPython.core.display.HTML object>"
      ]
     },
     "metadata": {},
     "output_type": "display_data"
    },
    {
     "data": {
      "text/html": [],
      "text/plain": [
       "<IPython.core.display.HTML object>"
      ]
     },
     "metadata": {},
     "output_type": "display_data"
    }
   ],
   "source": [
    "roberta_train = roberta_transformer.preprocess_train(X_train_no_neu.to_list(), y_train_no_neu)\n",
    "roberta_val = roberta_transformer.preprocess_test(X_val_no_neu.to_list(), y_val_no_neu)\n",
    "roberta_test = roberta_transformer.preprocess_test(X_test_no_neu.to_list(), y_test_no_neu)"
   ]
  },
  {
   "cell_type": "markdown",
   "id": "31dda1fa",
   "metadata": {
    "id": "vahQyHQOFBmH"
   },
   "source": [
    "### Compile RoBERTa in a K-Train Learner Object:\n",
    "\n",
    "Since we are using k-train as a high level abstration package, we need to wrap our model in a k-train Learner Object for further compuation"
   ]
  },
  {
   "cell_type": "code",
   "execution_count": 155,
   "id": "17dc263c",
   "metadata": {
    "colab": {
     "base_uri": "https://localhost:8080/",
     "height": 49,
     "referenced_widgets": [
      "d53b674ff45d40aba6475adb74dcb3e0",
      "bda1822cb6f04a34b695b5672d702cf1",
      "78c16388124e4534b689fc7404142e06",
      "5a3d8183fee546e9868c577af6cecbf6",
      "e5cbf541c19844399ff2901ea0f0dbeb",
      "e5fc3c01e5894dc6834c6d0c64deb4aa",
      "e5285948234d43838879edc56a67aff6",
      "5a68ecf5f15040a9b9207e449f90d346",
      "dd65b07b18c04856a012cc4535f8726f",
      "29ec025304354a09b6197600ffb1639d",
      "8f7dc806f3fd48378ce616afc63a29ca"
     ]
    },
    "id": "pz8SyfHnD4jI",
    "outputId": "7945f831-eb31-473f-914a-883d148ddfd7"
   },
   "outputs": [],
   "source": [
    "roberta_model = roberta_transformer.get_classifier()"
   ]
  },
  {
   "cell_type": "code",
   "execution_count": 156,
   "id": "1082cdd4",
   "metadata": {
    "id": "LhXSMlXvFJIg"
   },
   "outputs": [],
   "source": [
    "roberta_learner_ins = ktrain.get_learner(model=roberta_model,\n",
    "                            train_data=roberta_train,\n",
    "                            val_data=roberta_val,\n",
    "                            batch_size=16)"
   ]
  },
  {
   "cell_type": "markdown",
   "id": "3bc44b5c",
   "metadata": {
    "id": "LwXeiW4ZFRW-"
   },
   "source": [
    "### RoBERTa Model Details:"
   ]
  },
  {
   "cell_type": "code",
   "execution_count": 157,
   "id": "913e9936",
   "metadata": {
    "colab": {
     "base_uri": "https://localhost:8080/"
    },
    "id": "h8x9clsAD-CQ",
    "outputId": "adf57072-5d80-4a55-aabb-6a243d719aa9"
   },
   "outputs": [
    {
     "name": "stdout",
     "output_type": "stream",
     "text": [
      "Model: \"tf_roberta_for_sequence_classification_2\"\n",
      "_________________________________________________________________\n",
      "Layer (type)                 Output Shape              Param #   \n",
      "=================================================================\n",
      "roberta (TFRobertaMainLayer) multiple                  124055040 \n",
      "_________________________________________________________________\n",
      "classifier (TFRobertaClassif multiple                  595206    \n",
      "=================================================================\n",
      "Total params: 124,650,246\n",
      "Trainable params: 124,650,246\n",
      "Non-trainable params: 0\n",
      "_________________________________________________________________\n"
     ]
    }
   ],
   "source": [
    "roberta_learner_ins.model.summary()"
   ]
  },
  {
   "cell_type": "markdown",
   "id": "2ba131b7",
   "metadata": {
    "id": "qLnpkZLcFbGo"
   },
   "source": [
    "### Find Optimal Learning Rate for RoBERTa:\n",
    "\n",
    "This is an optional step used just to show how the learning rate can be found for any transformer model.\n",
    "For Transformer models as per the research papers, the optimal learning rates have already been estimated and established."
   ]
  },
  {
   "cell_type": "markdown",
   "id": "b634908e",
   "metadata": {
    "colab": {
     "base_uri": "https://localhost:8080/",
     "height": 523
    },
    "id": "muU7v4cjFV0x",
    "outputId": "717af625-75dc-4bb1-d2e4-64c73021ac10"
   },
   "source": [
    "rate_finder_start_time = timeit.default_timer()\n",
    "roberta_learner_ins.lr_find(show_plot=True, max_epochs=3)\n",
    "rate_finder_stop_time = timeit.default_timer()\n",
    "\n",
    "print(\"\\nTotal time in minutes on estimating optimal learning rate: \\n\", (rate_finder_stop_time - rate_finder_start_time)/60)"
   ]
  },
  {
   "cell_type": "markdown",
   "id": "a2ec7a01",
   "metadata": {},
   "source": [
    "import torch\n",
    "from GPUtil import showUtilization as gpu_usage\n",
    "from numba import cuda\n",
    "\n",
    "def free_gpu_cache():\n",
    "    print(\"Initial GPU Usage\")\n",
    "    gpu_usage()                             \n",
    "\n",
    "    torch.cuda.empty_cache()\n",
    "\n",
    "    cuda.select_device(0)\n",
    "    cuda.close()\n",
    "    cuda.select_device(0)\n",
    "\n",
    "    print(\"GPU Usage after emptying the cache\")\n",
    "    gpu_usage()\n",
    "free_gpu_cache()\n"
   ]
  },
  {
   "cell_type": "markdown",
   "id": "b17e78cc",
   "metadata": {
    "id": "TcigfbJlRy4_"
   },
   "source": [
    "### RoBERTa Optimal Learning Rates:\n",
    "\n",
    "As per the evaluations made in the research paper \"**RoBERTa: A Robustly Optimized BERT Pretraining Approach**\", below are the best choices in terms of fine-tuning the model:\n",
    "\n",
    "* Batch Sizes => {16, 32}\n",
    "* Learning Rates => {1e−5, 2e−5, 3e−5}\n",
    "\n",
    "We will choose the maximum among these for our fine-tuning and evaluation purposes."
   ]
  },
  {
   "cell_type": "markdown",
   "id": "a9f3bda4",
   "metadata": {
    "id": "LuxErKnFVznL"
   },
   "source": [
    "### Fine Tuning RoBERTa on Emotion Dataset:\n",
    "\n",
    "We take our emotion dataset along with the RoBERTa model, define the learning-rate & epochs to be used and start fine-tuning."
   ]
  },
  {
   "cell_type": "code",
   "execution_count": 158,
   "id": "f3f3d250",
   "metadata": {
    "colab": {
     "base_uri": "https://localhost:8080/"
    },
    "id": "02TtNt3xGgyz",
    "outputId": "f62e7b4b-7b07-4f1e-a46f-4ec001aae699"
   },
   "outputs": [
    {
     "name": "stdout",
     "output_type": "stream",
     "text": [
      "\n",
      "\n",
      "begin training using onecycle policy with max lr of 3e-05...\n",
      "Epoch 1/10\n",
      "1912/1912 [==============================] - 270s 135ms/step - loss: 0.2605 - accuracy: 0.7197 - val_loss: 0.1852 - val_accuracy: 0.7924\n",
      "Epoch 2/10\n",
      "1912/1912 [==============================] - 262s 136ms/step - loss: 0.1785 - accuracy: 0.7987 - val_loss: 0.1695 - val_accuracy: 0.8067\n",
      "Epoch 3/10\n",
      "1912/1912 [==============================] - 262s 136ms/step - loss: 0.1605 - accuracy: 0.8207 - val_loss: 0.1698 - val_accuracy: 0.8088\n",
      "Epoch 4/10\n",
      "1912/1912 [==============================] - 262s 136ms/step - loss: 0.1436 - accuracy: 0.8409 - val_loss: 0.1804 - val_accuracy: 0.7913\n",
      "Epoch 5/10\n",
      "1912/1912 [==============================] - 262s 136ms/step - loss: 0.1286 - accuracy: 0.8579 - val_loss: 0.1826 - val_accuracy: 0.8015\n",
      "Epoch 6/10\n",
      "1912/1912 [==============================] - 265s 137ms/step - loss: 0.1099 - accuracy: 0.8832 - val_loss: 0.1988 - val_accuracy: 0.7911\n",
      "Epoch 7/10\n",
      "1912/1912 [==============================] - 265s 137ms/step - loss: 0.0853 - accuracy: 0.9083 - val_loss: 0.2007 - val_accuracy: 0.7960\n",
      "Epoch 8/10\n",
      "1912/1912 [==============================] - 264s 137ms/step - loss: 0.0622 - accuracy: 0.9332 - val_loss: 0.2341 - val_accuracy: 0.7984\n",
      "Epoch 9/10\n",
      "1912/1912 [==============================] - 263s 136ms/step - loss: 0.0460 - accuracy: 0.9449 - val_loss: 0.2591 - val_accuracy: 0.7999\n",
      "Epoch 10/10\n",
      "1912/1912 [==============================] - 263s 136ms/step - loss: 0.0346 - accuracy: 0.9533 - val_loss: 0.2639 - val_accuracy: 0.7976\n",
      "\n",
      "Total time in minutes for Fine-Tuning RoBERTa on Emotion Dataset: \n",
      " 43.96609141000008\n"
     ]
    }
   ],
   "source": [
    "roberta_fine_tune_start_time = timeit.default_timer()\n",
    "roberta_learner_ins.fit_onecycle(lr=3e-5, epochs=10)\n",
    "roberta_fine_tune_stop_time = timeit.default_timer()\n",
    "\n",
    "print(\"\\nTotal time in minutes for Fine-Tuning RoBERTa on Emotion Dataset: \\n\", (roberta_fine_tune_stop_time - roberta_fine_tune_start_time)/60)"
   ]
  },
  {
   "cell_type": "markdown",
   "id": "cc62697a",
   "metadata": {
    "id": "uHV1FvhGdmui"
   },
   "source": [
    "### Checking RoBERTa performance metrics:"
   ]
  },
  {
   "cell_type": "code",
   "execution_count": 159,
   "id": "80b23824",
   "metadata": {
    "colab": {
     "base_uri": "https://localhost:8080/"
    },
    "id": "LW72lIpMXVHU",
    "outputId": "f8e73bcc-bfda-42e9-d13e-674283114c75"
   },
   "outputs": [],
   "source": [
    "roberta_learner_ins.validate()"
   ]
  },
  {
   "cell_type": "code",
   "execution_count": 160,
   "id": "257d420d",
   "metadata": {
    "colab": {
     "base_uri": "https://localhost:8080/"
    },
    "id": "vf-vIGezd7gK",
    "outputId": "14ff373f-079b-4729-dbca-0d7208d1bfc9"
   },
   "outputs": [],
   "source": [
    "roberta_learner_ins.validate(class_names=EKMAN_taxonomy)"
   ]
  },
  {
   "cell_type": "code",
   "execution_count": 161,
   "id": "a091518b",
   "metadata": {
    "colab": {
     "base_uri": "https://localhost:8080/"
    },
    "id": "US2cRxhb1DfT",
    "outputId": "7609ecdc-5266-4433-8bab-dc7d46ec4810"
   },
   "outputs": [
    {
     "name": "stdout",
     "output_type": "stream",
     "text": [
      "----------\n",
      "id:395 | loss:3.08 | true:[1. 0. 0. 0. 0. 1.] | pred:[0.   0.   0.   1.   0.   0.01])\n",
      "\n",
      "----------\n",
      "id:9 | loss:2.88 | true:[0. 0. 0. 0. 1. 1.] | pred:[0.   0.   0.   1.   0.03 0.  ])\n",
      "\n",
      "----------\n",
      "id:1661 | loss:2.79 | true:[0. 0. 0. 0. 1. 1.] | pred:[0.   0.   0.   1.   0.02 0.  ])\n",
      "\n",
      "----------\n",
      "id:1647 | loss:2.69 | true:[1. 0. 0. 0. 1. 0.] | pred:[0.   0.   0.   0.16 0.01 0.98])\n",
      "\n"
     ]
    }
   ],
   "source": [
    "roberta_learner_ins.view_top_losses(preproc=roberta_transformer)"
   ]
  },
  {
   "cell_type": "markdown",
   "id": "eb8aa8a7",
   "metadata": {
    "id": "vSccv20spzkY"
   },
   "source": [
    "### Saving RoBERTa Model:"
   ]
  },
  {
   "cell_type": "code",
   "execution_count": 162,
   "id": "b7a14d72",
   "metadata": {
    "colab": {
     "base_uri": "https://localhost:8080/"
    },
    "id": "F6v0gN8tpzRa",
    "outputId": "07314709-5fb9-4d6e-b8af-3facf107b87c"
   },
   "outputs": [
    {
     "data": {
      "text/plain": [
       "['anger', 'disgust', 'fear', 'joy', 'sadness', 'surprise']"
      ]
     },
     "execution_count": 162,
     "metadata": {},
     "output_type": "execute_result"
    }
   ],
   "source": [
    "roberta_predictor = ktrain.get_predictor(roberta_learner_ins.model, preproc=roberta_transformer)\n",
    "roberta_predictor.get_classes()"
   ]
  },
  {
   "cell_type": "markdown",
   "id": "d01d3483",
   "metadata": {},
   "source": [
    "### LR - 3e-5, batch size = 16, epochs = 10, maxlen=56"
   ]
  },
  {
   "cell_type": "code",
   "execution_count": 167,
   "id": "9d89a663",
   "metadata": {},
   "outputs": [],
   "source": [
    "roberta_predictor.save('roberta-emotion-predictor-ekman-no-neutral-1.1')"
   ]
  },
  {
   "cell_type": "code",
   "execution_count": 168,
   "id": "cfc93b01",
   "metadata": {},
   "outputs": [
    {
     "data": {
      "text/plain": [
       "['anger', 'disgust', 'fear', 'joy', 'sadness', 'surprise']"
      ]
     },
     "execution_count": 168,
     "metadata": {},
     "output_type": "execute_result"
    }
   ],
   "source": [
    "roberta_predictor_2 = ktrain.load_predictor('roberta-emotion-predictor-ekman-no-neutral-1.1')\n",
    "roberta_predictor_2.get_classes()"
   ]
  },
  {
   "cell_type": "code",
   "execution_count": 169,
   "id": "685b6b80",
   "metadata": {},
   "outputs": [],
   "source": [
    "test_predictions_1 = roberta_predictor_2.predict(X_test_no_neu.to_list())\n",
    "val_predictions_1 = roberta_predictor_2.predict(X_val_no_neu.to_list())"
   ]
  },
  {
   "cell_type": "code",
   "execution_count": 170,
   "id": "a47dc5b4",
   "metadata": {
    "scrolled": true
   },
   "outputs": [],
   "source": [
    "test_proba_3 = get_proba(test_predictions_1)\n",
    "test_proba_3 = np.array(test_proba_3)\n",
    "\n",
    "val_proba_3 = get_proba(val_predictions_1)\n",
    "val_proba_3 = np.array(val_proba_3)\n"
   ]
  },
  {
   "cell_type": "code",
   "execution_count": 171,
   "id": "d2976a51",
   "metadata": {},
   "outputs": [],
   "source": [
    "# Generate labels\n",
    "y_pred_labels_test_3 = proba_to_labels(test_proba_3)\n",
    "y_pred_labels_val_3 = proba_to_labels(val_proba_3)\n"
   ]
  },
  {
   "cell_type": "code",
   "execution_count": 174,
   "id": "49bc0e50",
   "metadata": {
    "scrolled": true
   },
   "outputs": [
    {
     "data": {
      "text/html": [
       "<div>\n",
       "<style scoped>\n",
       "    .dataframe tbody tr th:only-of-type {\n",
       "        vertical-align: middle;\n",
       "    }\n",
       "\n",
       "    .dataframe tbody tr th {\n",
       "        vertical-align: top;\n",
       "    }\n",
       "\n",
       "    .dataframe thead th {\n",
       "        text-align: right;\n",
       "    }\n",
       "</style>\n",
       "<table border=\"1\" class=\"dataframe\">\n",
       "  <thead>\n",
       "    <tr style=\"text-align: right;\">\n",
       "      <th></th>\n",
       "      <th>Precision</th>\n",
       "      <th>Recall</th>\n",
       "      <th>F1</th>\n",
       "    </tr>\n",
       "  </thead>\n",
       "  <tbody>\n",
       "    <tr>\n",
       "      <th>anger</th>\n",
       "      <td>0.74</td>\n",
       "      <td>0.59</td>\n",
       "      <td>0.66</td>\n",
       "    </tr>\n",
       "    <tr>\n",
       "      <th>disgust</th>\n",
       "      <td>0.59</td>\n",
       "      <td>0.40</td>\n",
       "      <td>0.48</td>\n",
       "    </tr>\n",
       "    <tr>\n",
       "      <th>fear</th>\n",
       "      <td>0.66</td>\n",
       "      <td>0.66</td>\n",
       "      <td>0.66</td>\n",
       "    </tr>\n",
       "    <tr>\n",
       "      <th>joy</th>\n",
       "      <td>0.89</td>\n",
       "      <td>0.91</td>\n",
       "      <td>0.90</td>\n",
       "    </tr>\n",
       "    <tr>\n",
       "      <th>sadness</th>\n",
       "      <td>0.70</td>\n",
       "      <td>0.58</td>\n",
       "      <td>0.63</td>\n",
       "    </tr>\n",
       "    <tr>\n",
       "      <th>surprise</th>\n",
       "      <td>0.75</td>\n",
       "      <td>0.65</td>\n",
       "      <td>0.69</td>\n",
       "    </tr>\n",
       "    <tr>\n",
       "      <th>MACRO-AVERAGE</th>\n",
       "      <td>0.72</td>\n",
       "      <td>0.63</td>\n",
       "      <td>0.67</td>\n",
       "    </tr>\n",
       "  </tbody>\n",
       "</table>\n",
       "</div>"
      ],
      "text/plain": [
       "               Precision  Recall    F1\n",
       "anger               0.74    0.59  0.66\n",
       "disgust             0.59    0.40  0.48\n",
       "fear                0.66    0.66  0.66\n",
       "joy                 0.89    0.91  0.90\n",
       "sadness             0.70    0.58  0.63\n",
       "surprise            0.75    0.65  0.69\n",
       "MACRO-AVERAGE       0.72    0.63  0.67"
      ]
     },
     "execution_count": 174,
     "metadata": {},
     "output_type": "execute_result"
    }
   ],
   "source": [
    "# Model evaluation\n",
    "model_eval(y_test_no_neu, y_pred_labels_test_3,EKMAN_taxonomy_no_neu )"
   ]
  },
  {
   "cell_type": "code",
   "execution_count": 175,
   "id": "c5ea090e",
   "metadata": {
    "scrolled": true
   },
   "outputs": [
    {
     "data": {
      "text/html": [
       "<div>\n",
       "<style scoped>\n",
       "    .dataframe tbody tr th:only-of-type {\n",
       "        vertical-align: middle;\n",
       "    }\n",
       "\n",
       "    .dataframe tbody tr th {\n",
       "        vertical-align: top;\n",
       "    }\n",
       "\n",
       "    .dataframe thead th {\n",
       "        text-align: right;\n",
       "    }\n",
       "</style>\n",
       "<table border=\"1\" class=\"dataframe\">\n",
       "  <thead>\n",
       "    <tr style=\"text-align: right;\">\n",
       "      <th></th>\n",
       "      <th>Precision</th>\n",
       "      <th>Recall</th>\n",
       "      <th>F1</th>\n",
       "    </tr>\n",
       "  </thead>\n",
       "  <tbody>\n",
       "    <tr>\n",
       "      <th>anger</th>\n",
       "      <td>0.75</td>\n",
       "      <td>0.63</td>\n",
       "      <td>0.69</td>\n",
       "    </tr>\n",
       "    <tr>\n",
       "      <th>disgust</th>\n",
       "      <td>0.45</td>\n",
       "      <td>0.35</td>\n",
       "      <td>0.39</td>\n",
       "    </tr>\n",
       "    <tr>\n",
       "      <th>fear</th>\n",
       "      <td>0.73</td>\n",
       "      <td>0.58</td>\n",
       "      <td>0.65</td>\n",
       "    </tr>\n",
       "    <tr>\n",
       "      <th>joy</th>\n",
       "      <td>0.91</td>\n",
       "      <td>0.91</td>\n",
       "      <td>0.91</td>\n",
       "    </tr>\n",
       "    <tr>\n",
       "      <th>sadness</th>\n",
       "      <td>0.74</td>\n",
       "      <td>0.61</td>\n",
       "      <td>0.67</td>\n",
       "    </tr>\n",
       "    <tr>\n",
       "      <th>surprise</th>\n",
       "      <td>0.76</td>\n",
       "      <td>0.64</td>\n",
       "      <td>0.69</td>\n",
       "    </tr>\n",
       "    <tr>\n",
       "      <th>MACRO-AVERAGE</th>\n",
       "      <td>0.72</td>\n",
       "      <td>0.62</td>\n",
       "      <td>0.66</td>\n",
       "    </tr>\n",
       "  </tbody>\n",
       "</table>\n",
       "</div>"
      ],
      "text/plain": [
       "               Precision  Recall    F1\n",
       "anger               0.75    0.63  0.69\n",
       "disgust             0.45    0.35  0.39\n",
       "fear                0.73    0.58  0.65\n",
       "joy                 0.91    0.91  0.91\n",
       "sadness             0.74    0.61  0.67\n",
       "surprise            0.76    0.64  0.69\n",
       "MACRO-AVERAGE       0.72    0.62  0.66"
      ]
     },
     "execution_count": 175,
     "metadata": {},
     "output_type": "execute_result"
    }
   ],
   "source": [
    "# Model evaluation\n",
    "model_eval(y_val_no_neu, y_pred_labels_val_3, EKMAN_taxonomy_no_neu)"
   ]
  },
  {
   "cell_type": "code",
   "execution_count": null,
   "id": "2d83aba0",
   "metadata": {},
   "outputs": [],
   "source": []
  },
  {
   "cell_type": "code",
   "execution_count": null,
   "id": "9e396dfb",
   "metadata": {},
   "outputs": [],
   "source": []
  },
  {
   "cell_type": "code",
   "execution_count": null,
   "id": "c44ff84f",
   "metadata": {},
   "outputs": [],
   "source": []
  },
  {
   "cell_type": "markdown",
   "id": "e624f14d",
   "metadata": {},
   "source": [
    "### RoBERTa modelling for Ekman Emotions with no neutral emotion"
   ]
  },
  {
   "cell_type": "code",
   "execution_count": 38,
   "id": "1a8e78ba",
   "metadata": {},
   "outputs": [],
   "source": [
    "roberta_transformer_no_neu = text.Transformer('roberta-base', maxlen=256, classes=EKMAN_taxonomy_no_neu, batch_size=6)"
   ]
  },
  {
   "cell_type": "code",
   "execution_count": 39,
   "id": "01756b63",
   "metadata": {
    "colab": {
     "base_uri": "https://localhost:8080/",
     "height": 334,
     "referenced_widgets": [
      "717b05adc6f5476ba6063aa229a16f37",
      "6001dc8b57e84702b932672c434c9de2",
      "af0d2453bc6e486eb767f2d89915828b",
      "7640f257a4ed4250aee72f08c98443b0",
      "a68c7b4b8de44e02af8fccd138b2b704",
      "d93f113fd01648cdad34de2bfa5f51f6",
      "4ab3a5214ca44724bbef5db9217509ed",
      "1e4ccfda3483499d94a7f9fac0d527df",
      "4ed6bacd5eb6419ebf1ae036ab43e049",
      "668b7985eecf4702a21b3947bf458417",
      "24287d6881e64369ad4ded64e4ec2074",
      "c8ad6de8dbf74eee850e1540eafb2b38",
      "8e0bda1a42c044cc857b839495f76d84",
      "f6a139a5f5bb4557a27ebb645e989488",
      "49afd787d65d45e4be6e462f15cef70c",
      "80b995efec2148179204d956c735e971",
      "20c634c9fcf44058904f5161a9d6f41a",
      "d9f6f768111c4c519aaee8cef3cb47ab",
      "ab253c8bbe604f8db7b17d238d0b71c4",
      "0c034982e6fa408c9e47e24cf749917f",
      "ee4d6090d41b4a6da30aec8442a80f5f",
      "b86a65357f394dcbb225cb5c1c50489a",
      "4fad832b3da34445a8799fb522927bdf",
      "c88e4b312f19460f857764b693c1d81d",
      "152a178529ea48dba5e50dff32bb35e0",
      "ed449fff8a63400b86c07183077d5bb5",
      "7477e94f17704f51ababd6ce2e6e9be7",
      "8decddb97a28491986348e1e3ee7cc7d",
      "59953fe9a1a84d3e9db0f37a5afc1477",
      "3455fccef6e247c4b4bfbe1bb44ed214",
      "e2655e21e8be45e58df6f6d361459564",
      "648cf03266094386a03a00fcc486e0da",
      "134d382078684dfa909459d12f851599"
     ]
    },
    "id": "SmJ_UC8EDbnA",
    "outputId": "141a4ca0-5e40-4e89-85d6-546974eba66a",
    "scrolled": true
   },
   "outputs": [
    {
     "name": "stdout",
     "output_type": "stream",
     "text": [
      "preprocessing train...\n",
      "language: en\n",
      "train sequence lengths:\n",
      "\tmean : 14\n",
      "\t95percentile : 26\n",
      "\t99percentile : 28\n"
     ]
    },
    {
     "data": {
      "text/html": [
       "\n",
       "<style>\n",
       "    /* Turns off some styling */\n",
       "    progress {\n",
       "        /* gets rid of default border in Firefox and Opera. */\n",
       "        border: none;\n",
       "        /* Needs to be in here for Safari polyfill so background images work as expected. */\n",
       "        background-size: auto;\n",
       "    }\n",
       "    progress:not([value]), progress:not([value])::-webkit-progress-bar {\n",
       "        background: repeating-linear-gradient(45deg, #7e7e7e, #7e7e7e 10px, #5c5c5c 10px, #5c5c5c 20px);\n",
       "    }\n",
       "    .progress-bar-interrupted, .progress-bar-interrupted::-webkit-progress-bar {\n",
       "        background: #F44336;\n",
       "    }\n",
       "</style>\n"
      ],
      "text/plain": [
       "<IPython.core.display.HTML object>"
      ]
     },
     "metadata": {},
     "output_type": "display_data"
    },
    {
     "data": {
      "text/html": [],
      "text/plain": [
       "<IPython.core.display.HTML object>"
      ]
     },
     "metadata": {},
     "output_type": "display_data"
    },
    {
     "name": "stdout",
     "output_type": "stream",
     "text": [
      "Is Multi-Label? False\n",
      "preprocessing test...\n",
      "language: en\n",
      "test sequence lengths:\n",
      "\tmean : 14\n",
      "\t95percentile : 26\n",
      "\t99percentile : 28\n"
     ]
    },
    {
     "data": {
      "text/html": [
       "\n",
       "<style>\n",
       "    /* Turns off some styling */\n",
       "    progress {\n",
       "        /* gets rid of default border in Firefox and Opera. */\n",
       "        border: none;\n",
       "        /* Needs to be in here for Safari polyfill so background images work as expected. */\n",
       "        background-size: auto;\n",
       "    }\n",
       "    progress:not([value]), progress:not([value])::-webkit-progress-bar {\n",
       "        background: repeating-linear-gradient(45deg, #7e7e7e, #7e7e7e 10px, #5c5c5c 10px, #5c5c5c 20px);\n",
       "    }\n",
       "    .progress-bar-interrupted, .progress-bar-interrupted::-webkit-progress-bar {\n",
       "        background: #F44336;\n",
       "    }\n",
       "</style>\n"
      ],
      "text/plain": [
       "<IPython.core.display.HTML object>"
      ]
     },
     "metadata": {},
     "output_type": "display_data"
    },
    {
     "data": {
      "text/html": [],
      "text/plain": [
       "<IPython.core.display.HTML object>"
      ]
     },
     "metadata": {},
     "output_type": "display_data"
    },
    {
     "name": "stdout",
     "output_type": "stream",
     "text": [
      "preprocessing test...\n",
      "language: en\n",
      "test sequence lengths:\n",
      "\tmean : 14\n",
      "\t95percentile : 25\n",
      "\t99percentile : 28\n"
     ]
    },
    {
     "data": {
      "text/html": [
       "\n",
       "<style>\n",
       "    /* Turns off some styling */\n",
       "    progress {\n",
       "        /* gets rid of default border in Firefox and Opera. */\n",
       "        border: none;\n",
       "        /* Needs to be in here for Safari polyfill so background images work as expected. */\n",
       "        background-size: auto;\n",
       "    }\n",
       "    progress:not([value]), progress:not([value])::-webkit-progress-bar {\n",
       "        background: repeating-linear-gradient(45deg, #7e7e7e, #7e7e7e 10px, #5c5c5c 10px, #5c5c5c 20px);\n",
       "    }\n",
       "    .progress-bar-interrupted, .progress-bar-interrupted::-webkit-progress-bar {\n",
       "        background: #F44336;\n",
       "    }\n",
       "</style>\n"
      ],
      "text/plain": [
       "<IPython.core.display.HTML object>"
      ]
     },
     "metadata": {},
     "output_type": "display_data"
    },
    {
     "data": {
      "text/html": [],
      "text/plain": [
       "<IPython.core.display.HTML object>"
      ]
     },
     "metadata": {},
     "output_type": "display_data"
    }
   ],
   "source": [
    "roberta_train_no_neu = roberta_transformer_no_neu.preprocess_train(X_train_no_neu.to_list(), y_train_no_neu.to_list())\n",
    "roberta_val_no_neu = roberta_transformer_no_neu.preprocess_test(X_val_no_neu.to_list(), y_val_no_neu.to_list())\n",
    "roberta_test_no_neu = roberta_transformer_no_neu.preprocess_test(X_test_no_neu.to_list(), y_test_no_neu.to_list())"
   ]
  },
  {
   "cell_type": "code",
   "execution_count": 40,
   "id": "530d2e19",
   "metadata": {
    "colab": {
     "base_uri": "https://localhost:8080/",
     "height": 49,
     "referenced_widgets": [
      "d53b674ff45d40aba6475adb74dcb3e0",
      "bda1822cb6f04a34b695b5672d702cf1",
      "78c16388124e4534b689fc7404142e06",
      "5a3d8183fee546e9868c577af6cecbf6",
      "e5cbf541c19844399ff2901ea0f0dbeb",
      "e5fc3c01e5894dc6834c6d0c64deb4aa",
      "e5285948234d43838879edc56a67aff6",
      "5a68ecf5f15040a9b9207e449f90d346",
      "dd65b07b18c04856a012cc4535f8726f",
      "29ec025304354a09b6197600ffb1639d",
      "8f7dc806f3fd48378ce616afc63a29ca"
     ]
    },
    "id": "pz8SyfHnD4jI",
    "outputId": "7945f831-eb31-473f-914a-883d148ddfd7"
   },
   "outputs": [],
   "source": [
    "roberta_model_no_neu = roberta_transformer_no_neu.get_classifier()"
   ]
  },
  {
   "cell_type": "code",
   "execution_count": 41,
   "id": "1e0e1db9",
   "metadata": {
    "id": "LhXSMlXvFJIg"
   },
   "outputs": [],
   "source": [
    "roberta_learner_ins_no_neu = ktrain.get_learner(model=roberta_model_no_neu,\n",
    "                            train_data=roberta_train_no_neu,\n",
    "                            val_data=roberta_val_no_neu,\n",
    "                            batch_size=6)"
   ]
  },
  {
   "cell_type": "markdown",
   "id": "e677bbc3",
   "metadata": {
    "id": "LwXeiW4ZFRW-"
   },
   "source": [
    "### RoBERTa Model Details:"
   ]
  },
  {
   "cell_type": "code",
   "execution_count": 42,
   "id": "0ecda452",
   "metadata": {
    "colab": {
     "base_uri": "https://localhost:8080/"
    },
    "id": "h8x9clsAD-CQ",
    "outputId": "adf57072-5d80-4a55-aabb-6a243d719aa9"
   },
   "outputs": [
    {
     "name": "stdout",
     "output_type": "stream",
     "text": [
      "Model: \"tf_roberta_for_sequence_classification\"\n",
      "_________________________________________________________________\n",
      "Layer (type)                 Output Shape              Param #   \n",
      "=================================================================\n",
      "roberta (TFRobertaMainLayer) multiple                  124055040 \n",
      "_________________________________________________________________\n",
      "classifier (TFRobertaClassif multiple                  595206    \n",
      "=================================================================\n",
      "Total params: 124,650,246\n",
      "Trainable params: 124,650,246\n",
      "Non-trainable params: 0\n",
      "_________________________________________________________________\n"
     ]
    }
   ],
   "source": [
    "roberta_learner_ins_no_neu.model.summary()"
   ]
  },
  {
   "cell_type": "markdown",
   "id": "1d5083ff",
   "metadata": {
    "id": "qLnpkZLcFbGo"
   },
   "source": [
    "### Find Optimal Learning Rate for RoBERTa:\n",
    "\n",
    "This is an optional step used just to show how the learning rate can be found for any transformer model.\n",
    "For Transformer models as per the research papers, the optimal learning rates have already been estimated and established."
   ]
  },
  {
   "cell_type": "code",
   "execution_count": 43,
   "id": "9b68ecaf",
   "metadata": {
    "colab": {
     "base_uri": "https://localhost:8080/",
     "height": 523
    },
    "id": "muU7v4cjFV0x",
    "outputId": "717af625-75dc-4bb1-d2e4-64c73021ac10"
   },
   "outputs": [
    {
     "name": "stdout",
     "output_type": "stream",
     "text": [
      "simulating training for different learning rates... this may take a few moments...\n",
      "Epoch 1/3\n",
      "4865/4865 [==============================] - 1046s 212ms/step - loss: 1.0768 - accuracy: 0.6029\n",
      "Epoch 2/3\n",
      "4865/4865 [==============================] - 1035s 213ms/step - loss: 1.9488 - accuracy: 0.5290\n",
      "Epoch 3/3\n",
      "4865/4865 [==============================] - 0s 16us/step - loss: 37.7874 - accuracy: 0.4286\n",
      "\n",
      "\n",
      "done.\n",
      "Visually inspect loss plot and select learning rate associated with falling loss\n"
     ]
    },
    {
     "data": {
      "image/png": "[encoded data removed]",
      "text/plain": [
       "<Figure size 432x288 with 1 Axes>"
      ]
     },
     "metadata": {
      "needs_background": "light"
     },
     "output_type": "display_data"
    },
    {
     "name": "stdout",
     "output_type": "stream",
     "text": [
      "\n",
      "Total time in minutes on estimating optimal learning rate: \n",
      " 34.738559521666666\n"
     ]
    }
   ],
   "source": [
    "rate_finder_start_time = timeit.default_timer()\n",
    "roberta_learner_ins_no_neu.lr_find(show_plot=True, max_epochs=3)\n",
    "rate_finder_stop_time = timeit.default_timer()\n",
    "\n",
    "print(\"\\nTotal time in minutes on estimating optimal learning rate: \\n\", (rate_finder_stop_time - rate_finder_start_time)/60)"
   ]
  },
  {
   "cell_type": "markdown",
   "id": "256f804e",
   "metadata": {
    "id": "LuxErKnFVznL"
   },
   "source": [
    "### Fine Tuning RoBERTa on Emotion Dataset:\n",
    "\n",
    "We take our emotion dataset along with the RoBERTa model, define the learning-rate & epochs to be used and start fine-tuning."
   ]
  },
  {
   "cell_type": "code",
   "execution_count": 44,
   "id": "d6a5db21",
   "metadata": {
    "colab": {
     "base_uri": "https://localhost:8080/"
    },
    "id": "02TtNt3xGgyz",
    "outputId": "f62e7b4b-7b07-4f1e-a46f-4ec001aae699"
   },
   "outputs": [
    {
     "name": "stdout",
     "output_type": "stream",
     "text": [
      "\n",
      "\n",
      "begin training using onecycle policy with max lr of 5e-05...\n",
      "Epoch 1/3\n",
      "4866/4866 [==============================] - 1058s 215ms/step - loss: 0.7503 - accuracy: 0.7405 - val_loss: 0.6246 - val_accuracy: 0.7899\n",
      "Epoch 2/3\n",
      "4866/4866 [==============================] - 1045s 214ms/step - loss: 0.6523 - accuracy: 0.7735 - val_loss: 0.6294 - val_accuracy: 0.7811\n",
      "Epoch 3/3\n",
      "4866/4866 [==============================] - 1046s 214ms/step - loss: 0.4871 - accuracy: 0.8296 - val_loss: 0.5800 - val_accuracy: 0.8003\n",
      "\n",
      "Total time in minutes for Fine-Tuning RoBERTa on Emotion Dataset: \n",
      " 52.47507875666667\n"
     ]
    }
   ],
   "source": [
    "roberta_fine_tune_start_time = timeit.default_timer()\n",
    "roberta_learner_ins_no_neu.fit_onecycle(lr=5e-5, epochs=3)\n",
    "roberta_fine_tune_stop_time = timeit.default_timer()\n",
    "\n",
    "print(\"\\nTotal time in minutes for Fine-Tuning RoBERTa on Emotion Dataset: \\n\", (roberta_fine_tune_stop_time - roberta_fine_tune_start_time)/60)"
   ]
  },
  {
   "cell_type": "markdown",
   "id": "776358ea",
   "metadata": {
    "id": "uHV1FvhGdmui"
   },
   "source": [
    "### Checking RoBERTa performance metrics:"
   ]
  },
  {
   "cell_type": "code",
   "execution_count": 45,
   "id": "9179e08f",
   "metadata": {
    "colab": {
     "base_uri": "https://localhost:8080/"
    },
    "id": "LW72lIpMXVHU",
    "outputId": "f8e73bcc-bfda-42e9-d13e-674283114c75"
   },
   "outputs": [
    {
     "name": "stdout",
     "output_type": "stream",
     "text": [
      "              precision    recall  f1-score   support\n",
      "\n",
      "           0       0.69      0.70      0.69       582\n",
      "           1       0.46      0.44      0.45        81\n",
      "           2       0.77      0.65      0.71        89\n",
      "           3       0.87      0.92      0.89      1997\n",
      "           4       0.74      0.64      0.69       352\n",
      "           5       0.73      0.64      0.69       559\n",
      "\n",
      "    accuracy                           0.80      3660\n",
      "   macro avg       0.71      0.67      0.69      3660\n",
      "weighted avg       0.80      0.80      0.80      3660\n",
      "\n"
     ]
    },
    {
     "data": {
      "text/plain": [
       "array([[ 405,   25,    4,   87,   24,   37],\n",
       "       [  24,   36,    3,   10,    3,    5],\n",
       "       [   8,    1,   58,   15,    5,    2],\n",
       "       [  54,    1,    4, 1844,   32,   62],\n",
       "       [  39,   12,    3,   47,  226,   25],\n",
       "       [  54,    4,    3,  123,   15,  360]], dtype=int64)"
      ]
     },
     "execution_count": 45,
     "metadata": {},
     "output_type": "execute_result"
    }
   ],
   "source": [
    "roberta_learner_ins_no_neu.validate()"
   ]
  },
  {
   "cell_type": "code",
   "execution_count": 46,
   "id": "8af0edee",
   "metadata": {
    "colab": {
     "base_uri": "https://localhost:8080/"
    },
    "id": "vf-vIGezd7gK",
    "outputId": "14ff373f-079b-4729-dbca-0d7208d1bfc9"
   },
   "outputs": [
    {
     "name": "stdout",
     "output_type": "stream",
     "text": [
      "              precision    recall  f1-score   support\n",
      "\n",
      "       anger       0.69      0.70      0.69       582\n",
      "     disgust       0.46      0.44      0.45        81\n",
      "        fear       0.77      0.65      0.71        89\n",
      "         joy       0.87      0.92      0.89      1997\n",
      "     sadness       0.74      0.64      0.69       352\n",
      "    surprise       0.73      0.64      0.69       559\n",
      "\n",
      "    accuracy                           0.80      3660\n",
      "   macro avg       0.71      0.67      0.69      3660\n",
      "weighted avg       0.80      0.80      0.80      3660\n",
      "\n"
     ]
    },
    {
     "data": {
      "text/plain": [
       "array([[ 405,   25,    4,   87,   24,   37],\n",
       "       [  24,   36,    3,   10,    3,    5],\n",
       "       [   8,    1,   58,   15,    5,    2],\n",
       "       [  54,    1,    4, 1844,   32,   62],\n",
       "       [  39,   12,    3,   47,  226,   25],\n",
       "       [  54,    4,    3,  123,   15,  360]], dtype=int64)"
      ]
     },
     "execution_count": 46,
     "metadata": {},
     "output_type": "execute_result"
    }
   ],
   "source": [
    "roberta_learner_ins_no_neu.validate(class_names=EKMAN_taxonomy_no_neu)"
   ]
  },
  {
   "cell_type": "code",
   "execution_count": 47,
   "id": "d9a75cf8",
   "metadata": {
    "colab": {
     "base_uri": "https://localhost:8080/"
    },
    "id": "US2cRxhb1DfT",
    "outputId": "7609ecdc-5266-4433-8bab-dc7d46ec4810"
   },
   "outputs": [
    {
     "name": "stdout",
     "output_type": "stream",
     "text": [
      "----------\n",
      "id:1966 | loss:7.11 | true:fear | pred:surprise)\n",
      "\n",
      "----------\n",
      "id:1585 | loss:6.94 | true:disgust | pred:joy)\n",
      "\n",
      "----------\n",
      "id:3024 | loss:6.76 | true:sadness | pred:joy)\n",
      "\n",
      "----------\n",
      "id:1464 | loss:6.7 | true:anger | pred:joy)\n",
      "\n"
     ]
    }
   ],
   "source": [
    "roberta_learner_ins_no_neu.view_top_losses(preproc=roberta_transformer_no_neu)"
   ]
  },
  {
   "cell_type": "markdown",
   "id": "0020f3dc",
   "metadata": {
    "id": "vSccv20spzkY"
   },
   "source": [
    "### Saving RoBERTa Model:"
   ]
  },
  {
   "cell_type": "code",
   "execution_count": 48,
   "id": "fdfdeb5d",
   "metadata": {
    "colab": {
     "base_uri": "https://localhost:8080/"
    },
    "id": "F6v0gN8tpzRa",
    "outputId": "07314709-5fb9-4d6e-b8af-3facf107b87c"
   },
   "outputs": [
    {
     "data": {
      "text/plain": [
       "['anger', 'disgust', 'fear', 'joy', 'sadness', 'surprise']"
      ]
     },
     "execution_count": 48,
     "metadata": {},
     "output_type": "execute_result"
    }
   ],
   "source": [
    "roberta_predictor_no_neu = ktrain.get_predictor(roberta_learner_ins_no_neu.model, preproc=roberta_transformer_no_neu)\n",
    "roberta_predictor_no_neu.get_classes()"
   ]
  },
  {
   "cell_type": "code",
   "execution_count": 49,
   "id": "1d64b247",
   "metadata": {},
   "outputs": [],
   "source": [
    "roberta_predictor_no_neu.save('roberta-emotion-predictor_no_neu')"
   ]
  },
  {
   "cell_type": "markdown",
   "id": "0a11f97d",
   "metadata": {
    "id": "WaMCA3xFqaQJ"
   },
   "source": [
    "### Loading Saved Model for New Predictions:"
   ]
  },
  {
   "cell_type": "code",
   "execution_count": 67,
   "id": "b4a8d07c",
   "metadata": {
    "colab": {
     "base_uri": "https://localhost:8080/"
    },
    "id": "I0xhFPYeqZ8Y",
    "outputId": "5de4c6d3-b256-4232-ca38-71e2d5c5aa24"
   },
   "outputs": [
    {
     "data": {
      "text/plain": [
       "['anger', 'disgust', 'fear', 'joy', 'sadness', 'surprise']"
      ]
     },
     "execution_count": 67,
     "metadata": {},
     "output_type": "execute_result"
    }
   ],
   "source": [
    "roberta_predictor_new_no_neu = ktrain.load_predictor('roberta-emotion-predictor_no_neu')\n",
    "roberta_predictor_new_no_neu.get_classes()"
   ]
  },
  {
   "cell_type": "code",
   "execution_count": 68,
   "id": "13f52e7b",
   "metadata": {},
   "outputs": [
    {
     "data": {
      "text/plain": [
       "<ktrain.text.predictor.TextPredictor at 0x23b040b0610>"
      ]
     },
     "execution_count": 68,
     "metadata": {},
     "output_type": "execute_result"
    }
   ],
   "source": [
    "roberta_predictor_new_no_neu"
   ]
  },
  {
   "cell_type": "code",
   "execution_count": 69,
   "id": "bf8eb0c4",
   "metadata": {},
   "outputs": [],
   "source": [
    "val_predictions_no_neu = roberta_predictor_new_no_neu.predict(X_val_no_neu.to_list())"
   ]
  },
  {
   "cell_type": "code",
   "execution_count": 73,
   "id": "921182b1",
   "metadata": {},
   "outputs": [
    {
     "data": {
      "text/plain": [
       "['surprise',\n",
       " 'joy',\n",
       " 'sadness',\n",
       " 'anger',\n",
       " 'joy',\n",
       " 'joy',\n",
       " 'anger',\n",
       " 'joy',\n",
       " 'joy',\n",
       " 'joy',\n",
       " 'joy',\n",
       " 'joy',\n",
       " 'sadness',\n",
       " 'anger',\n",
       " 'sadness',\n",
       " 'anger',\n",
       " 'anger',\n",
       " 'surprise',\n",
       " 'joy',\n",
       " 'anger',\n",
       " 'joy',\n",
       " 'joy',\n",
       " 'anger',\n",
       " 'joy',\n",
       " 'anger',\n",
       " 'sadness',\n",
       " 'anger',\n",
       " 'joy',\n",
       " 'joy',\n",
       " 'joy',\n",
       " 'joy',\n",
       " 'fear',\n",
       " 'joy',\n",
       " 'anger',\n",
       " 'sadness',\n",
       " 'sadness',\n",
       " 'joy',\n",
       " 'anger',\n",
       " 'surprise',\n",
       " 'joy',\n",
       " 'joy',\n",
       " 'joy',\n",
       " 'sadness',\n",
       " 'surprise',\n",
       " 'sadness',\n",
       " 'anger',\n",
       " 'joy',\n",
       " 'joy',\n",
       " 'joy',\n",
       " 'surprise',\n",
       " 'sadness',\n",
       " 'sadness',\n",
       " 'joy',\n",
       " 'surprise',\n",
       " 'sadness',\n",
       " 'joy',\n",
       " 'surprise',\n",
       " 'sadness',\n",
       " 'surprise',\n",
       " 'joy',\n",
       " 'surprise',\n",
       " 'fear',\n",
       " 'anger',\n",
       " 'joy',\n",
       " 'surprise',\n",
       " 'joy',\n",
       " 'joy',\n",
       " 'joy',\n",
       " 'joy',\n",
       " 'anger',\n",
       " 'joy',\n",
       " 'anger',\n",
       " 'anger',\n",
       " 'anger',\n",
       " 'joy',\n",
       " 'joy',\n",
       " 'joy',\n",
       " 'joy',\n",
       " 'joy',\n",
       " 'sadness',\n",
       " 'joy',\n",
       " 'joy',\n",
       " 'joy',\n",
       " 'sadness',\n",
       " 'anger',\n",
       " 'joy',\n",
       " 'joy',\n",
       " 'surprise',\n",
       " 'surprise',\n",
       " 'surprise',\n",
       " 'surprise',\n",
       " 'joy',\n",
       " 'joy',\n",
       " 'joy',\n",
       " 'joy',\n",
       " 'surprise',\n",
       " 'sadness',\n",
       " 'anger',\n",
       " 'joy',\n",
       " 'sadness',\n",
       " 'anger',\n",
       " 'joy',\n",
       " 'joy',\n",
       " 'fear',\n",
       " 'joy',\n",
       " 'joy',\n",
       " 'joy',\n",
       " 'joy',\n",
       " 'surprise',\n",
       " 'joy',\n",
       " 'joy',\n",
       " 'joy',\n",
       " 'sadness',\n",
       " 'anger',\n",
       " 'anger',\n",
       " 'joy',\n",
       " 'joy',\n",
       " 'surprise',\n",
       " 'joy',\n",
       " 'joy',\n",
       " 'disgust',\n",
       " 'surprise',\n",
       " 'joy',\n",
       " 'anger',\n",
       " 'sadness',\n",
       " 'anger',\n",
       " 'anger',\n",
       " 'joy',\n",
       " 'joy',\n",
       " 'joy',\n",
       " 'joy',\n",
       " 'anger',\n",
       " 'anger',\n",
       " 'joy',\n",
       " 'anger',\n",
       " 'joy',\n",
       " 'joy',\n",
       " 'surprise',\n",
       " 'joy',\n",
       " 'joy',\n",
       " 'joy',\n",
       " 'joy',\n",
       " 'joy',\n",
       " 'anger',\n",
       " 'joy',\n",
       " 'joy',\n",
       " 'surprise',\n",
       " 'joy',\n",
       " 'joy',\n",
       " 'surprise',\n",
       " 'anger',\n",
       " 'joy',\n",
       " 'joy',\n",
       " 'surprise',\n",
       " 'surprise',\n",
       " 'anger',\n",
       " 'sadness',\n",
       " 'joy',\n",
       " 'joy',\n",
       " 'joy',\n",
       " 'joy',\n",
       " 'joy',\n",
       " 'surprise',\n",
       " 'surprise',\n",
       " 'sadness',\n",
       " 'sadness',\n",
       " 'joy',\n",
       " 'joy',\n",
       " 'joy',\n",
       " 'joy',\n",
       " 'surprise',\n",
       " 'anger',\n",
       " 'joy',\n",
       " 'joy',\n",
       " 'anger',\n",
       " 'anger',\n",
       " 'joy',\n",
       " 'anger',\n",
       " 'anger',\n",
       " 'joy',\n",
       " 'surprise',\n",
       " 'sadness',\n",
       " 'anger',\n",
       " 'anger',\n",
       " 'joy',\n",
       " 'joy',\n",
       " 'surprise',\n",
       " 'joy',\n",
       " 'anger',\n",
       " 'surprise',\n",
       " 'surprise',\n",
       " 'surprise',\n",
       " 'anger',\n",
       " 'joy',\n",
       " 'sadness',\n",
       " 'joy',\n",
       " 'joy',\n",
       " 'joy',\n",
       " 'joy',\n",
       " 'joy',\n",
       " 'anger',\n",
       " 'anger',\n",
       " 'joy',\n",
       " 'surprise',\n",
       " 'disgust',\n",
       " 'joy',\n",
       " 'surprise',\n",
       " 'sadness',\n",
       " 'joy',\n",
       " 'joy',\n",
       " 'anger',\n",
       " 'anger',\n",
       " 'surprise',\n",
       " 'anger',\n",
       " 'joy',\n",
       " 'joy',\n",
       " 'joy',\n",
       " 'joy',\n",
       " 'joy',\n",
       " 'sadness',\n",
       " 'joy',\n",
       " 'joy',\n",
       " 'surprise',\n",
       " 'joy',\n",
       " 'surprise',\n",
       " 'joy',\n",
       " 'anger',\n",
       " 'joy',\n",
       " 'joy',\n",
       " 'joy',\n",
       " 'joy',\n",
       " 'surprise',\n",
       " 'joy',\n",
       " 'anger',\n",
       " 'joy',\n",
       " 'joy',\n",
       " 'joy',\n",
       " 'joy',\n",
       " 'sadness',\n",
       " 'joy',\n",
       " 'anger',\n",
       " 'joy',\n",
       " 'joy',\n",
       " 'joy',\n",
       " 'sadness',\n",
       " 'joy',\n",
       " 'anger',\n",
       " 'surprise',\n",
       " 'surprise',\n",
       " 'anger',\n",
       " 'joy',\n",
       " 'joy',\n",
       " 'joy',\n",
       " 'joy',\n",
       " 'surprise',\n",
       " 'surprise',\n",
       " 'joy',\n",
       " 'disgust',\n",
       " 'anger',\n",
       " 'anger',\n",
       " 'joy',\n",
       " 'joy',\n",
       " 'joy',\n",
       " 'joy',\n",
       " 'joy',\n",
       " 'sadness',\n",
       " 'anger',\n",
       " 'anger',\n",
       " 'anger',\n",
       " 'joy',\n",
       " 'joy',\n",
       " 'joy',\n",
       " 'joy',\n",
       " 'sadness',\n",
       " 'joy',\n",
       " 'joy',\n",
       " 'fear',\n",
       " 'joy',\n",
       " 'sadness',\n",
       " 'joy',\n",
       " 'sadness',\n",
       " 'joy',\n",
       " 'surprise',\n",
       " 'joy',\n",
       " 'joy',\n",
       " 'joy',\n",
       " 'joy',\n",
       " 'joy',\n",
       " 'anger',\n",
       " 'sadness',\n",
       " 'joy',\n",
       " 'fear',\n",
       " 'joy',\n",
       " 'anger',\n",
       " 'joy',\n",
       " 'joy',\n",
       " 'surprise',\n",
       " 'disgust',\n",
       " 'anger',\n",
       " 'surprise',\n",
       " 'joy',\n",
       " 'joy',\n",
       " 'sadness',\n",
       " 'joy',\n",
       " 'surprise',\n",
       " 'anger',\n",
       " 'joy',\n",
       " 'sadness',\n",
       " 'joy',\n",
       " 'joy',\n",
       " 'anger',\n",
       " 'fear',\n",
       " 'joy',\n",
       " 'anger',\n",
       " 'anger',\n",
       " 'joy',\n",
       " 'anger',\n",
       " 'surprise',\n",
       " 'anger',\n",
       " 'joy',\n",
       " 'sadness',\n",
       " 'surprise',\n",
       " 'joy',\n",
       " 'joy',\n",
       " 'anger',\n",
       " 'joy',\n",
       " 'joy',\n",
       " 'joy',\n",
       " 'joy',\n",
       " 'joy',\n",
       " 'surprise',\n",
       " 'joy',\n",
       " 'anger',\n",
       " 'joy',\n",
       " 'anger',\n",
       " 'sadness',\n",
       " 'joy',\n",
       " 'sadness',\n",
       " 'anger',\n",
       " 'joy',\n",
       " 'joy',\n",
       " 'joy',\n",
       " 'sadness',\n",
       " 'joy',\n",
       " 'fear',\n",
       " 'joy',\n",
       " 'anger',\n",
       " 'joy',\n",
       " 'joy',\n",
       " 'surprise',\n",
       " 'anger',\n",
       " 'anger',\n",
       " 'joy',\n",
       " 'surprise',\n",
       " 'surprise',\n",
       " 'surprise',\n",
       " 'joy',\n",
       " 'anger',\n",
       " 'joy',\n",
       " 'surprise',\n",
       " 'joy',\n",
       " 'joy',\n",
       " 'sadness',\n",
       " 'joy',\n",
       " 'surprise',\n",
       " 'joy',\n",
       " 'anger',\n",
       " 'joy',\n",
       " 'joy',\n",
       " 'joy',\n",
       " 'surprise',\n",
       " 'surprise',\n",
       " 'joy',\n",
       " 'surprise',\n",
       " 'joy',\n",
       " 'joy',\n",
       " 'joy',\n",
       " 'sadness',\n",
       " 'joy',\n",
       " 'joy',\n",
       " 'joy',\n",
       " 'surprise',\n",
       " 'fear',\n",
       " 'joy',\n",
       " 'surprise',\n",
       " 'joy',\n",
       " 'joy',\n",
       " 'surprise',\n",
       " 'anger',\n",
       " 'sadness',\n",
       " 'surprise',\n",
       " 'surprise',\n",
       " 'joy',\n",
       " 'joy',\n",
       " 'joy',\n",
       " 'joy',\n",
       " 'sadness',\n",
       " 'joy',\n",
       " 'anger',\n",
       " 'anger',\n",
       " 'anger',\n",
       " 'joy',\n",
       " 'anger',\n",
       " 'joy',\n",
       " 'surprise',\n",
       " 'anger',\n",
       " 'joy',\n",
       " 'sadness',\n",
       " 'surprise',\n",
       " 'joy',\n",
       " 'joy',\n",
       " 'anger',\n",
       " 'joy',\n",
       " 'surprise',\n",
       " 'disgust',\n",
       " 'anger',\n",
       " 'joy',\n",
       " 'joy',\n",
       " 'joy',\n",
       " 'joy',\n",
       " 'anger',\n",
       " 'joy',\n",
       " 'fear',\n",
       " 'joy',\n",
       " 'anger',\n",
       " 'sadness',\n",
       " 'anger',\n",
       " 'joy',\n",
       " 'surprise',\n",
       " 'disgust',\n",
       " 'sadness',\n",
       " 'surprise',\n",
       " 'joy',\n",
       " 'joy',\n",
       " 'anger',\n",
       " 'joy',\n",
       " 'anger',\n",
       " 'surprise',\n",
       " 'anger',\n",
       " 'joy',\n",
       " 'joy',\n",
       " 'surprise',\n",
       " 'surprise',\n",
       " 'sadness',\n",
       " 'sadness',\n",
       " 'joy',\n",
       " 'sadness',\n",
       " 'sadness',\n",
       " 'joy',\n",
       " 'joy',\n",
       " 'joy',\n",
       " 'joy',\n",
       " 'joy',\n",
       " 'joy',\n",
       " 'sadness',\n",
       " 'anger',\n",
       " 'joy',\n",
       " 'surprise',\n",
       " 'anger',\n",
       " 'joy',\n",
       " 'surprise',\n",
       " 'joy',\n",
       " 'surprise',\n",
       " 'joy',\n",
       " 'joy',\n",
       " 'anger',\n",
       " 'surprise',\n",
       " 'joy',\n",
       " 'joy',\n",
       " 'joy',\n",
       " 'joy',\n",
       " 'fear',\n",
       " 'anger',\n",
       " 'joy',\n",
       " 'surprise',\n",
       " 'joy',\n",
       " 'disgust',\n",
       " 'joy',\n",
       " 'joy',\n",
       " 'surprise',\n",
       " 'joy',\n",
       " 'joy',\n",
       " 'anger',\n",
       " 'anger',\n",
       " 'joy',\n",
       " 'joy',\n",
       " 'surprise',\n",
       " 'joy',\n",
       " 'joy',\n",
       " 'anger',\n",
       " 'joy',\n",
       " 'joy',\n",
       " 'joy',\n",
       " 'surprise',\n",
       " 'surprise',\n",
       " 'joy',\n",
       " 'surprise',\n",
       " 'joy',\n",
       " 'joy',\n",
       " 'surprise',\n",
       " 'joy',\n",
       " 'anger',\n",
       " 'surprise',\n",
       " 'joy',\n",
       " 'joy',\n",
       " 'joy',\n",
       " 'surprise',\n",
       " 'surprise',\n",
       " 'joy',\n",
       " 'joy',\n",
       " 'anger',\n",
       " 'joy',\n",
       " 'anger',\n",
       " 'sadness',\n",
       " 'surprise',\n",
       " 'joy',\n",
       " 'joy',\n",
       " 'joy',\n",
       " 'joy',\n",
       " 'anger',\n",
       " 'joy',\n",
       " 'joy',\n",
       " 'joy',\n",
       " 'fear',\n",
       " 'joy',\n",
       " 'joy',\n",
       " 'joy',\n",
       " 'sadness',\n",
       " 'sadness',\n",
       " 'surprise',\n",
       " 'joy',\n",
       " 'surprise',\n",
       " 'surprise',\n",
       " 'anger',\n",
       " 'anger',\n",
       " 'joy',\n",
       " 'joy',\n",
       " 'anger',\n",
       " 'surprise',\n",
       " 'surprise',\n",
       " 'joy',\n",
       " 'anger',\n",
       " 'sadness',\n",
       " 'joy',\n",
       " 'joy',\n",
       " 'joy',\n",
       " 'sadness',\n",
       " 'sadness',\n",
       " 'surprise',\n",
       " 'joy',\n",
       " 'joy',\n",
       " 'anger',\n",
       " 'joy',\n",
       " 'sadness',\n",
       " 'joy',\n",
       " 'joy',\n",
       " 'joy',\n",
       " 'joy',\n",
       " 'joy',\n",
       " 'sadness',\n",
       " 'joy',\n",
       " 'joy',\n",
       " 'sadness',\n",
       " 'surprise',\n",
       " 'joy',\n",
       " 'joy',\n",
       " 'anger',\n",
       " 'joy',\n",
       " 'surprise',\n",
       " 'surprise',\n",
       " 'joy',\n",
       " 'surprise',\n",
       " 'joy',\n",
       " 'joy',\n",
       " 'disgust',\n",
       " 'joy',\n",
       " 'joy',\n",
       " 'joy',\n",
       " 'anger',\n",
       " 'fear',\n",
       " 'joy',\n",
       " 'joy',\n",
       " 'surprise',\n",
       " 'anger',\n",
       " 'joy',\n",
       " 'anger',\n",
       " 'joy',\n",
       " 'anger',\n",
       " 'anger',\n",
       " 'surprise',\n",
       " 'anger',\n",
       " 'joy',\n",
       " 'joy',\n",
       " 'surprise',\n",
       " 'surprise',\n",
       " 'joy',\n",
       " 'joy',\n",
       " 'joy',\n",
       " 'joy',\n",
       " 'anger',\n",
       " 'joy',\n",
       " 'anger',\n",
       " 'joy',\n",
       " 'joy',\n",
       " 'joy',\n",
       " 'sadness',\n",
       " 'joy',\n",
       " 'joy',\n",
       " 'surprise',\n",
       " 'joy',\n",
       " 'joy',\n",
       " 'joy',\n",
       " 'surprise',\n",
       " 'surprise',\n",
       " 'surprise',\n",
       " 'joy',\n",
       " 'joy',\n",
       " 'sadness',\n",
       " 'joy',\n",
       " 'surprise',\n",
       " 'anger',\n",
       " 'joy',\n",
       " 'joy',\n",
       " 'surprise',\n",
       " 'joy',\n",
       " 'joy',\n",
       " 'joy',\n",
       " 'joy',\n",
       " 'fear',\n",
       " 'surprise',\n",
       " 'joy',\n",
       " 'anger',\n",
       " 'surprise',\n",
       " 'anger',\n",
       " 'joy',\n",
       " 'sadness',\n",
       " 'joy',\n",
       " 'joy',\n",
       " 'joy',\n",
       " 'joy',\n",
       " 'joy',\n",
       " 'joy',\n",
       " 'joy',\n",
       " 'joy',\n",
       " 'joy',\n",
       " 'joy',\n",
       " 'joy',\n",
       " 'joy',\n",
       " 'anger',\n",
       " 'anger',\n",
       " 'anger',\n",
       " 'surprise',\n",
       " 'joy',\n",
       " 'joy',\n",
       " 'joy',\n",
       " 'joy',\n",
       " 'anger',\n",
       " 'anger',\n",
       " 'anger',\n",
       " 'surprise',\n",
       " 'surprise',\n",
       " 'joy',\n",
       " 'joy',\n",
       " 'surprise',\n",
       " 'joy',\n",
       " 'surprise',\n",
       " 'joy',\n",
       " 'surprise',\n",
       " 'anger',\n",
       " 'surprise',\n",
       " 'joy',\n",
       " 'joy',\n",
       " 'anger',\n",
       " 'joy',\n",
       " 'joy',\n",
       " 'joy',\n",
       " 'surprise',\n",
       " 'joy',\n",
       " 'anger',\n",
       " 'joy',\n",
       " 'joy',\n",
       " 'joy',\n",
       " 'surprise',\n",
       " 'joy',\n",
       " 'surprise',\n",
       " 'anger',\n",
       " 'anger',\n",
       " 'joy',\n",
       " 'joy',\n",
       " 'joy',\n",
       " 'joy',\n",
       " 'joy',\n",
       " 'joy',\n",
       " 'surprise',\n",
       " 'joy',\n",
       " 'anger',\n",
       " 'surprise',\n",
       " 'joy',\n",
       " 'joy',\n",
       " 'surprise',\n",
       " 'joy',\n",
       " 'sadness',\n",
       " 'joy',\n",
       " 'joy',\n",
       " 'surprise',\n",
       " 'joy',\n",
       " 'joy',\n",
       " 'surprise',\n",
       " 'joy',\n",
       " 'anger',\n",
       " 'anger',\n",
       " 'anger',\n",
       " 'joy',\n",
       " 'joy',\n",
       " 'joy',\n",
       " 'joy',\n",
       " 'joy',\n",
       " 'joy',\n",
       " 'sadness',\n",
       " 'joy',\n",
       " 'joy',\n",
       " 'anger',\n",
       " 'joy',\n",
       " 'joy',\n",
       " 'joy',\n",
       " 'anger',\n",
       " 'joy',\n",
       " 'joy',\n",
       " 'joy',\n",
       " 'joy',\n",
       " 'surprise',\n",
       " 'joy',\n",
       " 'sadness',\n",
       " 'joy',\n",
       " 'joy',\n",
       " 'joy',\n",
       " 'disgust',\n",
       " 'joy',\n",
       " 'joy',\n",
       " 'joy',\n",
       " 'anger',\n",
       " 'joy',\n",
       " 'surprise',\n",
       " 'anger',\n",
       " 'joy',\n",
       " 'joy',\n",
       " 'joy',\n",
       " 'sadness',\n",
       " 'anger',\n",
       " 'joy',\n",
       " 'anger',\n",
       " 'joy',\n",
       " 'joy',\n",
       " 'surprise',\n",
       " 'joy',\n",
       " 'anger',\n",
       " 'joy',\n",
       " 'surprise',\n",
       " 'joy',\n",
       " 'joy',\n",
       " 'sadness',\n",
       " 'joy',\n",
       " 'joy',\n",
       " 'sadness',\n",
       " 'joy',\n",
       " 'joy',\n",
       " 'joy',\n",
       " 'anger',\n",
       " 'joy',\n",
       " 'joy',\n",
       " 'anger',\n",
       " 'surprise',\n",
       " 'joy',\n",
       " 'joy',\n",
       " 'anger',\n",
       " 'anger',\n",
       " 'joy',\n",
       " 'sadness',\n",
       " 'disgust',\n",
       " 'surprise',\n",
       " 'surprise',\n",
       " 'anger',\n",
       " 'joy',\n",
       " 'joy',\n",
       " 'joy',\n",
       " 'surprise',\n",
       " 'surprise',\n",
       " 'joy',\n",
       " 'anger',\n",
       " 'sadness',\n",
       " 'joy',\n",
       " 'disgust',\n",
       " 'surprise',\n",
       " 'surprise',\n",
       " 'surprise',\n",
       " 'joy',\n",
       " 'joy',\n",
       " 'joy',\n",
       " 'joy',\n",
       " 'anger',\n",
       " 'anger',\n",
       " 'joy',\n",
       " 'joy',\n",
       " 'joy',\n",
       " 'fear',\n",
       " 'fear',\n",
       " 'surprise',\n",
       " 'joy',\n",
       " 'joy',\n",
       " 'anger',\n",
       " 'joy',\n",
       " 'anger',\n",
       " 'joy',\n",
       " 'joy',\n",
       " 'anger',\n",
       " 'joy',\n",
       " 'joy',\n",
       " 'anger',\n",
       " 'joy',\n",
       " 'joy',\n",
       " 'joy',\n",
       " 'sadness',\n",
       " 'joy',\n",
       " 'joy',\n",
       " 'surprise',\n",
       " 'joy',\n",
       " 'surprise',\n",
       " 'anger',\n",
       " 'surprise',\n",
       " 'joy',\n",
       " 'joy',\n",
       " 'surprise',\n",
       " 'joy',\n",
       " 'joy',\n",
       " 'joy',\n",
       " 'joy',\n",
       " 'joy',\n",
       " 'joy',\n",
       " 'anger',\n",
       " 'surprise',\n",
       " 'joy',\n",
       " 'surprise',\n",
       " 'sadness',\n",
       " 'anger',\n",
       " 'joy',\n",
       " 'joy',\n",
       " 'anger',\n",
       " 'surprise',\n",
       " 'joy',\n",
       " 'disgust',\n",
       " 'anger',\n",
       " 'joy',\n",
       " 'anger',\n",
       " 'surprise',\n",
       " 'sadness',\n",
       " 'anger',\n",
       " 'surprise',\n",
       " 'joy',\n",
       " 'surprise',\n",
       " 'joy',\n",
       " 'anger',\n",
       " 'anger',\n",
       " 'joy',\n",
       " 'joy',\n",
       " 'joy',\n",
       " 'sadness',\n",
       " 'joy',\n",
       " 'joy',\n",
       " 'anger',\n",
       " 'anger',\n",
       " 'surprise',\n",
       " 'joy',\n",
       " 'joy',\n",
       " 'joy',\n",
       " 'surprise',\n",
       " 'anger',\n",
       " 'joy',\n",
       " 'joy',\n",
       " 'joy',\n",
       " 'joy',\n",
       " 'fear',\n",
       " 'anger',\n",
       " 'joy',\n",
       " 'joy',\n",
       " 'anger',\n",
       " 'joy',\n",
       " 'joy',\n",
       " 'surprise',\n",
       " 'joy',\n",
       " 'anger',\n",
       " 'sadness',\n",
       " 'joy',\n",
       " 'surprise',\n",
       " 'sadness',\n",
       " 'joy',\n",
       " 'joy',\n",
       " 'sadness',\n",
       " 'anger',\n",
       " 'joy',\n",
       " 'disgust',\n",
       " 'joy',\n",
       " 'joy',\n",
       " 'joy',\n",
       " 'sadness',\n",
       " 'joy',\n",
       " 'anger',\n",
       " 'surprise',\n",
       " 'anger',\n",
       " 'joy',\n",
       " 'sadness',\n",
       " 'joy',\n",
       " 'joy',\n",
       " 'anger',\n",
       " 'joy',\n",
       " 'joy',\n",
       " 'joy',\n",
       " 'joy',\n",
       " 'joy',\n",
       " 'joy',\n",
       " 'sadness',\n",
       " 'joy',\n",
       " 'anger',\n",
       " 'surprise',\n",
       " 'sadness',\n",
       " 'anger',\n",
       " 'anger',\n",
       " 'anger',\n",
       " 'joy',\n",
       " 'anger',\n",
       " 'joy',\n",
       " 'joy',\n",
       " 'joy',\n",
       " 'sadness',\n",
       " 'joy',\n",
       " 'joy',\n",
       " 'joy',\n",
       " 'anger',\n",
       " 'joy',\n",
       " 'anger',\n",
       " 'anger',\n",
       " 'joy',\n",
       " 'anger',\n",
       " 'anger',\n",
       " 'joy',\n",
       " 'anger',\n",
       " 'anger',\n",
       " 'joy',\n",
       " 'joy',\n",
       " 'joy',\n",
       " 'anger',\n",
       " 'sadness',\n",
       " 'surprise',\n",
       " 'joy',\n",
       " 'anger',\n",
       " 'anger',\n",
       " 'joy',\n",
       " 'joy',\n",
       " 'anger',\n",
       " 'anger',\n",
       " 'anger',\n",
       " 'anger',\n",
       " 'joy',\n",
       " 'joy',\n",
       " 'joy',\n",
       " 'anger',\n",
       " 'joy',\n",
       " 'joy',\n",
       " 'surprise',\n",
       " 'joy',\n",
       " 'joy',\n",
       " 'joy',\n",
       " 'anger',\n",
       " 'anger',\n",
       " 'joy',\n",
       " 'anger',\n",
       " 'sadness',\n",
       " 'joy',\n",
       " 'joy',\n",
       " 'joy',\n",
       " 'sadness',\n",
       " 'joy',\n",
       " 'sadness',\n",
       " 'surprise',\n",
       " 'joy',\n",
       " 'joy',\n",
       " 'sadness',\n",
       " 'sadness',\n",
       " 'disgust',\n",
       " 'surprise',\n",
       " 'joy',\n",
       " 'anger',\n",
       " 'joy',\n",
       " 'anger',\n",
       " 'joy',\n",
       " 'joy',\n",
       " 'joy',\n",
       " 'anger',\n",
       " 'joy',\n",
       " 'anger',\n",
       " 'joy',\n",
       " ...]"
      ]
     },
     "execution_count": 73,
     "metadata": {},
     "output_type": "execute_result"
    }
   ],
   "source": [
    "val_predictions_no_neu"
   ]
  },
  {
   "cell_type": "code",
   "execution_count": 61,
   "id": "8e08c496",
   "metadata": {},
   "outputs": [],
   "source": [
    "emotion_label_dict={\n",
    "0:\"anger\",\n",
    "1:\"disgust\",\n",
    "2:\"fear\",\n",
    "3:\"joy\",\n",
    "4:\"sadness\",\n",
    "5:\"surprise\",\n",
    "6:\"neutral\"\n",
    "}\n",
    "\n",
    "emotion_label_dict_no_neu={\n",
    "0:\"anger\",\n",
    "1:\"disgust\",\n",
    "2:\"fear\",\n",
    "3:\"joy\",\n",
    "4:\"sadness\",\n",
    "5:\"surprise\",\n",
    "}"
   ]
  },
  {
   "cell_type": "code",
   "execution_count": 62,
   "id": "a3995c15",
   "metadata": {},
   "outputs": [],
   "source": [
    "y_val_new_no_neu = y_val_no_neu.map(emotion_label_dict_no_neu)"
   ]
  },
  {
   "cell_type": "code",
   "execution_count": 63,
   "id": "91a8bd4d",
   "metadata": {},
   "outputs": [
    {
     "name": "stdout",
     "output_type": "stream",
     "text": [
      "              precision    recall  f1-score   support\n",
      "\n",
      "       anger       0.69      0.70      0.69       582\n",
      "     disgust       0.46      0.44      0.45        81\n",
      "        fear       0.77      0.65      0.71        89\n",
      "         joy       0.87      0.92      0.89      1997\n",
      "     sadness       0.74      0.64      0.69       352\n",
      "    surprise       0.73      0.64      0.69       559\n",
      "\n",
      "    accuracy                           0.80      3660\n",
      "   macro avg       0.71      0.67      0.69      3660\n",
      "weighted avg       0.80      0.80      0.80      3660\n",
      "\n"
     ]
    }
   ],
   "source": [
    "from sklearn.metrics import classification_report\n",
    "print(classification_report(y_val_new_no_neu, val_predictions_no_neu))"
   ]
  },
  {
   "cell_type": "code",
   "execution_count": null,
   "id": "8dc94c25",
   "metadata": {},
   "outputs": [],
   "source": []
  },
  {
   "cell_type": "markdown",
   "id": "6afd3f53",
   "metadata": {},
   "source": [
    "### View Performance Metrics on test data:¶"
   ]
  },
  {
   "cell_type": "code",
   "execution_count": 51,
   "id": "0b6f9df6",
   "metadata": {},
   "outputs": [],
   "source": [
    "test_predictions_no_neu = roberta_predictor_new_no_neu.predict(X_test_no_neu.to_list())"
   ]
  },
  {
   "cell_type": "code",
   "execution_count": 58,
   "id": "d069c50a",
   "metadata": {},
   "outputs": [],
   "source": [
    "y_test_new_no_neu = y_test_no_neu.map(emotion_label_dict_no_neu)"
   ]
  },
  {
   "cell_type": "code",
   "execution_count": 59,
   "id": "b6e22ead",
   "metadata": {},
   "outputs": [
    {
     "name": "stdout",
     "output_type": "stream",
     "text": [
      "              precision    recall  f1-score   support\n",
      "\n",
      "       anger       0.70      0.66      0.68       595\n",
      "     disgust       0.54      0.51      0.53       112\n",
      "        fear       0.72      0.70      0.71        87\n",
      "         joy       0.86      0.92      0.89      1915\n",
      "     sadness       0.73      0.64      0.69       341\n",
      "    surprise       0.75      0.67      0.71       590\n",
      "\n",
      "    accuracy                           0.80      3640\n",
      "   macro avg       0.72      0.69      0.70      3640\n",
      "weighted avg       0.79      0.80      0.79      3640\n",
      "\n"
     ]
    }
   ],
   "source": [
    "from sklearn.metrics import classification_report\n",
    "print(classification_report(y_test_new_no_neu, test_predictions_no_neu))"
   ]
  },
  {
   "cell_type": "code",
   "execution_count": 54,
   "id": "a927b118",
   "metadata": {},
   "outputs": [],
   "source": [
    "test_predictions_1 = roberta_predictor_4.predict(X_test_no_neu.to_list())\n",
    "val_predictions_1 = roberta_predictor_4.predict(X_val_no_neu.to_list())"
   ]
  },
  {
   "cell_type": "code",
   "execution_count": 55,
   "id": "73dedcd3",
   "metadata": {
    "scrolled": true
   },
   "outputs": [],
   "source": [
    "test_proba_3 = get_proba(test_predictions_1)\n",
    "test_proba_3 = np.array(test_proba_3)\n",
    "\n",
    "val_proba_3 = get_proba(val_predictions_1)\n",
    "val_proba_3 = np.array(val_proba_3)\n"
   ]
  },
  {
   "cell_type": "code",
   "execution_count": 56,
   "id": "5ff7ac53",
   "metadata": {},
   "outputs": [],
   "source": [
    "# Generate labels\n",
    "y_pred_labels_test_3 = proba_to_labels(test_proba_3)\n",
    "y_pred_labels_val_3 = proba_to_labels(val_proba_3)\n"
   ]
  },
  {
   "cell_type": "code",
   "execution_count": 57,
   "id": "003939a6",
   "metadata": {
    "scrolled": true
   },
   "outputs": [
    {
     "data": {
      "text/html": [
       "<div>\n",
       "<style scoped>\n",
       "    .dataframe tbody tr th:only-of-type {\n",
       "        vertical-align: middle;\n",
       "    }\n",
       "\n",
       "    .dataframe tbody tr th {\n",
       "        vertical-align: top;\n",
       "    }\n",
       "\n",
       "    .dataframe thead th {\n",
       "        text-align: right;\n",
       "    }\n",
       "</style>\n",
       "<table border=\"1\" class=\"dataframe\">\n",
       "  <thead>\n",
       "    <tr style=\"text-align: right;\">\n",
       "      <th></th>\n",
       "      <th>Precision</th>\n",
       "      <th>Recall</th>\n",
       "      <th>F1</th>\n",
       "    </tr>\n",
       "  </thead>\n",
       "  <tbody>\n",
       "    <tr>\n",
       "      <th>admiration</th>\n",
       "      <td>0.75</td>\n",
       "      <td>0.70</td>\n",
       "      <td>0.72</td>\n",
       "    </tr>\n",
       "    <tr>\n",
       "      <th>amusement</th>\n",
       "      <td>0.85</td>\n",
       "      <td>0.78</td>\n",
       "      <td>0.81</td>\n",
       "    </tr>\n",
       "    <tr>\n",
       "      <th>anger</th>\n",
       "      <td>0.65</td>\n",
       "      <td>0.40</td>\n",
       "      <td>0.50</td>\n",
       "    </tr>\n",
       "    <tr>\n",
       "      <th>annoyance</th>\n",
       "      <td>0.52</td>\n",
       "      <td>0.28</td>\n",
       "      <td>0.37</td>\n",
       "    </tr>\n",
       "    <tr>\n",
       "      <th>approval</th>\n",
       "      <td>0.55</td>\n",
       "      <td>0.43</td>\n",
       "      <td>0.49</td>\n",
       "    </tr>\n",
       "    <tr>\n",
       "      <th>caring</th>\n",
       "      <td>0.62</td>\n",
       "      <td>0.37</td>\n",
       "      <td>0.47</td>\n",
       "    </tr>\n",
       "    <tr>\n",
       "      <th>confusion</th>\n",
       "      <td>0.59</td>\n",
       "      <td>0.42</td>\n",
       "      <td>0.49</td>\n",
       "    </tr>\n",
       "    <tr>\n",
       "      <th>curiosity</th>\n",
       "      <td>0.74</td>\n",
       "      <td>0.53</td>\n",
       "      <td>0.62</td>\n",
       "    </tr>\n",
       "    <tr>\n",
       "      <th>desire</th>\n",
       "      <td>0.74</td>\n",
       "      <td>0.37</td>\n",
       "      <td>0.50</td>\n",
       "    </tr>\n",
       "    <tr>\n",
       "      <th>disappointment</th>\n",
       "      <td>0.45</td>\n",
       "      <td>0.21</td>\n",
       "      <td>0.29</td>\n",
       "    </tr>\n",
       "    <tr>\n",
       "      <th>disapproval</th>\n",
       "      <td>0.62</td>\n",
       "      <td>0.42</td>\n",
       "      <td>0.50</td>\n",
       "    </tr>\n",
       "    <tr>\n",
       "      <th>disgust</th>\n",
       "      <td>0.67</td>\n",
       "      <td>0.34</td>\n",
       "      <td>0.45</td>\n",
       "    </tr>\n",
       "    <tr>\n",
       "      <th>embarrassment</th>\n",
       "      <td>0.68</td>\n",
       "      <td>0.35</td>\n",
       "      <td>0.46</td>\n",
       "    </tr>\n",
       "    <tr>\n",
       "      <th>excitement</th>\n",
       "      <td>0.71</td>\n",
       "      <td>0.38</td>\n",
       "      <td>0.49</td>\n",
       "    </tr>\n",
       "    <tr>\n",
       "      <th>fear</th>\n",
       "      <td>0.69</td>\n",
       "      <td>0.63</td>\n",
       "      <td>0.66</td>\n",
       "    </tr>\n",
       "    <tr>\n",
       "      <th>gratitude</th>\n",
       "      <td>0.96</td>\n",
       "      <td>0.89</td>\n",
       "      <td>0.92</td>\n",
       "    </tr>\n",
       "    <tr>\n",
       "      <th>grief</th>\n",
       "      <td>0.00</td>\n",
       "      <td>0.00</td>\n",
       "      <td>0.00</td>\n",
       "    </tr>\n",
       "    <tr>\n",
       "      <th>joy</th>\n",
       "      <td>0.76</td>\n",
       "      <td>0.44</td>\n",
       "      <td>0.56</td>\n",
       "    </tr>\n",
       "    <tr>\n",
       "      <th>love</th>\n",
       "      <td>0.83</td>\n",
       "      <td>0.76</td>\n",
       "      <td>0.79</td>\n",
       "    </tr>\n",
       "    <tr>\n",
       "      <th>nervousness</th>\n",
       "      <td>0.67</td>\n",
       "      <td>0.26</td>\n",
       "      <td>0.38</td>\n",
       "    </tr>\n",
       "    <tr>\n",
       "      <th>optimism</th>\n",
       "      <td>0.72</td>\n",
       "      <td>0.47</td>\n",
       "      <td>0.57</td>\n",
       "    </tr>\n",
       "    <tr>\n",
       "      <th>pride</th>\n",
       "      <td>0.33</td>\n",
       "      <td>0.06</td>\n",
       "      <td>0.11</td>\n",
       "    </tr>\n",
       "    <tr>\n",
       "      <th>realization</th>\n",
       "      <td>0.40</td>\n",
       "      <td>0.18</td>\n",
       "      <td>0.25</td>\n",
       "    </tr>\n",
       "    <tr>\n",
       "      <th>relief</th>\n",
       "      <td>0.67</td>\n",
       "      <td>0.18</td>\n",
       "      <td>0.29</td>\n",
       "    </tr>\n",
       "    <tr>\n",
       "      <th>remorse</th>\n",
       "      <td>0.67</td>\n",
       "      <td>0.46</td>\n",
       "      <td>0.55</td>\n",
       "    </tr>\n",
       "    <tr>\n",
       "      <th>sadness</th>\n",
       "      <td>0.75</td>\n",
       "      <td>0.53</td>\n",
       "      <td>0.62</td>\n",
       "    </tr>\n",
       "    <tr>\n",
       "      <th>surprise</th>\n",
       "      <td>0.70</td>\n",
       "      <td>0.44</td>\n",
       "      <td>0.54</td>\n",
       "    </tr>\n",
       "    <tr>\n",
       "      <th>MACRO-AVERAGE</th>\n",
       "      <td>0.64</td>\n",
       "      <td>0.42</td>\n",
       "      <td>0.50</td>\n",
       "    </tr>\n",
       "  </tbody>\n",
       "</table>\n",
       "</div>"
      ],
      "text/plain": [
       "                Precision  Recall    F1\n",
       "admiration           0.75    0.70  0.72\n",
       "amusement            0.85    0.78  0.81\n",
       "anger                0.65    0.40  0.50\n",
       "annoyance            0.52    0.28  0.37\n",
       "approval             0.55    0.43  0.49\n",
       "caring               0.62    0.37  0.47\n",
       "confusion            0.59    0.42  0.49\n",
       "curiosity            0.74    0.53  0.62\n",
       "desire               0.74    0.37  0.50\n",
       "disappointment       0.45    0.21  0.29\n",
       "disapproval          0.62    0.42  0.50\n",
       "disgust              0.67    0.34  0.45\n",
       "embarrassment        0.68    0.35  0.46\n",
       "excitement           0.71    0.38  0.49\n",
       "fear                 0.69    0.63  0.66\n",
       "gratitude            0.96    0.89  0.92\n",
       "grief                0.00    0.00  0.00\n",
       "joy                  0.76    0.44  0.56\n",
       "love                 0.83    0.76  0.79\n",
       "nervousness          0.67    0.26  0.38\n",
       "optimism             0.72    0.47  0.57\n",
       "pride                0.33    0.06  0.11\n",
       "realization          0.40    0.18  0.25\n",
       "relief               0.67    0.18  0.29\n",
       "remorse              0.67    0.46  0.55\n",
       "sadness              0.75    0.53  0.62\n",
       "surprise             0.70    0.44  0.54\n",
       "MACRO-AVERAGE        0.64    0.42  0.50"
      ]
     },
     "execution_count": 57,
     "metadata": {},
     "output_type": "execute_result"
    }
   ],
   "source": [
    "# Model evaluation\n",
    "model_eval(y_test_no_neu, y_pred_labels_test_3, GE_taxonomy_no_neu)"
   ]
  },
  {
   "cell_type": "code",
   "execution_count": 58,
   "id": "6814fca1",
   "metadata": {
    "scrolled": true
   },
   "outputs": [
    {
     "data": {
      "text/html": [
       "<div>\n",
       "<style scoped>\n",
       "    .dataframe tbody tr th:only-of-type {\n",
       "        vertical-align: middle;\n",
       "    }\n",
       "\n",
       "    .dataframe tbody tr th {\n",
       "        vertical-align: top;\n",
       "    }\n",
       "\n",
       "    .dataframe thead th {\n",
       "        text-align: right;\n",
       "    }\n",
       "</style>\n",
       "<table border=\"1\" class=\"dataframe\">\n",
       "  <thead>\n",
       "    <tr style=\"text-align: right;\">\n",
       "      <th></th>\n",
       "      <th>Precision</th>\n",
       "      <th>Recall</th>\n",
       "      <th>F1</th>\n",
       "    </tr>\n",
       "  </thead>\n",
       "  <tbody>\n",
       "    <tr>\n",
       "      <th>admiration</th>\n",
       "      <td>0.76</td>\n",
       "      <td>0.70</td>\n",
       "      <td>0.73</td>\n",
       "    </tr>\n",
       "    <tr>\n",
       "      <th>amusement</th>\n",
       "      <td>0.87</td>\n",
       "      <td>0.74</td>\n",
       "      <td>0.80</td>\n",
       "    </tr>\n",
       "    <tr>\n",
       "      <th>anger</th>\n",
       "      <td>0.66</td>\n",
       "      <td>0.41</td>\n",
       "      <td>0.50</td>\n",
       "    </tr>\n",
       "    <tr>\n",
       "      <th>annoyance</th>\n",
       "      <td>0.47</td>\n",
       "      <td>0.27</td>\n",
       "      <td>0.35</td>\n",
       "    </tr>\n",
       "    <tr>\n",
       "      <th>approval</th>\n",
       "      <td>0.61</td>\n",
       "      <td>0.37</td>\n",
       "      <td>0.46</td>\n",
       "    </tr>\n",
       "    <tr>\n",
       "      <th>caring</th>\n",
       "      <td>0.68</td>\n",
       "      <td>0.46</td>\n",
       "      <td>0.55</td>\n",
       "    </tr>\n",
       "    <tr>\n",
       "      <th>confusion</th>\n",
       "      <td>0.59</td>\n",
       "      <td>0.40</td>\n",
       "      <td>0.48</td>\n",
       "    </tr>\n",
       "    <tr>\n",
       "      <th>curiosity</th>\n",
       "      <td>0.74</td>\n",
       "      <td>0.49</td>\n",
       "      <td>0.59</td>\n",
       "    </tr>\n",
       "    <tr>\n",
       "      <th>desire</th>\n",
       "      <td>0.67</td>\n",
       "      <td>0.43</td>\n",
       "      <td>0.52</td>\n",
       "    </tr>\n",
       "    <tr>\n",
       "      <th>disappointment</th>\n",
       "      <td>0.54</td>\n",
       "      <td>0.28</td>\n",
       "      <td>0.37</td>\n",
       "    </tr>\n",
       "    <tr>\n",
       "      <th>disapproval</th>\n",
       "      <td>0.63</td>\n",
       "      <td>0.39</td>\n",
       "      <td>0.48</td>\n",
       "    </tr>\n",
       "    <tr>\n",
       "      <th>disgust</th>\n",
       "      <td>0.57</td>\n",
       "      <td>0.35</td>\n",
       "      <td>0.43</td>\n",
       "    </tr>\n",
       "    <tr>\n",
       "      <th>embarrassment</th>\n",
       "      <td>0.77</td>\n",
       "      <td>0.49</td>\n",
       "      <td>0.60</td>\n",
       "    </tr>\n",
       "    <tr>\n",
       "      <th>excitement</th>\n",
       "      <td>0.52</td>\n",
       "      <td>0.29</td>\n",
       "      <td>0.37</td>\n",
       "    </tr>\n",
       "    <tr>\n",
       "      <th>fear</th>\n",
       "      <td>0.77</td>\n",
       "      <td>0.53</td>\n",
       "      <td>0.63</td>\n",
       "    </tr>\n",
       "    <tr>\n",
       "      <th>gratitude</th>\n",
       "      <td>0.95</td>\n",
       "      <td>0.89</td>\n",
       "      <td>0.92</td>\n",
       "    </tr>\n",
       "    <tr>\n",
       "      <th>grief</th>\n",
       "      <td>0.00</td>\n",
       "      <td>0.00</td>\n",
       "      <td>0.00</td>\n",
       "    </tr>\n",
       "    <tr>\n",
       "      <th>joy</th>\n",
       "      <td>0.69</td>\n",
       "      <td>0.40</td>\n",
       "      <td>0.50</td>\n",
       "    </tr>\n",
       "    <tr>\n",
       "      <th>love</th>\n",
       "      <td>0.80</td>\n",
       "      <td>0.74</td>\n",
       "      <td>0.77</td>\n",
       "    </tr>\n",
       "    <tr>\n",
       "      <th>nervousness</th>\n",
       "      <td>0.75</td>\n",
       "      <td>0.14</td>\n",
       "      <td>0.24</td>\n",
       "    </tr>\n",
       "    <tr>\n",
       "      <th>optimism</th>\n",
       "      <td>0.68</td>\n",
       "      <td>0.46</td>\n",
       "      <td>0.55</td>\n",
       "    </tr>\n",
       "    <tr>\n",
       "      <th>pride</th>\n",
       "      <td>1.00</td>\n",
       "      <td>0.13</td>\n",
       "      <td>0.24</td>\n",
       "    </tr>\n",
       "    <tr>\n",
       "      <th>realization</th>\n",
       "      <td>0.43</td>\n",
       "      <td>0.26</td>\n",
       "      <td>0.32</td>\n",
       "    </tr>\n",
       "    <tr>\n",
       "      <th>relief</th>\n",
       "      <td>0.60</td>\n",
       "      <td>0.17</td>\n",
       "      <td>0.26</td>\n",
       "    </tr>\n",
       "    <tr>\n",
       "      <th>remorse</th>\n",
       "      <td>0.76</td>\n",
       "      <td>0.24</td>\n",
       "      <td>0.36</td>\n",
       "    </tr>\n",
       "    <tr>\n",
       "      <th>sadness</th>\n",
       "      <td>0.65</td>\n",
       "      <td>0.48</td>\n",
       "      <td>0.55</td>\n",
       "    </tr>\n",
       "    <tr>\n",
       "      <th>surprise</th>\n",
       "      <td>0.61</td>\n",
       "      <td>0.44</td>\n",
       "      <td>0.51</td>\n",
       "    </tr>\n",
       "    <tr>\n",
       "      <th>MACRO-AVERAGE</th>\n",
       "      <td>0.66</td>\n",
       "      <td>0.41</td>\n",
       "      <td>0.49</td>\n",
       "    </tr>\n",
       "  </tbody>\n",
       "</table>\n",
       "</div>"
      ],
      "text/plain": [
       "                Precision  Recall    F1\n",
       "admiration           0.76    0.70  0.73\n",
       "amusement            0.87    0.74  0.80\n",
       "anger                0.66    0.41  0.50\n",
       "annoyance            0.47    0.27  0.35\n",
       "approval             0.61    0.37  0.46\n",
       "caring               0.68    0.46  0.55\n",
       "confusion            0.59    0.40  0.48\n",
       "curiosity            0.74    0.49  0.59\n",
       "desire               0.67    0.43  0.52\n",
       "disappointment       0.54    0.28  0.37\n",
       "disapproval          0.63    0.39  0.48\n",
       "disgust              0.57    0.35  0.43\n",
       "embarrassment        0.77    0.49  0.60\n",
       "excitement           0.52    0.29  0.37\n",
       "fear                 0.77    0.53  0.63\n",
       "gratitude            0.95    0.89  0.92\n",
       "grief                0.00    0.00  0.00\n",
       "joy                  0.69    0.40  0.50\n",
       "love                 0.80    0.74  0.77\n",
       "nervousness          0.75    0.14  0.24\n",
       "optimism             0.68    0.46  0.55\n",
       "pride                1.00    0.13  0.24\n",
       "realization          0.43    0.26  0.32\n",
       "relief               0.60    0.17  0.26\n",
       "remorse              0.76    0.24  0.36\n",
       "sadness              0.65    0.48  0.55\n",
       "surprise             0.61    0.44  0.51\n",
       "MACRO-AVERAGE        0.66    0.41  0.49"
      ]
     },
     "execution_count": 58,
     "metadata": {},
     "output_type": "execute_result"
    }
   ],
   "source": [
    "# Model evaluation\n",
    "model_eval(y_val_no_neu, y_pred_labels_val_3, GE_taxonomy_no_neu)"
   ]
  },
  {
   "cell_type": "code",
   "execution_count": null,
   "id": "ab678216",
   "metadata": {},
   "outputs": [],
   "source": []
  },
  {
   "cell_type": "code",
   "execution_count": null,
   "id": "6db0b48e",
   "metadata": {},
   "outputs": [],
   "source": []
  },
  {
   "cell_type": "code",
   "execution_count": null,
   "id": "a0241809",
   "metadata": {},
   "outputs": [],
   "source": []
  },
  {
   "cell_type": "code",
   "execution_count": null,
   "id": "5c591bb6",
   "metadata": {},
   "outputs": [],
   "source": []
  },
  {
   "cell_type": "code",
   "execution_count": null,
   "id": "46e0e69c",
   "metadata": {},
   "outputs": [],
   "source": []
  },
  {
   "cell_type": "code",
   "execution_count": null,
   "id": "0ed20ea0",
   "metadata": {},
   "outputs": [],
   "source": []
  },
  {
   "cell_type": "code",
   "execution_count": null,
   "id": "356d8ff5",
   "metadata": {},
   "outputs": [],
   "source": []
  },
  {
   "cell_type": "code",
   "execution_count": null,
   "id": "11211c36",
   "metadata": {},
   "outputs": [],
   "source": []
  },
  {
   "cell_type": "code",
   "execution_count": null,
   "id": "fb364c9a",
   "metadata": {},
   "outputs": [],
   "source": []
  },
  {
   "cell_type": "code",
   "execution_count": null,
   "id": "7e24322b",
   "metadata": {},
   "outputs": [],
   "source": []
  },
  {
   "cell_type": "code",
   "execution_count": null,
   "id": "084b4d9b",
   "metadata": {},
   "outputs": [],
   "source": []
  },
  {
   "cell_type": "markdown",
   "id": "b347a572",
   "metadata": {},
   "source": [
    "### Modelling ELECTRA"
   ]
  },
  {
   "cell_type": "code",
   "execution_count": 34,
   "id": "813ab927",
   "metadata": {},
   "outputs": [],
   "source": [
    "def create_data(text,labels,tokenizer,max_length):\n",
    "\n",
    "    # Empty Arrays\n",
    "    input_ids = []\n",
    "    attention_mask = []\n",
    "    \n",
    "    # Loop Through List and Create input ids & attention mask\n",
    "    for i in tqdm.tqdm(text,total=len(text)):\n",
    "        x = tokenizer.encode_plus(str(i),\n",
    "                              return_attention_mask=True,\n",
    "                              padding='max_length',\n",
    "                              truncation=True,\n",
    "                              max_length=max_length,\n",
    "                              add_special_tokens=True,\n",
    "                              )\n",
    "        input_ids.append(x['input_ids'])\n",
    "        attention_mask.append(x['attention_mask'])\n",
    "        \n",
    "    print('Data Shapes : ')\n",
    "    print(np.array(input_ids).shape,np.array(attention_mask).shape,labels.shape )\n",
    "    \n",
    "    return  np.array(input_ids) , np.array(attention_mask) , np.array(labels).reshape(-1,1)"
   ]
  },
  {
   "cell_type": "markdown",
   "id": "95446312",
   "metadata": {},
   "source": [
    "X_train.values, y_train, X_test, y_test, X_val, y_val"
   ]
  },
  {
   "cell_type": "code",
   "execution_count": 35,
   "id": "aaf32f4c",
   "metadata": {},
   "outputs": [
    {
     "data": {
      "text/plain": [
       "array(['my favourite food is anything i did not have to cook myself',\n",
       "       'now if he does off himself everyone will think hes having a laugh screwing with people instead of actually dead',\n",
       "       'why the fuck is bayless isoing', ...,\n",
       "       'what are you talking about ? anything bad that happened was name fault only good things were name doing !',\n",
       "       'more like a baptism with sexy results !', 'enjoy the ride !'],\n",
       "      dtype=object)"
      ]
     },
     "execution_count": 35,
     "metadata": {},
     "output_type": "execute_result"
    }
   ],
   "source": [
    "X_train.values"
   ]
  },
  {
   "cell_type": "code",
   "execution_count": 36,
   "id": "7f788cb1",
   "metadata": {},
   "outputs": [
    {
     "name": "stdout",
     "output_type": "stream",
     "text": [
      "Start Create Train Data\n"
     ]
    },
    {
     "name": "stderr",
     "output_type": "stream",
     "text": [
      "100%|█████████████████████████████████████████████████████████████████████████| 43410/43410 [00:03<00:00, 11496.01it/s]\n"
     ]
    },
    {
     "name": "stdout",
     "output_type": "stream",
     "text": [
      "Data Shapes : \n",
      "(43410, 128) (43410, 128) (43410,)\n",
      "Start Create Val Data\n"
     ]
    },
    {
     "name": "stderr",
     "output_type": "stream",
     "text": [
      "100%|███████████████████████████████████████████████████████████████████████████| 5426/5426 [00:00<00:00, 11443.67it/s]\n"
     ]
    },
    {
     "name": "stdout",
     "output_type": "stream",
     "text": [
      "Data Shapes : \n",
      "(5426, 128) (5426, 128) (5426,)\n",
      "Start Create Test Data\n"
     ]
    },
    {
     "name": "stderr",
     "output_type": "stream",
     "text": [
      "100%|███████████████████████████████████████████████████████████████████████████| 5427/5427 [00:00<00:00, 11546.77it/s]\n"
     ]
    },
    {
     "name": "stdout",
     "output_type": "stream",
     "text": [
      "Data Shapes : \n",
      "(5427, 128) (5427, 128) (5427,)\n"
     ]
    }
   ],
   "source": [
    "MODEL_NAME = 'bhadresh-savani/electra-base-emotion'\n",
    "EPOCHS = 10\n",
    "MAX_LENGTH = 128\n",
    "NUM_LABELS = 7\n",
    "\n",
    "tokenizer = AutoTokenizer.from_pretrained(MODEL_NAME)\n",
    "\n",
    "print('Start Create Train Data')\n",
    "# Create Train Data\n",
    "train_ids , train_attention_mask ,train_labels = create_data(X_train.values,\n",
    "                                                         y_train.values ,\n",
    "                                                         tokenizer\n",
    "                                                         ,MAX_LENGTH)\n",
    "print('Start Create Val Data')\n",
    "# Create Test Data\n",
    "val_ids , val_attention_mask ,val_labels = create_data(X_val.values,\n",
    "                                                      y_val.values,\n",
    "                                                      tokenizer ,\n",
    "                                                      MAX_LENGTH\n",
    "                                                         )\n",
    "print('Start Create Test Data')\n",
    "# Create Test Data\n",
    "test_ids , test_attention_mask ,test_labels = create_data(X_test.values,\n",
    "                                                      y_test.values,\n",
    "                                                      tokenizer ,\n",
    "                                                      MAX_LENGTH\n",
    "                                                         )"
   ]
  },
  {
   "cell_type": "code",
   "execution_count": 49,
   "id": "d39a958d",
   "metadata": {},
   "outputs": [],
   "source": [
    "def train_custom_label_model(model_name,num_labels,MAX_LENGTH,Num_epochs):\n",
    "    \n",
    "    gc.collect()\n",
    "    \n",
    "    my_model = TFAutoModelForSequenceClassification.from_pretrained(model_name,\n",
    "                                                                    ignore_mismatched_sizes=True\n",
    "                                                                   ,num_labels=num_labels\n",
    "                                                                   )\n",
    "    \n",
    "    print('FINISH DOWNLOAD MODEL')\n",
    "#     run_opts = tf.compat.v1.RunOptions(report_tensor_allocations_upon_oom = True)\n",
    "    my_model.compile(\n",
    "        optimizer=tf.keras.optimizers.Adam(learning_rate=learning_rate),\n",
    "        loss=tf.keras.losses.SparseCategoricalCrossentropy(from_logits=True),\n",
    "        metrics=tf.metrics.SparseCategoricalAccuracy(),\n",
    "#         options = run_opts\n",
    "        )\n",
    "\n",
    "    #train , test = train_test_split(df,test_size=.3,random_state=42)\n",
    "\n",
    "\n",
    "    tokenizer = AutoTokenizer.from_pretrained(model_name)\n",
    "    \n",
    "    print('FINSH DOWNLOAD TOKENIZER')\n",
    "    \n",
    "       \n",
    "    # Use GPU\n",
    "    tf.debugging.set_log_device_placement(True)\n",
    "\n",
    "       \n",
    "    # Model Checkpoint\n",
    "    checkpoint_filepath = './'\n",
    "    model_checkpoint_callback = tf.keras.callbacks.ModelCheckpoint(\n",
    "        filepath=checkpoint_filepath,\n",
    "        save_weights_only=True,\n",
    "        monitor='val_sparse_categorical_crossentropy',\n",
    "        mode='max',\n",
    "        save_best_only=True,\n",
    "    )\n",
    "    \n",
    "    # Train Model\n",
    "    my_model.fit([train_ids, train_attention_mask],\n",
    "                 train_labels,\n",
    "              validation_split=.3,\n",
    "              epochs=Num_epochs,\n",
    "              verbose=1,\n",
    "              callbacks=[model_checkpoint_callback]\n",
    "              )\n",
    "    \n",
    "    gc.collect()\n",
    "    \n",
    "    return my_model"
   ]
  },
  {
   "cell_type": "code",
   "execution_count": 78,
   "id": "23b114f4",
   "metadata": {},
   "outputs": [
    {
     "name": "stdout",
     "output_type": "stream",
     "text": [
      "FINISH DOWNLOAD MODEL\n",
      "FINSH DOWNLOAD TOKENIZER\n",
      "Epoch 1/3\n",
      "1357/1357 [==============================] - 174s 121ms/step - loss: 1.1477 - sparse_categorical_accuracy: 0.6009\n",
      "Epoch 2/3\n",
      "1357/1357 [==============================] - 165s 122ms/step - loss: 0.8853 - sparse_categorical_accuracy: 0.6771\n",
      "Epoch 3/3\n",
      "1357/1357 [==============================] - 164s 121ms/step - loss: 0.7899 - sparse_categorical_accuracy: 0.7107\n"
     ]
    }
   ],
   "source": [
    "MODEL_NAME = 'bhadresh-savani/electra-base-emotion'\n",
    "EPOCHS = 3\n",
    "MAX_LENGTH = 128\n",
    "NUM_LABELS = 7\n",
    "learning_rate = 3e-5\n",
    "electra_model = train_custom_label_model(MODEL_NAME,NUM_LABELS,MAX_LENGTH,EPOCHS)"
   ]
  },
  {
   "cell_type": "code",
   "execution_count": 79,
   "id": "830c6731",
   "metadata": {},
   "outputs": [
    {
     "name": "stdout",
     "output_type": "stream",
     "text": [
      "start testing\n",
      "end testing & start measure errors : \n",
      "accuracy score: 0.6761\n",
      "[[ 278   18    7   50   28   37  177]\n",
      " [  31   47   12    7    2    3   10]\n",
      " [   3    1   64    5    4    4    6]\n",
      " [  30    2   10 1552   29   43  249]\n",
      " [  39    4    4   21  201   21   51]\n",
      " [  27    4    9   84   11  363   92]\n",
      " [ 118   18   14  221   44  208 1164]]\n"
     ]
    }
   ],
   "source": [
    "print('start testing')\n",
    "y_h = electra_model.predict([test_ids,test_attention_mask])\n",
    "print('end testing & start measure errors : ')\n",
    "y_h = tf.argmax(y_h.logits,axis=1)\n",
    "print('accuracy score: {:.4f}'.format(accuracy_score(test_labels,y_h)))\n",
    "print(confusion_matrix(test_labels,y_h))"
   ]
  },
  {
   "cell_type": "code",
   "execution_count": 80,
   "id": "87072f3a",
   "metadata": {},
   "outputs": [
    {
     "name": "stdout",
     "output_type": "stream",
     "text": [
      "              precision    recall  f1-score   support\n",
      "\n",
      "           0       0.53      0.47      0.50       595\n",
      "           1       0.50      0.42      0.46       112\n",
      "           2       0.53      0.74      0.62        87\n",
      "           3       0.80      0.81      0.81      1915\n",
      "           4       0.63      0.59      0.61       341\n",
      "           5       0.53      0.62      0.57       590\n",
      "           6       0.67      0.65      0.66      1787\n",
      "\n",
      "    accuracy                           0.68      5427\n",
      "   macro avg       0.60      0.61      0.60      5427\n",
      "weighted avg       0.68      0.68      0.68      5427\n",
      "\n"
     ]
    }
   ],
   "source": [
    "from sklearn.metrics import classification_report\n",
    "print(classification_report(y_test, y_h) )"
   ]
  },
  {
   "cell_type": "code",
   "execution_count": 81,
   "id": "7b6d00c4",
   "metadata": {},
   "outputs": [
    {
     "data": {
      "text/plain": [
       "(43410,)"
      ]
     },
     "execution_count": 81,
     "metadata": {},
     "output_type": "execute_result"
    }
   ],
   "source": [
    "y_train.shape"
   ]
  },
  {
   "cell_type": "code",
   "execution_count": 82,
   "id": "55b436da",
   "metadata": {},
   "outputs": [
    {
     "name": "stdout",
     "output_type": "stream",
     "text": [
      "[[ 2776   147    36   279   151   195   933]\n",
      " [  182   358    47    23    32    10    42]\n",
      " [   12    27   510    25    30    15    23]\n",
      " [  135    20    34 13710   175   268  1351]\n",
      " [  213    48    34   110  2205    79   249]\n",
      " [  128    19    58   563    67  3364   508]\n",
      " [  780    51    85  1302   251  1423 10327]]\n"
     ]
    }
   ],
   "source": [
    "# train predictions\n",
    "y_pred_train_electra = electra_model.predict([train_ids,train_attention_mask])\n",
    "y_pred_train_electra = tf.argmax(y_pred_train_electra.logits,axis=1)\n",
    "print(confusion_matrix(y_train,y_pred_train_electra))"
   ]
  },
  {
   "cell_type": "code",
   "execution_count": 83,
   "id": "ac5174c2",
   "metadata": {},
   "outputs": [
    {
     "name": "stdout",
     "output_type": "stream",
     "text": [
      "              precision    recall  f1-score   support\n",
      "\n",
      "           0       0.66      0.61      0.64      4517\n",
      "           1       0.53      0.52      0.52       694\n",
      "           2       0.63      0.79      0.71       642\n",
      "           3       0.86      0.87      0.86     15693\n",
      "           4       0.76      0.75      0.75      2938\n",
      "           5       0.63      0.71      0.67      4707\n",
      "           6       0.77      0.73      0.75     14219\n",
      "\n",
      "    accuracy                           0.77     43410\n",
      "   macro avg       0.69      0.71      0.70     43410\n",
      "weighted avg       0.77      0.77      0.77     43410\n",
      "\n"
     ]
    }
   ],
   "source": [
    "print(classification_report(y_train, y_pred_train_electra) )"
   ]
  },
  {
   "cell_type": "code",
   "execution_count": 84,
   "id": "ee513f97",
   "metadata": {
    "scrolled": false
   },
   "outputs": [
    {
     "name": "stdout",
     "output_type": "stream",
     "text": [
      "[[ 296   25    4   41   15   22  179]\n",
      " [  16   38    4    9    3    2    9]\n",
      " [   1    3   62    5    6    2   10]\n",
      " [  30    2    5 1621   32   47  260]\n",
      " [  24    6    5   33  213   17   54]\n",
      " [  21    2    9   82   19  315  111]\n",
      " [ 145    8   15  224   38  182 1154]]\n",
      "              precision    recall  f1-score   support\n",
      "\n",
      "           0       0.56      0.51      0.53       582\n",
      "           1       0.45      0.47      0.46        81\n",
      "           2       0.60      0.70      0.64        89\n",
      "           3       0.80      0.81      0.81      1997\n",
      "           4       0.65      0.61      0.63       352\n",
      "           5       0.54      0.56      0.55       559\n",
      "           6       0.65      0.65      0.65      1766\n",
      "\n",
      "    accuracy                           0.68      5426\n",
      "   macro avg       0.61      0.62      0.61      5426\n",
      "weighted avg       0.68      0.68      0.68      5426\n",
      "\n"
     ]
    }
   ],
   "source": [
    "# val predictions\n",
    "y_pred_val_electra = electra_model.predict([val_ids,val_attention_mask])\n",
    "y_pred_val_electra = tf.argmax(y_pred_val_electra.logits,axis=1)\n",
    "print(confusion_matrix(y_val,y_pred_val_electra))\n",
    "print(classification_report(y_val, y_pred_val_electra) )"
   ]
  },
  {
   "cell_type": "code",
   "execution_count": null,
   "id": "ec9fd40d",
   "metadata": {},
   "outputs": [],
   "source": []
  }
 ],
 "metadata": {
  "kernelspec": {
   "display_name": "Python 3.9 (tensorflow-gpu)",
   "language": "python",
   "name": "tensorflow-gpu"
  },
  "language_info": {
   "codemirror_mode": {
    "name": "ipython",
    "version": 3
   },
   "file_extension": ".py",
   "mimetype": "text/x-python",
   "name": "python",
   "nbconvert_exporter": "python",
   "pygments_lexer": "ipython3",
   "version": "3.9.15"
  }
 },
 "nbformat": 4,
 "nbformat_minor": 5
}
