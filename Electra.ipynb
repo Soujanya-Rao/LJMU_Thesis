{
 "cells": [
  {
   "cell_type": "code",
   "execution_count": 1,
   "id": "6415efb7",
   "metadata": {
    "execution": {
     "iopub.execute_input": "2021-09-30T11:43:09.132299Z",
     "iopub.status.busy": "2021-09-30T11:43:09.131998Z",
     "iopub.status.idle": "2021-09-30T11:43:12.589332Z",
     "shell.execute_reply": "2021-09-30T11:43:12.588182Z",
     "shell.execute_reply.started": "2021-09-30T11:43:09.132271Z"
    }
   },
   "outputs": [],
   "source": [
    "import os\n",
    "import matplotlib.pyplot as plt\n",
    "import re\n",
    "import string\n",
    "import json\n",
    "import emoji\n",
    "import numpy as np\n",
    "import pandas as pd\n",
    "from sklearn import metrics\n",
    "from bs4 import BeautifulSoup\n",
    "import tqdm\n",
    "import ktrain\n",
    "from ktrain import text\n",
    "import tensorflow as tf\n",
    "import timeit\n",
    "import transformers\n",
    "import contractions\n",
    "import torch\n",
    "from torch.utils.data import Dataset, DataLoader, RandomSampler, SequentialSampler\n",
    "from transformers import BertTokenizer, AutoTokenizer, BertModel, BertConfig, AutoModel, AdamW, TFAutoModelForSequenceClassification\n",
    "import gc\n",
    "from sklearn.metrics import accuracy_score, confusion_matrix, classification_report\n",
    "import warnings\n",
    "warnings.filterwarnings('ignore')\n",
    "\n",
    "pd.set_option(\"display.max_columns\", None)"
   ]
  },
  {
   "cell_type": "code",
   "execution_count": 2,
   "id": "dc27e749",
   "metadata": {
    "execution": {
     "iopub.execute_input": "2021-09-30T11:43:12.591499Z",
     "iopub.status.busy": "2021-09-30T11:43:12.591009Z",
     "iopub.status.idle": "2021-09-30T11:43:12.770702Z",
     "shell.execute_reply": "2021-09-30T11:43:12.769768Z",
     "shell.execute_reply.started": "2021-09-30T11:43:12.591436Z"
    }
   },
   "outputs": [],
   "source": [
    "df_train = pd.read_csv('https://github.com/google-research/google-research/raw/master/goemotions/data/train.tsv', sep='\\t', header=None, names=['Text', 'Class', 'ID']).drop('ID', axis=1)\n",
    "df_val = pd.read_csv('https://github.com/google-research/google-research/raw/master/goemotions/data/dev.tsv', sep='\\t', header=None, names=['Text', 'Class', 'ID']).drop('ID', axis=1)\n",
    "df_test = pd.read_csv('https://github.com/google-research/google-research/raw/master/goemotions/data/test.tsv', sep='\\t', header=None, names=['Text', 'Class', 'ID']).drop('ID', axis=1)\n"
   ]
  },
  {
   "cell_type": "code",
   "execution_count": 3,
   "id": "2514f708",
   "metadata": {
    "execution": {
     "iopub.execute_input": "2021-09-30T11:43:12.772628Z",
     "iopub.status.busy": "2021-09-30T11:43:12.772081Z",
     "iopub.status.idle": "2021-09-30T11:43:12.805446Z",
     "shell.execute_reply": "2021-09-30T11:43:12.804271Z",
     "shell.execute_reply.started": "2021-09-30T11:43:12.772581Z"
    }
   },
   "outputs": [
    {
     "data": {
      "text/html": [
       "<div>\n",
       "<style scoped>\n",
       "    .dataframe tbody tr th:only-of-type {\n",
       "        vertical-align: middle;\n",
       "    }\n",
       "\n",
       "    .dataframe tbody tr th {\n",
       "        vertical-align: top;\n",
       "    }\n",
       "\n",
       "    .dataframe thead th {\n",
       "        text-align: right;\n",
       "    }\n",
       "</style>\n",
       "<table border=\"1\" class=\"dataframe\">\n",
       "  <thead>\n",
       "    <tr style=\"text-align: right;\">\n",
       "      <th></th>\n",
       "      <th>Text</th>\n",
       "      <th>Class</th>\n",
       "    </tr>\n",
       "  </thead>\n",
       "  <tbody>\n",
       "    <tr>\n",
       "      <th>0</th>\n",
       "      <td>My favourite food is anything I didn't have to...</td>\n",
       "      <td>27</td>\n",
       "    </tr>\n",
       "    <tr>\n",
       "      <th>1</th>\n",
       "      <td>Now if he does off himself, everyone will thin...</td>\n",
       "      <td>27</td>\n",
       "    </tr>\n",
       "    <tr>\n",
       "      <th>2</th>\n",
       "      <td>WHY THE FUCK IS BAYLESS ISOING</td>\n",
       "      <td>2</td>\n",
       "    </tr>\n",
       "    <tr>\n",
       "      <th>3</th>\n",
       "      <td>To make her feel threatened</td>\n",
       "      <td>14</td>\n",
       "    </tr>\n",
       "    <tr>\n",
       "      <th>4</th>\n",
       "      <td>Dirty Southern Wankers</td>\n",
       "      <td>3</td>\n",
       "    </tr>\n",
       "    <tr>\n",
       "      <th>...</th>\n",
       "      <td>...</td>\n",
       "      <td>...</td>\n",
       "    </tr>\n",
       "    <tr>\n",
       "      <th>43405</th>\n",
       "      <td>Added you mate well I’ve just got the bow and ...</td>\n",
       "      <td>18</td>\n",
       "    </tr>\n",
       "    <tr>\n",
       "      <th>43406</th>\n",
       "      <td>Always thought that was funny but is it a refe...</td>\n",
       "      <td>6</td>\n",
       "    </tr>\n",
       "    <tr>\n",
       "      <th>43407</th>\n",
       "      <td>What are you talking about? Anything bad that ...</td>\n",
       "      <td>3</td>\n",
       "    </tr>\n",
       "    <tr>\n",
       "      <th>43408</th>\n",
       "      <td>More like a baptism, with sexy results!</td>\n",
       "      <td>13</td>\n",
       "    </tr>\n",
       "    <tr>\n",
       "      <th>43409</th>\n",
       "      <td>Enjoy the ride!</td>\n",
       "      <td>17</td>\n",
       "    </tr>\n",
       "  </tbody>\n",
       "</table>\n",
       "<p>43410 rows × 2 columns</p>\n",
       "</div>"
      ],
      "text/plain": [
       "                                                    Text Class\n",
       "0      My favourite food is anything I didn't have to...    27\n",
       "1      Now if he does off himself, everyone will thin...    27\n",
       "2                         WHY THE FUCK IS BAYLESS ISOING     2\n",
       "3                            To make her feel threatened    14\n",
       "4                                 Dirty Southern Wankers     3\n",
       "...                                                  ...   ...\n",
       "43405  Added you mate well I’ve just got the bow and ...    18\n",
       "43406  Always thought that was funny but is it a refe...     6\n",
       "43407  What are you talking about? Anything bad that ...     3\n",
       "43408            More like a baptism, with sexy results!    13\n",
       "43409                                    Enjoy the ride!    17\n",
       "\n",
       "[43410 rows x 2 columns]"
      ]
     },
     "execution_count": 3,
     "metadata": {},
     "output_type": "execute_result"
    }
   ],
   "source": [
    "df_train"
   ]
  },
  {
   "cell_type": "code",
   "execution_count": 4,
   "id": "c99af35f",
   "metadata": {
    "execution": {
     "iopub.execute_input": "2021-09-30T11:43:12.810392Z",
     "iopub.status.busy": "2021-09-30T11:43:12.810072Z",
     "iopub.status.idle": "2021-09-30T11:43:12.958231Z",
     "shell.execute_reply": "2021-09-30T11:43:12.957293Z",
     "shell.execute_reply.started": "2021-09-30T11:43:12.810351Z"
    }
   },
   "outputs": [],
   "source": [
    "df_train['List of classes'] = df_train['Class'].apply(lambda x: x.split(','))\n",
    "df_train['Len of classes'] = df_train['List of classes'].apply(lambda x: len(x))\n",
    "\n",
    "df_val['List of classes'] = df_val['Class'].apply(lambda x: x.split(','))\n",
    "df_val['Len of classes'] = df_val['List of classes'].apply(lambda x: len(x))\n",
    "\n",
    "df_test['List of classes'] = df_test['Class'].apply(lambda x: x.split(','))\n",
    "df_test['Len of classes'] = df_test['List of classes'].apply(lambda x: len(x))"
   ]
  },
  {
   "cell_type": "code",
   "execution_count": 5,
   "id": "b29220a3",
   "metadata": {
    "execution": {
     "iopub.execute_input": "2021-09-30T11:43:12.962437Z",
     "iopub.status.busy": "2021-09-30T11:43:12.961998Z",
     "iopub.status.idle": "2021-09-30T11:43:12.984765Z",
     "shell.execute_reply": "2021-09-30T11:43:12.983273Z",
     "shell.execute_reply.started": "2021-09-30T11:43:12.962384Z"
    }
   },
   "outputs": [
    {
     "data": {
      "text/html": [
       "<div>\n",
       "<style scoped>\n",
       "    .dataframe tbody tr th:only-of-type {\n",
       "        vertical-align: middle;\n",
       "    }\n",
       "\n",
       "    .dataframe tbody tr th {\n",
       "        vertical-align: top;\n",
       "    }\n",
       "\n",
       "    .dataframe thead th {\n",
       "        text-align: right;\n",
       "    }\n",
       "</style>\n",
       "<table border=\"1\" class=\"dataframe\">\n",
       "  <thead>\n",
       "    <tr style=\"text-align: right;\">\n",
       "      <th></th>\n",
       "      <th>Text</th>\n",
       "      <th>Class</th>\n",
       "      <th>List of classes</th>\n",
       "      <th>Len of classes</th>\n",
       "    </tr>\n",
       "  </thead>\n",
       "  <tbody>\n",
       "    <tr>\n",
       "      <th>0</th>\n",
       "      <td>My favourite food is anything I didn't have to...</td>\n",
       "      <td>27</td>\n",
       "      <td>[27]</td>\n",
       "      <td>1</td>\n",
       "    </tr>\n",
       "    <tr>\n",
       "      <th>1</th>\n",
       "      <td>Now if he does off himself, everyone will thin...</td>\n",
       "      <td>27</td>\n",
       "      <td>[27]</td>\n",
       "      <td>1</td>\n",
       "    </tr>\n",
       "    <tr>\n",
       "      <th>2</th>\n",
       "      <td>WHY THE FUCK IS BAYLESS ISOING</td>\n",
       "      <td>2</td>\n",
       "      <td>[2]</td>\n",
       "      <td>1</td>\n",
       "    </tr>\n",
       "    <tr>\n",
       "      <th>3</th>\n",
       "      <td>To make her feel threatened</td>\n",
       "      <td>14</td>\n",
       "      <td>[14]</td>\n",
       "      <td>1</td>\n",
       "    </tr>\n",
       "    <tr>\n",
       "      <th>4</th>\n",
       "      <td>Dirty Southern Wankers</td>\n",
       "      <td>3</td>\n",
       "      <td>[3]</td>\n",
       "      <td>1</td>\n",
       "    </tr>\n",
       "    <tr>\n",
       "      <th>...</th>\n",
       "      <td>...</td>\n",
       "      <td>...</td>\n",
       "      <td>...</td>\n",
       "      <td>...</td>\n",
       "    </tr>\n",
       "    <tr>\n",
       "      <th>43405</th>\n",
       "      <td>Added you mate well I’ve just got the bow and ...</td>\n",
       "      <td>18</td>\n",
       "      <td>[18]</td>\n",
       "      <td>1</td>\n",
       "    </tr>\n",
       "    <tr>\n",
       "      <th>43406</th>\n",
       "      <td>Always thought that was funny but is it a refe...</td>\n",
       "      <td>6</td>\n",
       "      <td>[6]</td>\n",
       "      <td>1</td>\n",
       "    </tr>\n",
       "    <tr>\n",
       "      <th>43407</th>\n",
       "      <td>What are you talking about? Anything bad that ...</td>\n",
       "      <td>3</td>\n",
       "      <td>[3]</td>\n",
       "      <td>1</td>\n",
       "    </tr>\n",
       "    <tr>\n",
       "      <th>43408</th>\n",
       "      <td>More like a baptism, with sexy results!</td>\n",
       "      <td>13</td>\n",
       "      <td>[13]</td>\n",
       "      <td>1</td>\n",
       "    </tr>\n",
       "    <tr>\n",
       "      <th>43409</th>\n",
       "      <td>Enjoy the ride!</td>\n",
       "      <td>17</td>\n",
       "      <td>[17]</td>\n",
       "      <td>1</td>\n",
       "    </tr>\n",
       "  </tbody>\n",
       "</table>\n",
       "<p>43410 rows × 4 columns</p>\n",
       "</div>"
      ],
      "text/plain": [
       "                                                    Text Class  \\\n",
       "0      My favourite food is anything I didn't have to...    27   \n",
       "1      Now if he does off himself, everyone will thin...    27   \n",
       "2                         WHY THE FUCK IS BAYLESS ISOING     2   \n",
       "3                            To make her feel threatened    14   \n",
       "4                                 Dirty Southern Wankers     3   \n",
       "...                                                  ...   ...   \n",
       "43405  Added you mate well I’ve just got the bow and ...    18   \n",
       "43406  Always thought that was funny but is it a refe...     6   \n",
       "43407  What are you talking about? Anything bad that ...     3   \n",
       "43408            More like a baptism, with sexy results!    13   \n",
       "43409                                    Enjoy the ride!    17   \n",
       "\n",
       "      List of classes  Len of classes  \n",
       "0                [27]               1  \n",
       "1                [27]               1  \n",
       "2                 [2]               1  \n",
       "3                [14]               1  \n",
       "4                 [3]               1  \n",
       "...               ...             ...  \n",
       "43405            [18]               1  \n",
       "43406             [6]               1  \n",
       "43407             [3]               1  \n",
       "43408            [13]               1  \n",
       "43409            [17]               1  \n",
       "\n",
       "[43410 rows x 4 columns]"
      ]
     },
     "execution_count": 5,
     "metadata": {},
     "output_type": "execute_result"
    }
   ],
   "source": [
    "df_train"
   ]
  },
  {
   "cell_type": "code",
   "execution_count": 6,
   "id": "bce7fae4",
   "metadata": {
    "execution": {
     "iopub.execute_input": "2021-09-30T11:43:25.557981Z",
     "iopub.status.busy": "2021-09-30T11:43:25.557565Z",
     "iopub.status.idle": "2021-09-30T11:43:25.592715Z",
     "shell.execute_reply": "2021-09-30T11:43:25.591269Z",
     "shell.execute_reply.started": "2021-09-30T11:43:25.557947Z"
    }
   },
   "outputs": [
    {
     "data": {
      "text/plain": [
       "Text               0\n",
       "Class              0\n",
       "List of classes    0\n",
       "Len of classes     0\n",
       "dtype: int64"
      ]
     },
     "execution_count": 6,
     "metadata": {},
     "output_type": "execute_result"
    }
   ],
   "source": [
    "df_train.isnull().sum()"
   ]
  },
  {
   "cell_type": "code",
   "execution_count": 7,
   "id": "085a5c0c",
   "metadata": {
    "execution": {
     "iopub.execute_input": "2021-09-30T11:43:25.594925Z",
     "iopub.status.busy": "2021-09-30T11:43:25.594407Z",
     "iopub.status.idle": "2021-09-30T11:43:25.614345Z",
     "shell.execute_reply": "2021-09-30T11:43:25.612535Z",
     "shell.execute_reply.started": "2021-09-30T11:43:25.594853Z"
    }
   },
   "outputs": [
    {
     "data": {
      "text/plain": [
       "27           12823\n",
       "0             2710\n",
       "4             1873\n",
       "15            1857\n",
       "1             1652\n",
       "             ...  \n",
       "6,15,22          1\n",
       "9,10,19          1\n",
       "7,10,25          1\n",
       "7,9,24,25        1\n",
       "0,1,18           1\n",
       "Name: Class, Length: 711, dtype: int64"
      ]
     },
     "execution_count": 7,
     "metadata": {},
     "output_type": "execute_result"
    }
   ],
   "source": [
    "df_train[\"Class\"].value_counts()"
   ]
  },
  {
   "cell_type": "code",
   "execution_count": 8,
   "id": "bb30de8f",
   "metadata": {
    "execution": {
     "iopub.execute_input": "2021-09-30T11:43:25.617663Z",
     "iopub.status.busy": "2021-09-30T11:43:25.616910Z",
     "iopub.status.idle": "2021-09-30T11:43:25.636109Z",
     "shell.execute_reply": "2021-09-30T11:43:25.635144Z",
     "shell.execute_reply.started": "2021-09-30T11:43:25.617597Z"
    }
   },
   "outputs": [],
   "source": [
    "with open('ekman_mapping.json') as file:\n",
    "    ekman_mapping = json.load(file)"
   ]
  },
  {
   "cell_type": "code",
   "execution_count": 9,
   "id": "fe678ba1",
   "metadata": {
    "execution": {
     "iopub.execute_input": "2021-09-30T11:43:25.638327Z",
     "iopub.status.busy": "2021-09-30T11:43:25.637738Z",
     "iopub.status.idle": "2021-09-30T11:43:25.653797Z",
     "shell.execute_reply": "2021-09-30T11:43:25.652629Z",
     "shell.execute_reply.started": "2021-09-30T11:43:25.638280Z"
    }
   },
   "outputs": [
    {
     "name": "stdout",
     "output_type": "stream",
     "text": [
      "['admiration', 'amusement', 'anger', 'annoyance', 'approval', 'caring', 'confusion', 'curiosity', 'desire', 'disappointment', 'disapproval', 'disgust', 'embarrassment', 'excitement', 'fear', 'gratitude', 'grief', 'joy', 'love', 'nervousness', 'optimism', 'pride', 'realization', 'relief', 'remorse', 'sadness', 'surprise', 'neutral']\n"
     ]
    }
   ],
   "source": [
    "emotion_file = open(\"emotions.txt\", \"r\")\n",
    "emotion_list = emotion_file.read()\n",
    "emotion_list = emotion_list.split(\"\\n\")\n",
    "print(emotion_list)"
   ]
  },
  {
   "cell_type": "code",
   "execution_count": 10,
   "id": "eba1709f",
   "metadata": {
    "execution": {
     "iopub.execute_input": "2021-09-30T11:43:25.655486Z",
     "iopub.status.busy": "2021-09-30T11:43:25.655183Z",
     "iopub.status.idle": "2021-09-30T11:43:25.663303Z",
     "shell.execute_reply": "2021-09-30T11:43:25.661570Z",
     "shell.execute_reply.started": "2021-09-30T11:43:25.655457Z"
    }
   },
   "outputs": [],
   "source": [
    "def idx2class(idx_list):\n",
    "    arr = []\n",
    "    for i in idx_list:\n",
    "        arr.append(emotion_list[int(i)])\n",
    "    return arr"
   ]
  },
  {
   "cell_type": "code",
   "execution_count": 11,
   "id": "13227e0a",
   "metadata": {
    "execution": {
     "iopub.execute_input": "2021-09-30T11:43:25.666408Z",
     "iopub.status.busy": "2021-09-30T11:43:25.665675Z",
     "iopub.status.idle": "2021-09-30T11:43:25.723430Z",
     "shell.execute_reply": "2021-09-30T11:43:25.722364Z",
     "shell.execute_reply.started": "2021-09-30T11:43:25.666350Z"
    }
   },
   "outputs": [],
   "source": [
    "df_train['Emotions'] = df_train['List of classes'].apply(idx2class)\n",
    "df_val['Emotions'] = df_val['List of classes'].apply(idx2class)\n",
    "df_test['Emotions'] = df_test['List of classes'].apply(idx2class)"
   ]
  },
  {
   "cell_type": "code",
   "execution_count": 12,
   "id": "5babbbc4",
   "metadata": {
    "execution": {
     "iopub.execute_input": "2021-09-30T11:43:25.725645Z",
     "iopub.status.busy": "2021-09-30T11:43:25.725170Z",
     "iopub.status.idle": "2021-09-30T11:43:25.734976Z",
     "shell.execute_reply": "2021-09-30T11:43:25.733515Z",
     "shell.execute_reply.started": "2021-09-30T11:43:25.725598Z"
    }
   },
   "outputs": [
    {
     "data": {
      "text/plain": [
       "{'anger': ['anger', 'annoyance', 'disapproval'],\n",
       " 'disgust': ['disgust'],\n",
       " 'fear': ['fear', 'nervousness'],\n",
       " 'joy': ['joy',\n",
       "  'amusement',\n",
       "  'approval',\n",
       "  'excitement',\n",
       "  'gratitude',\n",
       "  'love',\n",
       "  'optimism',\n",
       "  'relief',\n",
       "  'pride',\n",
       "  'admiration',\n",
       "  'desire',\n",
       "  'caring'],\n",
       " 'sadness': ['sadness', 'disappointment', 'embarrassment', 'grief', 'remorse'],\n",
       " 'surprise': ['surprise', 'realization', 'confusion', 'curiosity']}"
      ]
     },
     "execution_count": 12,
     "metadata": {},
     "output_type": "execute_result"
    }
   ],
   "source": [
    "ekman_mapping"
   ]
  },
  {
   "cell_type": "code",
   "execution_count": 13,
   "id": "97f917ba",
   "metadata": {
    "execution": {
     "iopub.execute_input": "2021-09-30T11:43:25.738298Z",
     "iopub.status.busy": "2021-09-30T11:43:25.737612Z",
     "iopub.status.idle": "2021-09-30T11:43:25.749536Z",
     "shell.execute_reply": "2021-09-30T11:43:25.748140Z",
     "shell.execute_reply.started": "2021-09-30T11:43:25.738254Z"
    }
   },
   "outputs": [],
   "source": [
    "def EmotionMapping(emotion_list):\n",
    "    map_list = []\n",
    "    \n",
    "    for i in emotion_list:\n",
    "        if i in ekman_mapping['anger']:\n",
    "            map_list.append('anger')\n",
    "        if i in ekman_mapping['disgust']:\n",
    "            map_list.append('disgust')\n",
    "        if i in ekman_mapping['fear']:\n",
    "            map_list.append('fear')\n",
    "        if i in ekman_mapping['joy']:\n",
    "            map_list.append('joy')\n",
    "        if i in ekman_mapping['sadness']:\n",
    "            map_list.append('sadness')\n",
    "        if i in ekman_mapping['surprise']:\n",
    "            map_list.append('surprise')\n",
    "        if i == 'neutral':\n",
    "            map_list.append('neutral')\n",
    "            \n",
    "    return map_list"
   ]
  },
  {
   "cell_type": "code",
   "execution_count": 14,
   "id": "1a6be6e8",
   "metadata": {
    "execution": {
     "iopub.execute_input": "2021-09-30T11:43:25.752948Z",
     "iopub.status.busy": "2021-09-30T11:43:25.752043Z",
     "iopub.status.idle": "2021-09-30T11:43:25.987257Z",
     "shell.execute_reply": "2021-09-30T11:43:25.986063Z",
     "shell.execute_reply.started": "2021-09-30T11:43:25.752898Z"
    }
   },
   "outputs": [],
   "source": [
    "df_train['Mapped Emotions'] = df_train['Emotions'].apply(EmotionMapping)\n",
    "df_val['Mapped Emotions'] = df_val['Emotions'].apply(EmotionMapping)\n",
    "df_test['Mapped Emotions'] = df_test['Emotions'].apply(EmotionMapping)"
   ]
  },
  {
   "cell_type": "code",
   "execution_count": 15,
   "id": "6b56e228",
   "metadata": {},
   "outputs": [
    {
     "data": {
      "text/html": [
       "<div>\n",
       "<style scoped>\n",
       "    .dataframe tbody tr th:only-of-type {\n",
       "        vertical-align: middle;\n",
       "    }\n",
       "\n",
       "    .dataframe tbody tr th {\n",
       "        vertical-align: top;\n",
       "    }\n",
       "\n",
       "    .dataframe thead th {\n",
       "        text-align: right;\n",
       "    }\n",
       "</style>\n",
       "<table border=\"1\" class=\"dataframe\">\n",
       "  <thead>\n",
       "    <tr style=\"text-align: right;\">\n",
       "      <th></th>\n",
       "      <th>Text</th>\n",
       "      <th>Class</th>\n",
       "      <th>List of classes</th>\n",
       "      <th>Len of classes</th>\n",
       "      <th>Emotions</th>\n",
       "      <th>Mapped Emotions</th>\n",
       "    </tr>\n",
       "  </thead>\n",
       "  <tbody>\n",
       "    <tr>\n",
       "      <th>0</th>\n",
       "      <td>My favourite food is anything I didn't have to...</td>\n",
       "      <td>27</td>\n",
       "      <td>[27]</td>\n",
       "      <td>1</td>\n",
       "      <td>[neutral]</td>\n",
       "      <td>[neutral]</td>\n",
       "    </tr>\n",
       "    <tr>\n",
       "      <th>1</th>\n",
       "      <td>Now if he does off himself, everyone will thin...</td>\n",
       "      <td>27</td>\n",
       "      <td>[27]</td>\n",
       "      <td>1</td>\n",
       "      <td>[neutral]</td>\n",
       "      <td>[neutral]</td>\n",
       "    </tr>\n",
       "    <tr>\n",
       "      <th>2</th>\n",
       "      <td>WHY THE FUCK IS BAYLESS ISOING</td>\n",
       "      <td>2</td>\n",
       "      <td>[2]</td>\n",
       "      <td>1</td>\n",
       "      <td>[anger]</td>\n",
       "      <td>[anger]</td>\n",
       "    </tr>\n",
       "    <tr>\n",
       "      <th>3</th>\n",
       "      <td>To make her feel threatened</td>\n",
       "      <td>14</td>\n",
       "      <td>[14]</td>\n",
       "      <td>1</td>\n",
       "      <td>[fear]</td>\n",
       "      <td>[fear]</td>\n",
       "    </tr>\n",
       "    <tr>\n",
       "      <th>4</th>\n",
       "      <td>Dirty Southern Wankers</td>\n",
       "      <td>3</td>\n",
       "      <td>[3]</td>\n",
       "      <td>1</td>\n",
       "      <td>[annoyance]</td>\n",
       "      <td>[anger]</td>\n",
       "    </tr>\n",
       "    <tr>\n",
       "      <th>...</th>\n",
       "      <td>...</td>\n",
       "      <td>...</td>\n",
       "      <td>...</td>\n",
       "      <td>...</td>\n",
       "      <td>...</td>\n",
       "      <td>...</td>\n",
       "    </tr>\n",
       "    <tr>\n",
       "      <th>43405</th>\n",
       "      <td>Added you mate well I’ve just got the bow and ...</td>\n",
       "      <td>18</td>\n",
       "      <td>[18]</td>\n",
       "      <td>1</td>\n",
       "      <td>[love]</td>\n",
       "      <td>[joy]</td>\n",
       "    </tr>\n",
       "    <tr>\n",
       "      <th>43406</th>\n",
       "      <td>Always thought that was funny but is it a refe...</td>\n",
       "      <td>6</td>\n",
       "      <td>[6]</td>\n",
       "      <td>1</td>\n",
       "      <td>[confusion]</td>\n",
       "      <td>[surprise]</td>\n",
       "    </tr>\n",
       "    <tr>\n",
       "      <th>43407</th>\n",
       "      <td>What are you talking about? Anything bad that ...</td>\n",
       "      <td>3</td>\n",
       "      <td>[3]</td>\n",
       "      <td>1</td>\n",
       "      <td>[annoyance]</td>\n",
       "      <td>[anger]</td>\n",
       "    </tr>\n",
       "    <tr>\n",
       "      <th>43408</th>\n",
       "      <td>More like a baptism, with sexy results!</td>\n",
       "      <td>13</td>\n",
       "      <td>[13]</td>\n",
       "      <td>1</td>\n",
       "      <td>[excitement]</td>\n",
       "      <td>[joy]</td>\n",
       "    </tr>\n",
       "    <tr>\n",
       "      <th>43409</th>\n",
       "      <td>Enjoy the ride!</td>\n",
       "      <td>17</td>\n",
       "      <td>[17]</td>\n",
       "      <td>1</td>\n",
       "      <td>[joy]</td>\n",
       "      <td>[joy]</td>\n",
       "    </tr>\n",
       "  </tbody>\n",
       "</table>\n",
       "<p>43410 rows × 6 columns</p>\n",
       "</div>"
      ],
      "text/plain": [
       "                                                    Text Class  \\\n",
       "0      My favourite food is anything I didn't have to...    27   \n",
       "1      Now if he does off himself, everyone will thin...    27   \n",
       "2                         WHY THE FUCK IS BAYLESS ISOING     2   \n",
       "3                            To make her feel threatened    14   \n",
       "4                                 Dirty Southern Wankers     3   \n",
       "...                                                  ...   ...   \n",
       "43405  Added you mate well I’ve just got the bow and ...    18   \n",
       "43406  Always thought that was funny but is it a refe...     6   \n",
       "43407  What are you talking about? Anything bad that ...     3   \n",
       "43408            More like a baptism, with sexy results!    13   \n",
       "43409                                    Enjoy the ride!    17   \n",
       "\n",
       "      List of classes  Len of classes      Emotions Mapped Emotions  \n",
       "0                [27]               1     [neutral]       [neutral]  \n",
       "1                [27]               1     [neutral]       [neutral]  \n",
       "2                 [2]               1       [anger]         [anger]  \n",
       "3                [14]               1        [fear]          [fear]  \n",
       "4                 [3]               1   [annoyance]         [anger]  \n",
       "...               ...             ...           ...             ...  \n",
       "43405            [18]               1        [love]           [joy]  \n",
       "43406             [6]               1   [confusion]      [surprise]  \n",
       "43407             [3]               1   [annoyance]         [anger]  \n",
       "43408            [13]               1  [excitement]           [joy]  \n",
       "43409            [17]               1         [joy]           [joy]  \n",
       "\n",
       "[43410 rows x 6 columns]"
      ]
     },
     "execution_count": 15,
     "metadata": {},
     "output_type": "execute_result"
    }
   ],
   "source": [
    "df_train"
   ]
  },
  {
   "cell_type": "code",
   "execution_count": 16,
   "id": "9d054b0a",
   "metadata": {},
   "outputs": [],
   "source": [
    "# Building a preprocessing function to clean text\n",
    "def preprocess_corpus(x):\n",
    "\n",
    "  # Adding a space between words and punctation\n",
    "  x = re.sub( r'([a-zA-Z\\[\\]])([,;.!?])', r'\\1 \\2', x)\n",
    "  x = re.sub( r'([,;.!?])([a-zA-Z\\[\\]])', r'\\1 \\2', x)\n",
    "  \n",
    "  # Demojize\n",
    "  x = emoji.demojize(x)\n",
    "  \n",
    "  # Expand contraction\n",
    "  x = contractions.fix(x)\n",
    "  \n",
    "  # Lower\n",
    "  x = x.lower()\n",
    "\n",
    "  #correct some acronyms/typos/abbreviations  \n",
    "  x = re.sub(r\"lmao\", \"laughing my ass off\", x)  \n",
    "  x = re.sub(r\"amirite\", \"am i right\", x)\n",
    "  x = re.sub(r\"\\b(tho)\\b\", \"though\", x)\n",
    "  x = re.sub(r\"\\b(ikr)\\b\", \"i know right\", x)\n",
    "  x = re.sub(r\"\\b(ya|u)\\b\", \"you\", x)\n",
    "  x = re.sub(r\"\\b(eu)\\b\", \"europe\", x)\n",
    "  x = re.sub(r\"\\b(da)\\b\", \"the\", x)\n",
    "  x = re.sub(r\"\\b(dat)\\b\", \"that\", x)\n",
    "  x = re.sub(r\"\\b(dats)\\b\", \"that is\", x)\n",
    "  x = re.sub(r\"\\b(cuz)\\b\", \"because\", x)\n",
    "  x = re.sub(r\"\\b(fkn)\\b\", \"fucking\", x)\n",
    "  x = re.sub(r\"\\b(tbh)\\b\", \"to be honest\", x)\n",
    "  x = re.sub(r\"\\b(tbf)\\b\", \"to be fair\", x)\n",
    "  x = re.sub(r\"faux pas\", \"mistake\", x)\n",
    "  x = re.sub(r\"\\b(btw)\\b\", \"by the way\", x)\n",
    "  x = re.sub(r\"\\b(bs)\\b\", \"bullshit\", x)\n",
    "  x = re.sub(r\"\\b(kinda)\\b\", \"kind of\", x)\n",
    "  x = re.sub(r\"\\b(bruh)\\b\", \"bro\", x)\n",
    "  x = re.sub(r\"\\b(w/e)\\b\", \"whatever\", x)\n",
    "  x = re.sub(r\"\\b(w/)\\b\", \"with\", x)\n",
    "  x = re.sub(r\"\\b(w/o)\\b\", \"without\", x)\n",
    "  x = re.sub(r\"\\b(doj)\\b\", \"department of justice\", x)\n",
    "  \n",
    "  #replace some words with multiple occurences of a letter, example \"coooool\" turns into --> cool\n",
    "  x = re.sub(r\"\\b(j+e{2,}z+e*)\\b\", \"jeez\", x)\n",
    "  x = re.sub(r\"\\b(co+l+)\\b\", \"cool\", x)\n",
    "  x = re.sub(r\"\\b(g+o+a+l+)\\b\", \"goal\", x)\n",
    "  x = re.sub(r\"\\b(s+h+i+t+)\\b\", \"shit\", x)\n",
    "  x = re.sub(r\"\\b(o+m+g+)\\b\", \"omg\", x)\n",
    "  x = re.sub(r\"\\b(w+t+f+)\\b\", \"wtf\", x)\n",
    "  x = re.sub(r\"\\b(w+h+a+t+)\\b\", \"what\", x)\n",
    "  x = re.sub(r\"\\b(y+e+y+|y+a+y+|y+e+a+h+)\\b\", \"yeah\", x)\n",
    "  x = re.sub(r\"\\b(w+o+w+)\\b\", \"wow\", x)\n",
    "  x = re.sub(r\"\\b(w+h+y+)\\b\", \"why\", x)\n",
    "  x = re.sub(r\"\\b(s+o+)\\b\", \"so\", x)\n",
    "  x = re.sub(r\"\\b(f)\\b\", \"fuck\", x)\n",
    "  x = re.sub(r\"\\b(w+h+o+p+s+)\\b\", \"whoops\", x)\n",
    "  x = re.sub(r\"\\b(ofc)\\b\", \"of course\", x)\n",
    "  x = re.sub(r\"\\b(the us)\\b\", \"usa\", x)\n",
    "  x = re.sub(r\"\\b(gf)\\b\", \"girlfriend\", x)\n",
    "  x = re.sub(r\"\\b(hr)\\b\", \"human ressources\", x)\n",
    "  x = re.sub(r\"\\b(mh)\\b\", \"mental health\", x)\n",
    "  x = re.sub(r\"\\b(idk)\\b\", \"i do not know\", x)\n",
    "  x = re.sub(r\"\\b(gotcha)\\b\", \"i got you\", x)\n",
    "  x = re.sub(r\"\\b(y+e+p+)\\b\", \"yes\", x)\n",
    "  x = re.sub(r\"\\b(a*ha+h[ha]*|a*ha +h[ha]*)\\b\", \"haha\", x)\n",
    "  x = re.sub(r\"\\b(o?l+o+l+[ol]*)\\b\", \"lol\", x)\n",
    "  x = re.sub(r\"\\b(o*ho+h[ho]*|o*ho +h[ho]*)\\b\", \"ohoh\", x)\n",
    "  x = re.sub(r\"\\b(o+h+)\\b\", \"oh\", x)\n",
    "  x = re.sub(r\"\\b(a+h+)\\b\", \"ah\", x)\n",
    "  x = re.sub(r\"\\b(u+h+)\\b\", \"uh\", x)\n",
    "\n",
    "  # Handling emojis\n",
    "  x = re.sub(r\"<3\", \" love \", x)\n",
    "  x = re.sub(r\"xd\", \" smiling_face_with_open_mouth_and_tightly_closed_eyes \", x)\n",
    "  x = re.sub(r\":\\)\", \" smiling_face \", x)\n",
    "  x = re.sub(r\"^_^\", \" smiling_face \", x)\n",
    "  x = re.sub(r\"\\*_\\*\", \" star_struck \", x)\n",
    "  x = re.sub(r\":\\(\", \" frowning_face \", x)\n",
    "  x = re.sub(r\":\\^\\(\", \" frowning_face \", x)\n",
    "  x = re.sub(r\";\\(\", \" frowning_face \", x)\n",
    "  x = re.sub(r\":\\/\",  \" confused_face\", x)\n",
    "  x = re.sub(r\";\\)\",  \" wink\", x)\n",
    "  x = re.sub(r\">__<\",  \" unamused \", x)\n",
    "  x = re.sub(r\"\\b([xo]+x*)\\b\", \" xoxo \", x)\n",
    "  x = re.sub(r\"\\b(n+a+h+)\\b\", \"no\", x)\n",
    "\n",
    "  # Handling special cases of text\n",
    "  x = re.sub(r\"h a m b e r d e r s\", \"hamberders\", x)\n",
    "  x = re.sub(r\"b e n\", \"ben\", x)\n",
    "  x = re.sub(r\"s a t i r e\", \"satire\", x)\n",
    "  x = re.sub(r\"y i k e s\", \"yikes\", x)\n",
    "  x = re.sub(r\"s p o i l e r\", \"spoiler\", x)\n",
    "  x = re.sub(r\"thankyou\", \"thank you\", x)\n",
    "  x = re.sub(r\"a^r^o^o^o^o^o^o^o^n^d\", \"around\", x)\n",
    "\n",
    "  # Remove special characters and numbers replace by space + remove double space\n",
    "  x = re.sub(r\"\\b([.]{3,})\",\" dots \", x)\n",
    "  x = re.sub(r\"[^A-Za-z!?_]+\",\" \", x)\n",
    "  x = re.sub(r\"\\b([s])\\b *\",\"\", x)\n",
    "  x = re.sub(r\" +\",\" \", x)\n",
    "  x = x.strip()\n",
    "\n",
    "  return x"
   ]
  },
  {
   "cell_type": "code",
   "execution_count": 17,
   "id": "b2d7391b",
   "metadata": {},
   "outputs": [],
   "source": [
    "# Defining the number of samples in train, validation and test dataset\n",
    "size_train = df_train.shape[0]\n",
    "size_val = df_val.shape[0]\n",
    "size_test = df_test.shape[0]\n",
    "\n",
    "# Defining the total number of samples\n",
    "size_all = size_train + size_val + size_test"
   ]
  },
  {
   "cell_type": "code",
   "execution_count": 18,
   "id": "92216918",
   "metadata": {},
   "outputs": [
    {
     "data": {
      "text/plain": [
       "43410"
      ]
     },
     "execution_count": 18,
     "metadata": {},
     "output_type": "execute_result"
    }
   ],
   "source": [
    "size_train"
   ]
  },
  {
   "cell_type": "code",
   "execution_count": 19,
   "id": "6a5aaf3b",
   "metadata": {},
   "outputs": [
    {
     "name": "stdout",
     "output_type": "stream",
     "text": [
      "Train dataset has 43410 samples and represents 80.00% of overall data\n",
      "Validation dataset has 5426 samples and represents 10.00% of overall data\n",
      "Test dataset has 5427 samples and represents 10.00% of overall data\n",
      "\n",
      "The total number of samples is : 54263\n"
     ]
    }
   ],
   "source": [
    "# Shape of train, validation and test datasets\n",
    "print(\"Train dataset has {} samples and represents {:.2f}% of overall data\".format(size_train, size_train/size_all*100))\n",
    "print(\"Validation dataset has {} samples and represents {:.2f}% of overall data\".format(size_val, size_val/size_all*100))\n",
    "print(\"Test dataset has {} samples and represents {:.2f}% of overall data\".format(size_test, size_test/size_all*100))\n",
    "print()\n",
    "print(\"The total number of samples is : {}\".format(size_all))"
   ]
  },
  {
   "cell_type": "code",
   "execution_count": 20,
   "id": "1adfb8fb",
   "metadata": {},
   "outputs": [
    {
     "data": {
      "text/html": [
       "<div>\n",
       "<style scoped>\n",
       "    .dataframe tbody tr th:only-of-type {\n",
       "        vertical-align: middle;\n",
       "    }\n",
       "\n",
       "    .dataframe tbody tr th {\n",
       "        vertical-align: top;\n",
       "    }\n",
       "\n",
       "    .dataframe thead th {\n",
       "        text-align: right;\n",
       "    }\n",
       "</style>\n",
       "<table border=\"1\" class=\"dataframe\">\n",
       "  <thead>\n",
       "    <tr style=\"text-align: right;\">\n",
       "      <th></th>\n",
       "      <th>Text</th>\n",
       "      <th>Class</th>\n",
       "      <th>List of classes</th>\n",
       "      <th>Len of classes</th>\n",
       "      <th>Emotions</th>\n",
       "      <th>Mapped Emotions</th>\n",
       "    </tr>\n",
       "  </thead>\n",
       "  <tbody>\n",
       "    <tr>\n",
       "      <th>0</th>\n",
       "      <td>My favourite food is anything I didn't have to...</td>\n",
       "      <td>27</td>\n",
       "      <td>[27]</td>\n",
       "      <td>1</td>\n",
       "      <td>[neutral]</td>\n",
       "      <td>[neutral]</td>\n",
       "    </tr>\n",
       "    <tr>\n",
       "      <th>1</th>\n",
       "      <td>Now if he does off himself, everyone will thin...</td>\n",
       "      <td>27</td>\n",
       "      <td>[27]</td>\n",
       "      <td>1</td>\n",
       "      <td>[neutral]</td>\n",
       "      <td>[neutral]</td>\n",
       "    </tr>\n",
       "    <tr>\n",
       "      <th>2</th>\n",
       "      <td>WHY THE FUCK IS BAYLESS ISOING</td>\n",
       "      <td>2</td>\n",
       "      <td>[2]</td>\n",
       "      <td>1</td>\n",
       "      <td>[anger]</td>\n",
       "      <td>[anger]</td>\n",
       "    </tr>\n",
       "    <tr>\n",
       "      <th>3</th>\n",
       "      <td>To make her feel threatened</td>\n",
       "      <td>14</td>\n",
       "      <td>[14]</td>\n",
       "      <td>1</td>\n",
       "      <td>[fear]</td>\n",
       "      <td>[fear]</td>\n",
       "    </tr>\n",
       "    <tr>\n",
       "      <th>4</th>\n",
       "      <td>Dirty Southern Wankers</td>\n",
       "      <td>3</td>\n",
       "      <td>[3]</td>\n",
       "      <td>1</td>\n",
       "      <td>[annoyance]</td>\n",
       "      <td>[anger]</td>\n",
       "    </tr>\n",
       "  </tbody>\n",
       "</table>\n",
       "</div>"
      ],
      "text/plain": [
       "                                                Text Class List of classes  \\\n",
       "0  My favourite food is anything I didn't have to...    27            [27]   \n",
       "1  Now if he does off himself, everyone will thin...    27            [27]   \n",
       "2                     WHY THE FUCK IS BAYLESS ISOING     2             [2]   \n",
       "3                        To make her feel threatened    14            [14]   \n",
       "4                             Dirty Southern Wankers     3             [3]   \n",
       "\n",
       "   Len of classes     Emotions Mapped Emotions  \n",
       "0               1    [neutral]       [neutral]  \n",
       "1               1    [neutral]       [neutral]  \n",
       "2               1      [anger]         [anger]  \n",
       "3               1       [fear]          [fear]  \n",
       "4               1  [annoyance]         [anger]  "
      ]
     },
     "metadata": {},
     "output_type": "display_data"
    },
    {
     "name": "stdout",
     "output_type": "stream",
     "text": [
      "(54263, 6)\n"
     ]
    }
   ],
   "source": [
    "# Concatenating the 3 datasets for labels preprocessing\n",
    "df_all = pd.concat([df_train, df_val, df_test], axis=0).reset_index(drop=True)\n",
    "\n",
    "# Preview of data\n",
    "display(df_all.head(5))\n",
    "\n",
    "print(df_all.shape)"
   ]
  },
  {
   "cell_type": "code",
   "execution_count": 21,
   "id": "ef3270a5",
   "metadata": {},
   "outputs": [
    {
     "data": {
      "text/html": [
       "<div>\n",
       "<style scoped>\n",
       "    .dataframe tbody tr th:only-of-type {\n",
       "        vertical-align: middle;\n",
       "    }\n",
       "\n",
       "    .dataframe tbody tr th {\n",
       "        vertical-align: top;\n",
       "    }\n",
       "\n",
       "    .dataframe thead th {\n",
       "        text-align: right;\n",
       "    }\n",
       "</style>\n",
       "<table border=\"1\" class=\"dataframe\">\n",
       "  <thead>\n",
       "    <tr style=\"text-align: right;\">\n",
       "      <th></th>\n",
       "      <th>Text</th>\n",
       "      <th>Clean_text</th>\n",
       "    </tr>\n",
       "  </thead>\n",
       "  <tbody>\n",
       "    <tr>\n",
       "      <th>28254</th>\n",
       "      <td>I just want to note that \"Live Photo\" is somet...</td>\n",
       "      <td>i just want to note that live photo is somethi...</td>\n",
       "    </tr>\n",
       "    <tr>\n",
       "      <th>32749</th>\n",
       "      <td>Okay, carry on then. Just thought I’d make sur...</td>\n",
       "      <td>okay carry on then just thought i would make s...</td>\n",
       "    </tr>\n",
       "    <tr>\n",
       "      <th>34981</th>\n",
       "      <td>Thank you for an informative answer</td>\n",
       "      <td>thank you for an informative answer</td>\n",
       "    </tr>\n",
       "    <tr>\n",
       "      <th>18338</th>\n",
       "      <td>should have expected that ending ... but nice ...</td>\n",
       "      <td>should have expected that ending but nice new ...</td>\n",
       "    </tr>\n",
       "    <tr>\n",
       "      <th>37447</th>\n",
       "      <td>That is a very handsome dog.</td>\n",
       "      <td>that is a very handsome dog</td>\n",
       "    </tr>\n",
       "  </tbody>\n",
       "</table>\n",
       "</div>"
      ],
      "text/plain": [
       "                                                    Text  \\\n",
       "28254  I just want to note that \"Live Photo\" is somet...   \n",
       "32749  Okay, carry on then. Just thought I’d make sur...   \n",
       "34981                Thank you for an informative answer   \n",
       "18338  should have expected that ending ... but nice ...   \n",
       "37447                       That is a very handsome dog.   \n",
       "\n",
       "                                              Clean_text  \n",
       "28254  i just want to note that live photo is somethi...  \n",
       "32749  okay carry on then just thought i would make s...  \n",
       "34981                thank you for an informative answer  \n",
       "18338  should have expected that ending but nice new ...  \n",
       "37447                        that is a very handsome dog  "
      ]
     },
     "metadata": {},
     "output_type": "display_data"
    }
   ],
   "source": [
    "# Applying the preprocessing function on the dataset\n",
    "df_all[\"Clean_text\"] = df_all[\"Text\"].apply(preprocess_corpus)\n",
    "\n",
    "# Preview of data\n",
    "display(df_all[['Text', 'Clean_text']].sample(5))"
   ]
  },
  {
   "cell_type": "code",
   "execution_count": 22,
   "id": "520c4fcd",
   "metadata": {},
   "outputs": [
    {
     "data": {
      "text/html": [
       "<div>\n",
       "<style scoped>\n",
       "    .dataframe tbody tr th:only-of-type {\n",
       "        vertical-align: middle;\n",
       "    }\n",
       "\n",
       "    .dataframe tbody tr th {\n",
       "        vertical-align: top;\n",
       "    }\n",
       "\n",
       "    .dataframe thead th {\n",
       "        text-align: right;\n",
       "    }\n",
       "</style>\n",
       "<table border=\"1\" class=\"dataframe\">\n",
       "  <thead>\n",
       "    <tr style=\"text-align: right;\">\n",
       "      <th></th>\n",
       "      <th>Text</th>\n",
       "      <th>Class</th>\n",
       "      <th>List of classes</th>\n",
       "      <th>Len of classes</th>\n",
       "      <th>Emotions</th>\n",
       "      <th>Mapped Emotions</th>\n",
       "      <th>Clean_text</th>\n",
       "    </tr>\n",
       "  </thead>\n",
       "  <tbody>\n",
       "    <tr>\n",
       "      <th>0</th>\n",
       "      <td>My favourite food is anything I didn't have to...</td>\n",
       "      <td>27</td>\n",
       "      <td>[27]</td>\n",
       "      <td>1</td>\n",
       "      <td>[neutral]</td>\n",
       "      <td>[neutral]</td>\n",
       "      <td>my favourite food is anything i did not have t...</td>\n",
       "    </tr>\n",
       "    <tr>\n",
       "      <th>1</th>\n",
       "      <td>Now if he does off himself, everyone will thin...</td>\n",
       "      <td>27</td>\n",
       "      <td>[27]</td>\n",
       "      <td>1</td>\n",
       "      <td>[neutral]</td>\n",
       "      <td>[neutral]</td>\n",
       "      <td>now if he does off himself everyone will think...</td>\n",
       "    </tr>\n",
       "    <tr>\n",
       "      <th>2</th>\n",
       "      <td>WHY THE FUCK IS BAYLESS ISOING</td>\n",
       "      <td>2</td>\n",
       "      <td>[2]</td>\n",
       "      <td>1</td>\n",
       "      <td>[anger]</td>\n",
       "      <td>[anger]</td>\n",
       "      <td>why the fuck is bayless isoing</td>\n",
       "    </tr>\n",
       "    <tr>\n",
       "      <th>3</th>\n",
       "      <td>To make her feel threatened</td>\n",
       "      <td>14</td>\n",
       "      <td>[14]</td>\n",
       "      <td>1</td>\n",
       "      <td>[fear]</td>\n",
       "      <td>[fear]</td>\n",
       "      <td>to make her feel threatened</td>\n",
       "    </tr>\n",
       "    <tr>\n",
       "      <th>4</th>\n",
       "      <td>Dirty Southern Wankers</td>\n",
       "      <td>3</td>\n",
       "      <td>[3]</td>\n",
       "      <td>1</td>\n",
       "      <td>[annoyance]</td>\n",
       "      <td>[anger]</td>\n",
       "      <td>dirty southern wankers</td>\n",
       "    </tr>\n",
       "    <tr>\n",
       "      <th>...</th>\n",
       "      <td>...</td>\n",
       "      <td>...</td>\n",
       "      <td>...</td>\n",
       "      <td>...</td>\n",
       "      <td>...</td>\n",
       "      <td>...</td>\n",
       "      <td>...</td>\n",
       "    </tr>\n",
       "    <tr>\n",
       "      <th>54258</th>\n",
       "      <td>Thanks. I was diagnosed with BP 1 after the ho...</td>\n",
       "      <td>15</td>\n",
       "      <td>[15]</td>\n",
       "      <td>1</td>\n",
       "      <td>[gratitude]</td>\n",
       "      <td>[joy]</td>\n",
       "      <td>thanks i was diagnosed with bp after the hospi...</td>\n",
       "    </tr>\n",
       "    <tr>\n",
       "      <th>54259</th>\n",
       "      <td>Well that makes sense.</td>\n",
       "      <td>4</td>\n",
       "      <td>[4]</td>\n",
       "      <td>1</td>\n",
       "      <td>[approval]</td>\n",
       "      <td>[joy]</td>\n",
       "      <td>well that makes sense</td>\n",
       "    </tr>\n",
       "    <tr>\n",
       "      <th>54260</th>\n",
       "      <td>Daddy issues [NAME]</td>\n",
       "      <td>27</td>\n",
       "      <td>[27]</td>\n",
       "      <td>1</td>\n",
       "      <td>[neutral]</td>\n",
       "      <td>[neutral]</td>\n",
       "      <td>daddy issues name</td>\n",
       "    </tr>\n",
       "    <tr>\n",
       "      <th>54261</th>\n",
       "      <td>So glad I discovered that subreddit a couple m...</td>\n",
       "      <td>0</td>\n",
       "      <td>[0]</td>\n",
       "      <td>1</td>\n",
       "      <td>[admiration]</td>\n",
       "      <td>[joy]</td>\n",
       "      <td>so glad i discovered that subreddit a couple m...</td>\n",
       "    </tr>\n",
       "    <tr>\n",
       "      <th>54262</th>\n",
       "      <td>Had to watch \"Elmo in Grouchland\" one time too...</td>\n",
       "      <td>27</td>\n",
       "      <td>[27]</td>\n",
       "      <td>1</td>\n",
       "      <td>[neutral]</td>\n",
       "      <td>[neutral]</td>\n",
       "      <td>had to watch elmo in grouchland one time too m...</td>\n",
       "    </tr>\n",
       "  </tbody>\n",
       "</table>\n",
       "<p>54263 rows × 7 columns</p>\n",
       "</div>"
      ],
      "text/plain": [
       "                                                    Text Class  \\\n",
       "0      My favourite food is anything I didn't have to...    27   \n",
       "1      Now if he does off himself, everyone will thin...    27   \n",
       "2                         WHY THE FUCK IS BAYLESS ISOING     2   \n",
       "3                            To make her feel threatened    14   \n",
       "4                                 Dirty Southern Wankers     3   \n",
       "...                                                  ...   ...   \n",
       "54258  Thanks. I was diagnosed with BP 1 after the ho...    15   \n",
       "54259                             Well that makes sense.     4   \n",
       "54260                                Daddy issues [NAME]    27   \n",
       "54261  So glad I discovered that subreddit a couple m...     0   \n",
       "54262  Had to watch \"Elmo in Grouchland\" one time too...    27   \n",
       "\n",
       "      List of classes  Len of classes      Emotions Mapped Emotions  \\\n",
       "0                [27]               1     [neutral]       [neutral]   \n",
       "1                [27]               1     [neutral]       [neutral]   \n",
       "2                 [2]               1       [anger]         [anger]   \n",
       "3                [14]               1        [fear]          [fear]   \n",
       "4                 [3]               1   [annoyance]         [anger]   \n",
       "...               ...             ...           ...             ...   \n",
       "54258            [15]               1   [gratitude]           [joy]   \n",
       "54259             [4]               1    [approval]           [joy]   \n",
       "54260            [27]               1     [neutral]       [neutral]   \n",
       "54261             [0]               1  [admiration]           [joy]   \n",
       "54262            [27]               1     [neutral]       [neutral]   \n",
       "\n",
       "                                              Clean_text  \n",
       "0      my favourite food is anything i did not have t...  \n",
       "1      now if he does off himself everyone will think...  \n",
       "2                         why the fuck is bayless isoing  \n",
       "3                            to make her feel threatened  \n",
       "4                                 dirty southern wankers  \n",
       "...                                                  ...  \n",
       "54258  thanks i was diagnosed with bp after the hospi...  \n",
       "54259                              well that makes sense  \n",
       "54260                                  daddy issues name  \n",
       "54261  so glad i discovered that subreddit a couple m...  \n",
       "54262  had to watch elmo in grouchland one time too m...  \n",
       "\n",
       "[54263 rows x 7 columns]"
      ]
     },
     "execution_count": 22,
     "metadata": {},
     "output_type": "execute_result"
    }
   ],
   "source": [
    "df_all"
   ]
  },
  {
   "cell_type": "code",
   "execution_count": 23,
   "id": "d79933d0",
   "metadata": {},
   "outputs": [
    {
     "data": {
      "text/html": [
       "<div>\n",
       "<style scoped>\n",
       "    .dataframe tbody tr th:only-of-type {\n",
       "        vertical-align: middle;\n",
       "    }\n",
       "\n",
       "    .dataframe tbody tr th {\n",
       "        vertical-align: top;\n",
       "    }\n",
       "\n",
       "    .dataframe thead th {\n",
       "        text-align: right;\n",
       "    }\n",
       "</style>\n",
       "<table border=\"1\" class=\"dataframe\">\n",
       "  <thead>\n",
       "    <tr style=\"text-align: right;\">\n",
       "      <th></th>\n",
       "      <th>Text</th>\n",
       "      <th>Mapped Emotions</th>\n",
       "      <th>Clean_text</th>\n",
       "    </tr>\n",
       "  </thead>\n",
       "  <tbody>\n",
       "    <tr>\n",
       "      <th>0</th>\n",
       "      <td>My favourite food is anything I didn't have to...</td>\n",
       "      <td>[neutral]</td>\n",
       "      <td>my favourite food is anything i did not have t...</td>\n",
       "    </tr>\n",
       "    <tr>\n",
       "      <th>1</th>\n",
       "      <td>Now if he does off himself, everyone will thin...</td>\n",
       "      <td>[neutral]</td>\n",
       "      <td>now if he does off himself everyone will think...</td>\n",
       "    </tr>\n",
       "    <tr>\n",
       "      <th>2</th>\n",
       "      <td>WHY THE FUCK IS BAYLESS ISOING</td>\n",
       "      <td>[anger]</td>\n",
       "      <td>why the fuck is bayless isoing</td>\n",
       "    </tr>\n",
       "  </tbody>\n",
       "</table>\n",
       "</div>"
      ],
      "text/plain": [
       "                                                Text Mapped Emotions  \\\n",
       "0  My favourite food is anything I didn't have to...       [neutral]   \n",
       "1  Now if he does off himself, everyone will thin...       [neutral]   \n",
       "2                     WHY THE FUCK IS BAYLESS ISOING         [anger]   \n",
       "\n",
       "                                          Clean_text  \n",
       "0  my favourite food is anything i did not have t...  \n",
       "1  now if he does off himself everyone will think...  \n",
       "2                     why the fuck is bayless isoing  "
      ]
     },
     "execution_count": 23,
     "metadata": {},
     "output_type": "execute_result"
    }
   ],
   "source": [
    "# Keeping only necessary columns\n",
    "df_all = df_all.drop(['Class','List of classes','Len of classes','Emotions'], axis=1)\n",
    "df_all.head(3)"
   ]
  },
  {
   "cell_type": "code",
   "execution_count": 24,
   "id": "eb7ba4ad",
   "metadata": {},
   "outputs": [
    {
     "data": {
      "text/html": [
       "<div>\n",
       "<style scoped>\n",
       "    .dataframe tbody tr th:only-of-type {\n",
       "        vertical-align: middle;\n",
       "    }\n",
       "\n",
       "    .dataframe tbody tr th {\n",
       "        vertical-align: top;\n",
       "    }\n",
       "\n",
       "    .dataframe thead th {\n",
       "        text-align: right;\n",
       "    }\n",
       "</style>\n",
       "<table border=\"1\" class=\"dataframe\">\n",
       "  <thead>\n",
       "    <tr style=\"text-align: right;\">\n",
       "      <th></th>\n",
       "      <th>Clean_text</th>\n",
       "      <th>Mapped Emotions</th>\n",
       "    </tr>\n",
       "  </thead>\n",
       "  <tbody>\n",
       "    <tr>\n",
       "      <th>0</th>\n",
       "      <td>my favourite food is anything i did not have t...</td>\n",
       "      <td>[neutral]</td>\n",
       "    </tr>\n",
       "    <tr>\n",
       "      <th>1</th>\n",
       "      <td>now if he does off himself everyone will think...</td>\n",
       "      <td>[neutral]</td>\n",
       "    </tr>\n",
       "    <tr>\n",
       "      <th>2</th>\n",
       "      <td>why the fuck is bayless isoing</td>\n",
       "      <td>[anger]</td>\n",
       "    </tr>\n",
       "    <tr>\n",
       "      <th>3</th>\n",
       "      <td>to make her feel threatened</td>\n",
       "      <td>[fear]</td>\n",
       "    </tr>\n",
       "    <tr>\n",
       "      <th>4</th>\n",
       "      <td>dirty southern wankers</td>\n",
       "      <td>[anger]</td>\n",
       "    </tr>\n",
       "    <tr>\n",
       "      <th>...</th>\n",
       "      <td>...</td>\n",
       "      <td>...</td>\n",
       "    </tr>\n",
       "    <tr>\n",
       "      <th>54258</th>\n",
       "      <td>thanks i was diagnosed with bp after the hospi...</td>\n",
       "      <td>[joy]</td>\n",
       "    </tr>\n",
       "    <tr>\n",
       "      <th>54259</th>\n",
       "      <td>well that makes sense</td>\n",
       "      <td>[joy]</td>\n",
       "    </tr>\n",
       "    <tr>\n",
       "      <th>54260</th>\n",
       "      <td>daddy issues name</td>\n",
       "      <td>[neutral]</td>\n",
       "    </tr>\n",
       "    <tr>\n",
       "      <th>54261</th>\n",
       "      <td>so glad i discovered that subreddit a couple m...</td>\n",
       "      <td>[joy]</td>\n",
       "    </tr>\n",
       "    <tr>\n",
       "      <th>54262</th>\n",
       "      <td>had to watch elmo in grouchland one time too m...</td>\n",
       "      <td>[neutral]</td>\n",
       "    </tr>\n",
       "  </tbody>\n",
       "</table>\n",
       "<p>54263 rows × 2 columns</p>\n",
       "</div>"
      ],
      "text/plain": [
       "                                              Clean_text Mapped Emotions\n",
       "0      my favourite food is anything i did not have t...       [neutral]\n",
       "1      now if he does off himself everyone will think...       [neutral]\n",
       "2                         why the fuck is bayless isoing         [anger]\n",
       "3                            to make her feel threatened          [fear]\n",
       "4                                 dirty southern wankers         [anger]\n",
       "...                                                  ...             ...\n",
       "54258  thanks i was diagnosed with bp after the hospi...           [joy]\n",
       "54259                              well that makes sense           [joy]\n",
       "54260                                  daddy issues name       [neutral]\n",
       "54261  so glad i discovered that subreddit a couple m...           [joy]\n",
       "54262  had to watch elmo in grouchland one time too m...       [neutral]\n",
       "\n",
       "[54263 rows x 2 columns]"
      ]
     },
     "execution_count": 24,
     "metadata": {},
     "output_type": "execute_result"
    }
   ],
   "source": [
    "# Dropping raw text column\n",
    "df_all = df_all[ ['Clean_text','Mapped Emotions'] ]\n",
    "df_all"
   ]
  },
  {
   "cell_type": "code",
   "execution_count": 25,
   "id": "db9b2bd3",
   "metadata": {},
   "outputs": [],
   "source": [
    "emotion_dict={\n",
    "\"anger\": 0,\n",
    "\"disgust\": 1,\n",
    "\"fear\": 2,\n",
    "\"joy\": 3,\n",
    "\"sadness\": 4,\n",
    "\"surprise\": 5,\n",
    "\"neutral\":6\n",
    "}"
   ]
  },
  {
   "cell_type": "code",
   "execution_count": 26,
   "id": "81675c30",
   "metadata": {},
   "outputs": [
    {
     "data": {
      "text/html": [
       "<div>\n",
       "<style scoped>\n",
       "    .dataframe tbody tr th:only-of-type {\n",
       "        vertical-align: middle;\n",
       "    }\n",
       "\n",
       "    .dataframe tbody tr th {\n",
       "        vertical-align: top;\n",
       "    }\n",
       "\n",
       "    .dataframe thead th {\n",
       "        text-align: right;\n",
       "    }\n",
       "</style>\n",
       "<table border=\"1\" class=\"dataframe\">\n",
       "  <thead>\n",
       "    <tr style=\"text-align: right;\">\n",
       "      <th></th>\n",
       "      <th>Clean_text</th>\n",
       "      <th>Mapped Emotions</th>\n",
       "      <th>Mapped_id</th>\n",
       "    </tr>\n",
       "  </thead>\n",
       "  <tbody>\n",
       "    <tr>\n",
       "      <th>0</th>\n",
       "      <td>my favourite food is anything i did not have t...</td>\n",
       "      <td>[neutral]</td>\n",
       "      <td>6</td>\n",
       "    </tr>\n",
       "    <tr>\n",
       "      <th>1</th>\n",
       "      <td>now if he does off himself everyone will think...</td>\n",
       "      <td>[neutral]</td>\n",
       "      <td>6</td>\n",
       "    </tr>\n",
       "    <tr>\n",
       "      <th>2</th>\n",
       "      <td>why the fuck is bayless isoing</td>\n",
       "      <td>[anger]</td>\n",
       "      <td>0</td>\n",
       "    </tr>\n",
       "  </tbody>\n",
       "</table>\n",
       "</div>"
      ],
      "text/plain": [
       "                                          Clean_text Mapped Emotions  \\\n",
       "0  my favourite food is anything i did not have t...       [neutral]   \n",
       "1  now if he does off himself everyone will think...       [neutral]   \n",
       "2                     why the fuck is bayless isoing         [anger]   \n",
       "\n",
       "   Mapped_id  \n",
       "0          6  \n",
       "1          6  \n",
       "2          0  "
      ]
     },
     "metadata": {},
     "output_type": "display_data"
    }
   ],
   "source": [
    "# Defining a function that maps each emotion lables to index\n",
    "def class2idx(emotion_lst):\n",
    "    for e in emotion_lst:\n",
    "        ind = emotion_dict[e]\n",
    "    return ind\n",
    "\n",
    "# Applying the function\n",
    "df_all['Mapped_id'] = df_all['Mapped Emotions'].apply(class2idx)\n",
    "\n",
    "# Preview of data\n",
    "display(df_all.head(3))"
   ]
  },
  {
   "cell_type": "code",
   "execution_count": 27,
   "id": "b03b26b9",
   "metadata": {},
   "outputs": [
    {
     "data": {
      "text/html": [
       "<div>\n",
       "<style scoped>\n",
       "    .dataframe tbody tr th:only-of-type {\n",
       "        vertical-align: middle;\n",
       "    }\n",
       "\n",
       "    .dataframe tbody tr th {\n",
       "        vertical-align: top;\n",
       "    }\n",
       "\n",
       "    .dataframe thead th {\n",
       "        text-align: right;\n",
       "    }\n",
       "</style>\n",
       "<table border=\"1\" class=\"dataframe\">\n",
       "  <thead>\n",
       "    <tr style=\"text-align: right;\">\n",
       "      <th></th>\n",
       "      <th>Clean_text</th>\n",
       "      <th>Mapped_id</th>\n",
       "    </tr>\n",
       "  </thead>\n",
       "  <tbody>\n",
       "    <tr>\n",
       "      <th>0</th>\n",
       "      <td>my favourite food is anything i did not have t...</td>\n",
       "      <td>6</td>\n",
       "    </tr>\n",
       "    <tr>\n",
       "      <th>1</th>\n",
       "      <td>now if he does off himself everyone will think...</td>\n",
       "      <td>6</td>\n",
       "    </tr>\n",
       "    <tr>\n",
       "      <th>2</th>\n",
       "      <td>why the fuck is bayless isoing</td>\n",
       "      <td>0</td>\n",
       "    </tr>\n",
       "  </tbody>\n",
       "</table>\n",
       "</div>"
      ],
      "text/plain": [
       "                                          Clean_text  Mapped_id\n",
       "0  my favourite food is anything i did not have t...          6\n",
       "1  now if he does off himself everyone will think...          6\n",
       "2                     why the fuck is bayless isoing          0"
      ]
     },
     "execution_count": 27,
     "metadata": {},
     "output_type": "execute_result"
    }
   ],
   "source": [
    "# Dropping Mapped Emotions column\n",
    "df_all = df_all.drop(['Mapped Emotions'], axis=1)\n",
    "df_all.head(3)"
   ]
  },
  {
   "cell_type": "code",
   "execution_count": 28,
   "id": "70a084ad",
   "metadata": {},
   "outputs": [],
   "source": [
    "# Building a function that will divide in train, validation and test sets\n",
    "def get_train_val_test(df):\n",
    "    train = df.iloc[:size_train, :]\n",
    "    val = df.iloc[size_train:size_train+size_val, :]\n",
    "    test = df.iloc[size_train+size_val:size_train+size_val+size_test, :]\n",
    "    return train, val, test"
   ]
  },
  {
   "cell_type": "code",
   "execution_count": 29,
   "id": "5be29cc7",
   "metadata": {},
   "outputs": [
    {
     "name": "stdout",
     "output_type": "stream",
     "text": [
      "(43410, 2)\n",
      "(5426, 2)\n",
      "(5427, 2)\n"
     ]
    }
   ],
   "source": [
    "# Dividing back in train, validation and test datasets (GoEmotions)\n",
    "train_GE, val_GE, test_GE = get_train_val_test(df_all)\n",
    "print(train_GE.shape)\n",
    "print(val_GE.shape)\n",
    "print(test_GE.shape)"
   ]
  },
  {
   "cell_type": "code",
   "execution_count": 30,
   "id": "b80ee9a6",
   "metadata": {},
   "outputs": [
    {
     "data": {
      "text/html": [
       "<div>\n",
       "<style scoped>\n",
       "    .dataframe tbody tr th:only-of-type {\n",
       "        vertical-align: middle;\n",
       "    }\n",
       "\n",
       "    .dataframe tbody tr th {\n",
       "        vertical-align: top;\n",
       "    }\n",
       "\n",
       "    .dataframe thead th {\n",
       "        text-align: right;\n",
       "    }\n",
       "</style>\n",
       "<table border=\"1\" class=\"dataframe\">\n",
       "  <thead>\n",
       "    <tr style=\"text-align: right;\">\n",
       "      <th></th>\n",
       "      <th>Clean_text</th>\n",
       "      <th>Mapped_id</th>\n",
       "    </tr>\n",
       "  </thead>\n",
       "  <tbody>\n",
       "    <tr>\n",
       "      <th>0</th>\n",
       "      <td>my favourite food is anything i did not have t...</td>\n",
       "      <td>6</td>\n",
       "    </tr>\n",
       "    <tr>\n",
       "      <th>1</th>\n",
       "      <td>now if he does off himself everyone will think...</td>\n",
       "      <td>6</td>\n",
       "    </tr>\n",
       "    <tr>\n",
       "      <th>2</th>\n",
       "      <td>why the fuck is bayless isoing</td>\n",
       "      <td>0</td>\n",
       "    </tr>\n",
       "  </tbody>\n",
       "</table>\n",
       "</div>"
      ],
      "text/plain": [
       "                                          Clean_text  Mapped_id\n",
       "0  my favourite food is anything i did not have t...          6\n",
       "1  now if he does off himself everyone will think...          6\n",
       "2                     why the fuck is bayless isoing          0"
      ]
     },
     "execution_count": 30,
     "metadata": {},
     "output_type": "execute_result"
    }
   ],
   "source": [
    "train_GE.head(3)"
   ]
  },
  {
   "cell_type": "code",
   "execution_count": 31,
   "id": "71521f02",
   "metadata": {},
   "outputs": [],
   "source": [
    "train_GE_no_neu = train_GE.copy()\n",
    "val_GE_no_neu = val_GE.copy()\n",
    "test_GE_no_neu = test_GE.copy()"
   ]
  },
  {
   "cell_type": "code",
   "execution_count": null,
   "id": "dc0c6af0",
   "metadata": {
    "scrolled": true
   },
   "outputs": [],
   "source": []
  },
  {
   "cell_type": "code",
   "execution_count": 32,
   "id": "921a4e54",
   "metadata": {},
   "outputs": [],
   "source": [
    "train_GE_no_neu = train_GE_no_neu[train_GE_no_neu['Mapped_id']!=6]\n",
    "val_GE_no_neu = val_GE_no_neu[val_GE_no_neu['Mapped_id']!=6]\n",
    "test_GE_no_neu = test_GE_no_neu[test_GE_no_neu['Mapped_id']!=6]"
   ]
  },
  {
   "cell_type": "code",
   "execution_count": 33,
   "id": "39523bd1",
   "metadata": {},
   "outputs": [],
   "source": [
    "train_GE_no_neu.reset_index(inplace = True)\n",
    "val_GE_no_neu.reset_index(inplace = True)\n",
    "test_GE_no_neu.reset_index(inplace = True)"
   ]
  },
  {
   "cell_type": "code",
   "execution_count": 34,
   "id": "7f7d8741",
   "metadata": {},
   "outputs": [
    {
     "data": {
      "text/plain": [
       "((29191, 3), (3660, 3), (3640, 3))"
      ]
     },
     "execution_count": 34,
     "metadata": {},
     "output_type": "execute_result"
    }
   ],
   "source": [
    "train_GE_no_neu.shape, val_GE_no_neu.shape, test_GE_no_neu.shape"
   ]
  },
  {
   "cell_type": "code",
   "execution_count": 35,
   "id": "2134acc1",
   "metadata": {},
   "outputs": [],
   "source": [
    "class_label_names_no_neu = ['anger', 'disgust', 'fear', 'joy', 'sadness', 'surprise']"
   ]
  },
  {
   "cell_type": "code",
   "execution_count": 36,
   "id": "d628f1a5",
   "metadata": {},
   "outputs": [],
   "source": [
    "class_label_names = ['anger', 'disgust', 'fear', 'joy', 'sadness', 'surprise', 'neutral']"
   ]
  },
  {
   "cell_type": "code",
   "execution_count": 37,
   "id": "503e4175",
   "metadata": {},
   "outputs": [
    {
     "name": "stdout",
     "output_type": "stream",
     "text": [
      "(43410,) (43410,) (29191,) (5426,) (5426,) (3660,) (5427,) (5427,) (3640,)\n"
     ]
    }
   ],
   "source": [
    "X_train = train_GE[:][\"Clean_text\"]\n",
    "y_train = train_GE[:][\"Mapped_id\"]\n",
    "X_train_no_neu = train_GE_no_neu[:][\"Clean_text\"]\n",
    "y_train_no_neu = train_GE_no_neu[:]['Mapped_id']\n",
    "X_val = val_GE[:][\"Clean_text\"]\n",
    "y_val = val_GE[:][\"Mapped_id\"]\n",
    "X_val_no_neu = val_GE_no_neu[:][\"Clean_text\"]\n",
    "y_val_no_neu = val_GE_no_neu[:]['Mapped_id']\n",
    "X_test = test_GE[:][\"Clean_text\"]\n",
    "y_test = test_GE[:][\"Mapped_id\"]\n",
    "X_test_no_neu = test_GE_no_neu[:][\"Clean_text\"]\n",
    "y_test_no_neu = test_GE_no_neu[:]['Mapped_id']\n",
    "print(X_train.shape, y_train.shape,y_train_no_neu.shape, X_val.shape, y_val.shape,y_val_no_neu.shape, X_test.shape, y_test.shape, y_test_no_neu.shape)"
   ]
  },
  {
   "cell_type": "code",
   "execution_count": null,
   "id": "97b7d972",
   "metadata": {},
   "outputs": [],
   "source": []
  },
  {
   "cell_type": "code",
   "execution_count": null,
   "id": "6af9feb9",
   "metadata": {},
   "outputs": [],
   "source": []
  },
  {
   "cell_type": "markdown",
   "id": "b347a572",
   "metadata": {},
   "source": [
    "## Modelling ELECTRA with EKMAN taxonomy including neutral emotion"
   ]
  },
  {
   "cell_type": "markdown",
   "id": "e5b91c4a",
   "metadata": {},
   "source": [
    "### Model 1"
   ]
  },
  {
   "cell_type": "code",
   "execution_count": 58,
   "id": "813ab927",
   "metadata": {},
   "outputs": [],
   "source": [
    "def create_data(text,labels,tokenizer,max_length):\n",
    "\n",
    "    # Empty Arrays\n",
    "    input_ids = []\n",
    "    attention_mask = []\n",
    "    \n",
    "    # Loop Through List and Create input ids & attention mask\n",
    "    for i in tqdm.tqdm(text,total=len(text)):\n",
    "        x = tokenizer.encode_plus(str(i),\n",
    "                              return_attention_mask=True,\n",
    "                              padding='max_length',\n",
    "                              truncation=True,\n",
    "                              max_length=max_length,\n",
    "                              add_special_tokens=True,\n",
    "                              )\n",
    "        input_ids.append(x['input_ids'])\n",
    "        attention_mask.append(x['attention_mask'])\n",
    "        \n",
    "    print('Data Shapes : ')\n",
    "    print(np.array(input_ids).shape,np.array(attention_mask).shape,labels.shape )\n",
    "    \n",
    "    return  np.array(input_ids) , np.array(attention_mask) , np.array(labels).reshape(-1,1)"
   ]
  },
  {
   "cell_type": "markdown",
   "id": "95446312",
   "metadata": {},
   "source": [
    "X_train.values, y_train, X_test, y_test, X_val, y_val"
   ]
  },
  {
   "cell_type": "code",
   "execution_count": 59,
   "id": "aaf32f4c",
   "metadata": {},
   "outputs": [
    {
     "data": {
      "text/plain": [
       "array(['my favourite food is anything i did not have to cook myself',\n",
       "       'now if he does off himself everyone will think hes having a laugh screwing with people instead of actually dead',\n",
       "       'why the fuck is bayless isoing', ...,\n",
       "       'what are you talking about ? anything bad that happened was name fault only good things were name doing !',\n",
       "       'more like a baptism with sexy results !', 'enjoy the ride !'],\n",
       "      dtype=object)"
      ]
     },
     "execution_count": 59,
     "metadata": {},
     "output_type": "execute_result"
    }
   ],
   "source": [
    "X_train.values"
   ]
  },
  {
   "cell_type": "code",
   "execution_count": 60,
   "id": "7f788cb1",
   "metadata": {},
   "outputs": [
    {
     "name": "stdout",
     "output_type": "stream",
     "text": [
      "Start Create Train Data\n"
     ]
    },
    {
     "name": "stderr",
     "output_type": "stream",
     "text": [
      "100%|█████████████████████████████████████████████████████████████████████████| 43410/43410 [00:03<00:00, 11039.62it/s]\n"
     ]
    },
    {
     "name": "stdout",
     "output_type": "stream",
     "text": [
      "Data Shapes : \n",
      "(43410, 56) (43410, 56) (43410,)\n",
      "Start Create Val Data\n"
     ]
    },
    {
     "name": "stderr",
     "output_type": "stream",
     "text": [
      "100%|███████████████████████████████████████████████████████████████████████████| 5426/5426 [00:00<00:00, 11822.68it/s]\n"
     ]
    },
    {
     "name": "stdout",
     "output_type": "stream",
     "text": [
      "Data Shapes : \n",
      "(5426, 56) (5426, 56) (5426,)\n",
      "Start Create Test Data\n"
     ]
    },
    {
     "name": "stderr",
     "output_type": "stream",
     "text": [
      "100%|███████████████████████████████████████████████████████████████████████████| 5427/5427 [00:00<00:00, 12040.52it/s]\n"
     ]
    },
    {
     "name": "stdout",
     "output_type": "stream",
     "text": [
      "Data Shapes : \n",
      "(5427, 56) (5427, 56) (5427,)\n"
     ]
    }
   ],
   "source": [
    "MODEL_NAME = 'bhadresh-savani/electra-base-emotion'\n",
    "EPOCHS = 10\n",
    "MAX_LENGTH = 56\n",
    "NUM_LABELS = 7\n",
    "\n",
    "tokenizer = AutoTokenizer.from_pretrained(MODEL_NAME)\n",
    "\n",
    "print('Start Create Train Data')\n",
    "# Create Train Data\n",
    "train_ids , train_attention_mask ,train_labels = create_data(X_train.values,\n",
    "                                                         y_train.values ,\n",
    "                                                         tokenizer\n",
    "                                                         ,MAX_LENGTH)\n",
    "print('Start Create Val Data')\n",
    "# Create Test Data\n",
    "val_ids , val_attention_mask ,val_labels = create_data(X_val.values,\n",
    "                                                      y_val.values,\n",
    "                                                      tokenizer ,\n",
    "                                                      MAX_LENGTH\n",
    "                                                         )\n",
    "print('Start Create Test Data')\n",
    "# Create Test Data\n",
    "test_ids , test_attention_mask ,test_labels = create_data(X_test.values,\n",
    "                                                      y_test.values,\n",
    "                                                      tokenizer ,\n",
    "                                                      MAX_LENGTH\n",
    "                                                         )"
   ]
  },
  {
   "cell_type": "code",
   "execution_count": 61,
   "id": "d39a958d",
   "metadata": {},
   "outputs": [],
   "source": [
    "def train_custom_label_model(model_name,num_labels,MAX_LENGTH,Num_epochs):\n",
    "    \n",
    "    gc.collect()\n",
    "    \n",
    "    my_model = TFAutoModelForSequenceClassification.from_pretrained(model_name,\n",
    "                                                                    ignore_mismatched_sizes=True\n",
    "                                                                   ,num_labels=num_labels\n",
    "                                                                   )\n",
    "    \n",
    "    print('FINISH DOWNLOAD MODEL')\n",
    "#     run_opts = tf.compat.v1.RunOptions(report_tensor_allocations_upon_oom = True)\n",
    "    my_model.compile(\n",
    "        optimizer=tf.keras.optimizers.Adam(learning_rate=learning_rate),\n",
    "        loss=tf.keras.losses.SparseCategoricalCrossentropy(from_logits=True),\n",
    "        metrics=tf.metrics.SparseCategoricalAccuracy(),\n",
    "#         options = run_opts\n",
    "        )\n",
    "\n",
    "    #train , test = train_test_split(df,test_size=.3,random_state=42)\n",
    "\n",
    "\n",
    "    tokenizer = AutoTokenizer.from_pretrained(model_name)\n",
    "    \n",
    "    print('FINSH DOWNLOAD TOKENIZER')\n",
    "    \n",
    "       \n",
    "    # Use GPU\n",
    "    tf.debugging.set_log_device_placement(True)\n",
    "\n",
    "       \n",
    "    # Model Checkpoint\n",
    "    checkpoint_filepath = './'\n",
    "    model_checkpoint_callback = tf.keras.callbacks.ModelCheckpoint(\n",
    "        filepath=checkpoint_filepath,\n",
    "        save_weights_only=True,\n",
    "        monitor='val_sparse_categorical_crossentropy',\n",
    "        mode='max',\n",
    "        save_best_only=True,\n",
    "    )\n",
    "    \n",
    "    # Train Model\n",
    "    my_model.fit([train_ids, train_attention_mask],\n",
    "                 train_labels,\n",
    "              validation_split=.3,\n",
    "              epochs=Num_epochs,\n",
    "              verbose=1,\n",
    "              callbacks=[model_checkpoint_callback]\n",
    "              )\n",
    "    \n",
    "    gc.collect()\n",
    "    \n",
    "    return my_model"
   ]
  },
  {
   "cell_type": "code",
   "execution_count": 62,
   "id": "23b114f4",
   "metadata": {},
   "outputs": [
    {
     "name": "stdout",
     "output_type": "stream",
     "text": [
      "FINISH DOWNLOAD MODEL\n",
      "FINSH DOWNLOAD TOKENIZER\n",
      "Epoch 1/10\n",
      "950/950 [==============================] - 87s 80ms/step - loss: 1.2273 - sparse_categorical_accuracy: 0.5732 - val_loss: 0.9909 - val_sparse_categorical_accuracy: 0.6370\n",
      "Epoch 2/10\n",
      "950/950 [==============================] - 74s 78ms/step - loss: 0.9252 - sparse_categorical_accuracy: 0.6643 - val_loss: 0.9380 - val_sparse_categorical_accuracy: 0.6527\n",
      "Epoch 3/10\n",
      "950/950 [==============================] - 76s 80ms/step - loss: 0.8181 - sparse_categorical_accuracy: 0.7047 - val_loss: 0.9257 - val_sparse_categorical_accuracy: 0.6564\n",
      "Epoch 4/10\n",
      "950/950 [==============================] - 75s 79ms/step - loss: 0.7322 - sparse_categorical_accuracy: 0.7372 - val_loss: 0.9477 - val_sparse_categorical_accuracy: 0.6558\n",
      "Epoch 5/10\n",
      "950/950 [==============================] - 73s 77ms/step - loss: 0.6428 - sparse_categorical_accuracy: 0.7742 - val_loss: 1.0092 - val_sparse_categorical_accuracy: 0.6456\n",
      "Epoch 6/10\n",
      "950/950 [==============================] - 73s 77ms/step - loss: 0.5567 - sparse_categorical_accuracy: 0.8066 - val_loss: 1.0668 - val_sparse_categorical_accuracy: 0.6475\n",
      "Epoch 7/10\n",
      "950/950 [==============================] - 73s 77ms/step - loss: 0.4796 - sparse_categorical_accuracy: 0.8362 - val_loss: 1.1246 - val_sparse_categorical_accuracy: 0.6354\n",
      "Epoch 8/10\n",
      "950/950 [==============================] - 73s 77ms/step - loss: 0.4143 - sparse_categorical_accuracy: 0.8607 - val_loss: 1.1963 - val_sparse_categorical_accuracy: 0.6277\n",
      "Epoch 9/10\n",
      "950/950 [==============================] - 74s 78ms/step - loss: 0.3575 - sparse_categorical_accuracy: 0.8835 - val_loss: 1.2796 - val_sparse_categorical_accuracy: 0.6361\n",
      "Epoch 10/10\n",
      "950/950 [==============================] - 74s 78ms/step - loss: 0.3036 - sparse_categorical_accuracy: 0.8997 - val_loss: 1.3667 - val_sparse_categorical_accuracy: 0.6328\n"
     ]
    }
   ],
   "source": [
    "MODEL_NAME = 'bhadresh-savani/electra-base-emotion'\n",
    "EPOCHS = 10\n",
    "MAX_LENGTH = 56\n",
    "NUM_LABELS = 7\n",
    "learning_rate = 3e-5\n",
    "electra_model = train_custom_label_model(MODEL_NAME,NUM_LABELS,MAX_LENGTH,EPOCHS)"
   ]
  },
  {
   "cell_type": "code",
   "execution_count": 74,
   "id": "55b436da",
   "metadata": {},
   "outputs": [
    {
     "name": "stdout",
     "output_type": "stream",
     "text": [
      "accuracy score: 0.8609\n",
      "[[ 3618    39     7   204   102   110   437]\n",
      " [  140   454    11    25    21    13    30]\n",
      " [    5    15   541    22    17    16    26]\n",
      " [  107    17    18 14639    99   187   626]\n",
      " [  119    29    21   107  2456    62   144]\n",
      " [   72     8    18   336    54  3932   287]\n",
      " [  457    17    36   957   188   832 11732]]\n"
     ]
    }
   ],
   "source": [
    "# train predictions\n",
    "y_pred_train_electra = electra_model.predict([train_ids,train_attention_mask])\n",
    "y_pred_train_electra = tf.argmax(y_pred_train_electra.logits,axis=1)\n",
    "print('accuracy score: {:.4f}'.format(accuracy_score(y_train,y_pred_train_electra)))\n",
    "print(confusion_matrix(y_train,y_pred_train_electra))"
   ]
  },
  {
   "cell_type": "code",
   "execution_count": 67,
   "id": "ac5174c2",
   "metadata": {},
   "outputs": [
    {
     "name": "stdout",
     "output_type": "stream",
     "text": [
      "              precision    recall  f1-score   support\n",
      "\n",
      "       anger       0.80      0.80      0.80      4517\n",
      "     disgust       0.78      0.65      0.71       694\n",
      "        fear       0.83      0.84      0.84       642\n",
      "         joy       0.90      0.93      0.92     15693\n",
      "     sadness       0.84      0.84      0.84      2938\n",
      "    surprise       0.76      0.84      0.80      4707\n",
      "     neutral       0.88      0.83      0.85     14219\n",
      "\n",
      "    accuracy                           0.86     43410\n",
      "   macro avg       0.83      0.82      0.82     43410\n",
      "weighted avg       0.86      0.86      0.86     43410\n",
      "\n"
     ]
    }
   ],
   "source": [
    "print(classification_report(y_train, y_pred_train_electra, target_names=class_label_names) )"
   ]
  },
  {
   "cell_type": "code",
   "execution_count": 73,
   "id": "830c6731",
   "metadata": {},
   "outputs": [
    {
     "name": "stdout",
     "output_type": "stream",
     "text": [
      "accuracy score: 0.6473\n",
      "[[ 263   11    4   71   33   38  175]\n",
      " [  28   39    3    9   10    8   15]\n",
      " [   1    5   53    7    7    8    6]\n",
      " [  31    2    5 1564   36   68  209]\n",
      " [  39    2    5   35  189   18   53]\n",
      " [  23    4    8   99   12  338  106]\n",
      " [ 129   10   14  307   56  204 1067]]\n"
     ]
    }
   ],
   "source": [
    "# test predictions\n",
    "y_pred_test_electra = electra_model.predict([test_ids,test_attention_mask])\n",
    "\n",
    "y_pred_test_electra = tf.argmax(y_pred_test_electra.logits,axis=1)\n",
    "print('accuracy score: {:.4f}'.format(accuracy_score(y_test,y_pred_test_electra)))\n",
    "print(confusion_matrix(y_test,y_pred_test_electra))"
   ]
  },
  {
   "cell_type": "code",
   "execution_count": 70,
   "id": "87072f3a",
   "metadata": {},
   "outputs": [
    {
     "name": "stdout",
     "output_type": "stream",
     "text": [
      "              precision    recall  f1-score   support\n",
      "\n",
      "       anger       0.51      0.44      0.47       595\n",
      "     disgust       0.53      0.35      0.42       112\n",
      "        fear       0.58      0.61      0.59        87\n",
      "         joy       0.75      0.82      0.78      1915\n",
      "     sadness       0.55      0.55      0.55       341\n",
      "    surprise       0.50      0.57      0.53       590\n",
      "     neutral       0.65      0.60      0.62      1787\n",
      "\n",
      "    accuracy                           0.65      5427\n",
      "   macro avg       0.58      0.56      0.57      5427\n",
      "weighted avg       0.64      0.65      0.64      5427\n",
      "\n"
     ]
    }
   ],
   "source": [
    "from sklearn.metrics import classification_report\n",
    "print(classification_report(y_test, y_pred_test_electra, target_names=class_label_names) )"
   ]
  },
  {
   "cell_type": "code",
   "execution_count": 72,
   "id": "ee513f97",
   "metadata": {
    "scrolled": false
   },
   "outputs": [
    {
     "name": "stdout",
     "output_type": "stream",
     "text": [
      "[[ 277   16    2   59   25   35  168]\n",
      " [  22   28    3   11    3    5    9]\n",
      " [   7    3   47   12    5    4   11]\n",
      " [  34    1    4 1642   33   61  222]\n",
      " [  26    8    4   47  197   16   54]\n",
      " [  33    2    5   91   25  295  108]\n",
      " [ 162   12   12  323   59  175 1023]]\n",
      "              precision    recall  f1-score   support\n",
      "\n",
      "       anger       0.49      0.48      0.48       582\n",
      "     disgust       0.40      0.35      0.37        81\n",
      "        fear       0.61      0.53      0.57        89\n",
      "         joy       0.75      0.82      0.79      1997\n",
      "     sadness       0.57      0.56      0.56       352\n",
      "    surprise       0.50      0.53      0.51       559\n",
      "     neutral       0.64      0.58      0.61      1766\n",
      "\n",
      "    accuracy                           0.65      5426\n",
      "   macro avg       0.57      0.55      0.56      5426\n",
      "weighted avg       0.64      0.65      0.64      5426\n",
      "\n"
     ]
    }
   ],
   "source": [
    "# val predictions\n",
    "y_pred_val_electra = electra_model.predict([val_ids,val_attention_mask])\n",
    "y_pred_val_electra = tf.argmax(y_pred_val_electra.logits,axis=1)\n",
    "print(confusion_matrix(y_val,y_pred_val_electra))\n",
    "print(classification_report(y_val, y_pred_val_electra, target_names=class_label_names) )"
   ]
  },
  {
   "cell_type": "code",
   "execution_count": null,
   "id": "9f9e231f",
   "metadata": {},
   "outputs": [],
   "source": []
  },
  {
   "cell_type": "markdown",
   "id": "b265756b",
   "metadata": {},
   "source": [
    "### Model 3"
   ]
  },
  {
   "cell_type": "code",
   "execution_count": 51,
   "id": "85029f16",
   "metadata": {},
   "outputs": [],
   "source": [
    "def create_data(text,labels,tokenizer,max_length):\n",
    "\n",
    "    # Empty Arrays\n",
    "    input_ids = []\n",
    "    attention_mask = []\n",
    "    \n",
    "    # Loop Through List and Create input ids & attention mask\n",
    "    for i in tqdm.tqdm(text,total=len(text)):\n",
    "        x = tokenizer.encode_plus(str(i),\n",
    "                              return_attention_mask=True,\n",
    "                              padding='max_length',\n",
    "                              truncation=True,\n",
    "                              max_length=max_length,\n",
    "                              add_special_tokens=True,\n",
    "                              )\n",
    "        input_ids.append(x['input_ids'])\n",
    "        attention_mask.append(x['attention_mask'])\n",
    "        \n",
    "    print('Data Shapes : ')\n",
    "    print(np.array(input_ids).shape,np.array(attention_mask).shape,labels.shape )\n",
    "    \n",
    "    return  np.array(input_ids) , np.array(attention_mask) , np.array(labels).reshape(-1,1)"
   ]
  },
  {
   "cell_type": "markdown",
   "id": "23a27705",
   "metadata": {},
   "source": [
    "X_train.values, y_train, X_test, y_test, X_val, y_val"
   ]
  },
  {
   "cell_type": "code",
   "execution_count": 52,
   "id": "ad52560e",
   "metadata": {},
   "outputs": [
    {
     "data": {
      "text/plain": [
       "array(['my favourite food is anything i did not have to cook myself',\n",
       "       'now if he does off himself everyone will think hes having a laugh screwing with people instead of actually dead',\n",
       "       'why the fuck is bayless isoing', ...,\n",
       "       'what are you talking about ? anything bad that happened was name fault only good things were name doing !',\n",
       "       'more like a baptism with sexy results !', 'enjoy the ride !'],\n",
       "      dtype=object)"
      ]
     },
     "execution_count": 52,
     "metadata": {},
     "output_type": "execute_result"
    }
   ],
   "source": [
    "X_train.values"
   ]
  },
  {
   "cell_type": "code",
   "execution_count": 53,
   "id": "7b7e05be",
   "metadata": {},
   "outputs": [
    {
     "name": "stdout",
     "output_type": "stream",
     "text": [
      "Start Create Train Data\n"
     ]
    },
    {
     "name": "stderr",
     "output_type": "stream",
     "text": [
      "100%|█████████████████████████████████████████████████████████████████████████| 43410/43410 [00:03<00:00, 11806.73it/s]\n"
     ]
    },
    {
     "name": "stdout",
     "output_type": "stream",
     "text": [
      "Data Shapes : \n",
      "(43410, 56) (43410, 56) (43410,)\n",
      "Start Create Val Data\n"
     ]
    },
    {
     "name": "stderr",
     "output_type": "stream",
     "text": [
      "100%|███████████████████████████████████████████████████████████████████████████| 5426/5426 [00:00<00:00, 11525.33it/s]\n"
     ]
    },
    {
     "name": "stdout",
     "output_type": "stream",
     "text": [
      "Data Shapes : \n",
      "(5426, 56) (5426, 56) (5426,)\n",
      "Start Create Test Data\n"
     ]
    },
    {
     "name": "stderr",
     "output_type": "stream",
     "text": [
      "100%|███████████████████████████████████████████████████████████████████████████| 5427/5427 [00:00<00:00, 10699.85it/s]\n"
     ]
    },
    {
     "name": "stdout",
     "output_type": "stream",
     "text": [
      "Data Shapes : \n",
      "(5427, 56) (5427, 56) (5427,)\n"
     ]
    }
   ],
   "source": [
    "MODEL_NAME = 'bhadresh-savani/electra-base-emotion'\n",
    "MAX_LENGTH = 56\n",
    "\n",
    "tokenizer = AutoTokenizer.from_pretrained(MODEL_NAME)\n",
    "\n",
    "print('Start Create Train Data')\n",
    "# Create Train Data\n",
    "train_ids , train_attention_mask ,train_labels = create_data(X_train.values,\n",
    "                                                         y_train.values ,\n",
    "                                                         tokenizer\n",
    "                                                         ,MAX_LENGTH)\n",
    "print('Start Create Val Data')\n",
    "# Create Test Data\n",
    "val_ids , val_attention_mask ,val_labels = create_data(X_val.values,\n",
    "                                                      y_val.values,\n",
    "                                                      tokenizer ,\n",
    "                                                      MAX_LENGTH\n",
    "                                                         )\n",
    "print('Start Create Test Data')\n",
    "# Create Test Data\n",
    "test_ids , test_attention_mask ,test_labels = create_data(X_test.values,\n",
    "                                                      y_test.values,\n",
    "                                                      tokenizer ,\n",
    "                                                      MAX_LENGTH\n",
    "                                                         )"
   ]
  },
  {
   "cell_type": "code",
   "execution_count": 54,
   "id": "50b1080d",
   "metadata": {},
   "outputs": [],
   "source": [
    "def train_custom_label_model(model_name,num_labels,MAX_LENGTH,Num_epochs):\n",
    "    \n",
    "    gc.collect()\n",
    "    \n",
    "    my_model = TFAutoModelForSequenceClassification.from_pretrained(model_name,\n",
    "                                                                    ignore_mismatched_sizes=True\n",
    "                                                                   ,num_labels=num_labels\n",
    "                                                                   )\n",
    "    \n",
    "    print('FINISH DOWNLOAD MODEL')\n",
    "#     run_opts = tf.compat.v1.RunOptions(report_tensor_allocations_upon_oom = True)\n",
    "    my_model.compile(\n",
    "        optimizer=tf.keras.optimizers.Adam(learning_rate=learning_rate),\n",
    "        loss=tf.keras.losses.SparseCategoricalCrossentropy(from_logits=True),\n",
    "        metrics=tf.metrics.SparseCategoricalAccuracy(),\n",
    "#         options = run_opts\n",
    "        )\n",
    "\n",
    "    #train , test = train_test_split(df,test_size=.3,random_state=42)\n",
    "\n",
    "\n",
    "    tokenizer = AutoTokenizer.from_pretrained(model_name)\n",
    "    \n",
    "    print('FINSH DOWNLOAD TOKENIZER')\n",
    "    \n",
    "       \n",
    "    # Use GPU\n",
    "    tf.debugging.set_log_device_placement(True)\n",
    "\n",
    "       \n",
    "    # Model Checkpoint\n",
    "    checkpoint_filepath = './'\n",
    "    model_checkpoint_callback = tf.keras.callbacks.ModelCheckpoint(\n",
    "        filepath=checkpoint_filepath,\n",
    "        save_weights_only=True,\n",
    "        monitor='val_sparse_categorical_crossentropy',\n",
    "        mode='max',\n",
    "        save_best_only=True,\n",
    "    )\n",
    "    \n",
    "    # Train Model\n",
    "    my_model.fit([train_ids, train_attention_mask],\n",
    "                 train_labels,\n",
    "              validation_split=.3,\n",
    "              epochs=Num_epochs,\n",
    "              verbose=1,\n",
    "              callbacks=[model_checkpoint_callback]\n",
    "              )\n",
    "    \n",
    "    gc.collect()\n",
    "    \n",
    "    return my_model"
   ]
  },
  {
   "cell_type": "code",
   "execution_count": 55,
   "id": "6ab92e35",
   "metadata": {},
   "outputs": [
    {
     "name": "stdout",
     "output_type": "stream",
     "text": [
      "FINISH DOWNLOAD MODEL\n",
      "FINSH DOWNLOAD TOKENIZER\n",
      "Epoch 1/5\n",
      "950/950 [==============================] - 82s 76ms/step - loss: 1.3008 - sparse_categorical_accuracy: 0.5600 - val_loss: 1.0350 - val_sparse_categorical_accuracy: 0.6341\n",
      "Epoch 2/5\n",
      "950/950 [==============================] - 72s 76ms/step - loss: 0.9659 - sparse_categorical_accuracy: 0.6535 - val_loss: 0.9568 - val_sparse_categorical_accuracy: 0.6448\n",
      "Epoch 3/5\n",
      "950/950 [==============================] - 72s 76ms/step - loss: 0.8504 - sparse_categorical_accuracy: 0.6951 - val_loss: 0.9274 - val_sparse_categorical_accuracy: 0.6543\n",
      "Epoch 4/5\n",
      "950/950 [==============================] - 72s 76ms/step - loss: 0.7760 - sparse_categorical_accuracy: 0.7187 - val_loss: 0.9203 - val_sparse_categorical_accuracy: 0.6658\n",
      "Epoch 5/5\n",
      "950/950 [==============================] - 71s 75ms/step - loss: 0.7091 - sparse_categorical_accuracy: 0.7456 - val_loss: 0.9528 - val_sparse_categorical_accuracy: 0.6645\n"
     ]
    }
   ],
   "source": [
    "MODEL_NAME = 'bhadresh-savani/electra-base-emotion'\n",
    "EPOCHS = 5\n",
    "MAX_LENGTH = 56\n",
    "NUM_LABELS = 7\n",
    "learning_rate = 2e-5\n",
    "electra_model = train_custom_label_model(MODEL_NAME,NUM_LABELS,MAX_LENGTH,EPOCHS)"
   ]
  },
  {
   "cell_type": "code",
   "execution_count": 56,
   "id": "7c2f26eb",
   "metadata": {},
   "outputs": [
    {
     "name": "stdout",
     "output_type": "stream",
     "text": [
      "accuracy score: 0.7679\n",
      "[[ 2917    60    14   320   174   149   883]\n",
      " [  256   268    33    38    46    17    36]\n",
      " [   13    61   462    20    31    24    31]\n",
      " [  166    12    26 13889   151   305  1144]\n",
      " [  279    27    28   121  2180    86   217]\n",
      " [  139     4    27   489    66  3120   862]\n",
      " [  774    26    55  1659   247   960 10498]]\n"
     ]
    }
   ],
   "source": [
    "# train predictions\n",
    "y_pred_train_electra = electra_model.predict([train_ids,train_attention_mask])\n",
    "y_pred_train_electra = tf.argmax(y_pred_train_electra.logits,axis=1)\n",
    "print('accuracy score: {:.4f}'.format(accuracy_score(y_train,y_pred_train_electra)))\n",
    "print(confusion_matrix(y_train,y_pred_train_electra))"
   ]
  },
  {
   "cell_type": "code",
   "execution_count": 57,
   "id": "7cccde1f",
   "metadata": {},
   "outputs": [
    {
     "name": "stdout",
     "output_type": "stream",
     "text": [
      "              precision    recall  f1-score   support\n",
      "\n",
      "       anger       0.64      0.65      0.64      4517\n",
      "     disgust       0.59      0.39      0.47       694\n",
      "        fear       0.72      0.72      0.72       642\n",
      "         joy       0.84      0.89      0.86     15693\n",
      "     sadness       0.75      0.74      0.75      2938\n",
      "    surprise       0.67      0.66      0.67      4707\n",
      "     neutral       0.77      0.74      0.75     14219\n",
      "\n",
      "    accuracy                           0.77     43410\n",
      "   macro avg       0.71      0.68      0.69     43410\n",
      "weighted avg       0.77      0.77      0.77     43410\n",
      "\n"
     ]
    }
   ],
   "source": [
    "print(classification_report(y_train, y_pred_train_electra, target_names=class_label_names) )"
   ]
  },
  {
   "cell_type": "code",
   "execution_count": 58,
   "id": "9c6f8841",
   "metadata": {},
   "outputs": [
    {
     "name": "stdout",
     "output_type": "stream",
     "text": [
      "accuracy score: 0.6716\n",
      "[[ 273    8    3   60   25   26  200]\n",
      " [  36   38    6   10    9    3   10]\n",
      " [   4    3   58    6    3    5    8]\n",
      " [  25    4    7 1580   30   55  214]\n",
      " [  40    3    5   26  197   25   45]\n",
      " [  30    2    7   77   11  316  147]\n",
      " [ 126    9    8  275   44  142 1183]]\n"
     ]
    }
   ],
   "source": [
    "# test predictions\n",
    "y_pred_test_electra = electra_model.predict([test_ids,test_attention_mask])\n",
    "\n",
    "y_pred_test_electra = tf.argmax(y_pred_test_electra.logits,axis=1)\n",
    "print('accuracy score: {:.4f}'.format(accuracy_score(y_test,y_pred_test_electra)))\n",
    "print(confusion_matrix(y_test,y_pred_test_electra))"
   ]
  },
  {
   "cell_type": "code",
   "execution_count": 59,
   "id": "af43014b",
   "metadata": {},
   "outputs": [
    {
     "name": "stdout",
     "output_type": "stream",
     "text": [
      "              precision    recall  f1-score   support\n",
      "\n",
      "       anger       0.51      0.46      0.48       595\n",
      "     disgust       0.57      0.34      0.42       112\n",
      "        fear       0.62      0.67      0.64        87\n",
      "         joy       0.78      0.83      0.80      1915\n",
      "     sadness       0.62      0.58      0.60       341\n",
      "    surprise       0.55      0.54      0.54       590\n",
      "     neutral       0.65      0.66      0.66      1787\n",
      "\n",
      "    accuracy                           0.67      5427\n",
      "   macro avg       0.61      0.58      0.59      5427\n",
      "weighted avg       0.67      0.67      0.67      5427\n",
      "\n"
     ]
    }
   ],
   "source": [
    "from sklearn.metrics import classification_report\n",
    "print(classification_report(y_test, y_pred_test_electra, target_names=class_label_names) )"
   ]
  },
  {
   "cell_type": "code",
   "execution_count": 60,
   "id": "985e1567",
   "metadata": {
    "scrolled": false
   },
   "outputs": [
    {
     "name": "stdout",
     "output_type": "stream",
     "text": [
      "[[ 286    9    0   56   26   20  185]\n",
      " [  29   27    1   11    1    3    9]\n",
      " [   2    8   48    7    4    5   15]\n",
      " [  35    0    3 1667   33   51  208]\n",
      " [  24    6    5   32  203   23   59]\n",
      " [  29    0    4   81   18  285  142]\n",
      " [ 152    0   10  294   41  134 1135]]\n",
      "              precision    recall  f1-score   support\n",
      "\n",
      "       anger       0.51      0.49      0.50       582\n",
      "     disgust       0.54      0.33      0.41        81\n",
      "        fear       0.68      0.54      0.60        89\n",
      "         joy       0.78      0.83      0.80      1997\n",
      "     sadness       0.62      0.58      0.60       352\n",
      "    surprise       0.55      0.51      0.53       559\n",
      "     neutral       0.65      0.64      0.65      1766\n",
      "\n",
      "    accuracy                           0.67      5426\n",
      "   macro avg       0.62      0.56      0.58      5426\n",
      "weighted avg       0.67      0.67      0.67      5426\n",
      "\n"
     ]
    }
   ],
   "source": [
    "# val predictions\n",
    "y_pred_val_electra = electra_model.predict([val_ids,val_attention_mask])\n",
    "y_pred_val_electra = tf.argmax(y_pred_val_electra.logits,axis=1)\n",
    "print(confusion_matrix(y_val,y_pred_val_electra))\n",
    "print(classification_report(y_val, y_pred_val_electra, target_names=class_label_names) )"
   ]
  },
  {
   "cell_type": "code",
   "execution_count": 61,
   "id": "73baeed4",
   "metadata": {},
   "outputs": [],
   "source": [
    "## Saving model\n",
    "electra_model.save_pretrained('electra-emotion-predictor-ekman-2')"
   ]
  },
  {
   "cell_type": "code",
   "execution_count": 63,
   "id": "51f45a5a",
   "metadata": {},
   "outputs": [],
   "source": [
    "electra_model2 = TFAutoModelForSequenceClassification.from_pretrained('electra-emotion-predictor-ekman-2')"
   ]
  },
  {
   "cell_type": "code",
   "execution_count": null,
   "id": "ffead0b0",
   "metadata": {},
   "outputs": [],
   "source": []
  },
  {
   "cell_type": "markdown",
   "id": "66a08d84",
   "metadata": {},
   "source": [
    "### Model 4"
   ]
  },
  {
   "cell_type": "code",
   "execution_count": 64,
   "id": "60962b66",
   "metadata": {},
   "outputs": [],
   "source": [
    "def create_data(text,labels,tokenizer,max_length):\n",
    "\n",
    "    # Empty Arrays\n",
    "    input_ids = []\n",
    "    attention_mask = []\n",
    "    \n",
    "    # Loop Through List and Create input ids & attention mask\n",
    "    for i in tqdm.tqdm(text,total=len(text)):\n",
    "        x = tokenizer.encode_plus(str(i),\n",
    "                              return_attention_mask=True,\n",
    "                              padding='max_length',\n",
    "                              truncation=True,\n",
    "                              max_length=max_length,\n",
    "                              add_special_tokens=True,\n",
    "                              )\n",
    "        input_ids.append(x['input_ids'])\n",
    "        attention_mask.append(x['attention_mask'])\n",
    "        \n",
    "    print('Data Shapes : ')\n",
    "    print(np.array(input_ids).shape,np.array(attention_mask).shape,labels.shape )\n",
    "    \n",
    "    return  np.array(input_ids) , np.array(attention_mask) , np.array(labels).reshape(-1,1)"
   ]
  },
  {
   "cell_type": "markdown",
   "id": "918b5173",
   "metadata": {},
   "source": [
    "X_train.values, y_train, X_test, y_test, X_val, y_val"
   ]
  },
  {
   "cell_type": "code",
   "execution_count": 65,
   "id": "b5f815b7",
   "metadata": {},
   "outputs": [
    {
     "data": {
      "text/plain": [
       "array(['my favourite food is anything i did not have to cook myself',\n",
       "       'now if he does off himself everyone will think hes having a laugh screwing with people instead of actually dead',\n",
       "       'why the fuck is bayless isoing', ...,\n",
       "       'what are you talking about ? anything bad that happened was name fault only good things were name doing !',\n",
       "       'more like a baptism with sexy results !', 'enjoy the ride !'],\n",
       "      dtype=object)"
      ]
     },
     "execution_count": 65,
     "metadata": {},
     "output_type": "execute_result"
    }
   ],
   "source": [
    "X_train.values"
   ]
  },
  {
   "cell_type": "code",
   "execution_count": 66,
   "id": "4a5faff7",
   "metadata": {},
   "outputs": [
    {
     "name": "stdout",
     "output_type": "stream",
     "text": [
      "Start Create Train Data\n"
     ]
    },
    {
     "name": "stderr",
     "output_type": "stream",
     "text": [
      "100%|█████████████████████████████████████████████████████████████████████████| 43410/43410 [00:03<00:00, 11388.51it/s]\n"
     ]
    },
    {
     "name": "stdout",
     "output_type": "stream",
     "text": [
      "Data Shapes : \n",
      "(43410, 56) (43410, 56) (43410,)\n",
      "Start Create Val Data\n"
     ]
    },
    {
     "name": "stderr",
     "output_type": "stream",
     "text": [
      "100%|███████████████████████████████████████████████████████████████████████████| 5426/5426 [00:00<00:00, 11390.17it/s]\n"
     ]
    },
    {
     "name": "stdout",
     "output_type": "stream",
     "text": [
      "Data Shapes : \n",
      "(5426, 56) (5426, 56) (5426,)\n",
      "Start Create Test Data\n"
     ]
    },
    {
     "name": "stderr",
     "output_type": "stream",
     "text": [
      "100%|███████████████████████████████████████████████████████████████████████████| 5427/5427 [00:00<00:00, 11672.18it/s]\n"
     ]
    },
    {
     "name": "stdout",
     "output_type": "stream",
     "text": [
      "Data Shapes : \n",
      "(5427, 56) (5427, 56) (5427,)\n"
     ]
    }
   ],
   "source": [
    "MODEL_NAME = 'bhadresh-savani/electra-base-emotion'\n",
    "MAX_LENGTH = 56\n",
    "\n",
    "tokenizer = AutoTokenizer.from_pretrained(MODEL_NAME)\n",
    "\n",
    "print('Start Create Train Data')\n",
    "# Create Train Data\n",
    "train_ids , train_attention_mask ,train_labels = create_data(X_train.values,\n",
    "                                                         y_train.values ,\n",
    "                                                         tokenizer\n",
    "                                                         ,MAX_LENGTH)\n",
    "print('Start Create Val Data')\n",
    "# Create Test Data\n",
    "val_ids , val_attention_mask ,val_labels = create_data(X_val.values,\n",
    "                                                      y_val.values,\n",
    "                                                      tokenizer ,\n",
    "                                                      MAX_LENGTH\n",
    "                                                         )\n",
    "print('Start Create Test Data')\n",
    "# Create Test Data\n",
    "test_ids , test_attention_mask ,test_labels = create_data(X_test.values,\n",
    "                                                      y_test.values,\n",
    "                                                      tokenizer ,\n",
    "                                                      MAX_LENGTH\n",
    "                                                         )"
   ]
  },
  {
   "cell_type": "code",
   "execution_count": 67,
   "id": "dbea1e4a",
   "metadata": {},
   "outputs": [],
   "source": [
    "def train_custom_label_model(model_name,num_labels,MAX_LENGTH,Num_epochs):\n",
    "    \n",
    "    gc.collect()\n",
    "    \n",
    "    my_model = TFAutoModelForSequenceClassification.from_pretrained(model_name,\n",
    "                                                                    ignore_mismatched_sizes=True\n",
    "                                                                   ,num_labels=num_labels\n",
    "                                                                   )\n",
    "    \n",
    "    print('FINISH DOWNLOAD MODEL')\n",
    "#     run_opts = tf.compat.v1.RunOptions(report_tensor_allocations_upon_oom = True)\n",
    "    my_model.compile(\n",
    "        optimizer=tf.keras.optimizers.Adam(learning_rate=learning_rate),\n",
    "        loss=tf.keras.losses.SparseCategoricalCrossentropy(from_logits=True),\n",
    "        metrics=tf.metrics.SparseCategoricalAccuracy(),\n",
    "#         options = run_opts\n",
    "        )\n",
    "\n",
    "    #train , test = train_test_split(df,test_size=.3,random_state=42)\n",
    "\n",
    "\n",
    "    tokenizer = AutoTokenizer.from_pretrained(model_name)\n",
    "    \n",
    "    print('FINSH DOWNLOAD TOKENIZER')\n",
    "    \n",
    "       \n",
    "    # Use GPU\n",
    "    tf.debugging.set_log_device_placement(True)\n",
    "\n",
    "       \n",
    "    # Model Checkpoint\n",
    "    checkpoint_filepath = './'\n",
    "    model_checkpoint_callback = tf.keras.callbacks.ModelCheckpoint(\n",
    "        filepath=checkpoint_filepath,\n",
    "        save_weights_only=True,\n",
    "        monitor='val_sparse_categorical_crossentropy',\n",
    "        mode='max',\n",
    "        save_best_only=True,\n",
    "    )\n",
    "    \n",
    "    # Train Model\n",
    "    my_model.fit([train_ids, train_attention_mask],\n",
    "                 train_labels,\n",
    "              validation_split=.3,\n",
    "              epochs=Num_epochs,\n",
    "              verbose=1,\n",
    "              callbacks=[model_checkpoint_callback]\n",
    "              )\n",
    "    \n",
    "    gc.collect()\n",
    "    \n",
    "    return my_model"
   ]
  },
  {
   "cell_type": "code",
   "execution_count": 68,
   "id": "6ff9b151",
   "metadata": {},
   "outputs": [
    {
     "name": "stdout",
     "output_type": "stream",
     "text": [
      "FINISH DOWNLOAD MODEL\n",
      "FINSH DOWNLOAD TOKENIZER\n",
      "Epoch 1/10\n",
      "950/950 [==============================] - 82s 77ms/step - loss: 1.4395 - sparse_categorical_accuracy: 0.5342 - val_loss: 1.1692 - val_sparse_categorical_accuracy: 0.6133\n",
      "Epoch 2/10\n",
      "950/950 [==============================] - 71s 75ms/step - loss: 1.0842 - sparse_categorical_accuracy: 0.6272 - val_loss: 1.0437 - val_sparse_categorical_accuracy: 0.6323\n",
      "Epoch 3/10\n",
      "950/950 [==============================] - 71s 75ms/step - loss: 0.9662 - sparse_categorical_accuracy: 0.6605 - val_loss: 0.9792 - val_sparse_categorical_accuracy: 0.6428\n",
      "Epoch 4/10\n",
      "950/950 [==============================] - 72s 75ms/step - loss: 0.8995 - sparse_categorical_accuracy: 0.6774 - val_loss: 0.9600 - val_sparse_categorical_accuracy: 0.6483\n",
      "Epoch 5/10\n",
      "950/950 [==============================] - 71s 75ms/step - loss: 0.8524 - sparse_categorical_accuracy: 0.6969 - val_loss: 0.9575 - val_sparse_categorical_accuracy: 0.6510\n",
      "Epoch 6/10\n",
      "950/950 [==============================] - 72s 75ms/step - loss: 0.8085 - sparse_categorical_accuracy: 0.7117 - val_loss: 0.9601 - val_sparse_categorical_accuracy: 0.6519\n",
      "Epoch 7/10\n",
      "950/950 [==============================] - 71s 75ms/step - loss: 0.7691 - sparse_categorical_accuracy: 0.7268 - val_loss: 0.9686 - val_sparse_categorical_accuracy: 0.6477\n",
      "Epoch 8/10\n",
      "950/950 [==============================] - 72s 75ms/step - loss: 0.7350 - sparse_categorical_accuracy: 0.7392 - val_loss: 0.9643 - val_sparse_categorical_accuracy: 0.6539\n",
      "Epoch 9/10\n",
      "950/950 [==============================] - 71s 75ms/step - loss: 0.6942 - sparse_categorical_accuracy: 0.7552 - val_loss: 0.9852 - val_sparse_categorical_accuracy: 0.6500\n",
      "Epoch 10/10\n",
      "950/950 [==============================] - 72s 75ms/step - loss: 0.6549 - sparse_categorical_accuracy: 0.7723 - val_loss: 1.0101 - val_sparse_categorical_accuracy: 0.6514\n"
     ]
    }
   ],
   "source": [
    "MODEL_NAME = 'bhadresh-savani/electra-base-emotion'\n",
    "EPOCHS = 10\n",
    "MAX_LENGTH = 56\n",
    "NUM_LABELS = 7\n",
    "learning_rate = 1e-5\n",
    "electra_model = train_custom_label_model(MODEL_NAME,NUM_LABELS,MAX_LENGTH,EPOCHS)"
   ]
  },
  {
   "cell_type": "code",
   "execution_count": 69,
   "id": "b016ac45",
   "metadata": {},
   "outputs": [
    {
     "name": "stdout",
     "output_type": "stream",
     "text": [
      "accuracy score: 0.7764\n",
      "[[ 3091    38    41   278   150   195   724]\n",
      " [  319   208    45    27    52    14    29]\n",
      " [   18    14   500    17    43    26    24]\n",
      " [  136     9    33 14009   178   358   970]\n",
      " [  231    16    54   128  2205   127   177]\n",
      " [   99     3    37   492    83  3482   511]\n",
      " [  798    10    61  1563   254  1323 10210]]\n"
     ]
    }
   ],
   "source": [
    "# train predictions\n",
    "y_pred_train_electra = electra_model.predict([train_ids,train_attention_mask])\n",
    "y_pred_train_electra = tf.argmax(y_pred_train_electra.logits,axis=1)\n",
    "print('accuracy score: {:.4f}'.format(accuracy_score(y_train,y_pred_train_electra)))\n",
    "print(confusion_matrix(y_train,y_pred_train_electra))"
   ]
  },
  {
   "cell_type": "code",
   "execution_count": 70,
   "id": "9f861513",
   "metadata": {},
   "outputs": [
    {
     "name": "stdout",
     "output_type": "stream",
     "text": [
      "              precision    recall  f1-score   support\n",
      "\n",
      "       anger       0.66      0.68      0.67      4517\n",
      "     disgust       0.70      0.30      0.42       694\n",
      "        fear       0.65      0.78      0.71       642\n",
      "         joy       0.85      0.89      0.87     15693\n",
      "     sadness       0.74      0.75      0.75      2938\n",
      "    surprise       0.63      0.74      0.68      4707\n",
      "     neutral       0.81      0.72      0.76     14219\n",
      "\n",
      "    accuracy                           0.78     43410\n",
      "   macro avg       0.72      0.69      0.69     43410\n",
      "weighted avg       0.78      0.78      0.77     43410\n",
      "\n"
     ]
    }
   ],
   "source": [
    "print(classification_report(y_train, y_pred_train_electra, target_names=class_label_names) )"
   ]
  },
  {
   "cell_type": "code",
   "execution_count": 71,
   "id": "0f6a6deb",
   "metadata": {},
   "outputs": [
    {
     "name": "stdout",
     "output_type": "stream",
     "text": [
      "accuracy score: 0.6576\n",
      "[[ 278    6    4   65   32   37  173]\n",
      " [  48   26    6    8    9    5   10]\n",
      " [   3    3   60    5    5    5    6]\n",
      " [  30    1    9 1583   34   63  195]\n",
      " [  40    4    4   28  207   23   35]\n",
      " [  28    2    8   81   11  360  100]\n",
      " [ 147    7   13  312   57  196 1055]]\n"
     ]
    }
   ],
   "source": [
    "# test predictions\n",
    "y_pred_test_electra = electra_model.predict([test_ids,test_attention_mask])\n",
    "\n",
    "y_pred_test_electra = tf.argmax(y_pred_test_electra.logits,axis=1)\n",
    "print('accuracy score: {:.4f}'.format(accuracy_score(y_test,y_pred_test_electra)))\n",
    "print(confusion_matrix(y_test,y_pred_test_electra))"
   ]
  },
  {
   "cell_type": "code",
   "execution_count": 72,
   "id": "324cd819",
   "metadata": {},
   "outputs": [
    {
     "name": "stdout",
     "output_type": "stream",
     "text": [
      "              precision    recall  f1-score   support\n",
      "\n",
      "       anger       0.48      0.47      0.48       595\n",
      "     disgust       0.53      0.23      0.32       112\n",
      "        fear       0.58      0.69      0.63        87\n",
      "         joy       0.76      0.83      0.79      1915\n",
      "     sadness       0.58      0.61      0.59       341\n",
      "    surprise       0.52      0.61      0.56       590\n",
      "     neutral       0.67      0.59      0.63      1787\n",
      "\n",
      "    accuracy                           0.66      5427\n",
      "   macro avg       0.59      0.57      0.57      5427\n",
      "weighted avg       0.66      0.66      0.65      5427\n",
      "\n"
     ]
    }
   ],
   "source": [
    "from sklearn.metrics import classification_report\n",
    "print(classification_report(y_test, y_pred_test_electra, target_names=class_label_names) )"
   ]
  },
  {
   "cell_type": "code",
   "execution_count": 73,
   "id": "e7315a88",
   "metadata": {
    "scrolled": false
   },
   "outputs": [
    {
     "name": "stdout",
     "output_type": "stream",
     "text": [
      "[[ 301    5    3   57   20   30  166]\n",
      " [  33   18    6    9    3    3    9]\n",
      " [   4    3   55    6    5    6   10]\n",
      " [  28    3    3 1656   34   61  212]\n",
      " [  27    4    5   32  213   15   56]\n",
      " [  35    0    7   83   20  314  100]\n",
      " [ 154    0   13  296   51  183 1069]]\n",
      "              precision    recall  f1-score   support\n",
      "\n",
      "       anger       0.52      0.52      0.52       582\n",
      "     disgust       0.55      0.22      0.32        81\n",
      "        fear       0.60      0.62      0.61        89\n",
      "         joy       0.77      0.83      0.80      1997\n",
      "     sadness       0.62      0.61      0.61       352\n",
      "    surprise       0.51      0.56      0.54       559\n",
      "     neutral       0.66      0.61      0.63      1766\n",
      "\n",
      "    accuracy                           0.67      5426\n",
      "   macro avg       0.60      0.57      0.57      5426\n",
      "weighted avg       0.67      0.67      0.67      5426\n",
      "\n"
     ]
    }
   ],
   "source": [
    "# val predictions\n",
    "y_pred_val_electra = electra_model.predict([val_ids,val_attention_mask])\n",
    "y_pred_val_electra = tf.argmax(y_pred_val_electra.logits,axis=1)\n",
    "print(confusion_matrix(y_val,y_pred_val_electra))\n",
    "print(classification_report(y_val, y_pred_val_electra, target_names=class_label_names) )"
   ]
  },
  {
   "cell_type": "code",
   "execution_count": 74,
   "id": "b953d57c",
   "metadata": {},
   "outputs": [],
   "source": [
    "## Saving model\n",
    "electra_model.save_pretrained('electra-emotion-predictor-ekman-3')"
   ]
  },
  {
   "cell_type": "code",
   "execution_count": 75,
   "id": "5908b3a3",
   "metadata": {},
   "outputs": [],
   "source": [
    "electra_model3 = TFAutoModelForSequenceClassification.from_pretrained('electra-emotion-predictor-ekman-3')"
   ]
  },
  {
   "cell_type": "code",
   "execution_count": null,
   "id": "9d789082",
   "metadata": {},
   "outputs": [],
   "source": []
  },
  {
   "cell_type": "markdown",
   "id": "412ef1e7",
   "metadata": {},
   "source": [
    "### Model 2"
   ]
  },
  {
   "cell_type": "code",
   "execution_count": 38,
   "id": "0718e162",
   "metadata": {},
   "outputs": [],
   "source": [
    "def create_data(text,labels,tokenizer,max_length):\n",
    "\n",
    "    # Empty Arrays\n",
    "    input_ids = []\n",
    "    attention_mask = []\n",
    "    \n",
    "    # Loop Through List and Create input ids & attention mask\n",
    "    for i in tqdm.tqdm(text,total=len(text)):\n",
    "        x = tokenizer.encode_plus(str(i),\n",
    "                              return_attention_mask=True,\n",
    "                              padding='max_length',\n",
    "                              truncation=True,\n",
    "                              max_length=max_length,\n",
    "                              add_special_tokens=True,\n",
    "                              )\n",
    "        input_ids.append(x['input_ids'])\n",
    "        attention_mask.append(x['attention_mask'])\n",
    "        \n",
    "    print('Data Shapes : ')\n",
    "    print(np.array(input_ids).shape,np.array(attention_mask).shape,labels.shape )\n",
    "    \n",
    "    return  np.array(input_ids) , np.array(attention_mask) , np.array(labels).reshape(-1,1)"
   ]
  },
  {
   "cell_type": "markdown",
   "id": "15338159",
   "metadata": {},
   "source": [
    "X_train.values, y_train, X_test, y_test, X_val, y_val"
   ]
  },
  {
   "cell_type": "code",
   "execution_count": 39,
   "id": "338a2dbe",
   "metadata": {},
   "outputs": [
    {
     "data": {
      "text/plain": [
       "array(['my favourite food is anything i did not have to cook myself',\n",
       "       'now if he does off himself everyone will think hes having a laugh screwing with people instead of actually dead',\n",
       "       'why the fuck is bayless isoing', ...,\n",
       "       'what are you talking about ? anything bad that happened was name fault only good things were name doing !',\n",
       "       'more like a baptism with sexy results !', 'enjoy the ride !'],\n",
       "      dtype=object)"
      ]
     },
     "execution_count": 39,
     "metadata": {},
     "output_type": "execute_result"
    }
   ],
   "source": [
    "X_train.values"
   ]
  },
  {
   "cell_type": "code",
   "execution_count": 40,
   "id": "17c35a5f",
   "metadata": {},
   "outputs": [
    {
     "name": "stdout",
     "output_type": "stream",
     "text": [
      "Start Create Train Data\n"
     ]
    },
    {
     "name": "stderr",
     "output_type": "stream",
     "text": [
      "100%|█████████████████████████████████████████████████████████████████████████| 43410/43410 [00:03<00:00, 11617.37it/s]\n"
     ]
    },
    {
     "name": "stdout",
     "output_type": "stream",
     "text": [
      "Data Shapes : \n",
      "(43410, 56) (43410, 56) (43410,)\n",
      "Start Create Val Data\n"
     ]
    },
    {
     "name": "stderr",
     "output_type": "stream",
     "text": [
      "100%|███████████████████████████████████████████████████████████████████████████| 5426/5426 [00:00<00:00, 11900.02it/s]\n"
     ]
    },
    {
     "name": "stdout",
     "output_type": "stream",
     "text": [
      "Data Shapes : \n",
      "(5426, 56) (5426, 56) (5426,)\n",
      "Start Create Test Data\n"
     ]
    },
    {
     "name": "stderr",
     "output_type": "stream",
     "text": [
      "100%|███████████████████████████████████████████████████████████████████████████| 5427/5427 [00:00<00:00, 11785.04it/s]"
     ]
    },
    {
     "name": "stdout",
     "output_type": "stream",
     "text": [
      "Data Shapes : \n",
      "(5427, 56) (5427, 56) (5427,)\n"
     ]
    },
    {
     "name": "stderr",
     "output_type": "stream",
     "text": [
      "\n"
     ]
    }
   ],
   "source": [
    "MODEL_NAME = 'bhadresh-savani/electra-base-emotion'\n",
    "EPOCHS = 5\n",
    "MAX_LENGTH = 56\n",
    "NUM_LABELS = 7\n",
    "\n",
    "tokenizer = AutoTokenizer.from_pretrained(MODEL_NAME)\n",
    "\n",
    "print('Start Create Train Data')\n",
    "# Create Train Data\n",
    "train_ids , train_attention_mask ,train_labels = create_data(X_train.values,\n",
    "                                                         y_train.values ,\n",
    "                                                         tokenizer\n",
    "                                                         ,MAX_LENGTH)\n",
    "print('Start Create Val Data')\n",
    "# Create Test Data\n",
    "val_ids , val_attention_mask ,val_labels = create_data(X_val.values,\n",
    "                                                      y_val.values,\n",
    "                                                      tokenizer ,\n",
    "                                                      MAX_LENGTH\n",
    "                                                         )\n",
    "print('Start Create Test Data')\n",
    "# Create Test Data\n",
    "test_ids , test_attention_mask ,test_labels = create_data(X_test.values,\n",
    "                                                      y_test.values,\n",
    "                                                      tokenizer ,\n",
    "                                                      MAX_LENGTH\n",
    "                                                         )"
   ]
  },
  {
   "cell_type": "code",
   "execution_count": 41,
   "id": "b0f1f8af",
   "metadata": {},
   "outputs": [],
   "source": [
    "def train_custom_label_model(model_name,num_labels,MAX_LENGTH,Num_epochs):\n",
    "    \n",
    "    gc.collect()\n",
    "    \n",
    "    my_model = TFAutoModelForSequenceClassification.from_pretrained(model_name,\n",
    "                                                                    ignore_mismatched_sizes=True\n",
    "                                                                   ,num_labels=num_labels\n",
    "                                                                   )\n",
    "    \n",
    "    print('FINISH DOWNLOAD MODEL')\n",
    "#     run_opts = tf.compat.v1.RunOptions(report_tensor_allocations_upon_oom = True)\n",
    "    my_model.compile(\n",
    "        optimizer=tf.keras.optimizers.Adam(learning_rate=learning_rate),\n",
    "        loss=tf.keras.losses.SparseCategoricalCrossentropy(from_logits=True),\n",
    "        metrics=tf.metrics.SparseCategoricalAccuracy(),\n",
    "#         options = run_opts\n",
    "        )\n",
    "\n",
    "    #train , test = train_test_split(df,test_size=.3,random_state=42)\n",
    "\n",
    "\n",
    "    tokenizer = AutoTokenizer.from_pretrained(model_name)\n",
    "    \n",
    "    print('FINSH DOWNLOAD TOKENIZER')\n",
    "    \n",
    "       \n",
    "    # Use GPU\n",
    "    tf.debugging.set_log_device_placement(True)\n",
    "\n",
    "       \n",
    "    # Model Checkpoint\n",
    "    checkpoint_filepath = './'\n",
    "    model_checkpoint_callback = tf.keras.callbacks.ModelCheckpoint(\n",
    "        filepath=checkpoint_filepath,\n",
    "        save_weights_only=True,\n",
    "        monitor='val_sparse_categorical_crossentropy',\n",
    "        mode='max',\n",
    "        save_best_only=True,\n",
    "    )\n",
    "    \n",
    "    # Train Model\n",
    "    my_model.fit([train_ids, train_attention_mask],\n",
    "                 train_labels,\n",
    "              validation_split=.3,\n",
    "              epochs=Num_epochs,\n",
    "              verbose=1,\n",
    "              callbacks=[model_checkpoint_callback]\n",
    "              )\n",
    "    \n",
    "    gc.collect()\n",
    "    \n",
    "    return my_model"
   ]
  },
  {
   "cell_type": "code",
   "execution_count": 42,
   "id": "c4f4c40f",
   "metadata": {},
   "outputs": [
    {
     "name": "stdout",
     "output_type": "stream",
     "text": [
      "FINISH DOWNLOAD MODEL\n",
      "FINSH DOWNLOAD TOKENIZER\n",
      "Epoch 1/5\n",
      "950/950 [==============================] - 83s 76ms/step - loss: 1.2273 - sparse_categorical_accuracy: 0.5605 - val_loss: 0.9752 - val_sparse_categorical_accuracy: 0.6470\n",
      "Epoch 2/5\n",
      "950/950 [==============================] - 71s 75ms/step - loss: 0.9025 - sparse_categorical_accuracy: 0.6698 - val_loss: 0.9526 - val_sparse_categorical_accuracy: 0.6414\n",
      "Epoch 3/5\n",
      "950/950 [==============================] - 71s 75ms/step - loss: 0.7855 - sparse_categorical_accuracy: 0.7151 - val_loss: 0.9567 - val_sparse_categorical_accuracy: 0.6470\n",
      "Epoch 4/5\n",
      "950/950 [==============================] - 71s 75ms/step - loss: 0.6713 - sparse_categorical_accuracy: 0.7574 - val_loss: 0.9827 - val_sparse_categorical_accuracy: 0.6539\n",
      "Epoch 5/5\n",
      "950/950 [==============================] - 72s 75ms/step - loss: 0.5554 - sparse_categorical_accuracy: 0.8050 - val_loss: 1.0535 - val_sparse_categorical_accuracy: 0.6398\n"
     ]
    }
   ],
   "source": [
    "MODEL_NAME = 'bhadresh-savani/electra-base-emotion'\n",
    "EPOCHS = 5\n",
    "MAX_LENGTH = 56\n",
    "NUM_LABELS = 7\n",
    "learning_rate = 5e-5\n",
    "electra_model = train_custom_label_model(MODEL_NAME,NUM_LABELS,MAX_LENGTH,EPOCHS)"
   ]
  },
  {
   "cell_type": "code",
   "execution_count": 43,
   "id": "5e37a5c0",
   "metadata": {},
   "outputs": [
    {
     "name": "stdout",
     "output_type": "stream",
     "text": [
      "accuracy score: 0.8136\n",
      "[[ 3548    76    19   252    93   113   416]\n",
      " [  183   379    38    21    24    13    36]\n",
      " [   13    17   516    17    21    27    31]\n",
      " [  206    19    25 14583    56   179   625]\n",
      " [  240    26    33   274  2128    82   155]\n",
      " [  161     3    15   491    49  3523   465]\n",
      " [  956    31    53  1502   174   860 10643]]\n"
     ]
    }
   ],
   "source": [
    "# train predictions\n",
    "y_pred_train_electra = electra_model.predict([train_ids,train_attention_mask])\n",
    "y_pred_train_electra = tf.argmax(y_pred_train_electra.logits,axis=1)\n",
    "print('accuracy score: {:.4f}'.format(accuracy_score(y_train,y_pred_train_electra)))\n",
    "print(confusion_matrix(y_train,y_pred_train_electra))"
   ]
  },
  {
   "cell_type": "code",
   "execution_count": 44,
   "id": "419a92be",
   "metadata": {},
   "outputs": [
    {
     "name": "stdout",
     "output_type": "stream",
     "text": [
      "              precision    recall  f1-score   support\n",
      "\n",
      "       anger       0.67      0.79      0.72      4517\n",
      "     disgust       0.69      0.55      0.61       694\n",
      "        fear       0.74      0.80      0.77       642\n",
      "         joy       0.85      0.93      0.89     15693\n",
      "     sadness       0.84      0.72      0.78      2938\n",
      "    surprise       0.73      0.75      0.74      4707\n",
      "     neutral       0.86      0.75      0.80     14219\n",
      "\n",
      "    accuracy                           0.81     43410\n",
      "   macro avg       0.77      0.76      0.76     43410\n",
      "weighted avg       0.82      0.81      0.81     43410\n",
      "\n"
     ]
    }
   ],
   "source": [
    "print(classification_report(y_train, y_pred_train_electra, target_names=class_label_names) )"
   ]
  },
  {
   "cell_type": "code",
   "execution_count": 45,
   "id": "fd095899",
   "metadata": {},
   "outputs": [
    {
     "name": "stdout",
     "output_type": "stream",
     "text": [
      "accuracy score: 0.6457\n",
      "[[ 310   11    5   73   19   32  145]\n",
      " [  39   36    3   10    7    4   13]\n",
      " [   5    3   56    5    4    9    5]\n",
      " [  49    6    7 1587   16   50  200]\n",
      " [  44    4    5   56  163   26   43]\n",
      " [  45    4    7   94    8  302  130]\n",
      " [ 179   10   12  342   36  158 1050]]\n"
     ]
    }
   ],
   "source": [
    "# test predictions\n",
    "y_pred_test_electra = electra_model.predict([test_ids,test_attention_mask])\n",
    "\n",
    "y_pred_test_electra = tf.argmax(y_pred_test_electra.logits,axis=1)\n",
    "print('accuracy score: {:.4f}'.format(accuracy_score(y_test,y_pred_test_electra)))\n",
    "print(confusion_matrix(y_test,y_pred_test_electra))"
   ]
  },
  {
   "cell_type": "code",
   "execution_count": 46,
   "id": "9be64a07",
   "metadata": {},
   "outputs": [
    {
     "name": "stdout",
     "output_type": "stream",
     "text": [
      "              precision    recall  f1-score   support\n",
      "\n",
      "       anger       0.46      0.52      0.49       595\n",
      "     disgust       0.49      0.32      0.39       112\n",
      "        fear       0.59      0.64      0.62        87\n",
      "         joy       0.73      0.83      0.78      1915\n",
      "     sadness       0.64      0.48      0.55       341\n",
      "    surprise       0.52      0.51      0.52       590\n",
      "     neutral       0.66      0.59      0.62      1787\n",
      "\n",
      "    accuracy                           0.65      5427\n",
      "   macro avg       0.59      0.56      0.57      5427\n",
      "weighted avg       0.64      0.65      0.64      5427\n",
      "\n"
     ]
    }
   ],
   "source": [
    "from sklearn.metrics import classification_report\n",
    "print(classification_report(y_test, y_pred_test_electra, target_names=class_label_names) )"
   ]
  },
  {
   "cell_type": "code",
   "execution_count": 47,
   "id": "e2e0b736",
   "metadata": {
    "scrolled": false
   },
   "outputs": [
    {
     "name": "stdout",
     "output_type": "stream",
     "text": [
      "[[ 336   18    5   52    9   26  136]\n",
      " [  24   29    3   11    2    4    8]\n",
      " [   3    1   57    6    3    7   12]\n",
      " [  53    2    5 1685   21   41  190]\n",
      " [  28    4    4   59  175   16   66]\n",
      " [  42    0    4   92   19  275  127]\n",
      " [ 212    8   11  356   42  155  982]]\n",
      "              precision    recall  f1-score   support\n",
      "\n",
      "       anger       0.48      0.58      0.53       582\n",
      "     disgust       0.47      0.36      0.41        81\n",
      "        fear       0.64      0.64      0.64        89\n",
      "         joy       0.75      0.84      0.79      1997\n",
      "     sadness       0.65      0.50      0.56       352\n",
      "    surprise       0.52      0.49      0.51       559\n",
      "     neutral       0.65      0.56      0.60      1766\n",
      "\n",
      "    accuracy                           0.65      5426\n",
      "   macro avg       0.59      0.57      0.58      5426\n",
      "weighted avg       0.65      0.65      0.65      5426\n",
      "\n"
     ]
    }
   ],
   "source": [
    "# val predictions\n",
    "y_pred_val_electra = electra_model.predict([val_ids,val_attention_mask])\n",
    "y_pred_val_electra = tf.argmax(y_pred_val_electra.logits,axis=1)\n",
    "print(confusion_matrix(y_val,y_pred_val_electra))\n",
    "print(classification_report(y_val, y_pred_val_electra, target_names=class_label_names) )"
   ]
  },
  {
   "cell_type": "code",
   "execution_count": 48,
   "id": "cf0b18c1",
   "metadata": {},
   "outputs": [],
   "source": [
    "## Saving model\n",
    "electra_model.save_pretrained('electra-emotion-predictor-ekman-1')"
   ]
  },
  {
   "cell_type": "code",
   "execution_count": 49,
   "id": "015efc00",
   "metadata": {},
   "outputs": [],
   "source": [
    "electra_model1 = TFAutoModelForSequenceClassification.from_pretrained('electra-emotion-predictor-ekman-1')"
   ]
  },
  {
   "cell_type": "markdown",
   "id": "a78e91f3",
   "metadata": {},
   "source": [
    "### Model 3"
   ]
  },
  {
   "cell_type": "code",
   "execution_count": 38,
   "id": "ccff9ead",
   "metadata": {},
   "outputs": [],
   "source": [
    "def create_data(text,labels,tokenizer,max_length):\n",
    "\n",
    "    # Empty Arrays\n",
    "    input_ids = []\n",
    "    attention_mask = []\n",
    "    \n",
    "    # Loop Through List and Create input ids & attention mask\n",
    "    for i in tqdm.tqdm(text,total=len(text)):\n",
    "        x = tokenizer.encode_plus(str(i),\n",
    "                              return_attention_mask=True,\n",
    "                              padding='max_length',\n",
    "                              truncation=True,\n",
    "                              max_length=max_length,\n",
    "                              add_special_tokens=True,\n",
    "                              )\n",
    "        input_ids.append(x['input_ids'])\n",
    "        attention_mask.append(x['attention_mask'])\n",
    "        \n",
    "    print('Data Shapes : ')\n",
    "    print(np.array(input_ids).shape,np.array(attention_mask).shape,labels.shape )\n",
    "    \n",
    "    return  np.array(input_ids) , np.array(attention_mask) , np.array(labels).reshape(-1,1)"
   ]
  },
  {
   "cell_type": "markdown",
   "id": "f574a76e",
   "metadata": {},
   "source": [
    "X_train.values, y_train, X_test, y_test, X_val, y_val"
   ]
  },
  {
   "cell_type": "code",
   "execution_count": 39,
   "id": "79c5c8ff",
   "metadata": {},
   "outputs": [
    {
     "data": {
      "text/plain": [
       "array(['my favourite food is anything i did not have to cook myself',\n",
       "       'now if he does off himself everyone will think hes having a laugh screwing with people instead of actually dead',\n",
       "       'why the fuck is bayless isoing', ...,\n",
       "       'what are you talking about ? anything bad that happened was name fault only good things were name doing !',\n",
       "       'more like a baptism with sexy results !', 'enjoy the ride !'],\n",
       "      dtype=object)"
      ]
     },
     "execution_count": 39,
     "metadata": {},
     "output_type": "execute_result"
    }
   ],
   "source": [
    "X_train.values"
   ]
  },
  {
   "cell_type": "code",
   "execution_count": 40,
   "id": "3cb46e7e",
   "metadata": {},
   "outputs": [
    {
     "name": "stdout",
     "output_type": "stream",
     "text": [
      "Start Create Train Data\n"
     ]
    },
    {
     "name": "stderr",
     "output_type": "stream",
     "text": [
      "100%|█████████████████████████████████████████████████████████████████████████| 43410/43410 [00:03<00:00, 11359.93it/s]\n"
     ]
    },
    {
     "name": "stdout",
     "output_type": "stream",
     "text": [
      "Data Shapes : \n",
      "(43410, 56) (43410, 56) (43410,)\n",
      "Start Create Val Data\n"
     ]
    },
    {
     "name": "stderr",
     "output_type": "stream",
     "text": [
      "100%|███████████████████████████████████████████████████████████████████████████| 5426/5426 [00:00<00:00, 11481.10it/s]\n"
     ]
    },
    {
     "name": "stdout",
     "output_type": "stream",
     "text": [
      "Data Shapes : \n",
      "(5426, 56) (5426, 56) (5426,)\n",
      "Start Create Test Data\n"
     ]
    },
    {
     "name": "stderr",
     "output_type": "stream",
     "text": [
      "100%|███████████████████████████████████████████████████████████████████████████| 5427/5427 [00:00<00:00, 11053.20it/s]"
     ]
    },
    {
     "name": "stdout",
     "output_type": "stream",
     "text": [
      "Data Shapes : \n",
      "(5427, 56) (5427, 56) (5427,)\n"
     ]
    },
    {
     "name": "stderr",
     "output_type": "stream",
     "text": [
      "\n"
     ]
    }
   ],
   "source": [
    "MODEL_NAME = 'bhadresh-savani/electra-base-emotion'\n",
    "EPOCHS = 5\n",
    "MAX_LENGTH = 56\n",
    "NUM_LABELS = 7\n",
    "\n",
    "tokenizer = AutoTokenizer.from_pretrained(MODEL_NAME)\n",
    "\n",
    "print('Start Create Train Data')\n",
    "# Create Train Data\n",
    "train_ids , train_attention_mask ,train_labels = create_data(X_train.values,\n",
    "                                                         y_train.values ,\n",
    "                                                         tokenizer\n",
    "                                                         ,MAX_LENGTH)\n",
    "print('Start Create Val Data')\n",
    "# Create Test Data\n",
    "val_ids , val_attention_mask ,val_labels = create_data(X_val.values,\n",
    "                                                      y_val.values,\n",
    "                                                      tokenizer ,\n",
    "                                                      MAX_LENGTH\n",
    "                                                         )\n",
    "print('Start Create Test Data')\n",
    "# Create Test Data\n",
    "test_ids , test_attention_mask ,test_labels = create_data(X_test.values,\n",
    "                                                      y_test.values,\n",
    "                                                      tokenizer ,\n",
    "                                                      MAX_LENGTH\n",
    "                                                         )"
   ]
  },
  {
   "cell_type": "code",
   "execution_count": 41,
   "id": "cc87459e",
   "metadata": {},
   "outputs": [],
   "source": [
    "def train_custom_label_model(model_name,num_labels,MAX_LENGTH,Num_epochs):\n",
    "    \n",
    "    gc.collect()\n",
    "    \n",
    "    my_model = TFAutoModelForSequenceClassification.from_pretrained(model_name,\n",
    "                                                                    ignore_mismatched_sizes=True\n",
    "                                                                   ,num_labels=num_labels\n",
    "                                                                   )\n",
    "    \n",
    "    print('FINISH DOWNLOAD MODEL')\n",
    "#     run_opts = tf.compat.v1.RunOptions(report_tensor_allocations_upon_oom = True)\n",
    "    my_model.compile(\n",
    "        optimizer=tf.keras.optimizers.Adam(learning_rate=learning_rate),\n",
    "        loss=tf.keras.losses.SparseCategoricalCrossentropy(from_logits=True),\n",
    "        metrics=tf.metrics.SparseCategoricalAccuracy(),\n",
    "#         options = run_opts\n",
    "        )\n",
    "\n",
    "    #train , test = train_test_split(df,test_size=.3,random_state=42)\n",
    "\n",
    "\n",
    "    tokenizer = AutoTokenizer.from_pretrained(model_name)\n",
    "    \n",
    "    print('FINSH DOWNLOAD TOKENIZER')\n",
    "    \n",
    "       \n",
    "    # Use GPU\n",
    "    tf.debugging.set_log_device_placement(True)\n",
    "\n",
    "       \n",
    "    # Model Checkpoint\n",
    "    checkpoint_filepath = './'\n",
    "    model_checkpoint_callback = tf.keras.callbacks.ModelCheckpoint(\n",
    "        filepath=checkpoint_filepath,\n",
    "        save_weights_only=True,\n",
    "        monitor='val_sparse_categorical_crossentropy',\n",
    "        mode='max',\n",
    "        save_best_only=True,\n",
    "    )\n",
    "    \n",
    "    # Train Model\n",
    "    my_model.fit([train_ids, train_attention_mask],\n",
    "                 train_labels,\n",
    "              validation_split=.3,\n",
    "              epochs=Num_epochs,\n",
    "              verbose=1,\n",
    "              callbacks=[model_checkpoint_callback]\n",
    "              )\n",
    "    \n",
    "    gc.collect()\n",
    "    \n",
    "    return my_model"
   ]
  },
  {
   "cell_type": "code",
   "execution_count": 42,
   "id": "24e98023",
   "metadata": {},
   "outputs": [
    {
     "name": "stdout",
     "output_type": "stream",
     "text": [
      "FINISH DOWNLOAD MODEL\n",
      "FINSH DOWNLOAD TOKENIZER\n",
      "Epoch 1/4\n",
      "950/950 [==============================] - 82s 75ms/step - loss: 1.2469 - sparse_categorical_accuracy: 0.5638 - val_loss: 1.0154 - val_sparse_categorical_accuracy: 0.6325\n",
      "Epoch 2/4\n",
      "950/950 [==============================] - 71s 75ms/step - loss: 0.9316 - sparse_categorical_accuracy: 0.6624 - val_loss: 0.9290 - val_sparse_categorical_accuracy: 0.6607\n",
      "Epoch 3/4\n",
      "950/950 [==============================] - 71s 75ms/step - loss: 0.8199 - sparse_categorical_accuracy: 0.7054 - val_loss: 0.9329 - val_sparse_categorical_accuracy: 0.6575\n",
      "Epoch 4/4\n",
      "950/950 [==============================] - 71s 75ms/step - loss: 0.7313 - sparse_categorical_accuracy: 0.7378 - val_loss: 0.9760 - val_sparse_categorical_accuracy: 0.6439\n"
     ]
    }
   ],
   "source": [
    "MODEL_NAME = 'bhadresh-savani/electra-base-emotion'\n",
    "EPOCHS = 4\n",
    "MAX_LENGTH = 56\n",
    "NUM_LABELS = 7\n",
    "learning_rate = 3e-5\n",
    "electra_model = train_custom_label_model(MODEL_NAME,NUM_LABELS,MAX_LENGTH,EPOCHS)"
   ]
  },
  {
   "cell_type": "code",
   "execution_count": 43,
   "id": "2004d598",
   "metadata": {},
   "outputs": [
    {
     "name": "stdout",
     "output_type": "stream",
     "text": [
      "accuracy score: 0.7486\n",
      "[[ 2873   104    45   400   290   249   556]\n",
      " [  189   309    70    27    56    17    26]\n",
      " [   12    18   506    20    40    20    26]\n",
      " [  165    14    33 14197   188   359   737]\n",
      " [  224    58    50   188  2182   100   136]\n",
      " [  108     6    41   562    82  3524   384]\n",
      " [  932    37    91  2221   426  1608  8904]]\n"
     ]
    }
   ],
   "source": [
    "# train predictions\n",
    "y_pred_train_electra = electra_model.predict([train_ids,train_attention_mask])\n",
    "y_pred_train_electra = tf.argmax(y_pred_train_electra.logits,axis=1)\n",
    "print('accuracy score: {:.4f}'.format(accuracy_score(y_train,y_pred_train_electra)))\n",
    "print(confusion_matrix(y_train,y_pred_train_electra))"
   ]
  },
  {
   "cell_type": "code",
   "execution_count": 44,
   "id": "08a87349",
   "metadata": {},
   "outputs": [
    {
     "name": "stdout",
     "output_type": "stream",
     "text": [
      "              precision    recall  f1-score   support\n",
      "\n",
      "       anger       0.64      0.64      0.64      4517\n",
      "     disgust       0.57      0.45      0.50       694\n",
      "        fear       0.61      0.79      0.68       642\n",
      "         joy       0.81      0.90      0.85     15693\n",
      "     sadness       0.67      0.74      0.70      2938\n",
      "    surprise       0.60      0.75      0.67      4707\n",
      "     neutral       0.83      0.63      0.71     14219\n",
      "\n",
      "    accuracy                           0.75     43410\n",
      "   macro avg       0.67      0.70      0.68     43410\n",
      "weighted avg       0.76      0.75      0.75     43410\n",
      "\n"
     ]
    }
   ],
   "source": [
    "print(classification_report(y_train, y_pred_train_electra, target_names=class_label_names) )"
   ]
  },
  {
   "cell_type": "code",
   "execution_count": 45,
   "id": "ec6fd5e8",
   "metadata": {},
   "outputs": [
    {
     "name": "stdout",
     "output_type": "stream",
     "text": [
      "accuracy score: 0.6517\n",
      "[[ 285   11    6   66   36   48  143]\n",
      " [  27   39   11    8   15    7    5]\n",
      " [   2    3   61    5    5    7    4]\n",
      " [  34    1    9 1613   32   61  165]\n",
      " [  37    4    5   26  210   26   33]\n",
      " [  30    3   10   87   10  372   78]\n",
      " [ 143   15   12  346   90  224  957]]\n"
     ]
    }
   ],
   "source": [
    "# test predictions\n",
    "y_pred_test_electra = electra_model.predict([test_ids,test_attention_mask])\n",
    "\n",
    "y_pred_test_electra = tf.argmax(y_pred_test_electra.logits,axis=1)\n",
    "print('accuracy score: {:.4f}'.format(accuracy_score(y_test,y_pred_test_electra)))\n",
    "print(confusion_matrix(y_test,y_pred_test_electra))"
   ]
  },
  {
   "cell_type": "code",
   "execution_count": 46,
   "id": "8e984f0b",
   "metadata": {},
   "outputs": [
    {
     "name": "stdout",
     "output_type": "stream",
     "text": [
      "              precision    recall  f1-score   support\n",
      "\n",
      "       anger       0.51      0.48      0.49       595\n",
      "     disgust       0.51      0.35      0.41       112\n",
      "        fear       0.54      0.70      0.61        87\n",
      "         joy       0.75      0.84      0.79      1915\n",
      "     sadness       0.53      0.62      0.57       341\n",
      "    surprise       0.50      0.63      0.56       590\n",
      "     neutral       0.69      0.54      0.60      1787\n",
      "\n",
      "    accuracy                           0.65      5427\n",
      "   macro avg       0.58      0.59      0.58      5427\n",
      "weighted avg       0.65      0.65      0.65      5427\n",
      "\n"
     ]
    }
   ],
   "source": [
    "from sklearn.metrics import classification_report\n",
    "print(classification_report(y_test, y_pred_test_electra, target_names=class_label_names) )"
   ]
  },
  {
   "cell_type": "code",
   "execution_count": 47,
   "id": "300b6ab3",
   "metadata": {
    "scrolled": false
   },
   "outputs": [
    {
     "name": "stdout",
     "output_type": "stream",
     "text": [
      "[[ 289   15    6   68   38   34  132]\n",
      " [  22   32    4    9    2    5    7]\n",
      " [   1    2   58    7    4    5   12]\n",
      " [  37    1    4 1712   34   54  155]\n",
      " [  22    9    7   42  222   10   40]\n",
      " [  28    2    6   85   21  351   66]\n",
      " [ 175    6   13  354   79  210  929]]\n",
      "              precision    recall  f1-score   support\n",
      "\n",
      "       anger       0.50      0.50      0.50       582\n",
      "     disgust       0.48      0.40      0.43        81\n",
      "        fear       0.59      0.65      0.62        89\n",
      "         joy       0.75      0.86      0.80      1997\n",
      "     sadness       0.56      0.63      0.59       352\n",
      "    surprise       0.52      0.63      0.57       559\n",
      "     neutral       0.69      0.53      0.60      1766\n",
      "\n",
      "    accuracy                           0.66      5426\n",
      "   macro avg       0.59      0.60      0.59      5426\n",
      "weighted avg       0.66      0.66      0.66      5426\n",
      "\n"
     ]
    }
   ],
   "source": [
    "# val predictions\n",
    "y_pred_val_electra = electra_model.predict([val_ids,val_attention_mask])\n",
    "y_pred_val_electra = tf.argmax(y_pred_val_electra.logits,axis=1)\n",
    "print(confusion_matrix(y_val,y_pred_val_electra))\n",
    "print(classification_report(y_val, y_pred_val_electra, target_names=class_label_names) )"
   ]
  },
  {
   "cell_type": "code",
   "execution_count": 50,
   "id": "0d2a84b9",
   "metadata": {},
   "outputs": [],
   "source": [
    "## Saving model\n",
    "electra_model.save_pretrained('electra-emotion-predictor-ekman-2.1')"
   ]
  },
  {
   "cell_type": "code",
   "execution_count": 51,
   "id": "e37d95f9",
   "metadata": {},
   "outputs": [],
   "source": [
    "electra_model1 = TFAutoModelForSequenceClassification.from_pretrained('electra-emotion-predictor-ekman-2.1')"
   ]
  },
  {
   "cell_type": "markdown",
   "id": "1482a47e",
   "metadata": {},
   "source": [
    "### Model 4"
   ]
  },
  {
   "cell_type": "code",
   "execution_count": 52,
   "id": "6f240c10",
   "metadata": {},
   "outputs": [],
   "source": [
    "def create_data(text,labels,tokenizer,max_length):\n",
    "\n",
    "    # Empty Arrays\n",
    "    input_ids = []\n",
    "    attention_mask = []\n",
    "    \n",
    "    # Loop Through List and Create input ids & attention mask\n",
    "    for i in tqdm.tqdm(text,total=len(text)):\n",
    "        x = tokenizer.encode_plus(str(i),\n",
    "                              return_attention_mask=True,\n",
    "                              padding='max_length',\n",
    "                              truncation=True,\n",
    "                              max_length=max_length,\n",
    "                              add_special_tokens=True,\n",
    "                              )\n",
    "        input_ids.append(x['input_ids'])\n",
    "        attention_mask.append(x['attention_mask'])\n",
    "        \n",
    "    print('Data Shapes : ')\n",
    "    print(np.array(input_ids).shape,np.array(attention_mask).shape,labels.shape )\n",
    "    \n",
    "    return  np.array(input_ids) , np.array(attention_mask) , np.array(labels).reshape(-1,1)"
   ]
  },
  {
   "cell_type": "markdown",
   "id": "017ba760",
   "metadata": {},
   "source": [
    "X_train.values, y_train, X_test, y_test, X_val, y_val"
   ]
  },
  {
   "cell_type": "code",
   "execution_count": 53,
   "id": "cd6804cf",
   "metadata": {},
   "outputs": [
    {
     "data": {
      "text/plain": [
       "array(['my favourite food is anything i did not have to cook myself',\n",
       "       'now if he does off himself everyone will think hes having a laugh screwing with people instead of actually dead',\n",
       "       'why the fuck is bayless isoing', ...,\n",
       "       'what are you talking about ? anything bad that happened was name fault only good things were name doing !',\n",
       "       'more like a baptism with sexy results !', 'enjoy the ride !'],\n",
       "      dtype=object)"
      ]
     },
     "execution_count": 53,
     "metadata": {},
     "output_type": "execute_result"
    }
   ],
   "source": [
    "X_train.values"
   ]
  },
  {
   "cell_type": "code",
   "execution_count": 54,
   "id": "91218ee0",
   "metadata": {},
   "outputs": [
    {
     "name": "stdout",
     "output_type": "stream",
     "text": [
      "Start Create Train Data\n"
     ]
    },
    {
     "name": "stderr",
     "output_type": "stream",
     "text": [
      "100%|█████████████████████████████████████████████████████████████████████████| 43410/43410 [00:03<00:00, 11788.21it/s]\n"
     ]
    },
    {
     "name": "stdout",
     "output_type": "stream",
     "text": [
      "Data Shapes : \n",
      "(43410, 56) (43410, 56) (43410,)\n",
      "Start Create Val Data\n"
     ]
    },
    {
     "name": "stderr",
     "output_type": "stream",
     "text": [
      "100%|███████████████████████████████████████████████████████████████████████████| 5426/5426 [00:00<00:00, 11724.38it/s]\n"
     ]
    },
    {
     "name": "stdout",
     "output_type": "stream",
     "text": [
      "Data Shapes : \n",
      "(5426, 56) (5426, 56) (5426,)\n",
      "Start Create Test Data\n"
     ]
    },
    {
     "name": "stderr",
     "output_type": "stream",
     "text": [
      "100%|███████████████████████████████████████████████████████████████████████████| 5427/5427 [00:00<00:00, 11684.60it/s]\n"
     ]
    },
    {
     "name": "stdout",
     "output_type": "stream",
     "text": [
      "Data Shapes : \n",
      "(5427, 56) (5427, 56) (5427,)\n"
     ]
    }
   ],
   "source": [
    "MODEL_NAME = 'bhadresh-savani/electra-base-emotion'\n",
    "EPOCHS = 5\n",
    "MAX_LENGTH = 56\n",
    "NUM_LABELS = 7\n",
    "\n",
    "tokenizer = AutoTokenizer.from_pretrained(MODEL_NAME)\n",
    "\n",
    "print('Start Create Train Data')\n",
    "# Create Train Data\n",
    "train_ids , train_attention_mask ,train_labels = create_data(X_train.values,\n",
    "                                                         y_train.values ,\n",
    "                                                         tokenizer\n",
    "                                                         ,MAX_LENGTH)\n",
    "print('Start Create Val Data')\n",
    "# Create Test Data\n",
    "val_ids , val_attention_mask ,val_labels = create_data(X_val.values,\n",
    "                                                      y_val.values,\n",
    "                                                      tokenizer ,\n",
    "                                                      MAX_LENGTH\n",
    "                                                         )\n",
    "print('Start Create Test Data')\n",
    "# Create Test Data\n",
    "test_ids , test_attention_mask ,test_labels = create_data(X_test.values,\n",
    "                                                      y_test.values,\n",
    "                                                      tokenizer ,\n",
    "                                                      MAX_LENGTH\n",
    "                                                         )"
   ]
  },
  {
   "cell_type": "code",
   "execution_count": 55,
   "id": "19473540",
   "metadata": {},
   "outputs": [],
   "source": [
    "def train_custom_label_model(model_name,num_labels,MAX_LENGTH,Num_epochs):\n",
    "    \n",
    "    gc.collect()\n",
    "    \n",
    "    my_model = TFAutoModelForSequenceClassification.from_pretrained(model_name,\n",
    "                                                                    ignore_mismatched_sizes=True\n",
    "                                                                   ,num_labels=num_labels\n",
    "                                                                   )\n",
    "    \n",
    "    print('FINISH DOWNLOAD MODEL')\n",
    "#     run_opts = tf.compat.v1.RunOptions(report_tensor_allocations_upon_oom = True)\n",
    "    my_model.compile(\n",
    "        optimizer=tf.keras.optimizers.Adam(learning_rate=learning_rate),\n",
    "        loss=tf.keras.losses.SparseCategoricalCrossentropy(from_logits=True),\n",
    "        metrics=tf.metrics.SparseCategoricalAccuracy(),\n",
    "#         options = run_opts\n",
    "        )\n",
    "\n",
    "    #train , test = train_test_split(df,test_size=.3,random_state=42)\n",
    "\n",
    "\n",
    "    tokenizer = AutoTokenizer.from_pretrained(model_name)\n",
    "    \n",
    "    print('FINSH DOWNLOAD TOKENIZER')\n",
    "    \n",
    "       \n",
    "    # Use GPU\n",
    "    tf.debugging.set_log_device_placement(True)\n",
    "\n",
    "       \n",
    "    # Model Checkpoint\n",
    "    checkpoint_filepath = './'\n",
    "    model_checkpoint_callback = tf.keras.callbacks.ModelCheckpoint(\n",
    "        filepath=checkpoint_filepath,\n",
    "        save_weights_only=True,\n",
    "        monitor='val_sparse_categorical_crossentropy',\n",
    "        mode='max',\n",
    "        save_best_only=True,\n",
    "    )\n",
    "    \n",
    "    # Train Model\n",
    "    my_model.fit([train_ids, train_attention_mask],\n",
    "                 train_labels,\n",
    "              validation_split=.3,\n",
    "              epochs=Num_epochs,\n",
    "              verbose=1,\n",
    "              callbacks=[model_checkpoint_callback]\n",
    "              )\n",
    "    \n",
    "    gc.collect()\n",
    "    \n",
    "    return my_model"
   ]
  },
  {
   "cell_type": "code",
   "execution_count": 56,
   "id": "41518446",
   "metadata": {},
   "outputs": [
    {
     "name": "stdout",
     "output_type": "stream",
     "text": [
      "FINISH DOWNLOAD MODEL\n",
      "FINSH DOWNLOAD TOKENIZER\n",
      "Epoch 1/5\n",
      "950/950 [==============================] - 82s 77ms/step - loss: 1.1856 - sparse_categorical_accuracy: 0.5860 - val_loss: 0.9802 - val_sparse_categorical_accuracy: 0.6374\n",
      "Epoch 2/5\n",
      "950/950 [==============================] - 71s 75ms/step - loss: 0.9006 - sparse_categorical_accuracy: 0.6721 - val_loss: 0.9197 - val_sparse_categorical_accuracy: 0.6599\n",
      "Epoch 3/5\n",
      "950/950 [==============================] - 72s 76ms/step - loss: 0.7801 - sparse_categorical_accuracy: 0.7146 - val_loss: 0.9322 - val_sparse_categorical_accuracy: 0.6602\n",
      "Epoch 4/5\n",
      "950/950 [==============================] - 72s 75ms/step - loss: 0.6699 - sparse_categorical_accuracy: 0.7585 - val_loss: 0.9653 - val_sparse_categorical_accuracy: 0.6539\n",
      "Epoch 5/5\n",
      "950/950 [==============================] - 71s 75ms/step - loss: 0.5577 - sparse_categorical_accuracy: 0.8019 - val_loss: 1.0689 - val_sparse_categorical_accuracy: 0.6453\n"
     ]
    }
   ],
   "source": [
    "MODEL_NAME = 'bhadresh-savani/electra-base-emotion'\n",
    "EPOCHS = 5\n",
    "MAX_LENGTH = 56\n",
    "NUM_LABELS = 7\n",
    "learning_rate = 5e-5\n",
    "electra_model = train_custom_label_model(MODEL_NAME,NUM_LABELS,MAX_LENGTH,EPOCHS)"
   ]
  },
  {
   "cell_type": "code",
   "execution_count": 57,
   "id": "fce446e0",
   "metadata": {},
   "outputs": [
    {
     "name": "stdout",
     "output_type": "stream",
     "text": [
      "accuracy score: 0.8092\n",
      "[[ 3157   268    20   265    98   121   588]\n",
      " [  122   471    21    21    17     9    33]\n",
      " [    6    52   525    11    13     2    33]\n",
      " [  134    29    69 14224   124   344   769]\n",
      " [  224    96    64   110  2199    54   191]\n",
      " [  107    18    39   337    57  3628   521]\n",
      " [  676    83    75  1346   179   936 10924]]\n"
     ]
    }
   ],
   "source": [
    "# train predictions\n",
    "y_pred_train_electra = electra_model.predict([train_ids,train_attention_mask])\n",
    "y_pred_train_electra = tf.argmax(y_pred_train_electra.logits,axis=1)\n",
    "print('accuracy score: {:.4f}'.format(accuracy_score(y_train,y_pred_train_electra)))\n",
    "print(confusion_matrix(y_train,y_pred_train_electra))"
   ]
  },
  {
   "cell_type": "code",
   "execution_count": 58,
   "id": "1d060cbe",
   "metadata": {},
   "outputs": [
    {
     "name": "stdout",
     "output_type": "stream",
     "text": [
      "              precision    recall  f1-score   support\n",
      "\n",
      "       anger       0.71      0.70      0.71      4517\n",
      "     disgust       0.46      0.68      0.55       694\n",
      "        fear       0.65      0.82      0.72       642\n",
      "         joy       0.87      0.91      0.89     15693\n",
      "     sadness       0.82      0.75      0.78      2938\n",
      "    surprise       0.71      0.77      0.74      4707\n",
      "     neutral       0.84      0.77      0.80     14219\n",
      "\n",
      "    accuracy                           0.81     43410\n",
      "   macro avg       0.72      0.77      0.74     43410\n",
      "weighted avg       0.81      0.81      0.81     43410\n",
      "\n"
     ]
    }
   ],
   "source": [
    "print(classification_report(y_train, y_pred_train_electra, target_names=class_label_names) )"
   ]
  },
  {
   "cell_type": "code",
   "execution_count": 59,
   "id": "07d8a121",
   "metadata": {},
   "outputs": [
    {
     "name": "stdout",
     "output_type": "stream",
     "text": [
      "accuracy score: 0.6527\n",
      "[[ 261   33    4   67   17   26  187]\n",
      " [  27   56    5    8    1    3   12]\n",
      " [   2   10   61    5    1    3    5]\n",
      " [  32    6   13 1551   26   77  210]\n",
      " [  36   12   10   25  188   20   50]\n",
      " [  32    8    9   69    9  337  126]\n",
      " [ 142   23   14  319   40  161 1088]]\n"
     ]
    }
   ],
   "source": [
    "# test predictions\n",
    "y_pred_test_electra = electra_model.predict([test_ids,test_attention_mask])\n",
    "\n",
    "y_pred_test_electra = tf.argmax(y_pred_test_electra.logits,axis=1)\n",
    "print('accuracy score: {:.4f}'.format(accuracy_score(y_test,y_pred_test_electra)))\n",
    "print(confusion_matrix(y_test,y_pred_test_electra))"
   ]
  },
  {
   "cell_type": "code",
   "execution_count": 60,
   "id": "72734c50",
   "metadata": {},
   "outputs": [
    {
     "name": "stdout",
     "output_type": "stream",
     "text": [
      "              precision    recall  f1-score   support\n",
      "\n",
      "       anger       0.49      0.44      0.46       595\n",
      "     disgust       0.38      0.50      0.43       112\n",
      "        fear       0.53      0.70      0.60        87\n",
      "         joy       0.76      0.81      0.78      1915\n",
      "     sadness       0.67      0.55      0.60       341\n",
      "    surprise       0.54      0.57      0.55       590\n",
      "     neutral       0.65      0.61      0.63      1787\n",
      "\n",
      "    accuracy                           0.65      5427\n",
      "   macro avg       0.57      0.60      0.58      5427\n",
      "weighted avg       0.65      0.65      0.65      5427\n",
      "\n"
     ]
    }
   ],
   "source": [
    "from sklearn.metrics import classification_report\n",
    "print(classification_report(y_test, y_pred_test_electra, target_names=class_label_names) )"
   ]
  },
  {
   "cell_type": "code",
   "execution_count": 61,
   "id": "633490c2",
   "metadata": {
    "scrolled": false
   },
   "outputs": [
    {
     "name": "stdout",
     "output_type": "stream",
     "text": [
      "[[ 257   40    5   63   13   26  178]\n",
      " [  16   40    3    9    1    3    9]\n",
      " [   5    9   58    3    3    1   10]\n",
      " [  44    5   15 1619   32   61  221]\n",
      " [  29   13    5   33  193   12   67]\n",
      " [  35    8    6   73   20  310  107]\n",
      " [ 170   20   11  315   35  166 1049]]\n",
      "              precision    recall  f1-score   support\n",
      "\n",
      "       anger       0.46      0.44      0.45       582\n",
      "     disgust       0.30      0.49      0.37        81\n",
      "        fear       0.56      0.65      0.60        89\n",
      "         joy       0.77      0.81      0.79      1997\n",
      "     sadness       0.65      0.55      0.59       352\n",
      "    surprise       0.54      0.55      0.54       559\n",
      "     neutral       0.64      0.59      0.62      1766\n",
      "\n",
      "    accuracy                           0.65      5426\n",
      "   macro avg       0.56      0.58      0.57      5426\n",
      "weighted avg       0.65      0.65      0.65      5426\n",
      "\n"
     ]
    }
   ],
   "source": [
    "# val predictions\n",
    "y_pred_val_electra = electra_model.predict([val_ids,val_attention_mask])\n",
    "y_pred_val_electra = tf.argmax(y_pred_val_electra.logits,axis=1)\n",
    "print(confusion_matrix(y_val,y_pred_val_electra))\n",
    "print(classification_report(y_val, y_pred_val_electra, target_names=class_label_names) )"
   ]
  },
  {
   "cell_type": "code",
   "execution_count": 62,
   "id": "bf2e5d57",
   "metadata": {},
   "outputs": [],
   "source": [
    "## Saving model\n",
    "electra_model.save_pretrained('electra-emotion-predictor-ekman-4')"
   ]
  },
  {
   "cell_type": "code",
   "execution_count": 63,
   "id": "cfe21187",
   "metadata": {},
   "outputs": [],
   "source": [
    "electra_model1 = TFAutoModelForSequenceClassification.from_pretrained('electra-emotion-predictor-ekman-4')"
   ]
  },
  {
   "cell_type": "markdown",
   "id": "12d69a19",
   "metadata": {},
   "source": [
    "### Model 5 - Final"
   ]
  },
  {
   "cell_type": "code",
   "execution_count": 64,
   "id": "d3f61643",
   "metadata": {},
   "outputs": [],
   "source": [
    "def create_data(text,labels,tokenizer,max_length):\n",
    "\n",
    "    # Empty Arrays\n",
    "    input_ids = []\n",
    "    attention_mask = []\n",
    "    \n",
    "    # Loop Through List and Create input ids & attention mask\n",
    "    for i in tqdm.tqdm(text,total=len(text)):\n",
    "        x = tokenizer.encode_plus(str(i),\n",
    "                              return_attention_mask=True,\n",
    "                              padding='max_length',\n",
    "                              truncation=True,\n",
    "                              max_length=max_length,\n",
    "                              add_special_tokens=True,\n",
    "                              )\n",
    "        input_ids.append(x['input_ids'])\n",
    "        attention_mask.append(x['attention_mask'])\n",
    "        \n",
    "    print('Data Shapes : ')\n",
    "    print(np.array(input_ids).shape,np.array(attention_mask).shape,labels.shape )\n",
    "    \n",
    "    return  np.array(input_ids) , np.array(attention_mask) , np.array(labels).reshape(-1,1)"
   ]
  },
  {
   "cell_type": "markdown",
   "id": "49c44057",
   "metadata": {},
   "source": [
    "X_train.values, y_train, X_test, y_test, X_val, y_val"
   ]
  },
  {
   "cell_type": "code",
   "execution_count": 65,
   "id": "9c61e25e",
   "metadata": {},
   "outputs": [
    {
     "data": {
      "text/plain": [
       "array(['my favourite food is anything i did not have to cook myself',\n",
       "       'now if he does off himself everyone will think hes having a laugh screwing with people instead of actually dead',\n",
       "       'why the fuck is bayless isoing', ...,\n",
       "       'what are you talking about ? anything bad that happened was name fault only good things were name doing !',\n",
       "       'more like a baptism with sexy results !', 'enjoy the ride !'],\n",
       "      dtype=object)"
      ]
     },
     "execution_count": 65,
     "metadata": {},
     "output_type": "execute_result"
    }
   ],
   "source": [
    "X_train.values"
   ]
  },
  {
   "cell_type": "code",
   "execution_count": 66,
   "id": "b72f2ac7",
   "metadata": {},
   "outputs": [
    {
     "name": "stdout",
     "output_type": "stream",
     "text": [
      "Start Create Train Data\n"
     ]
    },
    {
     "name": "stderr",
     "output_type": "stream",
     "text": [
      "100%|█████████████████████████████████████████████████████████████████████████| 43410/43410 [00:03<00:00, 11891.72it/s]\n"
     ]
    },
    {
     "name": "stdout",
     "output_type": "stream",
     "text": [
      "Data Shapes : \n",
      "(43410, 56) (43410, 56) (43410,)\n",
      "Start Create Val Data\n"
     ]
    },
    {
     "name": "stderr",
     "output_type": "stream",
     "text": [
      "100%|███████████████████████████████████████████████████████████████████████████| 5426/5426 [00:00<00:00, 11848.37it/s]\n"
     ]
    },
    {
     "name": "stdout",
     "output_type": "stream",
     "text": [
      "Data Shapes : \n",
      "(5426, 56) (5426, 56) (5426,)\n",
      "Start Create Test Data\n"
     ]
    },
    {
     "name": "stderr",
     "output_type": "stream",
     "text": [
      "100%|███████████████████████████████████████████████████████████████████████████| 5427/5427 [00:00<00:00, 11811.84it/s]\n"
     ]
    },
    {
     "name": "stdout",
     "output_type": "stream",
     "text": [
      "Data Shapes : \n",
      "(5427, 56) (5427, 56) (5427,)\n"
     ]
    }
   ],
   "source": [
    "MODEL_NAME = 'bhadresh-savani/electra-base-emotion'\n",
    "EPOCHS = 5\n",
    "MAX_LENGTH = 56\n",
    "NUM_LABELS = 7\n",
    "\n",
    "tokenizer = AutoTokenizer.from_pretrained(MODEL_NAME)\n",
    "\n",
    "print('Start Create Train Data')\n",
    "# Create Train Data\n",
    "train_ids , train_attention_mask ,train_labels = create_data(X_train.values,\n",
    "                                                         y_train.values ,\n",
    "                                                         tokenizer\n",
    "                                                         ,MAX_LENGTH)\n",
    "print('Start Create Val Data')\n",
    "# Create Test Data\n",
    "val_ids , val_attention_mask ,val_labels = create_data(X_val.values,\n",
    "                                                      y_val.values,\n",
    "                                                      tokenizer ,\n",
    "                                                      MAX_LENGTH\n",
    "                                                         )\n",
    "print('Start Create Test Data')\n",
    "# Create Test Data\n",
    "test_ids , test_attention_mask ,test_labels = create_data(X_test.values,\n",
    "                                                      y_test.values,\n",
    "                                                      tokenizer ,\n",
    "                                                      MAX_LENGTH\n",
    "                                                         )"
   ]
  },
  {
   "cell_type": "code",
   "execution_count": 67,
   "id": "46bd0210",
   "metadata": {},
   "outputs": [],
   "source": [
    "def train_custom_label_model(model_name,num_labels,MAX_LENGTH,Num_epochs):\n",
    "    \n",
    "    gc.collect()\n",
    "    \n",
    "    my_model = TFAutoModelForSequenceClassification.from_pretrained(model_name,\n",
    "                                                                    ignore_mismatched_sizes=True\n",
    "                                                                   ,num_labels=num_labels\n",
    "                                                                   )\n",
    "    \n",
    "    print('FINISH DOWNLOAD MODEL')\n",
    "#     run_opts = tf.compat.v1.RunOptions(report_tensor_allocations_upon_oom = True)\n",
    "    my_model.compile(\n",
    "        optimizer=tf.keras.optimizers.Adam(learning_rate=learning_rate),\n",
    "        loss=tf.keras.losses.SparseCategoricalCrossentropy(from_logits=True),\n",
    "        metrics=tf.metrics.SparseCategoricalAccuracy(),\n",
    "#         options = run_opts\n",
    "        )\n",
    "\n",
    "    #train , test = train_test_split(df,test_size=.3,random_state=42)\n",
    "\n",
    "\n",
    "    tokenizer = AutoTokenizer.from_pretrained(model_name)\n",
    "    \n",
    "    print('FINSH DOWNLOAD TOKENIZER')\n",
    "    \n",
    "       \n",
    "    # Use GPU\n",
    "    tf.debugging.set_log_device_placement(True)\n",
    "\n",
    "       \n",
    "    # Model Checkpoint\n",
    "    checkpoint_filepath = './'\n",
    "    model_checkpoint_callback = tf.keras.callbacks.ModelCheckpoint(\n",
    "        filepath=checkpoint_filepath,\n",
    "        save_weights_only=True,\n",
    "        monitor='val_sparse_categorical_crossentropy',\n",
    "        mode='max',\n",
    "        save_best_only=True,\n",
    "    )\n",
    "    \n",
    "    # Train Model\n",
    "    my_model.fit([train_ids, train_attention_mask],\n",
    "                 train_labels,\n",
    "              validation_split=.3,\n",
    "              epochs=Num_epochs,\n",
    "              verbose=1,\n",
    "              callbacks=[model_checkpoint_callback]\n",
    "              )\n",
    "    \n",
    "    gc.collect()\n",
    "    \n",
    "    return my_model"
   ]
  },
  {
   "cell_type": "code",
   "execution_count": 68,
   "id": "e74b34a1",
   "metadata": {},
   "outputs": [
    {
     "name": "stdout",
     "output_type": "stream",
     "text": [
      "FINISH DOWNLOAD MODEL\n",
      "FINSH DOWNLOAD TOKENIZER\n",
      "Epoch 1/5\n",
      "950/950 [==============================] - 81s 76ms/step - loss: 1.2357 - sparse_categorical_accuracy: 0.5895 - val_loss: 1.0120 - val_sparse_categorical_accuracy: 0.6305\n",
      "Epoch 2/5\n",
      "950/950 [==============================] - 71s 75ms/step - loss: 0.9305 - sparse_categorical_accuracy: 0.6631 - val_loss: 0.9445 - val_sparse_categorical_accuracy: 0.6531\n",
      "Epoch 3/5\n",
      "950/950 [==============================] - 71s 75ms/step - loss: 0.8252 - sparse_categorical_accuracy: 0.7024 - val_loss: 0.9195 - val_sparse_categorical_accuracy: 0.6664\n",
      "Epoch 4/5\n",
      "950/950 [==============================] - 72s 76ms/step - loss: 0.7292 - sparse_categorical_accuracy: 0.7371 - val_loss: 0.9712 - val_sparse_categorical_accuracy: 0.6480\n",
      "Epoch 5/5\n",
      "950/950 [==============================] - 70s 74ms/step - loss: 0.6425 - sparse_categorical_accuracy: 0.7705 - val_loss: 0.9872 - val_sparse_categorical_accuracy: 0.6549\n"
     ]
    }
   ],
   "source": [
    "MODEL_NAME = 'bhadresh-savani/electra-base-emotion'\n",
    "EPOCHS = 5\n",
    "MAX_LENGTH = 56\n",
    "NUM_LABELS = 7\n",
    "learning_rate = 3e-5\n",
    "electra_model = train_custom_label_model(MODEL_NAME,NUM_LABELS,MAX_LENGTH,EPOCHS)"
   ]
  },
  {
   "cell_type": "code",
   "execution_count": 69,
   "id": "02aa39f3",
   "metadata": {},
   "outputs": [
    {
     "name": "stdout",
     "output_type": "stream",
     "text": [
      "accuracy score: 0.7883\n",
      "[[ 2912   110    27   241   240   178   809]\n",
      " [  191   333    41    14    61    17    37]\n",
      " [    9    30   494    15    51    12    31]\n",
      " [  122    25    39 14085   210   346   866]\n",
      " [  160    50    38   100  2344    60   186]\n",
      " [  102     9    42   423    77  3512   542]\n",
      " [  626    28    56  1472   291  1204 10542]]\n"
     ]
    }
   ],
   "source": [
    "# train predictions\n",
    "y_pred_train_electra = electra_model.predict([train_ids,train_attention_mask])\n",
    "y_pred_train_electra = tf.argmax(y_pred_train_electra.logits,axis=1)\n",
    "print('accuracy score: {:.4f}'.format(accuracy_score(y_train,y_pred_train_electra)))\n",
    "print(confusion_matrix(y_train,y_pred_train_electra))"
   ]
  },
  {
   "cell_type": "code",
   "execution_count": 70,
   "id": "c1093266",
   "metadata": {},
   "outputs": [
    {
     "name": "stdout",
     "output_type": "stream",
     "text": [
      "              precision    recall  f1-score   support\n",
      "\n",
      "       anger       0.71      0.64      0.67      4517\n",
      "     disgust       0.57      0.48      0.52       694\n",
      "        fear       0.67      0.77      0.72       642\n",
      "         joy       0.86      0.90      0.88     15693\n",
      "     sadness       0.72      0.80      0.75      2938\n",
      "    surprise       0.66      0.75      0.70      4707\n",
      "     neutral       0.81      0.74      0.77     14219\n",
      "\n",
      "    accuracy                           0.79     43410\n",
      "   macro avg       0.71      0.73      0.72     43410\n",
      "weighted avg       0.79      0.79      0.79     43410\n",
      "\n"
     ]
    }
   ],
   "source": [
    "print(classification_report(y_train, y_pred_train_electra, target_names=class_label_names) )"
   ]
  },
  {
   "cell_type": "code",
   "execution_count": 71,
   "id": "40b2eae9",
   "metadata": {},
   "outputs": [
    {
     "name": "stdout",
     "output_type": "stream",
     "text": [
      "accuracy score: 0.6632\n",
      "[[ 255   15    5   56   29   37  198]\n",
      " [  32   48    6    5    5    4   12]\n",
      " [   2    4   62    5    4    5    5]\n",
      " [  28    3    5 1573   43   56  207]\n",
      " [  27    6    6   20  216   16   50]\n",
      " [  21    2    9   81   18  349  110]\n",
      " [ 108   16    7  306   66  188 1096]]\n"
     ]
    }
   ],
   "source": [
    "# test predictions\n",
    "y_pred_test_electra = electra_model.predict([test_ids,test_attention_mask])\n",
    "\n",
    "y_pred_test_electra = tf.argmax(y_pred_test_electra.logits,axis=1)\n",
    "print('accuracy score: {:.4f}'.format(accuracy_score(y_test,y_pred_test_electra)))\n",
    "print(confusion_matrix(y_test,y_pred_test_electra))"
   ]
  },
  {
   "cell_type": "code",
   "execution_count": 72,
   "id": "4579aa05",
   "metadata": {},
   "outputs": [
    {
     "name": "stdout",
     "output_type": "stream",
     "text": [
      "              precision    recall  f1-score   support\n",
      "\n",
      "       anger       0.54      0.43      0.48       595\n",
      "     disgust       0.51      0.43      0.47       112\n",
      "        fear       0.62      0.71      0.66        87\n",
      "         joy       0.77      0.82      0.79      1915\n",
      "     sadness       0.57      0.63      0.60       341\n",
      "    surprise       0.53      0.59      0.56       590\n",
      "     neutral       0.65      0.61      0.63      1787\n",
      "\n",
      "    accuracy                           0.66      5427\n",
      "   macro avg       0.60      0.60      0.60      5427\n",
      "weighted avg       0.66      0.66      0.66      5427\n",
      "\n"
     ]
    }
   ],
   "source": [
    "from sklearn.metrics import classification_report\n",
    "print(classification_report(y_test, y_pred_test_electra, target_names=class_label_names) )"
   ]
  },
  {
   "cell_type": "code",
   "execution_count": 73,
   "id": "58477629",
   "metadata": {
    "scrolled": false
   },
   "outputs": [
    {
     "name": "stdout",
     "output_type": "stream",
     "text": [
      "[[ 274   17    1   47   22   32  189]\n",
      " [  23   35    4    7    1    3    8]\n",
      " [   0    4   57    5    5    3   15]\n",
      " [  32    4    5 1661   43   56  196]\n",
      " [  24    6    7   26  224    8   57]\n",
      " [  26    0    5   81   24  306  117]\n",
      " [ 133    4   12  287   56  169 1105]]\n",
      "              precision    recall  f1-score   support\n",
      "\n",
      "       anger       0.54      0.47      0.50       582\n",
      "     disgust       0.50      0.43      0.46        81\n",
      "        fear       0.63      0.64      0.63        89\n",
      "         joy       0.79      0.83      0.81      1997\n",
      "     sadness       0.60      0.64      0.62       352\n",
      "    surprise       0.53      0.55      0.54       559\n",
      "     neutral       0.66      0.63      0.64      1766\n",
      "\n",
      "    accuracy                           0.67      5426\n",
      "   macro avg       0.60      0.60      0.60      5426\n",
      "weighted avg       0.67      0.67      0.67      5426\n",
      "\n"
     ]
    }
   ],
   "source": [
    "# val predictions\n",
    "y_pred_val_electra = electra_model.predict([val_ids,val_attention_mask])\n",
    "y_pred_val_electra = tf.argmax(y_pred_val_electra.logits,axis=1)\n",
    "print(confusion_matrix(y_val,y_pred_val_electra))\n",
    "print(classification_report(y_val, y_pred_val_electra, target_names=class_label_names) )"
   ]
  },
  {
   "cell_type": "code",
   "execution_count": 74,
   "id": "bd28af55",
   "metadata": {},
   "outputs": [],
   "source": [
    "## Saving model\n",
    "electra_model.save_pretrained('electra-emotion-predictor-ekman-5')"
   ]
  },
  {
   "cell_type": "code",
   "execution_count": 75,
   "id": "9fbd5584",
   "metadata": {},
   "outputs": [],
   "source": [
    "electra_model1 = TFAutoModelForSequenceClassification.from_pretrained('electra-emotion-predictor-ekman-5')"
   ]
  },
  {
   "cell_type": "markdown",
   "id": "0a0c3f51",
   "metadata": {},
   "source": [
    "### Model 6"
   ]
  },
  {
   "cell_type": "code",
   "execution_count": 76,
   "id": "fa047074",
   "metadata": {},
   "outputs": [],
   "source": [
    "def create_data(text,labels,tokenizer,max_length):\n",
    "\n",
    "    # Empty Arrays\n",
    "    input_ids = []\n",
    "    attention_mask = []\n",
    "    \n",
    "    # Loop Through List and Create input ids & attention mask\n",
    "    for i in tqdm.tqdm(text,total=len(text)):\n",
    "        x = tokenizer.encode_plus(str(i),\n",
    "                              return_attention_mask=True,\n",
    "                              padding='max_length',\n",
    "                              truncation=True,\n",
    "                              max_length=max_length,\n",
    "                              add_special_tokens=True,\n",
    "                              )\n",
    "        input_ids.append(x['input_ids'])\n",
    "        attention_mask.append(x['attention_mask'])\n",
    "        \n",
    "    print('Data Shapes : ')\n",
    "    print(np.array(input_ids).shape,np.array(attention_mask).shape,labels.shape )\n",
    "    \n",
    "    return  np.array(input_ids) , np.array(attention_mask) , np.array(labels).reshape(-1,1)"
   ]
  },
  {
   "cell_type": "markdown",
   "id": "399e13c3",
   "metadata": {},
   "source": [
    "X_train.values, y_train, X_test, y_test, X_val, y_val"
   ]
  },
  {
   "cell_type": "code",
   "execution_count": 77,
   "id": "d0771e0f",
   "metadata": {},
   "outputs": [
    {
     "data": {
      "text/plain": [
       "array(['my favourite food is anything i did not have to cook myself',\n",
       "       'now if he does off himself everyone will think hes having a laugh screwing with people instead of actually dead',\n",
       "       'why the fuck is bayless isoing', ...,\n",
       "       'what are you talking about ? anything bad that happened was name fault only good things were name doing !',\n",
       "       'more like a baptism with sexy results !', 'enjoy the ride !'],\n",
       "      dtype=object)"
      ]
     },
     "execution_count": 77,
     "metadata": {},
     "output_type": "execute_result"
    }
   ],
   "source": [
    "X_train.values"
   ]
  },
  {
   "cell_type": "code",
   "execution_count": 78,
   "id": "91ca30ab",
   "metadata": {},
   "outputs": [
    {
     "name": "stdout",
     "output_type": "stream",
     "text": [
      "Start Create Train Data\n"
     ]
    },
    {
     "name": "stderr",
     "output_type": "stream",
     "text": [
      "100%|█████████████████████████████████████████████████████████████████████████| 43410/43410 [00:03<00:00, 12084.08it/s]\n"
     ]
    },
    {
     "name": "stdout",
     "output_type": "stream",
     "text": [
      "Data Shapes : \n",
      "(43410, 56) (43410, 56) (43410,)\n",
      "Start Create Val Data\n"
     ]
    },
    {
     "name": "stderr",
     "output_type": "stream",
     "text": [
      "100%|███████████████████████████████████████████████████████████████████████████| 5426/5426 [00:00<00:00, 11795.44it/s]\n"
     ]
    },
    {
     "name": "stdout",
     "output_type": "stream",
     "text": [
      "Data Shapes : \n",
      "(5426, 56) (5426, 56) (5426,)\n",
      "Start Create Test Data\n"
     ]
    },
    {
     "name": "stderr",
     "output_type": "stream",
     "text": [
      "100%|███████████████████████████████████████████████████████████████████████████| 5427/5427 [00:00<00:00, 11873.74it/s]"
     ]
    },
    {
     "name": "stdout",
     "output_type": "stream",
     "text": [
      "Data Shapes : \n",
      "(5427, 56) (5427, 56) (5427,)\n"
     ]
    },
    {
     "name": "stderr",
     "output_type": "stream",
     "text": [
      "\n"
     ]
    }
   ],
   "source": [
    "MODEL_NAME = 'bhadresh-savani/electra-base-emotion'\n",
    "EPOCHS = 6\n",
    "MAX_LENGTH = 56\n",
    "NUM_LABELS = 7\n",
    "\n",
    "tokenizer = AutoTokenizer.from_pretrained(MODEL_NAME)\n",
    "\n",
    "print('Start Create Train Data')\n",
    "# Create Train Data\n",
    "train_ids , train_attention_mask ,train_labels = create_data(X_train.values,\n",
    "                                                         y_train.values ,\n",
    "                                                         tokenizer\n",
    "                                                         ,MAX_LENGTH)\n",
    "print('Start Create Val Data')\n",
    "# Create Test Data\n",
    "val_ids , val_attention_mask ,val_labels = create_data(X_val.values,\n",
    "                                                      y_val.values,\n",
    "                                                      tokenizer ,\n",
    "                                                      MAX_LENGTH\n",
    "                                                         )\n",
    "print('Start Create Test Data')\n",
    "# Create Test Data\n",
    "test_ids , test_attention_mask ,test_labels = create_data(X_test.values,\n",
    "                                                      y_test.values,\n",
    "                                                      tokenizer ,\n",
    "                                                      MAX_LENGTH\n",
    "                                                         )"
   ]
  },
  {
   "cell_type": "code",
   "execution_count": 79,
   "id": "2afd29f7",
   "metadata": {},
   "outputs": [],
   "source": [
    "def train_custom_label_model(model_name,num_labels,MAX_LENGTH,Num_epochs):\n",
    "    \n",
    "    gc.collect()\n",
    "    \n",
    "    my_model = TFAutoModelForSequenceClassification.from_pretrained(model_name,\n",
    "                                                                    ignore_mismatched_sizes=True\n",
    "                                                                   ,num_labels=num_labels\n",
    "                                                                   )\n",
    "    \n",
    "    print('FINISH DOWNLOAD MODEL')\n",
    "#     run_opts = tf.compat.v1.RunOptions(report_tensor_allocations_upon_oom = True)\n",
    "    my_model.compile(\n",
    "        optimizer=tf.keras.optimizers.Adam(learning_rate=learning_rate),\n",
    "        loss=tf.keras.losses.SparseCategoricalCrossentropy(from_logits=True),\n",
    "        metrics=tf.metrics.SparseCategoricalAccuracy(),\n",
    "#         options = run_opts\n",
    "        )\n",
    "\n",
    "    #train , test = train_test_split(df,test_size=.3,random_state=42)\n",
    "\n",
    "\n",
    "    tokenizer = AutoTokenizer.from_pretrained(model_name)\n",
    "    \n",
    "    print('FINSH DOWNLOAD TOKENIZER')\n",
    "    \n",
    "       \n",
    "    # Use GPU\n",
    "    tf.debugging.set_log_device_placement(True)\n",
    "\n",
    "       \n",
    "    # Model Checkpoint\n",
    "    checkpoint_filepath = './'\n",
    "    model_checkpoint_callback = tf.keras.callbacks.ModelCheckpoint(\n",
    "        filepath=checkpoint_filepath,\n",
    "        save_weights_only=True,\n",
    "        monitor='val_sparse_categorical_crossentropy',\n",
    "        mode='max',\n",
    "        save_best_only=True,\n",
    "    )\n",
    "    \n",
    "    # Train Model\n",
    "    my_model.fit([train_ids, train_attention_mask],\n",
    "                 train_labels,\n",
    "              validation_split=.3,\n",
    "              epochs=Num_epochs,\n",
    "              verbose=1,\n",
    "              callbacks=[model_checkpoint_callback]\n",
    "              )\n",
    "    \n",
    "    gc.collect()\n",
    "    \n",
    "    return my_model"
   ]
  },
  {
   "cell_type": "code",
   "execution_count": 80,
   "id": "b66ebdb0",
   "metadata": {},
   "outputs": [
    {
     "name": "stdout",
     "output_type": "stream",
     "text": [
      "FINISH DOWNLOAD MODEL\n",
      "FINSH DOWNLOAD TOKENIZER\n",
      "Epoch 1/6\n",
      "950/950 [==============================] - 81s 76ms/step - loss: 1.1969 - sparse_categorical_accuracy: 0.5833 - val_loss: 0.9788 - val_sparse_categorical_accuracy: 0.6420\n",
      "Epoch 2/6\n",
      "950/950 [==============================] - 72s 76ms/step - loss: 0.9167 - sparse_categorical_accuracy: 0.6699 - val_loss: 0.9181 - val_sparse_categorical_accuracy: 0.6630\n",
      "Epoch 3/6\n",
      "950/950 [==============================] - 72s 76ms/step - loss: 0.8064 - sparse_categorical_accuracy: 0.7078 - val_loss: 0.9183 - val_sparse_categorical_accuracy: 0.6566\n",
      "Epoch 4/6\n",
      "950/950 [==============================] - 72s 75ms/step - loss: 0.7157 - sparse_categorical_accuracy: 0.7438 - val_loss: 0.9465 - val_sparse_categorical_accuracy: 0.6553\n",
      "Epoch 5/6\n",
      "950/950 [==============================] - 72s 76ms/step - loss: 0.6292 - sparse_categorical_accuracy: 0.7782 - val_loss: 0.9942 - val_sparse_categorical_accuracy: 0.6560\n",
      "Epoch 6/6\n",
      "950/950 [==============================] - 72s 76ms/step - loss: 0.5405 - sparse_categorical_accuracy: 0.8146 - val_loss: 1.1035 - val_sparse_categorical_accuracy: 0.6383\n"
     ]
    }
   ],
   "source": [
    "MODEL_NAME = 'bhadresh-savani/electra-base-emotion'\n",
    "EPOCHS = 6\n",
    "MAX_LENGTH = 56\n",
    "NUM_LABELS = 7\n",
    "learning_rate = 3e-5\n",
    "electra_model = train_custom_label_model(MODEL_NAME,NUM_LABELS,MAX_LENGTH,EPOCHS)"
   ]
  },
  {
   "cell_type": "code",
   "execution_count": 81,
   "id": "14b76c55",
   "metadata": {},
   "outputs": [
    {
     "name": "stdout",
     "output_type": "stream",
     "text": [
      "accuracy score: 0.8049\n",
      "[[ 3279   122    21   348   144   139   464]\n",
      " [  159   389    37    30    36    17    26]\n",
      " [    9    14   544    22    15    20    18]\n",
      " [  119    17    36 14664    86   222   549]\n",
      " [  195    43    55   175  2267    66   137]\n",
      " [  104     5    43   488    49  3633   385]\n",
      " [  668    44    66  2057   192  1028 10164]]\n"
     ]
    }
   ],
   "source": [
    "# train predictions\n",
    "y_pred_train_electra = electra_model.predict([train_ids,train_attention_mask])\n",
    "y_pred_train_electra = tf.argmax(y_pred_train_electra.logits,axis=1)\n",
    "print('accuracy score: {:.4f}'.format(accuracy_score(y_train,y_pred_train_electra)))\n",
    "print(confusion_matrix(y_train,y_pred_train_electra))"
   ]
  },
  {
   "cell_type": "code",
   "execution_count": 82,
   "id": "37959594",
   "metadata": {},
   "outputs": [
    {
     "name": "stdout",
     "output_type": "stream",
     "text": [
      "              precision    recall  f1-score   support\n",
      "\n",
      "       anger       0.72      0.73      0.72      4517\n",
      "     disgust       0.61      0.56      0.59       694\n",
      "        fear       0.68      0.85      0.75       642\n",
      "         joy       0.82      0.93      0.88     15693\n",
      "     sadness       0.81      0.77      0.79      2938\n",
      "    surprise       0.71      0.77      0.74      4707\n",
      "     neutral       0.87      0.71      0.78     14219\n",
      "\n",
      "    accuracy                           0.80     43410\n",
      "   macro avg       0.75      0.76      0.75     43410\n",
      "weighted avg       0.81      0.80      0.80     43410\n",
      "\n"
     ]
    }
   ],
   "source": [
    "print(classification_report(y_train, y_pred_train_electra, target_names=class_label_names) )"
   ]
  },
  {
   "cell_type": "code",
   "execution_count": 83,
   "id": "21582c37",
   "metadata": {},
   "outputs": [
    {
     "name": "stdout",
     "output_type": "stream",
     "text": [
      "accuracy score: 0.6471\n",
      "[[ 267   16    3   88   26   35  160]\n",
      " [  26   49    4   12    8    6    7]\n",
      " [   1    4   68    5    2    3    4]\n",
      " [  28    4    8 1642   18   65  150]\n",
      " [  39    6    8   45  182   21   40]\n",
      " [  24    8    8  100   14  329  107]\n",
      " [ 146   13   18  404   50  181  975]]\n"
     ]
    }
   ],
   "source": [
    "# test predictions\n",
    "y_pred_test_electra = electra_model.predict([test_ids,test_attention_mask])\n",
    "\n",
    "y_pred_test_electra = tf.argmax(y_pred_test_electra.logits,axis=1)\n",
    "print('accuracy score: {:.4f}'.format(accuracy_score(y_test,y_pred_test_electra)))\n",
    "print(confusion_matrix(y_test,y_pred_test_electra))"
   ]
  },
  {
   "cell_type": "code",
   "execution_count": 84,
   "id": "fe53e844",
   "metadata": {},
   "outputs": [
    {
     "name": "stdout",
     "output_type": "stream",
     "text": [
      "              precision    recall  f1-score   support\n",
      "\n",
      "       anger       0.50      0.45      0.47       595\n",
      "     disgust       0.49      0.44      0.46       112\n",
      "        fear       0.58      0.78      0.67        87\n",
      "         joy       0.72      0.86      0.78      1915\n",
      "     sadness       0.61      0.53      0.57       341\n",
      "    surprise       0.51      0.56      0.53       590\n",
      "     neutral       0.68      0.55      0.60      1787\n",
      "\n",
      "    accuracy                           0.65      5427\n",
      "   macro avg       0.58      0.59      0.58      5427\n",
      "weighted avg       0.64      0.65      0.64      5427\n",
      "\n"
     ]
    }
   ],
   "source": [
    "from sklearn.metrics import classification_report\n",
    "print(classification_report(y_test, y_pred_test_electra, target_names=class_label_names) )"
   ]
  },
  {
   "cell_type": "code",
   "execution_count": 85,
   "id": "8a107ca7",
   "metadata": {
    "scrolled": false
   },
   "outputs": [
    {
     "name": "stdout",
     "output_type": "stream",
     "text": [
      "[[ 289   27    3   70   18   29  146]\n",
      " [  17   31    4   19    2    2    6]\n",
      " [   1    3   62    9    3    5    6]\n",
      " [  30    5   11 1716   24   56  155]\n",
      " [  23    8    7   47  205   15   47]\n",
      " [  30    2    9  109   16  299   94]\n",
      " [ 170    7   13  408   42  165  961]]\n",
      "              precision    recall  f1-score   support\n",
      "\n",
      "       anger       0.52      0.50      0.51       582\n",
      "     disgust       0.37      0.38      0.38        81\n",
      "        fear       0.57      0.70      0.63        89\n",
      "         joy       0.72      0.86      0.78      1997\n",
      "     sadness       0.66      0.58      0.62       352\n",
      "    surprise       0.52      0.53      0.53       559\n",
      "     neutral       0.68      0.54      0.60      1766\n",
      "\n",
      "    accuracy                           0.66      5426\n",
      "   macro avg       0.58      0.59      0.58      5426\n",
      "weighted avg       0.65      0.66      0.65      5426\n",
      "\n"
     ]
    }
   ],
   "source": [
    "# val predictions\n",
    "y_pred_val_electra = electra_model.predict([val_ids,val_attention_mask])\n",
    "y_pred_val_electra = tf.argmax(y_pred_val_electra.logits,axis=1)\n",
    "print(confusion_matrix(y_val,y_pred_val_electra))\n",
    "print(classification_report(y_val, y_pred_val_electra, target_names=class_label_names) )"
   ]
  },
  {
   "cell_type": "code",
   "execution_count": 86,
   "id": "1ea1a011",
   "metadata": {},
   "outputs": [],
   "source": [
    "## Saving model\n",
    "electra_model.save_pretrained('electra-emotion-predictor-ekman-6')"
   ]
  },
  {
   "cell_type": "code",
   "execution_count": 87,
   "id": "961479f8",
   "metadata": {},
   "outputs": [],
   "source": [
    "electra_model1 = TFAutoModelForSequenceClassification.from_pretrained('electra-emotion-predictor-ekman-6')"
   ]
  },
  {
   "cell_type": "markdown",
   "id": "9a61290f",
   "metadata": {},
   "source": [
    "### Model 7"
   ]
  },
  {
   "cell_type": "code",
   "execution_count": 88,
   "id": "795924da",
   "metadata": {},
   "outputs": [],
   "source": [
    "def create_data(text,labels,tokenizer,max_length):\n",
    "\n",
    "    # Empty Arrays\n",
    "    input_ids = []\n",
    "    attention_mask = []\n",
    "    \n",
    "    # Loop Through List and Create input ids & attention mask\n",
    "    for i in tqdm.tqdm(text,total=len(text)):\n",
    "        x = tokenizer.encode_plus(str(i),\n",
    "                              return_attention_mask=True,\n",
    "                              padding='max_length',\n",
    "                              truncation=True,\n",
    "                              max_length=max_length,\n",
    "                              add_special_tokens=True,\n",
    "                              )\n",
    "        input_ids.append(x['input_ids'])\n",
    "        attention_mask.append(x['attention_mask'])\n",
    "        \n",
    "    print('Data Shapes : ')\n",
    "    print(np.array(input_ids).shape,np.array(attention_mask).shape,labels.shape )\n",
    "    \n",
    "    return  np.array(input_ids) , np.array(attention_mask) , np.array(labels).reshape(-1,1)"
   ]
  },
  {
   "cell_type": "markdown",
   "id": "840b6b5f",
   "metadata": {},
   "source": [
    "X_train.values, y_train, X_test, y_test, X_val, y_val"
   ]
  },
  {
   "cell_type": "code",
   "execution_count": 89,
   "id": "28ecbbbd",
   "metadata": {},
   "outputs": [
    {
     "data": {
      "text/plain": [
       "array(['my favourite food is anything i did not have to cook myself',\n",
       "       'now if he does off himself everyone will think hes having a laugh screwing with people instead of actually dead',\n",
       "       'why the fuck is bayless isoing', ...,\n",
       "       'what are you talking about ? anything bad that happened was name fault only good things were name doing !',\n",
       "       'more like a baptism with sexy results !', 'enjoy the ride !'],\n",
       "      dtype=object)"
      ]
     },
     "execution_count": 89,
     "metadata": {},
     "output_type": "execute_result"
    }
   ],
   "source": [
    "X_train.values"
   ]
  },
  {
   "cell_type": "code",
   "execution_count": 90,
   "id": "d7afabc9",
   "metadata": {},
   "outputs": [
    {
     "name": "stdout",
     "output_type": "stream",
     "text": [
      "Start Create Train Data\n"
     ]
    },
    {
     "name": "stderr",
     "output_type": "stream",
     "text": [
      "100%|█████████████████████████████████████████████████████████████████████████| 43410/43410 [00:03<00:00, 11719.33it/s]\n"
     ]
    },
    {
     "name": "stdout",
     "output_type": "stream",
     "text": [
      "Data Shapes : \n",
      "(43410, 56) (43410, 56) (43410,)\n",
      "Start Create Val Data\n"
     ]
    },
    {
     "name": "stderr",
     "output_type": "stream",
     "text": [
      "100%|███████████████████████████████████████████████████████████████████████████| 5426/5426 [00:00<00:00, 11875.47it/s]\n"
     ]
    },
    {
     "name": "stdout",
     "output_type": "stream",
     "text": [
      "Data Shapes : \n",
      "(5426, 56) (5426, 56) (5426,)\n",
      "Start Create Test Data\n"
     ]
    },
    {
     "name": "stderr",
     "output_type": "stream",
     "text": [
      "100%|███████████████████████████████████████████████████████████████████████████| 5427/5427 [00:00<00:00, 11747.76it/s]\n"
     ]
    },
    {
     "name": "stdout",
     "output_type": "stream",
     "text": [
      "Data Shapes : \n",
      "(5427, 56) (5427, 56) (5427,)\n"
     ]
    }
   ],
   "source": [
    "MODEL_NAME = 'bhadresh-savani/electra-base-emotion'\n",
    "EPOCHS = 7\n",
    "MAX_LENGTH = 56\n",
    "NUM_LABELS = 7\n",
    "\n",
    "tokenizer = AutoTokenizer.from_pretrained(MODEL_NAME)\n",
    "\n",
    "print('Start Create Train Data')\n",
    "# Create Train Data\n",
    "train_ids , train_attention_mask ,train_labels = create_data(X_train.values,\n",
    "                                                         y_train.values ,\n",
    "                                                         tokenizer\n",
    "                                                         ,MAX_LENGTH)\n",
    "print('Start Create Val Data')\n",
    "# Create Test Data\n",
    "val_ids , val_attention_mask ,val_labels = create_data(X_val.values,\n",
    "                                                      y_val.values,\n",
    "                                                      tokenizer ,\n",
    "                                                      MAX_LENGTH\n",
    "                                                         )\n",
    "print('Start Create Test Data')\n",
    "# Create Test Data\n",
    "test_ids , test_attention_mask ,test_labels = create_data(X_test.values,\n",
    "                                                      y_test.values,\n",
    "                                                      tokenizer ,\n",
    "                                                      MAX_LENGTH\n",
    "                                                         )"
   ]
  },
  {
   "cell_type": "code",
   "execution_count": 91,
   "id": "c5ed41f2",
   "metadata": {},
   "outputs": [],
   "source": [
    "def train_custom_label_model(model_name,num_labels,MAX_LENGTH,Num_epochs):\n",
    "    \n",
    "    gc.collect()\n",
    "    \n",
    "    my_model = TFAutoModelForSequenceClassification.from_pretrained(model_name,\n",
    "                                                                    ignore_mismatched_sizes=True\n",
    "                                                                   ,num_labels=num_labels\n",
    "                                                                   )\n",
    "    \n",
    "    print('FINISH DOWNLOAD MODEL')\n",
    "#     run_opts = tf.compat.v1.RunOptions(report_tensor_allocations_upon_oom = True)\n",
    "    my_model.compile(\n",
    "        optimizer=tf.keras.optimizers.Adam(learning_rate=learning_rate),\n",
    "        loss=tf.keras.losses.SparseCategoricalCrossentropy(from_logits=True),\n",
    "        metrics=tf.metrics.SparseCategoricalAccuracy(),\n",
    "#         options = run_opts\n",
    "        )\n",
    "\n",
    "    #train , test = train_test_split(df,test_size=.3,random_state=42)\n",
    "\n",
    "\n",
    "    tokenizer = AutoTokenizer.from_pretrained(model_name)\n",
    "    \n",
    "    print('FINSH DOWNLOAD TOKENIZER')\n",
    "    \n",
    "       \n",
    "    # Use GPU\n",
    "    tf.debugging.set_log_device_placement(True)\n",
    "\n",
    "       \n",
    "    # Model Checkpoint\n",
    "    checkpoint_filepath = './'\n",
    "    model_checkpoint_callback = tf.keras.callbacks.ModelCheckpoint(\n",
    "        filepath=checkpoint_filepath,\n",
    "        save_weights_only=True,\n",
    "        monitor='val_sparse_categorical_crossentropy',\n",
    "        mode='max',\n",
    "        save_best_only=True,\n",
    "    )\n",
    "    \n",
    "    # Train Model\n",
    "    my_model.fit([train_ids, train_attention_mask],\n",
    "                 train_labels,\n",
    "              validation_split=.3,\n",
    "              epochs=Num_epochs,\n",
    "              verbose=1,\n",
    "              callbacks=[model_checkpoint_callback]\n",
    "              )\n",
    "    \n",
    "    gc.collect()\n",
    "    \n",
    "    return my_model"
   ]
  },
  {
   "cell_type": "code",
   "execution_count": 92,
   "id": "c2578fb7",
   "metadata": {},
   "outputs": [
    {
     "name": "stdout",
     "output_type": "stream",
     "text": [
      "FINISH DOWNLOAD MODEL\n",
      "FINSH DOWNLOAD TOKENIZER\n",
      "Epoch 1/7\n",
      "950/950 [==============================] - 81s 77ms/step - loss: 1.2152 - sparse_categorical_accuracy: 0.5812 - val_loss: 0.9853 - val_sparse_categorical_accuracy: 0.6523\n",
      "Epoch 2/7\n",
      "950/950 [==============================] - 73s 76ms/step - loss: 0.9141 - sparse_categorical_accuracy: 0.6724 - val_loss: 0.9254 - val_sparse_categorical_accuracy: 0.6596\n",
      "Epoch 3/7\n",
      "950/950 [==============================] - 72s 76ms/step - loss: 0.8116 - sparse_categorical_accuracy: 0.7062 - val_loss: 0.9189 - val_sparse_categorical_accuracy: 0.6651\n",
      "Epoch 4/7\n",
      "950/950 [==============================] - 72s 75ms/step - loss: 0.7230 - sparse_categorical_accuracy: 0.7390 - val_loss: 0.9438 - val_sparse_categorical_accuracy: 0.6529\n",
      "Epoch 5/7\n",
      "950/950 [==============================] - 72s 76ms/step - loss: 0.6393 - sparse_categorical_accuracy: 0.7715 - val_loss: 0.9793 - val_sparse_categorical_accuracy: 0.6539\n",
      "Epoch 6/7\n",
      "950/950 [==============================] - 72s 76ms/step - loss: 0.5538 - sparse_categorical_accuracy: 0.8053 - val_loss: 1.0537 - val_sparse_categorical_accuracy: 0.6474\n",
      "Epoch 7/7\n",
      "950/950 [==============================] - 72s 76ms/step - loss: 0.4748 - sparse_categorical_accuracy: 0.8368 - val_loss: 1.1102 - val_sparse_categorical_accuracy: 0.6438\n"
     ]
    }
   ],
   "source": [
    "MODEL_NAME = 'bhadresh-savani/electra-base-emotion'\n",
    "EPOCHS = 7\n",
    "MAX_LENGTH = 56\n",
    "NUM_LABELS = 7\n",
    "learning_rate = 3e-5\n",
    "electra_model = train_custom_label_model(MODEL_NAME,NUM_LABELS,MAX_LENGTH,EPOCHS)"
   ]
  },
  {
   "cell_type": "code",
   "execution_count": 93,
   "id": "b1b2b719",
   "metadata": {},
   "outputs": [
    {
     "name": "stdout",
     "output_type": "stream",
     "text": [
      "accuracy score: 0.8331\n",
      "[[ 3540    85    22   175   116   123   456]\n",
      " [  173   369    71    14    21    18    28]\n",
      " [   14    16   555    13     9    11    24]\n",
      " [  162    17    37 14247   128   273   829]\n",
      " [  179    28    34    81  2417    46   153]\n",
      " [  111     6    22   306    62  3302   898]\n",
      " [  715    21    58   996   203   489 11737]]\n"
     ]
    }
   ],
   "source": [
    "# train predictions\n",
    "y_pred_train_electra = electra_model.predict([train_ids,train_attention_mask])\n",
    "y_pred_train_electra = tf.argmax(y_pred_train_electra.logits,axis=1)\n",
    "print('accuracy score: {:.4f}'.format(accuracy_score(y_train,y_pred_train_electra)))\n",
    "print(confusion_matrix(y_train,y_pred_train_electra))"
   ]
  },
  {
   "cell_type": "code",
   "execution_count": 94,
   "id": "7fbe0a53",
   "metadata": {},
   "outputs": [
    {
     "name": "stdout",
     "output_type": "stream",
     "text": [
      "              precision    recall  f1-score   support\n",
      "\n",
      "       anger       0.72      0.78      0.75      4517\n",
      "     disgust       0.68      0.53      0.60       694\n",
      "        fear       0.69      0.86      0.77       642\n",
      "         joy       0.90      0.91      0.90     15693\n",
      "     sadness       0.82      0.82      0.82      2938\n",
      "    surprise       0.77      0.70      0.74      4707\n",
      "     neutral       0.83      0.83      0.83     14219\n",
      "\n",
      "    accuracy                           0.83     43410\n",
      "   macro avg       0.77      0.78      0.77     43410\n",
      "weighted avg       0.83      0.83      0.83     43410\n",
      "\n"
     ]
    }
   ],
   "source": [
    "print(classification_report(y_train, y_pred_train_electra, target_names=class_label_names) )"
   ]
  },
  {
   "cell_type": "code",
   "execution_count": 95,
   "id": "7f858b98",
   "metadata": {},
   "outputs": [
    {
     "name": "stdout",
     "output_type": "stream",
     "text": [
      "accuracy score: 0.6508\n",
      "[[ 291   15    4   59   24   27  175]\n",
      " [  35   40   12    6    6    7    6]\n",
      " [   3    5   60    7    2    4    6]\n",
      " [  41    2    8 1530   33   64  237]\n",
      " [  42    7    6   30  192   16   48]\n",
      " [  30    3    9   79   13  271  185]\n",
      " [ 166   18   12  281   51  111 1148]]\n"
     ]
    }
   ],
   "source": [
    "# test predictions\n",
    "y_pred_test_electra = electra_model.predict([test_ids,test_attention_mask])\n",
    "\n",
    "y_pred_test_electra = tf.argmax(y_pred_test_electra.logits,axis=1)\n",
    "print('accuracy score: {:.4f}'.format(accuracy_score(y_test,y_pred_test_electra)))\n",
    "print(confusion_matrix(y_test,y_pred_test_electra))"
   ]
  },
  {
   "cell_type": "code",
   "execution_count": 96,
   "id": "3e19be56",
   "metadata": {},
   "outputs": [
    {
     "name": "stdout",
     "output_type": "stream",
     "text": [
      "              precision    recall  f1-score   support\n",
      "\n",
      "       anger       0.48      0.49      0.48       595\n",
      "     disgust       0.44      0.36      0.40       112\n",
      "        fear       0.54      0.69      0.61        87\n",
      "         joy       0.77      0.80      0.78      1915\n",
      "     sadness       0.60      0.56      0.58       341\n",
      "    surprise       0.54      0.46      0.50       590\n",
      "     neutral       0.64      0.64      0.64      1787\n",
      "\n",
      "    accuracy                           0.65      5427\n",
      "   macro avg       0.57      0.57      0.57      5427\n",
      "weighted avg       0.65      0.65      0.65      5427\n",
      "\n"
     ]
    }
   ],
   "source": [
    "from sklearn.metrics import classification_report\n",
    "print(classification_report(y_test, y_pred_test_electra, target_names=class_label_names) )"
   ]
  },
  {
   "cell_type": "code",
   "execution_count": 97,
   "id": "61f47ace",
   "metadata": {
    "scrolled": false
   },
   "outputs": [
    {
     "name": "stdout",
     "output_type": "stream",
     "text": [
      "[[ 314   16    5   42   14   24  167]\n",
      " [  22   32    3    9    2    4    9]\n",
      " [   3    1   60    9    4    3    9]\n",
      " [  42    4    2 1609   41   47  252]\n",
      " [  31    9    4   38  203   15   52]\n",
      " [  40    3    4   82   20  237  173]\n",
      " [ 191    8   15  267   47   96 1142]]\n",
      "              precision    recall  f1-score   support\n",
      "\n",
      "       anger       0.49      0.54      0.51       582\n",
      "     disgust       0.44      0.40      0.42        81\n",
      "        fear       0.65      0.67      0.66        89\n",
      "         joy       0.78      0.81      0.79      1997\n",
      "     sadness       0.61      0.58      0.59       352\n",
      "    surprise       0.56      0.42      0.48       559\n",
      "     neutral       0.63      0.65      0.64      1766\n",
      "\n",
      "    accuracy                           0.66      5426\n",
      "   macro avg       0.59      0.58      0.59      5426\n",
      "weighted avg       0.66      0.66      0.66      5426\n",
      "\n"
     ]
    }
   ],
   "source": [
    "# val predictions\n",
    "y_pred_val_electra = electra_model.predict([val_ids,val_attention_mask])\n",
    "y_pred_val_electra = tf.argmax(y_pred_val_electra.logits,axis=1)\n",
    "print(confusion_matrix(y_val,y_pred_val_electra))\n",
    "print(classification_report(y_val, y_pred_val_electra, target_names=class_label_names) )"
   ]
  },
  {
   "cell_type": "code",
   "execution_count": 98,
   "id": "638ae9dc",
   "metadata": {},
   "outputs": [],
   "source": [
    "## Saving model\n",
    "electra_model.save_pretrained('electra-emotion-predictor-ekman-7')"
   ]
  },
  {
   "cell_type": "code",
   "execution_count": 99,
   "id": "0f597596",
   "metadata": {},
   "outputs": [],
   "source": [
    "electra_model1 = TFAutoModelForSequenceClassification.from_pretrained('electra-emotion-predictor-ekman-7')"
   ]
  },
  {
   "cell_type": "markdown",
   "id": "963f3769",
   "metadata": {},
   "source": [
    "### Model 8"
   ]
  },
  {
   "cell_type": "code",
   "execution_count": 100,
   "id": "903134fa",
   "metadata": {},
   "outputs": [],
   "source": [
    "def create_data(text,labels,tokenizer,max_length):\n",
    "\n",
    "    # Empty Arrays\n",
    "    input_ids = []\n",
    "    attention_mask = []\n",
    "    \n",
    "    # Loop Through List and Create input ids & attention mask\n",
    "    for i in tqdm.tqdm(text,total=len(text)):\n",
    "        x = tokenizer.encode_plus(str(i),\n",
    "                              return_attention_mask=True,\n",
    "                              padding='max_length',\n",
    "                              truncation=True,\n",
    "                              max_length=max_length,\n",
    "                              add_special_tokens=True,\n",
    "                              )\n",
    "        input_ids.append(x['input_ids'])\n",
    "        attention_mask.append(x['attention_mask'])\n",
    "        \n",
    "    print('Data Shapes : ')\n",
    "    print(np.array(input_ids).shape,np.array(attention_mask).shape,labels.shape )\n",
    "    \n",
    "    return  np.array(input_ids) , np.array(attention_mask) , np.array(labels).reshape(-1,1)"
   ]
  },
  {
   "cell_type": "markdown",
   "id": "b23df05f",
   "metadata": {},
   "source": [
    "X_train.values, y_train, X_test, y_test, X_val, y_val"
   ]
  },
  {
   "cell_type": "code",
   "execution_count": 101,
   "id": "874935fc",
   "metadata": {},
   "outputs": [
    {
     "data": {
      "text/plain": [
       "array(['my favourite food is anything i did not have to cook myself',\n",
       "       'now if he does off himself everyone will think hes having a laugh screwing with people instead of actually dead',\n",
       "       'why the fuck is bayless isoing', ...,\n",
       "       'what are you talking about ? anything bad that happened was name fault only good things were name doing !',\n",
       "       'more like a baptism with sexy results !', 'enjoy the ride !'],\n",
       "      dtype=object)"
      ]
     },
     "execution_count": 101,
     "metadata": {},
     "output_type": "execute_result"
    }
   ],
   "source": [
    "X_train.values"
   ]
  },
  {
   "cell_type": "code",
   "execution_count": 102,
   "id": "f219fcea",
   "metadata": {},
   "outputs": [
    {
     "name": "stdout",
     "output_type": "stream",
     "text": [
      "Start Create Train Data\n"
     ]
    },
    {
     "name": "stderr",
     "output_type": "stream",
     "text": [
      "100%|█████████████████████████████████████████████████████████████████████████| 43410/43410 [00:03<00:00, 11459.56it/s]\n"
     ]
    },
    {
     "name": "stdout",
     "output_type": "stream",
     "text": [
      "Data Shapes : \n",
      "(43410, 56) (43410, 56) (43410,)\n",
      "Start Create Val Data\n"
     ]
    },
    {
     "name": "stderr",
     "output_type": "stream",
     "text": [
      "100%|███████████████████████████████████████████████████████████████████████████| 5426/5426 [00:00<00:00, 11268.37it/s]\n"
     ]
    },
    {
     "name": "stdout",
     "output_type": "stream",
     "text": [
      "Data Shapes : \n",
      "(5426, 56) (5426, 56) (5426,)\n",
      "Start Create Test Data\n"
     ]
    },
    {
     "name": "stderr",
     "output_type": "stream",
     "text": [
      "100%|███████████████████████████████████████████████████████████████████████████| 5427/5427 [00:00<00:00, 11482.26it/s]\n"
     ]
    },
    {
     "name": "stdout",
     "output_type": "stream",
     "text": [
      "Data Shapes : \n",
      "(5427, 56) (5427, 56) (5427,)\n"
     ]
    }
   ],
   "source": [
    "MODEL_NAME = 'bhadresh-savani/electra-base-emotion'\n",
    "EPOCHS = 8\n",
    "MAX_LENGTH = 56\n",
    "NUM_LABELS = 7\n",
    "\n",
    "tokenizer = AutoTokenizer.from_pretrained(MODEL_NAME)\n",
    "\n",
    "print('Start Create Train Data')\n",
    "# Create Train Data\n",
    "train_ids , train_attention_mask ,train_labels = create_data(X_train.values,\n",
    "                                                         y_train.values ,\n",
    "                                                         tokenizer\n",
    "                                                         ,MAX_LENGTH)\n",
    "print('Start Create Val Data')\n",
    "# Create Test Data\n",
    "val_ids , val_attention_mask ,val_labels = create_data(X_val.values,\n",
    "                                                      y_val.values,\n",
    "                                                      tokenizer ,\n",
    "                                                      MAX_LENGTH\n",
    "                                                         )\n",
    "print('Start Create Test Data')\n",
    "# Create Test Data\n",
    "test_ids , test_attention_mask ,test_labels = create_data(X_test.values,\n",
    "                                                      y_test.values,\n",
    "                                                      tokenizer ,\n",
    "                                                      MAX_LENGTH\n",
    "                                                         )"
   ]
  },
  {
   "cell_type": "code",
   "execution_count": 103,
   "id": "441bab7a",
   "metadata": {},
   "outputs": [],
   "source": [
    "def train_custom_label_model(model_name,num_labels,MAX_LENGTH,Num_epochs):\n",
    "    \n",
    "    gc.collect()\n",
    "    \n",
    "    my_model = TFAutoModelForSequenceClassification.from_pretrained(model_name,\n",
    "                                                                    ignore_mismatched_sizes=True\n",
    "                                                                   ,num_labels=num_labels\n",
    "                                                                   )\n",
    "    \n",
    "    print('FINISH DOWNLOAD MODEL')\n",
    "#     run_opts = tf.compat.v1.RunOptions(report_tensor_allocations_upon_oom = True)\n",
    "    my_model.compile(\n",
    "        optimizer=tf.keras.optimizers.Adam(learning_rate=learning_rate),\n",
    "        loss=tf.keras.losses.SparseCategoricalCrossentropy(from_logits=True),\n",
    "        metrics=tf.metrics.SparseCategoricalAccuracy(),\n",
    "#         options = run_opts\n",
    "        )\n",
    "\n",
    "    #train , test = train_test_split(df,test_size=.3,random_state=42)\n",
    "\n",
    "\n",
    "    tokenizer = AutoTokenizer.from_pretrained(model_name)\n",
    "    \n",
    "    print('FINSH DOWNLOAD TOKENIZER')\n",
    "    \n",
    "       \n",
    "    # Use GPU\n",
    "    tf.debugging.set_log_device_placement(True)\n",
    "\n",
    "       \n",
    "    # Model Checkpoint\n",
    "    checkpoint_filepath = './'\n",
    "    model_checkpoint_callback = tf.keras.callbacks.ModelCheckpoint(\n",
    "        filepath=checkpoint_filepath,\n",
    "        save_weights_only=True,\n",
    "        monitor='val_sparse_categorical_crossentropy',\n",
    "        mode='max',\n",
    "        save_best_only=True,\n",
    "    )\n",
    "    \n",
    "    # Train Model\n",
    "    my_model.fit([train_ids, train_attention_mask],\n",
    "                 train_labels,\n",
    "              validation_split=.3,\n",
    "              epochs=Num_epochs,\n",
    "              verbose=1,\n",
    "              callbacks=[model_checkpoint_callback]\n",
    "              )\n",
    "    \n",
    "    gc.collect()\n",
    "    \n",
    "    return my_model"
   ]
  },
  {
   "cell_type": "code",
   "execution_count": 104,
   "id": "c8a61a02",
   "metadata": {},
   "outputs": [
    {
     "name": "stdout",
     "output_type": "stream",
     "text": [
      "FINISH DOWNLOAD MODEL\n",
      "FINSH DOWNLOAD TOKENIZER\n",
      "Epoch 1/8\n",
      "950/950 [==============================] - 81s 76ms/step - loss: 1.2059 - sparse_categorical_accuracy: 0.5928 - val_loss: 0.9837 - val_sparse_categorical_accuracy: 0.6414\n",
      "Epoch 2/8\n",
      "950/950 [==============================] - 71s 75ms/step - loss: 0.9220 - sparse_categorical_accuracy: 0.6661 - val_loss: 0.9426 - val_sparse_categorical_accuracy: 0.6543\n",
      "Epoch 3/8\n",
      "950/950 [==============================] - 71s 75ms/step - loss: 0.8155 - sparse_categorical_accuracy: 0.7049 - val_loss: 0.9309 - val_sparse_categorical_accuracy: 0.6559\n",
      "Epoch 4/8\n",
      "950/950 [==============================] - 72s 75ms/step - loss: 0.7279 - sparse_categorical_accuracy: 0.7393 - val_loss: 0.9475 - val_sparse_categorical_accuracy: 0.6566\n",
      "Epoch 5/8\n",
      "950/950 [==============================] - 71s 75ms/step - loss: 0.6369 - sparse_categorical_accuracy: 0.7751 - val_loss: 1.0214 - val_sparse_categorical_accuracy: 0.6503\n",
      "Epoch 6/8\n",
      "950/950 [==============================] - 72s 75ms/step - loss: 0.5527 - sparse_categorical_accuracy: 0.8085 - val_loss: 1.0489 - val_sparse_categorical_accuracy: 0.6433\n",
      "Epoch 7/8\n",
      "950/950 [==============================] - 71s 75ms/step - loss: 0.4677 - sparse_categorical_accuracy: 0.8411 - val_loss: 1.1399 - val_sparse_categorical_accuracy: 0.6395\n",
      "Epoch 8/8\n",
      "950/950 [==============================] - 71s 75ms/step - loss: 0.4040 - sparse_categorical_accuracy: 0.8628 - val_loss: 1.2333 - val_sparse_categorical_accuracy: 0.6331\n"
     ]
    }
   ],
   "source": [
    "MODEL_NAME = 'bhadresh-savani/electra-base-emotion'\n",
    "EPOCHS = 8\n",
    "MAX_LENGTH = 56\n",
    "NUM_LABELS = 7\n",
    "learning_rate = 3e-5\n",
    "electra_model = train_custom_label_model(MODEL_NAME,NUM_LABELS,MAX_LENGTH,EPOCHS)"
   ]
  },
  {
   "cell_type": "code",
   "execution_count": 105,
   "id": "99c663fb",
   "metadata": {},
   "outputs": [
    {
     "name": "stdout",
     "output_type": "stream",
     "text": [
      "accuracy score: 0.8418\n",
      "[[ 3535   149    25   193   138   127   350]\n",
      " [  119   458    34    18    40    10    15]\n",
      " [   11    11   568     9    17     9    17]\n",
      " [  148    23    45 14585   127   167   598]\n",
      " [  150    58    48   103  2424    53   102]\n",
      " [   81    15    62   394    65  3765   325]\n",
      " [  655    51    68  1094   237   906 11208]]\n"
     ]
    }
   ],
   "source": [
    "# train predictions\n",
    "y_pred_train_electra = electra_model.predict([train_ids,train_attention_mask])\n",
    "y_pred_train_electra = tf.argmax(y_pred_train_electra.logits,axis=1)\n",
    "print('accuracy score: {:.4f}'.format(accuracy_score(y_train,y_pred_train_electra)))\n",
    "print(confusion_matrix(y_train,y_pred_train_electra))"
   ]
  },
  {
   "cell_type": "code",
   "execution_count": 106,
   "id": "0656b37f",
   "metadata": {},
   "outputs": [
    {
     "name": "stdout",
     "output_type": "stream",
     "text": [
      "              precision    recall  f1-score   support\n",
      "\n",
      "       anger       0.75      0.78      0.77      4517\n",
      "     disgust       0.60      0.66      0.63       694\n",
      "        fear       0.67      0.88      0.76       642\n",
      "         joy       0.89      0.93      0.91     15693\n",
      "     sadness       0.80      0.83      0.81      2938\n",
      "    surprise       0.75      0.80      0.77      4707\n",
      "     neutral       0.89      0.79      0.84     14219\n",
      "\n",
      "    accuracy                           0.84     43410\n",
      "   macro avg       0.76      0.81      0.78     43410\n",
      "weighted avg       0.85      0.84      0.84     43410\n",
      "\n"
     ]
    }
   ],
   "source": [
    "print(classification_report(y_train, y_pred_train_electra, target_names=class_label_names) )"
   ]
  },
  {
   "cell_type": "code",
   "execution_count": 107,
   "id": "096e54fa",
   "metadata": {},
   "outputs": [
    {
     "name": "stdout",
     "output_type": "stream",
     "text": [
      "accuracy score: 0.6436\n",
      "[[ 288   25    7   63   41   27  144]\n",
      " [  26   51    6    6    8    7    8]\n",
      " [   2    3   63    5    6    5    3]\n",
      " [  42    5   12 1564   41   57  194]\n",
      " [  34    5   10   32  197   18   45]\n",
      " [  31    7    9   85   20  334  104]\n",
      " [ 167   22   17  320   76  189  996]]\n"
     ]
    }
   ],
   "source": [
    "# test predictions\n",
    "y_pred_test_electra = electra_model.predict([test_ids,test_attention_mask])\n",
    "\n",
    "y_pred_test_electra = tf.argmax(y_pred_test_electra.logits,axis=1)\n",
    "print('accuracy score: {:.4f}'.format(accuracy_score(y_test,y_pred_test_electra)))\n",
    "print(confusion_matrix(y_test,y_pred_test_electra))"
   ]
  },
  {
   "cell_type": "code",
   "execution_count": 108,
   "id": "6bd00800",
   "metadata": {},
   "outputs": [
    {
     "name": "stdout",
     "output_type": "stream",
     "text": [
      "              precision    recall  f1-score   support\n",
      "\n",
      "       anger       0.49      0.48      0.49       595\n",
      "     disgust       0.43      0.46      0.44       112\n",
      "        fear       0.51      0.72      0.60        87\n",
      "         joy       0.75      0.82      0.78      1915\n",
      "     sadness       0.51      0.58      0.54       341\n",
      "    surprise       0.52      0.57      0.54       590\n",
      "     neutral       0.67      0.56      0.61      1787\n",
      "\n",
      "    accuracy                           0.64      5427\n",
      "   macro avg       0.55      0.60      0.57      5427\n",
      "weighted avg       0.64      0.64      0.64      5427\n",
      "\n"
     ]
    }
   ],
   "source": [
    "from sklearn.metrics import classification_report\n",
    "print(classification_report(y_test, y_pred_test_electra, target_names=class_label_names) )"
   ]
  },
  {
   "cell_type": "code",
   "execution_count": 109,
   "id": "60f26307",
   "metadata": {
    "scrolled": false
   },
   "outputs": [
    {
     "name": "stdout",
     "output_type": "stream",
     "text": [
      "[[ 303   29    2   62   22   28  136]\n",
      " [  16   38    7    8    3    2    7]\n",
      " [   6    5   59    6    2    1   10]\n",
      " [  50    4    8 1633   39   57  206]\n",
      " [  24   10    8   43  218   10   39]\n",
      " [  33    4   10   94   22  294  102]\n",
      " [ 199   12   21  330   76  175  953]]\n",
      "              precision    recall  f1-score   support\n",
      "\n",
      "       anger       0.48      0.52      0.50       582\n",
      "     disgust       0.37      0.47      0.42        81\n",
      "        fear       0.51      0.66      0.58        89\n",
      "         joy       0.75      0.82      0.78      1997\n",
      "     sadness       0.57      0.62      0.59       352\n",
      "    surprise       0.52      0.53      0.52       559\n",
      "     neutral       0.66      0.54      0.59      1766\n",
      "\n",
      "    accuracy                           0.64      5426\n",
      "   macro avg       0.55      0.59      0.57      5426\n",
      "weighted avg       0.65      0.64      0.64      5426\n",
      "\n"
     ]
    }
   ],
   "source": [
    "# val predictions\n",
    "y_pred_val_electra = electra_model.predict([val_ids,val_attention_mask])\n",
    "y_pred_val_electra = tf.argmax(y_pred_val_electra.logits,axis=1)\n",
    "print(confusion_matrix(y_val,y_pred_val_electra))\n",
    "print(classification_report(y_val, y_pred_val_electra, target_names=class_label_names) )"
   ]
  },
  {
   "cell_type": "code",
   "execution_count": 110,
   "id": "d3d1de82",
   "metadata": {},
   "outputs": [],
   "source": [
    "## Saving model\n",
    "electra_model.save_pretrained('electra-emotion-predictor-ekman-8')"
   ]
  },
  {
   "cell_type": "code",
   "execution_count": 111,
   "id": "fc98e584",
   "metadata": {},
   "outputs": [],
   "source": [
    "electra_model1 = TFAutoModelForSequenceClassification.from_pretrained('electra-emotion-predictor-ekman-8')"
   ]
  },
  {
   "cell_type": "markdown",
   "id": "3b49fc15",
   "metadata": {},
   "source": [
    "### Model 1 - Ekman without neutral emotion"
   ]
  },
  {
   "cell_type": "code",
   "execution_count": 114,
   "id": "76b74fe9",
   "metadata": {},
   "outputs": [],
   "source": [
    "def create_data(text,labels,tokenizer,max_length):\n",
    "\n",
    "    # Empty Arrays\n",
    "    input_ids = []\n",
    "    attention_mask = []\n",
    "    \n",
    "    # Loop Through List and Create input ids & attention mask\n",
    "    for i in tqdm.tqdm(text,total=len(text)):\n",
    "        x = tokenizer.encode_plus(str(i),\n",
    "                              return_attention_mask=True,\n",
    "                              padding='max_length',\n",
    "                              truncation=True,\n",
    "                              max_length=max_length,\n",
    "                              add_special_tokens=True,\n",
    "                              )\n",
    "        input_ids.append(x['input_ids'])\n",
    "        attention_mask.append(x['attention_mask'])\n",
    "        \n",
    "    print('Data Shapes : ')\n",
    "    print(np.array(input_ids).shape,np.array(attention_mask).shape,labels.shape )\n",
    "    \n",
    "    return  np.array(input_ids) , np.array(attention_mask) , np.array(labels).reshape(-1,1)"
   ]
  },
  {
   "cell_type": "markdown",
   "id": "0a9fb161",
   "metadata": {},
   "source": [
    "X_train.values, y_train, X_test, y_test, X_val, y_val"
   ]
  },
  {
   "cell_type": "code",
   "execution_count": 115,
   "id": "c97e032e",
   "metadata": {},
   "outputs": [
    {
     "name": "stdout",
     "output_type": "stream",
     "text": [
      "Start Create Train Data\n"
     ]
    },
    {
     "name": "stderr",
     "output_type": "stream",
     "text": [
      "100%|█████████████████████████████████████████████████████████████████████████| 29191/29191 [00:02<00:00, 12047.77it/s]\n"
     ]
    },
    {
     "name": "stdout",
     "output_type": "stream",
     "text": [
      "Data Shapes : \n",
      "(29191, 56) (29191, 56) (29191,)\n",
      "Start Create Val Data\n"
     ]
    },
    {
     "name": "stderr",
     "output_type": "stream",
     "text": [
      "100%|███████████████████████████████████████████████████████████████████████████| 3660/3660 [00:00<00:00, 12269.22it/s]\n"
     ]
    },
    {
     "name": "stdout",
     "output_type": "stream",
     "text": [
      "Data Shapes : \n",
      "(3660, 56) (3660, 56) (3660,)\n",
      "Start Create Test Data\n"
     ]
    },
    {
     "name": "stderr",
     "output_type": "stream",
     "text": [
      "100%|███████████████████████████████████████████████████████████████████████████| 3640/3640 [00:00<00:00, 12036.36it/s]"
     ]
    },
    {
     "name": "stdout",
     "output_type": "stream",
     "text": [
      "Data Shapes : \n",
      "(3640, 56) (3640, 56) (3640,)\n"
     ]
    },
    {
     "name": "stderr",
     "output_type": "stream",
     "text": [
      "\n"
     ]
    }
   ],
   "source": [
    "MODEL_NAME = 'bhadresh-savani/electra-base-emotion'\n",
    "EPOCHS = 5\n",
    "MAX_LENGTH = 56\n",
    "NUM_LABELS = 6\n",
    "\n",
    "tokenizer = AutoTokenizer.from_pretrained(MODEL_NAME)\n",
    "\n",
    "print('Start Create Train Data')\n",
    "# Create Train Data\n",
    "train_ids , train_attention_mask ,train_labels = create_data(X_train_no_neu.values,\n",
    "                                                         y_train_no_neu.values ,\n",
    "                                                         tokenizer\n",
    "                                                         ,MAX_LENGTH)\n",
    "print('Start Create Val Data')\n",
    "# Create Test Data\n",
    "val_ids , val_attention_mask ,val_labels = create_data(X_val_no_neu.values,\n",
    "                                                      y_val_no_neu.values,\n",
    "                                                      tokenizer ,\n",
    "                                                      MAX_LENGTH\n",
    "                                                         )\n",
    "print('Start Create Test Data')\n",
    "# Create Test Data\n",
    "test_ids , test_attention_mask ,test_labels = create_data(X_test_no_neu.values,\n",
    "                                                      y_test_no_neu.values,\n",
    "                                                      tokenizer ,\n",
    "                                                      MAX_LENGTH\n",
    "                                                         )"
   ]
  },
  {
   "cell_type": "code",
   "execution_count": 116,
   "id": "a624c6e3",
   "metadata": {},
   "outputs": [],
   "source": [
    "def train_custom_label_model(model_name,num_labels,MAX_LENGTH,Num_epochs):\n",
    "    \n",
    "    gc.collect()\n",
    "    \n",
    "    my_model = TFAutoModelForSequenceClassification.from_pretrained(model_name,\n",
    "                                                                    ignore_mismatched_sizes=True\n",
    "                                                                   ,num_labels=num_labels\n",
    "                                                                   )\n",
    "    \n",
    "    print('FINISH DOWNLOAD MODEL')\n",
    "#     run_opts = tf.compat.v1.RunOptions(report_tensor_allocations_upon_oom = True)\n",
    "    my_model.compile(\n",
    "        optimizer=tf.keras.optimizers.Adam(learning_rate=learning_rate),\n",
    "        loss=tf.keras.losses.SparseCategoricalCrossentropy(from_logits=True),\n",
    "        metrics=tf.metrics.SparseCategoricalAccuracy(),\n",
    "#         options = run_opts\n",
    "        )\n",
    "\n",
    "    #train , test = train_test_split(df,test_size=.3,random_state=42)\n",
    "\n",
    "\n",
    "    tokenizer = AutoTokenizer.from_pretrained(model_name)\n",
    "    \n",
    "    print('FINSH DOWNLOAD TOKENIZER')\n",
    "    \n",
    "       \n",
    "    # Use GPU\n",
    "    tf.debugging.set_log_device_placement(True)\n",
    "\n",
    "       \n",
    "    # Model Checkpoint\n",
    "    checkpoint_filepath = './'\n",
    "    model_checkpoint_callback = tf.keras.callbacks.ModelCheckpoint(\n",
    "        filepath=checkpoint_filepath,\n",
    "        save_weights_only=True,\n",
    "        monitor='val_sparse_categorical_crossentropy',\n",
    "        mode='max',\n",
    "        save_best_only=True,\n",
    "    )\n",
    "    \n",
    "    # Train Model\n",
    "    my_model.fit([train_ids, train_attention_mask],\n",
    "                 train_labels,\n",
    "              validation_split=.3,\n",
    "              epochs=Num_epochs,\n",
    "              verbose=1,\n",
    "              callbacks=[model_checkpoint_callback]\n",
    "              )\n",
    "    \n",
    "    gc.collect()\n",
    "    \n",
    "    return my_model"
   ]
  },
  {
   "cell_type": "code",
   "execution_count": 117,
   "id": "b54c5e90",
   "metadata": {},
   "outputs": [
    {
     "name": "stdout",
     "output_type": "stream",
     "text": [
      "FINISH DOWNLOAD MODEL\n",
      "FINSH DOWNLOAD TOKENIZER\n",
      "Epoch 1/5\n",
      "639/639 [==============================] - 64s 86ms/step - loss: 0.9696 - sparse_categorical_accuracy: 0.6795 - val_loss: 0.7340 - val_sparse_categorical_accuracy: 0.7451\n",
      "Epoch 2/5\n",
      "639/639 [==============================] - 53s 84ms/step - loss: 0.6759 - sparse_categorical_accuracy: 0.7740 - val_loss: 0.6797 - val_sparse_categorical_accuracy: 0.7707\n",
      "Epoch 3/5\n",
      "639/639 [==============================] - 52s 81ms/step - loss: 0.5748 - sparse_categorical_accuracy: 0.8074 - val_loss: 0.6523 - val_sparse_categorical_accuracy: 0.7760\n",
      "Epoch 4/5\n",
      "639/639 [==============================] - 52s 81ms/step - loss: 0.4971 - sparse_categorical_accuracy: 0.8351 - val_loss: 0.6788 - val_sparse_categorical_accuracy: 0.7730\n",
      "Epoch 5/5\n",
      "639/639 [==============================] - 52s 81ms/step - loss: 0.4232 - sparse_categorical_accuracy: 0.8623 - val_loss: 0.7106 - val_sparse_categorical_accuracy: 0.7715\n"
     ]
    }
   ],
   "source": [
    "MODEL_NAME = 'bhadresh-savani/electra-base-emotion'\n",
    "EPOCHS = 5\n",
    "MAX_LENGTH = 56\n",
    "NUM_LABELS = 6\n",
    "learning_rate = 3e-5\n",
    "electra_model = train_custom_label_model(MODEL_NAME,NUM_LABELS,MAX_LENGTH,EPOCHS)"
   ]
  },
  {
   "cell_type": "code",
   "execution_count": 118,
   "id": "30bc32cb",
   "metadata": {},
   "outputs": [
    {
     "name": "stdout",
     "output_type": "stream",
     "text": [
      "accuracy score: 0.8740\n",
      "[[ 3758    75    13   410   103   158]\n",
      " [  232   369    17    42    24    10]\n",
      " [   24    29   507    27    18    37]\n",
      " [  282    22    23 14868   147   351]\n",
      " [  348    37    31   194  2233    95]\n",
      " [  250    11    25   565    78  3778]]\n"
     ]
    }
   ],
   "source": [
    "# train predictions\n",
    "y_pred_train_electra = electra_model.predict([train_ids,train_attention_mask])\n",
    "y_pred_train_electra = tf.argmax(y_pred_train_electra.logits,axis=1)\n",
    "print('accuracy score: {:.4f}'.format(accuracy_score(y_train_no_neu,y_pred_train_electra)))\n",
    "print(confusion_matrix(y_train_no_neu,y_pred_train_electra))"
   ]
  },
  {
   "cell_type": "code",
   "execution_count": 119,
   "id": "0b84878e",
   "metadata": {},
   "outputs": [
    {
     "name": "stdout",
     "output_type": "stream",
     "text": [
      "              precision    recall  f1-score   support\n",
      "\n",
      "       anger       0.77      0.83      0.80      4517\n",
      "     disgust       0.68      0.53      0.60       694\n",
      "        fear       0.82      0.79      0.81       642\n",
      "         joy       0.92      0.95      0.94     15693\n",
      "     sadness       0.86      0.76      0.81      2938\n",
      "    surprise       0.85      0.80      0.83      4707\n",
      "\n",
      "    accuracy                           0.87     29191\n",
      "   macro avg       0.82      0.78      0.79     29191\n",
      "weighted avg       0.87      0.87      0.87     29191\n",
      "\n"
     ]
    }
   ],
   "source": [
    "print(classification_report(y_train_no_neu, y_pred_train_electra, target_names=class_label_names_no_neu) )"
   ]
  },
  {
   "cell_type": "code",
   "execution_count": 120,
   "id": "8a3723a2",
   "metadata": {},
   "outputs": [
    {
     "name": "stdout",
     "output_type": "stream",
     "text": [
      "accuracy score: 0.7668\n",
      "[[ 401   15    3  108   24   44]\n",
      " [  45   46    1   11    2    7]\n",
      " [   7    6   55    7    4    8]\n",
      " [  76    3    7 1710   34   85]\n",
      " [  53    6    4   50  206   22]\n",
      " [  66    2    9  127   13  373]]\n"
     ]
    }
   ],
   "source": [
    "# test predictions\n",
    "y_pred_test_electra = electra_model.predict([test_ids,test_attention_mask])\n",
    "\n",
    "y_pred_test_electra = tf.argmax(y_pred_test_electra.logits,axis=1)\n",
    "print('accuracy score: {:.4f}'.format(accuracy_score(y_test_no_neu,y_pred_test_electra)))\n",
    "print(confusion_matrix(y_test_no_neu,y_pred_test_electra))"
   ]
  },
  {
   "cell_type": "code",
   "execution_count": 121,
   "id": "c5f56729",
   "metadata": {},
   "outputs": [
    {
     "name": "stdout",
     "output_type": "stream",
     "text": [
      "              precision    recall  f1-score   support\n",
      "\n",
      "       anger       0.62      0.67      0.65       595\n",
      "     disgust       0.59      0.41      0.48       112\n",
      "        fear       0.70      0.63      0.66        87\n",
      "         joy       0.85      0.89      0.87      1915\n",
      "     sadness       0.73      0.60      0.66       341\n",
      "    surprise       0.69      0.63      0.66       590\n",
      "\n",
      "    accuracy                           0.77      3640\n",
      "   macro avg       0.70      0.64      0.66      3640\n",
      "weighted avg       0.76      0.77      0.76      3640\n",
      "\n"
     ]
    }
   ],
   "source": [
    "from sklearn.metrics import classification_report\n",
    "print(classification_report(y_test_no_neu, y_pred_test_electra, target_names=class_label_names_no_neu) )"
   ]
  },
  {
   "cell_type": "code",
   "execution_count": 122,
   "id": "d15b8e64",
   "metadata": {
    "scrolled": false
   },
   "outputs": [
    {
     "name": "stdout",
     "output_type": "stream",
     "text": [
      "[[ 405   18    4   95   23   37]\n",
      " [  31   33    3    9    1    4]\n",
      " [   7    6   57    6    5    8]\n",
      " [  85    3    5 1800   32   72]\n",
      " [  43   11    6   53  215   24]\n",
      " [  66    3    6  116   21  347]]\n",
      "              precision    recall  f1-score   support\n",
      "\n",
      "       anger       0.64      0.70      0.66       582\n",
      "     disgust       0.45      0.41      0.43        81\n",
      "        fear       0.70      0.64      0.67        89\n",
      "         joy       0.87      0.90      0.88      1997\n",
      "     sadness       0.72      0.61      0.66       352\n",
      "    surprise       0.71      0.62      0.66       559\n",
      "\n",
      "    accuracy                           0.78      3660\n",
      "   macro avg       0.68      0.65      0.66      3660\n",
      "weighted avg       0.78      0.78      0.78      3660\n",
      "\n"
     ]
    }
   ],
   "source": [
    "# val predictions\n",
    "y_pred_val_electra = electra_model.predict([val_ids,val_attention_mask])\n",
    "y_pred_val_electra = tf.argmax(y_pred_val_electra.logits,axis=1)\n",
    "print(confusion_matrix(y_val_no_neu,y_pred_val_electra))\n",
    "print(classification_report(y_val_no_neu, y_pred_val_electra, target_names=class_label_names_no_neu) )"
   ]
  },
  {
   "cell_type": "code",
   "execution_count": 123,
   "id": "16e55ee5",
   "metadata": {},
   "outputs": [],
   "source": [
    "## Saving model\n",
    "electra_model.save_pretrained('electra-emotion-predictor-ekman-no-neutral-1')"
   ]
  },
  {
   "cell_type": "code",
   "execution_count": 125,
   "id": "4bf7a2ae",
   "metadata": {},
   "outputs": [],
   "source": [
    "electra_model1 = TFAutoModelForSequenceClassification.from_pretrained('electra-emotion-predictor-ekman-no-neutral-1')"
   ]
  },
  {
   "cell_type": "markdown",
   "id": "8449b52b",
   "metadata": {},
   "source": [
    "### Model 2 - Ekman without neutral emotion"
   ]
  },
  {
   "cell_type": "code",
   "execution_count": 126,
   "id": "b59b289e",
   "metadata": {},
   "outputs": [],
   "source": [
    "def create_data(text,labels,tokenizer,max_length):\n",
    "\n",
    "    # Empty Arrays\n",
    "    input_ids = []\n",
    "    attention_mask = []\n",
    "    \n",
    "    # Loop Through List and Create input ids & attention mask\n",
    "    for i in tqdm.tqdm(text,total=len(text)):\n",
    "        x = tokenizer.encode_plus(str(i),\n",
    "                              return_attention_mask=True,\n",
    "                              padding='max_length',\n",
    "                              truncation=True,\n",
    "                              max_length=max_length,\n",
    "                              add_special_tokens=True,\n",
    "                              )\n",
    "        input_ids.append(x['input_ids'])\n",
    "        attention_mask.append(x['attention_mask'])\n",
    "        \n",
    "    print('Data Shapes : ')\n",
    "    print(np.array(input_ids).shape,np.array(attention_mask).shape,labels.shape )\n",
    "    \n",
    "    return  np.array(input_ids) , np.array(attention_mask) , np.array(labels).reshape(-1,1)"
   ]
  },
  {
   "cell_type": "markdown",
   "id": "2ad972b6",
   "metadata": {},
   "source": [
    "X_train.values, y_train, X_test, y_test, X_val, y_val"
   ]
  },
  {
   "cell_type": "code",
   "execution_count": 127,
   "id": "d6906c68",
   "metadata": {},
   "outputs": [
    {
     "name": "stdout",
     "output_type": "stream",
     "text": [
      "Start Create Train Data\n"
     ]
    },
    {
     "name": "stderr",
     "output_type": "stream",
     "text": [
      "100%|█████████████████████████████████████████████████████████████████████████| 29191/29191 [00:02<00:00, 11678.45it/s]\n"
     ]
    },
    {
     "name": "stdout",
     "output_type": "stream",
     "text": [
      "Data Shapes : \n",
      "(29191, 56) (29191, 56) (29191,)\n",
      "Start Create Val Data\n"
     ]
    },
    {
     "name": "stderr",
     "output_type": "stream",
     "text": [
      "100%|███████████████████████████████████████████████████████████████████████████| 3660/3660 [00:00<00:00, 11626.03it/s]\n"
     ]
    },
    {
     "name": "stdout",
     "output_type": "stream",
     "text": [
      "Data Shapes : \n",
      "(3660, 56) (3660, 56) (3660,)\n",
      "Start Create Test Data\n"
     ]
    },
    {
     "name": "stderr",
     "output_type": "stream",
     "text": [
      "100%|███████████████████████████████████████████████████████████████████████████| 3640/3640 [00:00<00:00, 11749.25it/s]"
     ]
    },
    {
     "name": "stdout",
     "output_type": "stream",
     "text": [
      "Data Shapes : \n",
      "(3640, 56) (3640, 56) (3640,)\n"
     ]
    },
    {
     "name": "stderr",
     "output_type": "stream",
     "text": [
      "\n"
     ]
    }
   ],
   "source": [
    "MODEL_NAME = 'bhadresh-savani/electra-base-emotion'\n",
    "EPOCHS = 6\n",
    "MAX_LENGTH = 56\n",
    "NUM_LABELS = 6\n",
    "\n",
    "tokenizer = AutoTokenizer.from_pretrained(MODEL_NAME)\n",
    "\n",
    "print('Start Create Train Data')\n",
    "# Create Train Data\n",
    "train_ids , train_attention_mask ,train_labels = create_data(X_train_no_neu.values,\n",
    "                                                         y_train_no_neu.values ,\n",
    "                                                         tokenizer\n",
    "                                                         ,MAX_LENGTH)\n",
    "print('Start Create Val Data')\n",
    "# Create Test Data\n",
    "val_ids , val_attention_mask ,val_labels = create_data(X_val_no_neu.values,\n",
    "                                                      y_val_no_neu.values,\n",
    "                                                      tokenizer ,\n",
    "                                                      MAX_LENGTH\n",
    "                                                         )\n",
    "print('Start Create Test Data')\n",
    "# Create Test Data\n",
    "test_ids , test_attention_mask ,test_labels = create_data(X_test_no_neu.values,\n",
    "                                                      y_test_no_neu.values,\n",
    "                                                      tokenizer ,\n",
    "                                                      MAX_LENGTH\n",
    "                                                         )"
   ]
  },
  {
   "cell_type": "code",
   "execution_count": 128,
   "id": "838a21cb",
   "metadata": {},
   "outputs": [],
   "source": [
    "def train_custom_label_model(model_name,num_labels,MAX_LENGTH,Num_epochs):\n",
    "    \n",
    "    gc.collect()\n",
    "    \n",
    "    my_model = TFAutoModelForSequenceClassification.from_pretrained(model_name,\n",
    "                                                                    ignore_mismatched_sizes=True\n",
    "                                                                   ,num_labels=num_labels\n",
    "                                                                   )\n",
    "    \n",
    "    print('FINISH DOWNLOAD MODEL')\n",
    "#     run_opts = tf.compat.v1.RunOptions(report_tensor_allocations_upon_oom = True)\n",
    "    my_model.compile(\n",
    "        optimizer=tf.keras.optimizers.Adam(learning_rate=learning_rate),\n",
    "        loss=tf.keras.losses.SparseCategoricalCrossentropy(from_logits=True),\n",
    "        metrics=tf.metrics.SparseCategoricalAccuracy(),\n",
    "#         options = run_opts\n",
    "        )\n",
    "\n",
    "    #train , test = train_test_split(df,test_size=.3,random_state=42)\n",
    "\n",
    "\n",
    "    tokenizer = AutoTokenizer.from_pretrained(model_name)\n",
    "    \n",
    "    print('FINSH DOWNLOAD TOKENIZER')\n",
    "    \n",
    "       \n",
    "    # Use GPU\n",
    "    tf.debugging.set_log_device_placement(True)\n",
    "\n",
    "       \n",
    "    # Model Checkpoint\n",
    "    checkpoint_filepath = './'\n",
    "    model_checkpoint_callback = tf.keras.callbacks.ModelCheckpoint(\n",
    "        filepath=checkpoint_filepath,\n",
    "        save_weights_only=True,\n",
    "        monitor='val_sparse_categorical_crossentropy',\n",
    "        mode='max',\n",
    "        save_best_only=True,\n",
    "    )\n",
    "    \n",
    "    # Train Model\n",
    "    my_model.fit([train_ids, train_attention_mask],\n",
    "                 train_labels,\n",
    "              validation_split=.3,\n",
    "              epochs=Num_epochs,\n",
    "              verbose=1,\n",
    "              callbacks=[model_checkpoint_callback]\n",
    "              )\n",
    "    \n",
    "    gc.collect()\n",
    "    \n",
    "    return my_model"
   ]
  },
  {
   "cell_type": "code",
   "execution_count": 129,
   "id": "182adc8e",
   "metadata": {},
   "outputs": [
    {
     "name": "stdout",
     "output_type": "stream",
     "text": [
      "FINISH DOWNLOAD MODEL\n",
      "FINSH DOWNLOAD TOKENIZER\n",
      "Epoch 1/6\n",
      "639/639 [==============================] - 63s 84ms/step - loss: 0.9679 - sparse_categorical_accuracy: 0.6789 - val_loss: 0.7499 - val_sparse_categorical_accuracy: 0.7333\n",
      "Epoch 2/6\n",
      "639/639 [==============================] - 52s 81ms/step - loss: 0.6802 - sparse_categorical_accuracy: 0.7719 - val_loss: 0.6950 - val_sparse_categorical_accuracy: 0.7694\n",
      "Epoch 3/6\n",
      "639/639 [==============================] - 52s 81ms/step - loss: 0.5817 - sparse_categorical_accuracy: 0.8036 - val_loss: 0.6805 - val_sparse_categorical_accuracy: 0.7641\n",
      "Epoch 4/6\n",
      "639/639 [==============================] - 52s 81ms/step - loss: 0.5003 - sparse_categorical_accuracy: 0.8353 - val_loss: 0.6716 - val_sparse_categorical_accuracy: 0.7690\n",
      "Epoch 5/6\n",
      "639/639 [==============================] - 52s 82ms/step - loss: 0.4306 - sparse_categorical_accuracy: 0.8591 - val_loss: 0.7262 - val_sparse_categorical_accuracy: 0.7642\n",
      "Epoch 6/6\n",
      "639/639 [==============================] - 53s 83ms/step - loss: 0.3624 - sparse_categorical_accuracy: 0.8824 - val_loss: 0.7506 - val_sparse_categorical_accuracy: 0.7623\n"
     ]
    }
   ],
   "source": [
    "MODEL_NAME = 'bhadresh-savani/electra-base-emotion'\n",
    "EPOCHS = 6\n",
    "MAX_LENGTH = 56\n",
    "NUM_LABELS = 6\n",
    "learning_rate = 3e-5\n",
    "electra_model = train_custom_label_model(MODEL_NAME,NUM_LABELS,MAX_LENGTH,EPOCHS)"
   ]
  },
  {
   "cell_type": "code",
   "execution_count": 130,
   "id": "7200fccd",
   "metadata": {},
   "outputs": [
    {
     "name": "stdout",
     "output_type": "stream",
     "text": [
      "accuracy score: 0.8850\n",
      "[[ 3691   129    20   332   147   198]\n",
      " [  144   450    27    32    30    11]\n",
      " [   14    21   549    14    20    24]\n",
      " [  261    28    43 14729   206   426]\n",
      " [  194    48    38   149  2412    97]\n",
      " [  154    14    33   434    70  4002]]\n"
     ]
    }
   ],
   "source": [
    "# train predictions\n",
    "y_pred_train_electra = electra_model.predict([train_ids,train_attention_mask])\n",
    "y_pred_train_electra = tf.argmax(y_pred_train_electra.logits,axis=1)\n",
    "print('accuracy score: {:.4f}'.format(accuracy_score(y_train_no_neu,y_pred_train_electra)))\n",
    "print(confusion_matrix(y_train_no_neu,y_pred_train_electra))"
   ]
  },
  {
   "cell_type": "code",
   "execution_count": 131,
   "id": "5c2b612f",
   "metadata": {},
   "outputs": [
    {
     "name": "stdout",
     "output_type": "stream",
     "text": [
      "              precision    recall  f1-score   support\n",
      "\n",
      "       anger       0.83      0.82      0.82      4517\n",
      "     disgust       0.65      0.65      0.65       694\n",
      "        fear       0.77      0.86      0.81       642\n",
      "         joy       0.94      0.94      0.94     15693\n",
      "     sadness       0.84      0.82      0.83      2938\n",
      "    surprise       0.84      0.85      0.85      4707\n",
      "\n",
      "    accuracy                           0.88     29191\n",
      "   macro avg       0.81      0.82      0.82     29191\n",
      "weighted avg       0.89      0.88      0.88     29191\n",
      "\n"
     ]
    }
   ],
   "source": [
    "print(classification_report(y_train_no_neu, y_pred_train_electra, target_names=class_label_names_no_neu) )"
   ]
  },
  {
   "cell_type": "code",
   "execution_count": 132,
   "id": "351d9084",
   "metadata": {},
   "outputs": [
    {
     "name": "stdout",
     "output_type": "stream",
     "text": [
      "accuracy score: 0.7703\n",
      "[[ 378   27    4   97   34   55]\n",
      " [  33   54    5    6    6    8]\n",
      " [   5    6   60    7    4    5]\n",
      " [  78    2   11 1686   42   96]\n",
      " [  45    8    5   39  217   27]\n",
      " [  43    8    8  104   18  409]]\n"
     ]
    }
   ],
   "source": [
    "# test predictions\n",
    "y_pred_test_electra = electra_model.predict([test_ids,test_attention_mask])\n",
    "\n",
    "y_pred_test_electra = tf.argmax(y_pred_test_electra.logits,axis=1)\n",
    "print('accuracy score: {:.4f}'.format(accuracy_score(y_test_no_neu,y_pred_test_electra)))\n",
    "print(confusion_matrix(y_test_no_neu,y_pred_test_electra))"
   ]
  },
  {
   "cell_type": "code",
   "execution_count": 133,
   "id": "b088074c",
   "metadata": {},
   "outputs": [
    {
     "name": "stdout",
     "output_type": "stream",
     "text": [
      "              precision    recall  f1-score   support\n",
      "\n",
      "       anger       0.65      0.64      0.64       595\n",
      "     disgust       0.51      0.48      0.50       112\n",
      "        fear       0.65      0.69      0.67        87\n",
      "         joy       0.87      0.88      0.87      1915\n",
      "     sadness       0.68      0.64      0.66       341\n",
      "    surprise       0.68      0.69      0.69       590\n",
      "\n",
      "    accuracy                           0.77      3640\n",
      "   macro avg       0.67      0.67      0.67      3640\n",
      "weighted avg       0.77      0.77      0.77      3640\n",
      "\n"
     ]
    }
   ],
   "source": [
    "from sklearn.metrics import classification_report\n",
    "print(classification_report(y_test_no_neu, y_pred_test_electra, target_names=class_label_names_no_neu) )"
   ]
  },
  {
   "cell_type": "code",
   "execution_count": 134,
   "id": "413ddec9",
   "metadata": {
    "scrolled": false
   },
   "outputs": [
    {
     "name": "stdout",
     "output_type": "stream",
     "text": [
      "[[ 377   28    6   85   29   57]\n",
      " [  23   39    3    8    2    6]\n",
      " [   4    6   62    5    6    6]\n",
      " [  70    3    8 1775   46   95]\n",
      " [  37   11    7   40  229   28]\n",
      " [  49    5    6   96   25  378]]\n",
      "              precision    recall  f1-score   support\n",
      "\n",
      "       anger       0.67      0.65      0.66       582\n",
      "     disgust       0.42      0.48      0.45        81\n",
      "        fear       0.67      0.70      0.69        89\n",
      "         joy       0.88      0.89      0.89      1997\n",
      "     sadness       0.68      0.65      0.66       352\n",
      "    surprise       0.66      0.68      0.67       559\n",
      "\n",
      "    accuracy                           0.78      3660\n",
      "   macro avg       0.67      0.67      0.67      3660\n",
      "weighted avg       0.78      0.78      0.78      3660\n",
      "\n"
     ]
    }
   ],
   "source": [
    "# val predictions\n",
    "y_pred_val_electra = electra_model.predict([val_ids,val_attention_mask])\n",
    "y_pred_val_electra = tf.argmax(y_pred_val_electra.logits,axis=1)\n",
    "print(confusion_matrix(y_val_no_neu,y_pred_val_electra))\n",
    "print(classification_report(y_val_no_neu, y_pred_val_electra, target_names=class_label_names_no_neu) )"
   ]
  },
  {
   "cell_type": "code",
   "execution_count": 135,
   "id": "ee98eebd",
   "metadata": {},
   "outputs": [],
   "source": [
    "## Saving model\n",
    "electra_model.save_pretrained('electra-emotion-predictor-ekman-no-neutral-2')"
   ]
  },
  {
   "cell_type": "code",
   "execution_count": 137,
   "id": "cb5bf29f",
   "metadata": {},
   "outputs": [],
   "source": [
    "electra_model1 = TFAutoModelForSequenceClassification.from_pretrained('electra-emotion-predictor-ekman-no-neutral-2')"
   ]
  },
  {
   "cell_type": "markdown",
   "id": "d697f687",
   "metadata": {},
   "source": [
    "### Model 3 - Final"
   ]
  },
  {
   "cell_type": "code",
   "execution_count": 138,
   "id": "5b3459f6",
   "metadata": {},
   "outputs": [],
   "source": [
    "def create_data(text,labels,tokenizer,max_length):\n",
    "\n",
    "    # Empty Arrays\n",
    "    input_ids = []\n",
    "    attention_mask = []\n",
    "    \n",
    "    # Loop Through List and Create input ids & attention mask\n",
    "    for i in tqdm.tqdm(text,total=len(text)):\n",
    "        x = tokenizer.encode_plus(str(i),\n",
    "                              return_attention_mask=True,\n",
    "                              padding='max_length',\n",
    "                              truncation=True,\n",
    "                              max_length=max_length,\n",
    "                              add_special_tokens=True,\n",
    "                              )\n",
    "        input_ids.append(x['input_ids'])\n",
    "        attention_mask.append(x['attention_mask'])\n",
    "        \n",
    "    print('Data Shapes : ')\n",
    "    print(np.array(input_ids).shape,np.array(attention_mask).shape,labels.shape )\n",
    "    \n",
    "    return  np.array(input_ids) , np.array(attention_mask) , np.array(labels).reshape(-1,1)"
   ]
  },
  {
   "cell_type": "markdown",
   "id": "cea279e3",
   "metadata": {},
   "source": [
    "X_train.values, y_train, X_test, y_test, X_val, y_val"
   ]
  },
  {
   "cell_type": "code",
   "execution_count": 139,
   "id": "00d60e68",
   "metadata": {},
   "outputs": [
    {
     "name": "stdout",
     "output_type": "stream",
     "text": [
      "Start Create Train Data\n"
     ]
    },
    {
     "name": "stderr",
     "output_type": "stream",
     "text": [
      "100%|█████████████████████████████████████████████████████████████████████████| 29191/29191 [00:02<00:00, 11574.56it/s]\n"
     ]
    },
    {
     "name": "stdout",
     "output_type": "stream",
     "text": [
      "Data Shapes : \n",
      "(29191, 56) (29191, 56) (29191,)\n",
      "Start Create Val Data\n"
     ]
    },
    {
     "name": "stderr",
     "output_type": "stream",
     "text": [
      "100%|███████████████████████████████████████████████████████████████████████████| 3660/3660 [00:00<00:00, 11104.38it/s]\n"
     ]
    },
    {
     "name": "stdout",
     "output_type": "stream",
     "text": [
      "Data Shapes : \n",
      "(3660, 56) (3660, 56) (3660,)\n",
      "Start Create Test Data\n"
     ]
    },
    {
     "name": "stderr",
     "output_type": "stream",
     "text": [
      "100%|███████████████████████████████████████████████████████████████████████████| 3640/3640 [00:00<00:00, 11311.06it/s]"
     ]
    },
    {
     "name": "stdout",
     "output_type": "stream",
     "text": [
      "Data Shapes : \n",
      "(3640, 56) (3640, 56) (3640,)\n"
     ]
    },
    {
     "name": "stderr",
     "output_type": "stream",
     "text": [
      "\n"
     ]
    }
   ],
   "source": [
    "MODEL_NAME = 'bhadresh-savani/electra-base-emotion'\n",
    "EPOCHS = 7\n",
    "MAX_LENGTH = 56\n",
    "NUM_LABELS = 6\n",
    "\n",
    "tokenizer = AutoTokenizer.from_pretrained(MODEL_NAME)\n",
    "\n",
    "print('Start Create Train Data')\n",
    "# Create Train Data\n",
    "train_ids , train_attention_mask ,train_labels = create_data(X_train_no_neu.values,\n",
    "                                                         y_train_no_neu.values ,\n",
    "                                                         tokenizer\n",
    "                                                         ,MAX_LENGTH)\n",
    "print('Start Create Val Data')\n",
    "# Create Test Data\n",
    "val_ids , val_attention_mask ,val_labels = create_data(X_val_no_neu.values,\n",
    "                                                      y_val_no_neu.values,\n",
    "                                                      tokenizer ,\n",
    "                                                      MAX_LENGTH\n",
    "                                                         )\n",
    "print('Start Create Test Data')\n",
    "# Create Test Data\n",
    "test_ids , test_attention_mask ,test_labels = create_data(X_test_no_neu.values,\n",
    "                                                      y_test_no_neu.values,\n",
    "                                                      tokenizer ,\n",
    "                                                      MAX_LENGTH\n",
    "                                                         )"
   ]
  },
  {
   "cell_type": "code",
   "execution_count": 140,
   "id": "02361a0c",
   "metadata": {},
   "outputs": [],
   "source": [
    "def train_custom_label_model(model_name,num_labels,MAX_LENGTH,Num_epochs):\n",
    "    \n",
    "    gc.collect()\n",
    "    \n",
    "    my_model = TFAutoModelForSequenceClassification.from_pretrained(model_name,\n",
    "                                                                    ignore_mismatched_sizes=True\n",
    "                                                                   ,num_labels=num_labels\n",
    "                                                                   )\n",
    "    \n",
    "    print('FINISH DOWNLOAD MODEL')\n",
    "#     run_opts = tf.compat.v1.RunOptions(report_tensor_allocations_upon_oom = True)\n",
    "    my_model.compile(\n",
    "        optimizer=tf.keras.optimizers.Adam(learning_rate=learning_rate),\n",
    "        loss=tf.keras.losses.SparseCategoricalCrossentropy(from_logits=True),\n",
    "        metrics=tf.metrics.SparseCategoricalAccuracy(),\n",
    "#         options = run_opts\n",
    "        )\n",
    "\n",
    "    #train , test = train_test_split(df,test_size=.3,random_state=42)\n",
    "\n",
    "\n",
    "    tokenizer = AutoTokenizer.from_pretrained(model_name)\n",
    "    \n",
    "    print('FINSH DOWNLOAD TOKENIZER')\n",
    "    \n",
    "       \n",
    "    # Use GPU\n",
    "    tf.debugging.set_log_device_placement(True)\n",
    "\n",
    "       \n",
    "    # Model Checkpoint\n",
    "    checkpoint_filepath = './'\n",
    "    model_checkpoint_callback = tf.keras.callbacks.ModelCheckpoint(\n",
    "        filepath=checkpoint_filepath,\n",
    "        save_weights_only=True,\n",
    "        monitor='val_sparse_categorical_crossentropy',\n",
    "        mode='max',\n",
    "        save_best_only=True,\n",
    "    )\n",
    "    \n",
    "    # Train Model\n",
    "    my_model.fit([train_ids, train_attention_mask],\n",
    "                 train_labels,\n",
    "              validation_split=.3,\n",
    "              epochs=Num_epochs,\n",
    "              verbose=1,\n",
    "              callbacks=[model_checkpoint_callback]\n",
    "              )\n",
    "    \n",
    "    gc.collect()\n",
    "    \n",
    "    return my_model"
   ]
  },
  {
   "cell_type": "code",
   "execution_count": 141,
   "id": "87d0f1be",
   "metadata": {},
   "outputs": [
    {
     "name": "stdout",
     "output_type": "stream",
     "text": [
      "FINISH DOWNLOAD MODEL\n",
      "FINSH DOWNLOAD TOKENIZER\n",
      "Epoch 1/7\n",
      "639/639 [==============================] - 63s 85ms/step - loss: 1.0049 - sparse_categorical_accuracy: 0.6647 - val_loss: 0.7545 - val_sparse_categorical_accuracy: 0.7383\n",
      "Epoch 2/7\n",
      "639/639 [==============================] - 51s 80ms/step - loss: 0.6917 - sparse_categorical_accuracy: 0.7662 - val_loss: 0.6851 - val_sparse_categorical_accuracy: 0.7687\n",
      "Epoch 3/7\n",
      "639/639 [==============================] - 52s 81ms/step - loss: 0.5882 - sparse_categorical_accuracy: 0.8022 - val_loss: 0.6761 - val_sparse_categorical_accuracy: 0.7630\n",
      "Epoch 4/7\n",
      "639/639 [==============================] - 52s 81ms/step - loss: 0.5155 - sparse_categorical_accuracy: 0.8263 - val_loss: 0.6864 - val_sparse_categorical_accuracy: 0.7643\n",
      "Epoch 5/7\n",
      "639/639 [==============================] - 52s 81ms/step - loss: 0.4461 - sparse_categorical_accuracy: 0.8497 - val_loss: 0.7212 - val_sparse_categorical_accuracy: 0.7680\n",
      "Epoch 6/7\n",
      "639/639 [==============================] - 52s 81ms/step - loss: 0.3782 - sparse_categorical_accuracy: 0.8776 - val_loss: 0.7614 - val_sparse_categorical_accuracy: 0.7631\n",
      "Epoch 7/7\n",
      "639/639 [==============================] - 52s 81ms/step - loss: 0.3231 - sparse_categorical_accuracy: 0.8971 - val_loss: 0.8010 - val_sparse_categorical_accuracy: 0.7565\n"
     ]
    }
   ],
   "source": [
    "MODEL_NAME = 'bhadresh-savani/electra-base-emotion'\n",
    "EPOCHS = 7\n",
    "MAX_LENGTH = 56\n",
    "NUM_LABELS = 6\n",
    "learning_rate = 3e-5\n",
    "electra_model = train_custom_label_model(MODEL_NAME,NUM_LABELS,MAX_LENGTH,EPOCHS)"
   ]
  },
  {
   "cell_type": "code",
   "execution_count": 142,
   "id": "44f72a72",
   "metadata": {},
   "outputs": [
    {
     "name": "stdout",
     "output_type": "stream",
     "text": [
      "accuracy score: 0.8904\n",
      "[[ 3721    93    19   333   152   199]\n",
      " [  139   476    12    27    26    14]\n",
      " [   14    20   541    19    24    24]\n",
      " [  242    20    54 14684   193   500]\n",
      " [  196    35    34   126  2453    94]\n",
      " [  122    13    47   324    83  4118]]\n"
     ]
    }
   ],
   "source": [
    "# train predictions\n",
    "y_pred_train_electra = electra_model.predict([train_ids,train_attention_mask])\n",
    "y_pred_train_electra = tf.argmax(y_pred_train_electra.logits,axis=1)\n",
    "print('accuracy score: {:.4f}'.format(accuracy_score(y_train_no_neu,y_pred_train_electra)))\n",
    "print(confusion_matrix(y_train_no_neu,y_pred_train_electra))"
   ]
  },
  {
   "cell_type": "code",
   "execution_count": 143,
   "id": "7bcdbd87",
   "metadata": {},
   "outputs": [
    {
     "name": "stdout",
     "output_type": "stream",
     "text": [
      "              precision    recall  f1-score   support\n",
      "\n",
      "       anger       0.84      0.82      0.83      4517\n",
      "     disgust       0.72      0.69      0.70       694\n",
      "        fear       0.77      0.84      0.80       642\n",
      "         joy       0.95      0.94      0.94     15693\n",
      "     sadness       0.84      0.83      0.84      2938\n",
      "    surprise       0.83      0.87      0.85      4707\n",
      "\n",
      "    accuracy                           0.89     29191\n",
      "   macro avg       0.82      0.83      0.83     29191\n",
      "weighted avg       0.89      0.89      0.89     29191\n",
      "\n"
     ]
    }
   ],
   "source": [
    "print(classification_report(y_train_no_neu, y_pred_train_electra, target_names=class_label_names_no_neu) )"
   ]
  },
  {
   "cell_type": "code",
   "execution_count": 144,
   "id": "0f8a5c5e",
   "metadata": {},
   "outputs": [
    {
     "name": "stdout",
     "output_type": "stream",
     "text": [
      "accuracy score: 0.7709\n",
      "[[ 372   19    7  103   34   60]\n",
      " [  30   56    3    8    8    7]\n",
      " [   4    5   65    5    4    4]\n",
      " [  66    3   12 1669   43  122]\n",
      " [  38    5    8   40  220   30]\n",
      " [  39    8    9   96   14  424]]\n"
     ]
    }
   ],
   "source": [
    "# test predictions\n",
    "y_pred_test_electra = electra_model.predict([test_ids,test_attention_mask])\n",
    "\n",
    "y_pred_test_electra = tf.argmax(y_pred_test_electra.logits,axis=1)\n",
    "print('accuracy score: {:.4f}'.format(accuracy_score(y_test_no_neu,y_pred_test_electra)))\n",
    "print(confusion_matrix(y_test_no_neu,y_pred_test_electra))"
   ]
  },
  {
   "cell_type": "code",
   "execution_count": 145,
   "id": "586e582c",
   "metadata": {},
   "outputs": [
    {
     "name": "stdout",
     "output_type": "stream",
     "text": [
      "              precision    recall  f1-score   support\n",
      "\n",
      "       anger       0.68      0.63      0.65       595\n",
      "     disgust       0.58      0.50      0.54       112\n",
      "        fear       0.62      0.75      0.68        87\n",
      "         joy       0.87      0.87      0.87      1915\n",
      "     sadness       0.68      0.65      0.66       341\n",
      "    surprise       0.66      0.72      0.69       590\n",
      "\n",
      "    accuracy                           0.77      3640\n",
      "   macro avg       0.68      0.68      0.68      3640\n",
      "weighted avg       0.77      0.77      0.77      3640\n",
      "\n"
     ]
    }
   ],
   "source": [
    "from sklearn.metrics import classification_report\n",
    "print(classification_report(y_test_no_neu, y_pred_test_electra, target_names=class_label_names_no_neu) )"
   ]
  },
  {
   "cell_type": "code",
   "execution_count": 146,
   "id": "c2027cc1",
   "metadata": {
    "scrolled": false
   },
   "outputs": [
    {
     "name": "stdout",
     "output_type": "stream",
     "text": [
      "[[ 378   28    6   87   36   47]\n",
      " [  21   39    3    9    5    4]\n",
      " [   5    5   64    5    8    2]\n",
      " [  69    2   14 1752   44  116]\n",
      " [  40    9    7   41  236   19]\n",
      " [  44    4    9   89   28  385]]\n",
      "              precision    recall  f1-score   support\n",
      "\n",
      "       anger       0.68      0.65      0.66       582\n",
      "     disgust       0.45      0.48      0.46        81\n",
      "        fear       0.62      0.72      0.67        89\n",
      "         joy       0.88      0.88      0.88      1997\n",
      "     sadness       0.66      0.67      0.67       352\n",
      "    surprise       0.67      0.69      0.68       559\n",
      "\n",
      "    accuracy                           0.78      3660\n",
      "   macro avg       0.66      0.68      0.67      3660\n",
      "weighted avg       0.78      0.78      0.78      3660\n",
      "\n"
     ]
    }
   ],
   "source": [
    "# val predictions\n",
    "y_pred_val_electra = electra_model.predict([val_ids,val_attention_mask])\n",
    "y_pred_val_electra = tf.argmax(y_pred_val_electra.logits,axis=1)\n",
    "print(confusion_matrix(y_val_no_neu,y_pred_val_electra))\n",
    "print(classification_report(y_val_no_neu, y_pred_val_electra, target_names=class_label_names_no_neu) )"
   ]
  },
  {
   "cell_type": "code",
   "execution_count": 147,
   "id": "64dd7b66",
   "metadata": {},
   "outputs": [],
   "source": [
    "## Saving model\n",
    "electra_model.save_pretrained('electra-emotion-predictor-ekman-no-neutral-3')"
   ]
  },
  {
   "cell_type": "code",
   "execution_count": 148,
   "id": "e29b44fb",
   "metadata": {},
   "outputs": [],
   "source": [
    "electra_model1 = TFAutoModelForSequenceClassification.from_pretrained('electra-emotion-predictor-ekman-no-neutral-3')"
   ]
  },
  {
   "cell_type": "markdown",
   "id": "48d25f40",
   "metadata": {},
   "source": [
    "### Model 4"
   ]
  },
  {
   "cell_type": "code",
   "execution_count": 149,
   "id": "50e08e9b",
   "metadata": {},
   "outputs": [],
   "source": [
    "def create_data(text,labels,tokenizer,max_length):\n",
    "\n",
    "    # Empty Arrays\n",
    "    input_ids = []\n",
    "    attention_mask = []\n",
    "    \n",
    "    # Loop Through List and Create input ids & attention mask\n",
    "    for i in tqdm.tqdm(text,total=len(text)):\n",
    "        x = tokenizer.encode_plus(str(i),\n",
    "                              return_attention_mask=True,\n",
    "                              padding='max_length',\n",
    "                              truncation=True,\n",
    "                              max_length=max_length,\n",
    "                              add_special_tokens=True,\n",
    "                              )\n",
    "        input_ids.append(x['input_ids'])\n",
    "        attention_mask.append(x['attention_mask'])\n",
    "        \n",
    "    print('Data Shapes : ')\n",
    "    print(np.array(input_ids).shape,np.array(attention_mask).shape,labels.shape )\n",
    "    \n",
    "    return  np.array(input_ids) , np.array(attention_mask) , np.array(labels).reshape(-1,1)"
   ]
  },
  {
   "cell_type": "markdown",
   "id": "d8d1e27c",
   "metadata": {},
   "source": [
    "X_train.values, y_train, X_test, y_test, X_val, y_val"
   ]
  },
  {
   "cell_type": "code",
   "execution_count": 150,
   "id": "782c9a14",
   "metadata": {},
   "outputs": [
    {
     "name": "stdout",
     "output_type": "stream",
     "text": [
      "Start Create Train Data\n"
     ]
    },
    {
     "name": "stderr",
     "output_type": "stream",
     "text": [
      "100%|█████████████████████████████████████████████████████████████████████████| 29191/29191 [00:02<00:00, 11472.37it/s]\n"
     ]
    },
    {
     "name": "stdout",
     "output_type": "stream",
     "text": [
      "Data Shapes : \n",
      "(29191, 56) (29191, 56) (29191,)\n",
      "Start Create Val Data\n"
     ]
    },
    {
     "name": "stderr",
     "output_type": "stream",
     "text": [
      "100%|███████████████████████████████████████████████████████████████████████████| 3660/3660 [00:00<00:00, 11663.10it/s]\n"
     ]
    },
    {
     "name": "stdout",
     "output_type": "stream",
     "text": [
      "Data Shapes : \n",
      "(3660, 56) (3660, 56) (3660,)\n",
      "Start Create Test Data\n"
     ]
    },
    {
     "name": "stderr",
     "output_type": "stream",
     "text": [
      "100%|███████████████████████████████████████████████████████████████████████████| 3640/3640 [00:00<00:00, 11636.62it/s]"
     ]
    },
    {
     "name": "stdout",
     "output_type": "stream",
     "text": [
      "Data Shapes : \n",
      "(3640, 56) (3640, 56) (3640,)\n"
     ]
    },
    {
     "name": "stderr",
     "output_type": "stream",
     "text": [
      "\n"
     ]
    }
   ],
   "source": [
    "MODEL_NAME = 'bhadresh-savani/electra-base-emotion'\n",
    "EPOCHS = 8\n",
    "MAX_LENGTH = 56\n",
    "NUM_LABELS = 6\n",
    "\n",
    "tokenizer = AutoTokenizer.from_pretrained(MODEL_NAME)\n",
    "\n",
    "print('Start Create Train Data')\n",
    "# Create Train Data\n",
    "train_ids , train_attention_mask ,train_labels = create_data(X_train_no_neu.values,\n",
    "                                                         y_train_no_neu.values ,\n",
    "                                                         tokenizer\n",
    "                                                         ,MAX_LENGTH)\n",
    "print('Start Create Val Data')\n",
    "# Create Test Data\n",
    "val_ids , val_attention_mask ,val_labels = create_data(X_val_no_neu.values,\n",
    "                                                      y_val_no_neu.values,\n",
    "                                                      tokenizer ,\n",
    "                                                      MAX_LENGTH\n",
    "                                                         )\n",
    "print('Start Create Test Data')\n",
    "# Create Test Data\n",
    "test_ids , test_attention_mask ,test_labels = create_data(X_test_no_neu.values,\n",
    "                                                      y_test_no_neu.values,\n",
    "                                                      tokenizer ,\n",
    "                                                      MAX_LENGTH\n",
    "                                                         )"
   ]
  },
  {
   "cell_type": "code",
   "execution_count": 151,
   "id": "5bfe963a",
   "metadata": {},
   "outputs": [],
   "source": [
    "def train_custom_label_model(model_name,num_labels,MAX_LENGTH,Num_epochs):\n",
    "    \n",
    "    gc.collect()\n",
    "    \n",
    "    my_model = TFAutoModelForSequenceClassification.from_pretrained(model_name,\n",
    "                                                                    ignore_mismatched_sizes=True\n",
    "                                                                   ,num_labels=num_labels\n",
    "                                                                   )\n",
    "    \n",
    "    print('FINISH DOWNLOAD MODEL')\n",
    "#     run_opts = tf.compat.v1.RunOptions(report_tensor_allocations_upon_oom = True)\n",
    "    my_model.compile(\n",
    "        optimizer=tf.keras.optimizers.Adam(learning_rate=learning_rate),\n",
    "        loss=tf.keras.losses.SparseCategoricalCrossentropy(from_logits=True),\n",
    "        metrics=tf.metrics.SparseCategoricalAccuracy(),\n",
    "#         options = run_opts\n",
    "        )\n",
    "\n",
    "    #train , test = train_test_split(df,test_size=.3,random_state=42)\n",
    "\n",
    "\n",
    "    tokenizer = AutoTokenizer.from_pretrained(model_name)\n",
    "    \n",
    "    print('FINSH DOWNLOAD TOKENIZER')\n",
    "    \n",
    "       \n",
    "    # Use GPU\n",
    "    tf.debugging.set_log_device_placement(True)\n",
    "\n",
    "       \n",
    "    # Model Checkpoint\n",
    "    checkpoint_filepath = './'\n",
    "    model_checkpoint_callback = tf.keras.callbacks.ModelCheckpoint(\n",
    "        filepath=checkpoint_filepath,\n",
    "        save_weights_only=True,\n",
    "        monitor='val_sparse_categorical_crossentropy',\n",
    "        mode='max',\n",
    "        save_best_only=True,\n",
    "    )\n",
    "    \n",
    "    # Train Model\n",
    "    my_model.fit([train_ids, train_attention_mask],\n",
    "                 train_labels,\n",
    "              validation_split=.3,\n",
    "              epochs=Num_epochs,\n",
    "              verbose=1,\n",
    "              callbacks=[model_checkpoint_callback]\n",
    "              )\n",
    "    \n",
    "    gc.collect()\n",
    "    \n",
    "    return my_model"
   ]
  },
  {
   "cell_type": "code",
   "execution_count": 152,
   "id": "f8a2c8e6",
   "metadata": {},
   "outputs": [
    {
     "name": "stdout",
     "output_type": "stream",
     "text": [
      "FINISH DOWNLOAD MODEL\n",
      "FINSH DOWNLOAD TOKENIZER\n",
      "Epoch 1/8\n",
      "639/639 [==============================] - 63s 85ms/step - loss: 1.0025 - sparse_categorical_accuracy: 0.6671 - val_loss: 0.7517 - val_sparse_categorical_accuracy: 0.7479\n",
      "Epoch 2/8\n",
      "639/639 [==============================] - 52s 81ms/step - loss: 0.6772 - sparse_categorical_accuracy: 0.7741 - val_loss: 0.6831 - val_sparse_categorical_accuracy: 0.7640\n",
      "Epoch 3/8\n",
      "639/639 [==============================] - 52s 82ms/step - loss: 0.5782 - sparse_categorical_accuracy: 0.8061 - val_loss: 0.7037 - val_sparse_categorical_accuracy: 0.7632\n",
      "Epoch 4/8\n",
      "639/639 [==============================] - 52s 82ms/step - loss: 0.5019 - sparse_categorical_accuracy: 0.8312 - val_loss: 0.6612 - val_sparse_categorical_accuracy: 0.7696\n",
      "Epoch 5/8\n",
      "639/639 [==============================] - 52s 81ms/step - loss: 0.4296 - sparse_categorical_accuracy: 0.8602 - val_loss: 0.6987 - val_sparse_categorical_accuracy: 0.7648\n",
      "Epoch 6/8\n",
      "639/639 [==============================] - 51s 81ms/step - loss: 0.3654 - sparse_categorical_accuracy: 0.8805 - val_loss: 0.7456 - val_sparse_categorical_accuracy: 0.7641\n",
      "Epoch 7/8\n",
      "639/639 [==============================] - 52s 81ms/step - loss: 0.3069 - sparse_categorical_accuracy: 0.9023 - val_loss: 0.8032 - val_sparse_categorical_accuracy: 0.7598\n",
      "Epoch 8/8\n",
      "639/639 [==============================] - 52s 82ms/step - loss: 0.2564 - sparse_categorical_accuracy: 0.9203 - val_loss: 0.9161 - val_sparse_categorical_accuracy: 0.7547\n"
     ]
    }
   ],
   "source": [
    "MODEL_NAME = 'bhadresh-savani/electra-base-emotion'\n",
    "EPOCHS = 8\n",
    "MAX_LENGTH = 56\n",
    "NUM_LABELS = 6\n",
    "learning_rate = 3e-5\n",
    "electra_model = train_custom_label_model(MODEL_NAME,NUM_LABELS,MAX_LENGTH,EPOCHS)"
   ]
  },
  {
   "cell_type": "code",
   "execution_count": 153,
   "id": "9d5a9b79",
   "metadata": {},
   "outputs": [
    {
     "name": "stdout",
     "output_type": "stream",
     "text": [
      "accuracy score: 0.8999\n",
      "[[ 3927    76    11   240   197    66]\n",
      " [  136   487    12    26    28     5]\n",
      " [   18    20   542    15    38     9]\n",
      " [  330    18    25 14846   237   237]\n",
      " [  162    21    19   105  2597    34]\n",
      " [  281    11    21   344   179  3871]]\n"
     ]
    }
   ],
   "source": [
    "# train predictions\n",
    "y_pred_train_electra = electra_model.predict([train_ids,train_attention_mask])\n",
    "y_pred_train_electra = tf.argmax(y_pred_train_electra.logits,axis=1)\n",
    "print('accuracy score: {:.4f}'.format(accuracy_score(y_train_no_neu,y_pred_train_electra)))\n",
    "print(confusion_matrix(y_train_no_neu,y_pred_train_electra))"
   ]
  },
  {
   "cell_type": "code",
   "execution_count": 154,
   "id": "f3d770da",
   "metadata": {},
   "outputs": [
    {
     "name": "stdout",
     "output_type": "stream",
     "text": [
      "              precision    recall  f1-score   support\n",
      "\n",
      "       anger       0.81      0.87      0.84      4517\n",
      "     disgust       0.77      0.70      0.73       694\n",
      "        fear       0.86      0.84      0.85       642\n",
      "         joy       0.95      0.95      0.95     15693\n",
      "     sadness       0.79      0.88      0.84      2938\n",
      "    surprise       0.92      0.82      0.87      4707\n",
      "\n",
      "    accuracy                           0.90     29191\n",
      "   macro avg       0.85      0.84      0.85     29191\n",
      "weighted avg       0.90      0.90      0.90     29191\n",
      "\n"
     ]
    }
   ],
   "source": [
    "print(classification_report(y_train_no_neu, y_pred_train_electra, target_names=class_label_names_no_neu) )"
   ]
  },
  {
   "cell_type": "code",
   "execution_count": 155,
   "id": "98b015a3",
   "metadata": {},
   "outputs": [
    {
     "name": "stdout",
     "output_type": "stream",
     "text": [
      "accuracy score: 0.7607\n",
      "[[ 407   19    1   78   56   34]\n",
      " [  32   49    1    8   16    6]\n",
      " [   6    6   58    6    8    3]\n",
      " [  89    2    4 1677   64   79]\n",
      " [  50    5    7   33  233   13]\n",
      " [  79    5    8  111   42  345]]\n"
     ]
    }
   ],
   "source": [
    "# test predictions\n",
    "y_pred_test_electra = electra_model.predict([test_ids,test_attention_mask])\n",
    "\n",
    "y_pred_test_electra = tf.argmax(y_pred_test_electra.logits,axis=1)\n",
    "print('accuracy score: {:.4f}'.format(accuracy_score(y_test_no_neu,y_pred_test_electra)))\n",
    "print(confusion_matrix(y_test_no_neu,y_pred_test_electra))"
   ]
  },
  {
   "cell_type": "code",
   "execution_count": 156,
   "id": "87dcd242",
   "metadata": {},
   "outputs": [
    {
     "name": "stdout",
     "output_type": "stream",
     "text": [
      "              precision    recall  f1-score   support\n",
      "\n",
      "       anger       0.61      0.68      0.65       595\n",
      "     disgust       0.57      0.44      0.49       112\n",
      "        fear       0.73      0.67      0.70        87\n",
      "         joy       0.88      0.88      0.88      1915\n",
      "     sadness       0.56      0.68      0.61       341\n",
      "    surprise       0.72      0.58      0.64       590\n",
      "\n",
      "    accuracy                           0.76      3640\n",
      "   macro avg       0.68      0.66      0.66      3640\n",
      "weighted avg       0.77      0.76      0.76      3640\n",
      "\n"
     ]
    }
   ],
   "source": [
    "from sklearn.metrics import classification_report\n",
    "print(classification_report(y_test_no_neu, y_pred_test_electra, target_names=class_label_names_no_neu) )"
   ]
  },
  {
   "cell_type": "code",
   "execution_count": 157,
   "id": "a41cc2a0",
   "metadata": {
    "scrolled": false
   },
   "outputs": [
    {
     "name": "stdout",
     "output_type": "stream",
     "text": [
      "[[ 408   27    4   65   49   29]\n",
      " [  24   37    1    9    7    3]\n",
      " [   7    4   55    5   14    4]\n",
      " [ 116    2    3 1739   72   65]\n",
      " [  42   11    4   33  247   15]\n",
      " [  81    2    5  107   49  315]]\n",
      "              precision    recall  f1-score   support\n",
      "\n",
      "       anger       0.60      0.70      0.65       582\n",
      "     disgust       0.45      0.46      0.45        81\n",
      "        fear       0.76      0.62      0.68        89\n",
      "         joy       0.89      0.87      0.88      1997\n",
      "     sadness       0.56      0.70      0.63       352\n",
      "    surprise       0.73      0.56      0.64       559\n",
      "\n",
      "    accuracy                           0.77      3660\n",
      "   macro avg       0.67      0.65      0.65      3660\n",
      "weighted avg       0.77      0.77      0.77      3660\n",
      "\n"
     ]
    }
   ],
   "source": [
    "# val predictions\n",
    "y_pred_val_electra = electra_model.predict([val_ids,val_attention_mask])\n",
    "y_pred_val_electra = tf.argmax(y_pred_val_electra.logits,axis=1)\n",
    "print(confusion_matrix(y_val_no_neu,y_pred_val_electra))\n",
    "print(classification_report(y_val_no_neu, y_pred_val_electra, target_names=class_label_names_no_neu) )"
   ]
  },
  {
   "cell_type": "code",
   "execution_count": 158,
   "id": "cdfbc0f3",
   "metadata": {},
   "outputs": [],
   "source": [
    "## Saving model\n",
    "electra_model.save_pretrained('electra-emotion-predictor-ekman-no-neutral-4')"
   ]
  },
  {
   "cell_type": "code",
   "execution_count": 159,
   "id": "6b4785bc",
   "metadata": {},
   "outputs": [],
   "source": [
    "electra_model1 = TFAutoModelForSequenceClassification.from_pretrained('electra-emotion-predictor-ekman-no-neutral-4')"
   ]
  },
  {
   "cell_type": "code",
   "execution_count": null,
   "id": "55151652",
   "metadata": {},
   "outputs": [],
   "source": []
  },
  {
   "cell_type": "code",
   "execution_count": null,
   "id": "7b90f20d",
   "metadata": {},
   "outputs": [],
   "source": []
  },
  {
   "cell_type": "code",
   "execution_count": null,
   "id": "987a5a0f",
   "metadata": {},
   "outputs": [],
   "source": []
  },
  {
   "cell_type": "code",
   "execution_count": null,
   "id": "a2abe2d3",
   "metadata": {},
   "outputs": [],
   "source": []
  },
  {
   "cell_type": "code",
   "execution_count": null,
   "id": "8dd333f5",
   "metadata": {},
   "outputs": [],
   "source": []
  },
  {
   "cell_type": "code",
   "execution_count": null,
   "id": "1d6eb0d3",
   "metadata": {},
   "outputs": [],
   "source": []
  }
 ],
 "metadata": {
  "kernelspec": {
   "display_name": "Python 3 (ipykernel)",
   "language": "python",
   "name": "python3"
  },
  "language_info": {
   "codemirror_mode": {
    "name": "ipython",
    "version": 3
   },
   "file_extension": ".py",
   "mimetype": "text/x-python",
   "name": "python",
   "nbconvert_exporter": "python",
   "pygments_lexer": "ipython3",
   "version": "3.9.15"
  }
 },
 "nbformat": 4,
 "nbformat_minor": 5
}
